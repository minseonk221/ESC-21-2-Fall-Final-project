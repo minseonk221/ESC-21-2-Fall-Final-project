{
 "cells": [
  {
   "cell_type": "markdown",
   "metadata": {
    "colab_type": "text",
    "id": "Y57RMM1LEQmR"
   },
   "source": [
    "#  <span style=\"color:orange\">Binary Classification Tutorial (CLF101) - Level Beginner</span>\n",
    "https://github.com/pycaret/pycaret/blob/master/tutorials/Binary%20Classification%20Tutorial%20Level%20Beginner%20-%20%20CLF101.ipynb\n"
   ]
  },
  {
   "cell_type": "code",
   "execution_count": 1,
   "metadata": {},
   "outputs": [
    {
     "data": {
      "text/plain": [
       "'2.3.4'"
      ]
     },
     "execution_count": 1,
     "metadata": {},
     "output_type": "execute_result"
    }
   ],
   "source": [
    "import numpy as np\n",
    "import pandas as pd\n",
    "\n",
    "from pycaret.utils import version, check_metric\n",
    "from pycaret.classification import *\n",
    "\n",
    "version()"
   ]
  },
  {
   "cell_type": "markdown",
   "metadata": {
    "colab_type": "text",
    "id": "Ui_rALqYEQmv"
   },
   "source": [
    "# Getting the Data"
   ]
  },
  {
   "cell_type": "code",
   "execution_count": 2,
   "metadata": {
    "colab": {
     "base_uri": "https://localhost:8080/",
     "height": 211
    },
    "colab_type": "code",
    "id": "lUvE187JEQm3",
    "outputId": "8741262c-0e33-4ec0-b54d-3c8fb41e52c0"
   },
   "outputs": [],
   "source": [
    "dataset = pd.read_csv('./FS_2y_before_Bankruptcy_train_preprocessed.csv').drop('Unnamed: 0',1)"
   ]
  },
  {
   "cell_type": "code",
   "execution_count": 3,
   "metadata": {
    "colab": {
     "base_uri": "https://localhost:8080/",
     "height": 50
    },
    "colab_type": "code",
    "id": "hXmaL1xFEQnj",
    "outputId": "f1f62a7d-5d3d-4832-ee00-a4d20ee39c41"
   },
   "outputs": [
    {
     "name": "stdout",
     "output_type": "stream",
     "text": [
      "The shape of original Data: (6820, 64)\n",
      "Data for Modeling: (6479, 64)\n",
      "Unseen Data For Predictions: (341, 64)\n"
     ]
    }
   ],
   "source": [
    "data = dataset.sample(frac=0.95, random_state=786)\n",
    "data_unseen = dataset.drop(data.index)\n",
    "data.reset_index(inplace=True, drop=True)\n",
    "data_unseen.reset_index(inplace=True, drop=True)\n",
    "\n",
    "print('The shape of original Data: ' + str(dataset.shape))\n",
    "print('Data for Modeling: ' + str(data.shape))\n",
    "print('Unseen Data For Predictions: ' + str(data_unseen.shape))"
   ]
  },
  {
   "cell_type": "markdown",
   "metadata": {
    "colab_type": "text",
    "id": "y9s9wNcjEQn0"
   },
   "source": [
    "# Setting up Environment in PyCaret"
   ]
  },
  {
   "cell_type": "markdown",
   "metadata": {
    "colab_type": "text",
    "id": "ZlA01j6NEQn7"
   },
   "source": [
    "The `setup()` function initializes the environment in pycaret and creates the transformation pipeline to prepare the data for modeling and deployment. `setup()` must be called before executing any other function in pycaret. It takes two mandatory parameters: a pandas dataframe and the name of the target column. All other parameters are optional and are used to customize the pre-processing pipeline (we will see them in later tutorials).\n",
    "\n",
    "When `setup()` is executed, PyCaret's inference algorithm will automatically infer the data types for all features based on certain properties. The data type should be inferred correctly but this is not always the case. To account for this, PyCaret displays a table containing the features and their inferred data types after `setup()` is executed. If all of the data types are correctly identified `enter` can be pressed to continue or `quit` can be typed to end the expriment. Ensuring that the data types are correct is of fundamental importance in PyCaret as it automatically performs a few pre-processing tasks which are imperative to any machine learning experiment. These tasks are performed differently for each data type which means it is very important for them to be correctly configured.\n",
    "\n",
    "In later tutorials we will learn how to overwrite PyCaret's infered data type using the `numeric_features` and `categorical_features` parameters in `setup()`."
   ]
  },
  {
   "cell_type": "code",
   "execution_count": 4,
   "metadata": {
    "colab": {
     "base_uri": "https://localhost:8080/",
     "height": 803
    },
    "colab_type": "code",
    "id": "k2IuvfDHEQoO",
    "outputId": "c7754ae9-b060-4218-b6f0-de65a815aa3a",
    "scrolled": false
   },
   "outputs": [
    {
     "data": {
      "text/html": [
       "<style  type=\"text/css\" >\n",
       "#T_c4566_row44_col1{\n",
       "            background-color:  lightgreen;\n",
       "        }</style><table id=\"T_c4566_\" ><thead>    <tr>        <th class=\"blank level0\" ></th>        <th class=\"col_heading level0 col0\" >Description</th>        <th class=\"col_heading level0 col1\" >Value</th>    </tr></thead><tbody>\n",
       "                <tr>\n",
       "                        <th id=\"T_c4566_level0_row0\" class=\"row_heading level0 row0\" >0</th>\n",
       "                        <td id=\"T_c4566_row0_col0\" class=\"data row0 col0\" >session_id</td>\n",
       "                        <td id=\"T_c4566_row0_col1\" class=\"data row0 col1\" >2021</td>\n",
       "            </tr>\n",
       "            <tr>\n",
       "                        <th id=\"T_c4566_level0_row1\" class=\"row_heading level0 row1\" >1</th>\n",
       "                        <td id=\"T_c4566_row1_col0\" class=\"data row1 col0\" >Target</td>\n",
       "                        <td id=\"T_c4566_row1_col1\" class=\"data row1 col1\" >class</td>\n",
       "            </tr>\n",
       "            <tr>\n",
       "                        <th id=\"T_c4566_level0_row2\" class=\"row_heading level0 row2\" >2</th>\n",
       "                        <td id=\"T_c4566_row2_col0\" class=\"data row2 col0\" >Target Type</td>\n",
       "                        <td id=\"T_c4566_row2_col1\" class=\"data row2 col1\" >Binary</td>\n",
       "            </tr>\n",
       "            <tr>\n",
       "                        <th id=\"T_c4566_level0_row3\" class=\"row_heading level0 row3\" >3</th>\n",
       "                        <td id=\"T_c4566_row3_col0\" class=\"data row3 col0\" >Label Encoded</td>\n",
       "                        <td id=\"T_c4566_row3_col1\" class=\"data row3 col1\" >0.0: 0, 1.0: 1</td>\n",
       "            </tr>\n",
       "            <tr>\n",
       "                        <th id=\"T_c4566_level0_row4\" class=\"row_heading level0 row4\" >4</th>\n",
       "                        <td id=\"T_c4566_row4_col0\" class=\"data row4 col0\" >Original Data</td>\n",
       "                        <td id=\"T_c4566_row4_col1\" class=\"data row4 col1\" >(6479, 64)</td>\n",
       "            </tr>\n",
       "            <tr>\n",
       "                        <th id=\"T_c4566_level0_row5\" class=\"row_heading level0 row5\" >5</th>\n",
       "                        <td id=\"T_c4566_row5_col0\" class=\"data row5 col0\" >Missing Values</td>\n",
       "                        <td id=\"T_c4566_row5_col1\" class=\"data row5 col1\" >False</td>\n",
       "            </tr>\n",
       "            <tr>\n",
       "                        <th id=\"T_c4566_level0_row6\" class=\"row_heading level0 row6\" >6</th>\n",
       "                        <td id=\"T_c4566_row6_col0\" class=\"data row6 col0\" >Numeric Features</td>\n",
       "                        <td id=\"T_c4566_row6_col1\" class=\"data row6 col1\" >63</td>\n",
       "            </tr>\n",
       "            <tr>\n",
       "                        <th id=\"T_c4566_level0_row7\" class=\"row_heading level0 row7\" >7</th>\n",
       "                        <td id=\"T_c4566_row7_col0\" class=\"data row7 col0\" >Categorical Features</td>\n",
       "                        <td id=\"T_c4566_row7_col1\" class=\"data row7 col1\" >0</td>\n",
       "            </tr>\n",
       "            <tr>\n",
       "                        <th id=\"T_c4566_level0_row8\" class=\"row_heading level0 row8\" >8</th>\n",
       "                        <td id=\"T_c4566_row8_col0\" class=\"data row8 col0\" >Ordinal Features</td>\n",
       "                        <td id=\"T_c4566_row8_col1\" class=\"data row8 col1\" >False</td>\n",
       "            </tr>\n",
       "            <tr>\n",
       "                        <th id=\"T_c4566_level0_row9\" class=\"row_heading level0 row9\" >9</th>\n",
       "                        <td id=\"T_c4566_row9_col0\" class=\"data row9 col0\" >High Cardinality Features</td>\n",
       "                        <td id=\"T_c4566_row9_col1\" class=\"data row9 col1\" >False</td>\n",
       "            </tr>\n",
       "            <tr>\n",
       "                        <th id=\"T_c4566_level0_row10\" class=\"row_heading level0 row10\" >10</th>\n",
       "                        <td id=\"T_c4566_row10_col0\" class=\"data row10 col0\" >High Cardinality Method</td>\n",
       "                        <td id=\"T_c4566_row10_col1\" class=\"data row10 col1\" >None</td>\n",
       "            </tr>\n",
       "            <tr>\n",
       "                        <th id=\"T_c4566_level0_row11\" class=\"row_heading level0 row11\" >11</th>\n",
       "                        <td id=\"T_c4566_row11_col0\" class=\"data row11 col0\" >Transformed Train Set</td>\n",
       "                        <td id=\"T_c4566_row11_col1\" class=\"data row11 col1\" >(4535, 48)</td>\n",
       "            </tr>\n",
       "            <tr>\n",
       "                        <th id=\"T_c4566_level0_row12\" class=\"row_heading level0 row12\" >12</th>\n",
       "                        <td id=\"T_c4566_row12_col0\" class=\"data row12 col0\" >Transformed Test Set</td>\n",
       "                        <td id=\"T_c4566_row12_col1\" class=\"data row12 col1\" >(1944, 48)</td>\n",
       "            </tr>\n",
       "            <tr>\n",
       "                        <th id=\"T_c4566_level0_row13\" class=\"row_heading level0 row13\" >13</th>\n",
       "                        <td id=\"T_c4566_row13_col0\" class=\"data row13 col0\" >Shuffle Train-Test</td>\n",
       "                        <td id=\"T_c4566_row13_col1\" class=\"data row13 col1\" >True</td>\n",
       "            </tr>\n",
       "            <tr>\n",
       "                        <th id=\"T_c4566_level0_row14\" class=\"row_heading level0 row14\" >14</th>\n",
       "                        <td id=\"T_c4566_row14_col0\" class=\"data row14 col0\" >Stratify Train-Test</td>\n",
       "                        <td id=\"T_c4566_row14_col1\" class=\"data row14 col1\" >False</td>\n",
       "            </tr>\n",
       "            <tr>\n",
       "                        <th id=\"T_c4566_level0_row15\" class=\"row_heading level0 row15\" >15</th>\n",
       "                        <td id=\"T_c4566_row15_col0\" class=\"data row15 col0\" >Fold Generator</td>\n",
       "                        <td id=\"T_c4566_row15_col1\" class=\"data row15 col1\" >StratifiedKFold</td>\n",
       "            </tr>\n",
       "            <tr>\n",
       "                        <th id=\"T_c4566_level0_row16\" class=\"row_heading level0 row16\" >16</th>\n",
       "                        <td id=\"T_c4566_row16_col0\" class=\"data row16 col0\" >Fold Number</td>\n",
       "                        <td id=\"T_c4566_row16_col1\" class=\"data row16 col1\" >10</td>\n",
       "            </tr>\n",
       "            <tr>\n",
       "                        <th id=\"T_c4566_level0_row17\" class=\"row_heading level0 row17\" >17</th>\n",
       "                        <td id=\"T_c4566_row17_col0\" class=\"data row17 col0\" >CPU Jobs</td>\n",
       "                        <td id=\"T_c4566_row17_col1\" class=\"data row17 col1\" >-1</td>\n",
       "            </tr>\n",
       "            <tr>\n",
       "                        <th id=\"T_c4566_level0_row18\" class=\"row_heading level0 row18\" >18</th>\n",
       "                        <td id=\"T_c4566_row18_col0\" class=\"data row18 col0\" >Use GPU</td>\n",
       "                        <td id=\"T_c4566_row18_col1\" class=\"data row18 col1\" >False</td>\n",
       "            </tr>\n",
       "            <tr>\n",
       "                        <th id=\"T_c4566_level0_row19\" class=\"row_heading level0 row19\" >19</th>\n",
       "                        <td id=\"T_c4566_row19_col0\" class=\"data row19 col0\" >Log Experiment</td>\n",
       "                        <td id=\"T_c4566_row19_col1\" class=\"data row19 col1\" >False</td>\n",
       "            </tr>\n",
       "            <tr>\n",
       "                        <th id=\"T_c4566_level0_row20\" class=\"row_heading level0 row20\" >20</th>\n",
       "                        <td id=\"T_c4566_row20_col0\" class=\"data row20 col0\" >Experiment Name</td>\n",
       "                        <td id=\"T_c4566_row20_col1\" class=\"data row20 col1\" >clf-default-name</td>\n",
       "            </tr>\n",
       "            <tr>\n",
       "                        <th id=\"T_c4566_level0_row21\" class=\"row_heading level0 row21\" >21</th>\n",
       "                        <td id=\"T_c4566_row21_col0\" class=\"data row21 col0\" >USI</td>\n",
       "                        <td id=\"T_c4566_row21_col1\" class=\"data row21 col1\" >6cfb</td>\n",
       "            </tr>\n",
       "            <tr>\n",
       "                        <th id=\"T_c4566_level0_row22\" class=\"row_heading level0 row22\" >22</th>\n",
       "                        <td id=\"T_c4566_row22_col0\" class=\"data row22 col0\" >Imputation Type</td>\n",
       "                        <td id=\"T_c4566_row22_col1\" class=\"data row22 col1\" >simple</td>\n",
       "            </tr>\n",
       "            <tr>\n",
       "                        <th id=\"T_c4566_level0_row23\" class=\"row_heading level0 row23\" >23</th>\n",
       "                        <td id=\"T_c4566_row23_col0\" class=\"data row23 col0\" >Iterative Imputation Iteration</td>\n",
       "                        <td id=\"T_c4566_row23_col1\" class=\"data row23 col1\" >None</td>\n",
       "            </tr>\n",
       "            <tr>\n",
       "                        <th id=\"T_c4566_level0_row24\" class=\"row_heading level0 row24\" >24</th>\n",
       "                        <td id=\"T_c4566_row24_col0\" class=\"data row24 col0\" >Numeric Imputer</td>\n",
       "                        <td id=\"T_c4566_row24_col1\" class=\"data row24 col1\" >mean</td>\n",
       "            </tr>\n",
       "            <tr>\n",
       "                        <th id=\"T_c4566_level0_row25\" class=\"row_heading level0 row25\" >25</th>\n",
       "                        <td id=\"T_c4566_row25_col0\" class=\"data row25 col0\" >Iterative Imputation Numeric Model</td>\n",
       "                        <td id=\"T_c4566_row25_col1\" class=\"data row25 col1\" >None</td>\n",
       "            </tr>\n",
       "            <tr>\n",
       "                        <th id=\"T_c4566_level0_row26\" class=\"row_heading level0 row26\" >26</th>\n",
       "                        <td id=\"T_c4566_row26_col0\" class=\"data row26 col0\" >Categorical Imputer</td>\n",
       "                        <td id=\"T_c4566_row26_col1\" class=\"data row26 col1\" >constant</td>\n",
       "            </tr>\n",
       "            <tr>\n",
       "                        <th id=\"T_c4566_level0_row27\" class=\"row_heading level0 row27\" >27</th>\n",
       "                        <td id=\"T_c4566_row27_col0\" class=\"data row27 col0\" >Iterative Imputation Categorical Model</td>\n",
       "                        <td id=\"T_c4566_row27_col1\" class=\"data row27 col1\" >None</td>\n",
       "            </tr>\n",
       "            <tr>\n",
       "                        <th id=\"T_c4566_level0_row28\" class=\"row_heading level0 row28\" >28</th>\n",
       "                        <td id=\"T_c4566_row28_col0\" class=\"data row28 col0\" >Unknown Categoricals Handling</td>\n",
       "                        <td id=\"T_c4566_row28_col1\" class=\"data row28 col1\" >least_frequent</td>\n",
       "            </tr>\n",
       "            <tr>\n",
       "                        <th id=\"T_c4566_level0_row29\" class=\"row_heading level0 row29\" >29</th>\n",
       "                        <td id=\"T_c4566_row29_col0\" class=\"data row29 col0\" >Normalize</td>\n",
       "                        <td id=\"T_c4566_row29_col1\" class=\"data row29 col1\" >False</td>\n",
       "            </tr>\n",
       "            <tr>\n",
       "                        <th id=\"T_c4566_level0_row30\" class=\"row_heading level0 row30\" >30</th>\n",
       "                        <td id=\"T_c4566_row30_col0\" class=\"data row30 col0\" >Normalize Method</td>\n",
       "                        <td id=\"T_c4566_row30_col1\" class=\"data row30 col1\" >None</td>\n",
       "            </tr>\n",
       "            <tr>\n",
       "                        <th id=\"T_c4566_level0_row31\" class=\"row_heading level0 row31\" >31</th>\n",
       "                        <td id=\"T_c4566_row31_col0\" class=\"data row31 col0\" >Transformation</td>\n",
       "                        <td id=\"T_c4566_row31_col1\" class=\"data row31 col1\" >False</td>\n",
       "            </tr>\n",
       "            <tr>\n",
       "                        <th id=\"T_c4566_level0_row32\" class=\"row_heading level0 row32\" >32</th>\n",
       "                        <td id=\"T_c4566_row32_col0\" class=\"data row32 col0\" >Transformation Method</td>\n",
       "                        <td id=\"T_c4566_row32_col1\" class=\"data row32 col1\" >None</td>\n",
       "            </tr>\n",
       "            <tr>\n",
       "                        <th id=\"T_c4566_level0_row33\" class=\"row_heading level0 row33\" >33</th>\n",
       "                        <td id=\"T_c4566_row33_col0\" class=\"data row33 col0\" >PCA</td>\n",
       "                        <td id=\"T_c4566_row33_col1\" class=\"data row33 col1\" >False</td>\n",
       "            </tr>\n",
       "            <tr>\n",
       "                        <th id=\"T_c4566_level0_row34\" class=\"row_heading level0 row34\" >34</th>\n",
       "                        <td id=\"T_c4566_row34_col0\" class=\"data row34 col0\" >PCA Method</td>\n",
       "                        <td id=\"T_c4566_row34_col1\" class=\"data row34 col1\" >None</td>\n",
       "            </tr>\n",
       "            <tr>\n",
       "                        <th id=\"T_c4566_level0_row35\" class=\"row_heading level0 row35\" >35</th>\n",
       "                        <td id=\"T_c4566_row35_col0\" class=\"data row35 col0\" >PCA Components</td>\n",
       "                        <td id=\"T_c4566_row35_col1\" class=\"data row35 col1\" >None</td>\n",
       "            </tr>\n",
       "            <tr>\n",
       "                        <th id=\"T_c4566_level0_row36\" class=\"row_heading level0 row36\" >36</th>\n",
       "                        <td id=\"T_c4566_row36_col0\" class=\"data row36 col0\" >Ignore Low Variance</td>\n",
       "                        <td id=\"T_c4566_row36_col1\" class=\"data row36 col1\" >False</td>\n",
       "            </tr>\n",
       "            <tr>\n",
       "                        <th id=\"T_c4566_level0_row37\" class=\"row_heading level0 row37\" >37</th>\n",
       "                        <td id=\"T_c4566_row37_col0\" class=\"data row37 col0\" >Combine Rare Levels</td>\n",
       "                        <td id=\"T_c4566_row37_col1\" class=\"data row37 col1\" >False</td>\n",
       "            </tr>\n",
       "            <tr>\n",
       "                        <th id=\"T_c4566_level0_row38\" class=\"row_heading level0 row38\" >38</th>\n",
       "                        <td id=\"T_c4566_row38_col0\" class=\"data row38 col0\" >Rare Level Threshold</td>\n",
       "                        <td id=\"T_c4566_row38_col1\" class=\"data row38 col1\" >None</td>\n",
       "            </tr>\n",
       "            <tr>\n",
       "                        <th id=\"T_c4566_level0_row39\" class=\"row_heading level0 row39\" >39</th>\n",
       "                        <td id=\"T_c4566_row39_col0\" class=\"data row39 col0\" >Numeric Binning</td>\n",
       "                        <td id=\"T_c4566_row39_col1\" class=\"data row39 col1\" >False</td>\n",
       "            </tr>\n",
       "            <tr>\n",
       "                        <th id=\"T_c4566_level0_row40\" class=\"row_heading level0 row40\" >40</th>\n",
       "                        <td id=\"T_c4566_row40_col0\" class=\"data row40 col0\" >Remove Outliers</td>\n",
       "                        <td id=\"T_c4566_row40_col1\" class=\"data row40 col1\" >False</td>\n",
       "            </tr>\n",
       "            <tr>\n",
       "                        <th id=\"T_c4566_level0_row41\" class=\"row_heading level0 row41\" >41</th>\n",
       "                        <td id=\"T_c4566_row41_col0\" class=\"data row41 col0\" >Outliers Threshold</td>\n",
       "                        <td id=\"T_c4566_row41_col1\" class=\"data row41 col1\" >None</td>\n",
       "            </tr>\n",
       "            <tr>\n",
       "                        <th id=\"T_c4566_level0_row42\" class=\"row_heading level0 row42\" >42</th>\n",
       "                        <td id=\"T_c4566_row42_col0\" class=\"data row42 col0\" >Remove Multicollinearity</td>\n",
       "                        <td id=\"T_c4566_row42_col1\" class=\"data row42 col1\" >False</td>\n",
       "            </tr>\n",
       "            <tr>\n",
       "                        <th id=\"T_c4566_level0_row43\" class=\"row_heading level0 row43\" >43</th>\n",
       "                        <td id=\"T_c4566_row43_col0\" class=\"data row43 col0\" >Multicollinearity Threshold</td>\n",
       "                        <td id=\"T_c4566_row43_col1\" class=\"data row43 col1\" >None</td>\n",
       "            </tr>\n",
       "            <tr>\n",
       "                        <th id=\"T_c4566_level0_row44\" class=\"row_heading level0 row44\" >44</th>\n",
       "                        <td id=\"T_c4566_row44_col0\" class=\"data row44 col0\" >Remove Perfect Collinearity</td>\n",
       "                        <td id=\"T_c4566_row44_col1\" class=\"data row44 col1\" >True</td>\n",
       "            </tr>\n",
       "            <tr>\n",
       "                        <th id=\"T_c4566_level0_row45\" class=\"row_heading level0 row45\" >45</th>\n",
       "                        <td id=\"T_c4566_row45_col0\" class=\"data row45 col0\" >Clustering</td>\n",
       "                        <td id=\"T_c4566_row45_col1\" class=\"data row45 col1\" >False</td>\n",
       "            </tr>\n",
       "            <tr>\n",
       "                        <th id=\"T_c4566_level0_row46\" class=\"row_heading level0 row46\" >46</th>\n",
       "                        <td id=\"T_c4566_row46_col0\" class=\"data row46 col0\" >Clustering Iteration</td>\n",
       "                        <td id=\"T_c4566_row46_col1\" class=\"data row46 col1\" >None</td>\n",
       "            </tr>\n",
       "            <tr>\n",
       "                        <th id=\"T_c4566_level0_row47\" class=\"row_heading level0 row47\" >47</th>\n",
       "                        <td id=\"T_c4566_row47_col0\" class=\"data row47 col0\" >Polynomial Features</td>\n",
       "                        <td id=\"T_c4566_row47_col1\" class=\"data row47 col1\" >False</td>\n",
       "            </tr>\n",
       "            <tr>\n",
       "                        <th id=\"T_c4566_level0_row48\" class=\"row_heading level0 row48\" >48</th>\n",
       "                        <td id=\"T_c4566_row48_col0\" class=\"data row48 col0\" >Polynomial Degree</td>\n",
       "                        <td id=\"T_c4566_row48_col1\" class=\"data row48 col1\" >None</td>\n",
       "            </tr>\n",
       "            <tr>\n",
       "                        <th id=\"T_c4566_level0_row49\" class=\"row_heading level0 row49\" >49</th>\n",
       "                        <td id=\"T_c4566_row49_col0\" class=\"data row49 col0\" >Trignometry Features</td>\n",
       "                        <td id=\"T_c4566_row49_col1\" class=\"data row49 col1\" >False</td>\n",
       "            </tr>\n",
       "            <tr>\n",
       "                        <th id=\"T_c4566_level0_row50\" class=\"row_heading level0 row50\" >50</th>\n",
       "                        <td id=\"T_c4566_row50_col0\" class=\"data row50 col0\" >Polynomial Threshold</td>\n",
       "                        <td id=\"T_c4566_row50_col1\" class=\"data row50 col1\" >None</td>\n",
       "            </tr>\n",
       "            <tr>\n",
       "                        <th id=\"T_c4566_level0_row51\" class=\"row_heading level0 row51\" >51</th>\n",
       "                        <td id=\"T_c4566_row51_col0\" class=\"data row51 col0\" >Group Features</td>\n",
       "                        <td id=\"T_c4566_row51_col1\" class=\"data row51 col1\" >False</td>\n",
       "            </tr>\n",
       "            <tr>\n",
       "                        <th id=\"T_c4566_level0_row52\" class=\"row_heading level0 row52\" >52</th>\n",
       "                        <td id=\"T_c4566_row52_col0\" class=\"data row52 col0\" >Feature Selection</td>\n",
       "                        <td id=\"T_c4566_row52_col1\" class=\"data row52 col1\" >False</td>\n",
       "            </tr>\n",
       "            <tr>\n",
       "                        <th id=\"T_c4566_level0_row53\" class=\"row_heading level0 row53\" >53</th>\n",
       "                        <td id=\"T_c4566_row53_col0\" class=\"data row53 col0\" >Feature Selection Method</td>\n",
       "                        <td id=\"T_c4566_row53_col1\" class=\"data row53 col1\" >classic</td>\n",
       "            </tr>\n",
       "            <tr>\n",
       "                        <th id=\"T_c4566_level0_row54\" class=\"row_heading level0 row54\" >54</th>\n",
       "                        <td id=\"T_c4566_row54_col0\" class=\"data row54 col0\" >Features Selection Threshold</td>\n",
       "                        <td id=\"T_c4566_row54_col1\" class=\"data row54 col1\" >None</td>\n",
       "            </tr>\n",
       "            <tr>\n",
       "                        <th id=\"T_c4566_level0_row55\" class=\"row_heading level0 row55\" >55</th>\n",
       "                        <td id=\"T_c4566_row55_col0\" class=\"data row55 col0\" >Feature Interaction</td>\n",
       "                        <td id=\"T_c4566_row55_col1\" class=\"data row55 col1\" >False</td>\n",
       "            </tr>\n",
       "            <tr>\n",
       "                        <th id=\"T_c4566_level0_row56\" class=\"row_heading level0 row56\" >56</th>\n",
       "                        <td id=\"T_c4566_row56_col0\" class=\"data row56 col0\" >Feature Ratio</td>\n",
       "                        <td id=\"T_c4566_row56_col1\" class=\"data row56 col1\" >False</td>\n",
       "            </tr>\n",
       "            <tr>\n",
       "                        <th id=\"T_c4566_level0_row57\" class=\"row_heading level0 row57\" >57</th>\n",
       "                        <td id=\"T_c4566_row57_col0\" class=\"data row57 col0\" >Interaction Threshold</td>\n",
       "                        <td id=\"T_c4566_row57_col1\" class=\"data row57 col1\" >None</td>\n",
       "            </tr>\n",
       "            <tr>\n",
       "                        <th id=\"T_c4566_level0_row58\" class=\"row_heading level0 row58\" >58</th>\n",
       "                        <td id=\"T_c4566_row58_col0\" class=\"data row58 col0\" >Fix Imbalance</td>\n",
       "                        <td id=\"T_c4566_row58_col1\" class=\"data row58 col1\" >False</td>\n",
       "            </tr>\n",
       "            <tr>\n",
       "                        <th id=\"T_c4566_level0_row59\" class=\"row_heading level0 row59\" >59</th>\n",
       "                        <td id=\"T_c4566_row59_col0\" class=\"data row59 col0\" >Fix Imbalance Method</td>\n",
       "                        <td id=\"T_c4566_row59_col1\" class=\"data row59 col1\" >SMOTE</td>\n",
       "            </tr>\n",
       "    </tbody></table>"
      ],
      "text/plain": [
       "<pandas.io.formats.style.Styler at 0x17de8174040>"
      ]
     },
     "metadata": {},
     "output_type": "display_data"
    }
   ],
   "source": [
    "exp_clf101 = setup(data = data, target = 'class', session_id=2021) "
   ]
  },
  {
   "cell_type": "markdown",
   "metadata": {
    "colab_type": "text",
    "id": "JJSOhIOxEQoY"
   },
   "source": [
    "Once the setup has been succesfully executed it prints the information grid which contains several important pieces of information. Most of the information is related to the pre-processing pipeline which is constructed when `setup()` is executed. The majority of these features are out of scope for the purposes of this tutorial however a few important things to note at this stage include:\n",
    "\n",
    "- **session_id :**  A pseudo-random number distributed as a seed in all functions for later reproducibility. If no `session_id` is passed, a random number is automatically generated that is distributed to all functions. <br/>\n",
    "<br/>\n",
    "- **Target Type :**  Binary or Multiclass. The Target type is automatically detected and shown. There is no difference in how the experiment is performed for Binary or Multiclass problems. All functionalities are identical.<br/>\n",
    "<br/>\n",
    "- **Label Encoded :**  When the Target variable is of type string (i.e. 'Yes' or 'No') instead of 1 or 0, it automatically encodes the label into 1 and 0 and displays the mapping (0 : No, 1 : Yes) for reference. In this experiment no label encoding is required since the target variable is of type numeric. <br/>\n",
    "<br/>\n",
    "- **Original Data :**  Displays the original shape of the dataset. <br/>\n",
    "<br/>\n",
    "- **Missing Values :**  When there are missing values in the original data this will show as True. For this experiment there are no missing values in the dataset. \n",
    "<br/>\n",
    "<br/>\n",
    "- **Numeric Features :**  The number of features inferred as numeric.  <br/>\n",
    "<br/>\n",
    "- **Categorical Features :**  The number of features inferred as categorical. <br/>\n",
    "<br/>\n",
    "- **Transformed Train Set :**  Displays the shape of the transformed training set.  <br/>\n",
    "<br/>\n",
    "- **Transformed Test Set :**  Displays the shape of the transformed test/hold-out set.  <br/>\n",
    "\n",
    "Notice how a few tasks that are imperative to perform modeling are automatically handled such as missing value imputation (in this case there are no missing values in the training data, but we still need imputers for unseen data), categorical encoding etc. Most of the parameters in `setup()` are optional and used for customizing the pre-processing pipeline. These parameters are out of scope for this tutorial but as you progress to the intermediate and expert levels, we will cover them in much greater detail."
   ]
  },
  {
   "cell_type": "markdown",
   "metadata": {
    "colab_type": "text",
    "id": "it_nJo1IEQob"
   },
   "source": [
    "# 7.0 Comparing All Models"
   ]
  },
  {
   "cell_type": "markdown",
   "metadata": {
    "colab_type": "text",
    "id": "apb_B9bBEQof"
   },
   "source": [
    "Comparing all models to evaluate performance is the recommended starting point for modeling once the setup is completed (unless you exactly know what kind of model you need, which is often not the case). This function trains all models in the model library and scores them using stratified cross validation for metric evaluation. The output prints a score grid that shows average Accuracy, AUC, Recall, Precision, F1, Kappa, and MCC accross the folds (10 by default) along with training times."
   ]
  },
  {
   "cell_type": "code",
   "execution_count": 5,
   "metadata": {
    "colab": {},
    "colab_type": "code",
    "id": "AsG0b1NIEQoj",
    "outputId": "a6e3a510-45a1-4782-8ffe-0ec138a64eed",
    "scrolled": false
   },
   "outputs": [
    {
     "data": {
      "text/html": [
       "<style  type=\"text/css\" >\n",
       "    #T_8922e_ th {\n",
       "          text-align: left;\n",
       "    }#T_8922e_row0_col0,#T_8922e_row0_col3,#T_8922e_row1_col0,#T_8922e_row1_col1,#T_8922e_row1_col2,#T_8922e_row1_col3,#T_8922e_row1_col4,#T_8922e_row1_col5,#T_8922e_row1_col6,#T_8922e_row1_col7,#T_8922e_row2_col0,#T_8922e_row2_col1,#T_8922e_row2_col2,#T_8922e_row2_col3,#T_8922e_row2_col4,#T_8922e_row2_col5,#T_8922e_row2_col6,#T_8922e_row2_col7,#T_8922e_row3_col0,#T_8922e_row3_col1,#T_8922e_row3_col2,#T_8922e_row3_col3,#T_8922e_row3_col4,#T_8922e_row3_col5,#T_8922e_row3_col6,#T_8922e_row3_col7,#T_8922e_row4_col0,#T_8922e_row4_col1,#T_8922e_row4_col2,#T_8922e_row4_col3,#T_8922e_row4_col4,#T_8922e_row4_col5,#T_8922e_row4_col6,#T_8922e_row4_col7,#T_8922e_row5_col0,#T_8922e_row5_col1,#T_8922e_row5_col2,#T_8922e_row5_col3,#T_8922e_row5_col4,#T_8922e_row5_col5,#T_8922e_row5_col6,#T_8922e_row5_col7,#T_8922e_row6_col0,#T_8922e_row6_col1,#T_8922e_row6_col2,#T_8922e_row6_col3,#T_8922e_row6_col4,#T_8922e_row6_col5,#T_8922e_row6_col6,#T_8922e_row6_col7,#T_8922e_row7_col0,#T_8922e_row7_col1,#T_8922e_row7_col2,#T_8922e_row7_col3,#T_8922e_row7_col4,#T_8922e_row7_col5,#T_8922e_row7_col6,#T_8922e_row7_col7,#T_8922e_row8_col0,#T_8922e_row8_col1,#T_8922e_row8_col2,#T_8922e_row8_col3,#T_8922e_row8_col4,#T_8922e_row8_col5,#T_8922e_row8_col6,#T_8922e_row8_col7,#T_8922e_row9_col0,#T_8922e_row9_col1,#T_8922e_row9_col2,#T_8922e_row9_col3,#T_8922e_row9_col4,#T_8922e_row9_col5,#T_8922e_row9_col6,#T_8922e_row9_col7,#T_8922e_row10_col0,#T_8922e_row10_col1,#T_8922e_row10_col2,#T_8922e_row10_col3,#T_8922e_row10_col4,#T_8922e_row10_col5,#T_8922e_row10_col6,#T_8922e_row10_col7,#T_8922e_row11_col0,#T_8922e_row11_col1,#T_8922e_row11_col2,#T_8922e_row11_col3,#T_8922e_row11_col4,#T_8922e_row11_col5,#T_8922e_row11_col6,#T_8922e_row11_col7,#T_8922e_row12_col0,#T_8922e_row12_col1,#T_8922e_row12_col2,#T_8922e_row12_col3,#T_8922e_row12_col4,#T_8922e_row12_col5,#T_8922e_row12_col6,#T_8922e_row12_col7,#T_8922e_row13_col0,#T_8922e_row13_col1,#T_8922e_row13_col2,#T_8922e_row13_col3,#T_8922e_row13_col4,#T_8922e_row13_col5,#T_8922e_row13_col6,#T_8922e_row13_col7,#T_8922e_row14_col0,#T_8922e_row14_col1,#T_8922e_row14_col2,#T_8922e_row14_col4,#T_8922e_row14_col5,#T_8922e_row14_col6,#T_8922e_row14_col7{\n",
       "            text-align:  left;\n",
       "            text-align:  left;\n",
       "        }#T_8922e_row0_col1,#T_8922e_row0_col2,#T_8922e_row0_col4,#T_8922e_row0_col5,#T_8922e_row0_col6,#T_8922e_row0_col7,#T_8922e_row14_col3{\n",
       "            text-align:  left;\n",
       "            text-align:  left;\n",
       "            background-color:  yellow;\n",
       "        }#T_8922e_row0_col8,#T_8922e_row1_col8,#T_8922e_row2_col8,#T_8922e_row3_col8,#T_8922e_row4_col8,#T_8922e_row5_col8,#T_8922e_row6_col8,#T_8922e_row7_col8,#T_8922e_row8_col8,#T_8922e_row9_col8,#T_8922e_row10_col8,#T_8922e_row11_col8,#T_8922e_row12_col8,#T_8922e_row13_col8{\n",
       "            text-align:  left;\n",
       "            text-align:  left;\n",
       "            background-color:  lightgrey;\n",
       "        }#T_8922e_row14_col8{\n",
       "            text-align:  left;\n",
       "            text-align:  left;\n",
       "            background-color:  yellow;\n",
       "            background-color:  lightgrey;\n",
       "        }</style><table id=\"T_8922e_\" ><thead>    <tr>        <th class=\"blank level0\" ></th>        <th class=\"col_heading level0 col0\" >Model</th>        <th class=\"col_heading level0 col1\" >Accuracy</th>        <th class=\"col_heading level0 col2\" >AUC</th>        <th class=\"col_heading level0 col3\" >Recall</th>        <th class=\"col_heading level0 col4\" >Prec.</th>        <th class=\"col_heading level0 col5\" >F1</th>        <th class=\"col_heading level0 col6\" >Kappa</th>        <th class=\"col_heading level0 col7\" >MCC</th>        <th class=\"col_heading level0 col8\" >TT (Sec)</th>    </tr></thead><tbody>\n",
       "                <tr>\n",
       "                        <th id=\"T_8922e_level0_row0\" class=\"row_heading level0 row0\" >catboost</th>\n",
       "                        <td id=\"T_8922e_row0_col0\" class=\"data row0 col0\" >CatBoost Classifier</td>\n",
       "                        <td id=\"T_8922e_row0_col1\" class=\"data row0 col1\" >0.9693</td>\n",
       "                        <td id=\"T_8922e_row0_col2\" class=\"data row0 col2\" >0.9358</td>\n",
       "                        <td id=\"T_8922e_row0_col3\" class=\"data row0 col3\" >0.4237</td>\n",
       "                        <td id=\"T_8922e_row0_col4\" class=\"data row0 col4\" >0.9481</td>\n",
       "                        <td id=\"T_8922e_row0_col5\" class=\"data row0 col5\" >0.5803</td>\n",
       "                        <td id=\"T_8922e_row0_col6\" class=\"data row0 col6\" >0.5670</td>\n",
       "                        <td id=\"T_8922e_row0_col7\" class=\"data row0 col7\" >0.6195</td>\n",
       "                        <td id=\"T_8922e_row0_col8\" class=\"data row0 col8\" >6.6510</td>\n",
       "            </tr>\n",
       "            <tr>\n",
       "                        <th id=\"T_8922e_level0_row1\" class=\"row_heading level0 row1\" >xgboost</th>\n",
       "                        <td id=\"T_8922e_row1_col0\" class=\"data row1 col0\" >Extreme Gradient Boosting</td>\n",
       "                        <td id=\"T_8922e_row1_col1\" class=\"data row1 col1\" >0.9665</td>\n",
       "                        <td id=\"T_8922e_row1_col2\" class=\"data row1 col2\" >0.9278</td>\n",
       "                        <td id=\"T_8922e_row1_col3\" class=\"data row1 col3\" >0.4069</td>\n",
       "                        <td id=\"T_8922e_row1_col4\" class=\"data row1 col4\" >0.8766</td>\n",
       "                        <td id=\"T_8922e_row1_col5\" class=\"data row1 col5\" >0.5494</td>\n",
       "                        <td id=\"T_8922e_row1_col6\" class=\"data row1 col6\" >0.5346</td>\n",
       "                        <td id=\"T_8922e_row1_col7\" class=\"data row1 col7\" >0.5805</td>\n",
       "                        <td id=\"T_8922e_row1_col8\" class=\"data row1 col8\" >1.1590</td>\n",
       "            </tr>\n",
       "            <tr>\n",
       "                        <th id=\"T_8922e_level0_row2\" class=\"row_heading level0 row2\" >lightgbm</th>\n",
       "                        <td id=\"T_8922e_row2_col0\" class=\"data row2 col0\" >Light Gradient Boosting Machine</td>\n",
       "                        <td id=\"T_8922e_row2_col1\" class=\"data row2 col1\" >0.9656</td>\n",
       "                        <td id=\"T_8922e_row2_col2\" class=\"data row2 col2\" >0.9230</td>\n",
       "                        <td id=\"T_8922e_row2_col3\" class=\"data row2 col3\" >0.3723</td>\n",
       "                        <td id=\"T_8922e_row2_col4\" class=\"data row2 col4\" >0.9087</td>\n",
       "                        <td id=\"T_8922e_row2_col5\" class=\"data row2 col5\" >0.5194</td>\n",
       "                        <td id=\"T_8922e_row2_col6\" class=\"data row2 col6\" >0.5051</td>\n",
       "                        <td id=\"T_8922e_row2_col7\" class=\"data row2 col7\" >0.5639</td>\n",
       "                        <td id=\"T_8922e_row2_col8\" class=\"data row2 col8\" >0.3970</td>\n",
       "            </tr>\n",
       "            <tr>\n",
       "                        <th id=\"T_8922e_level0_row3\" class=\"row_heading level0 row3\" >gbc</th>\n",
       "                        <td id=\"T_8922e_row3_col0\" class=\"data row3 col0\" >Gradient Boosting Classifier</td>\n",
       "                        <td id=\"T_8922e_row3_col1\" class=\"data row3 col1\" >0.9638</td>\n",
       "                        <td id=\"T_8922e_row3_col2\" class=\"data row3 col2\" >0.9140</td>\n",
       "                        <td id=\"T_8922e_row3_col3\" class=\"data row3 col3\" >0.3725</td>\n",
       "                        <td id=\"T_8922e_row3_col4\" class=\"data row3 col4\" >0.8329</td>\n",
       "                        <td id=\"T_8922e_row3_col5\" class=\"data row3 col5\" >0.5067</td>\n",
       "                        <td id=\"T_8922e_row3_col6\" class=\"data row3 col6\" >0.4911</td>\n",
       "                        <td id=\"T_8922e_row3_col7\" class=\"data row3 col7\" >0.5380</td>\n",
       "                        <td id=\"T_8922e_row3_col8\" class=\"data row3 col8\" >1.5260</td>\n",
       "            </tr>\n",
       "            <tr>\n",
       "                        <th id=\"T_8922e_level0_row4\" class=\"row_heading level0 row4\" >rf</th>\n",
       "                        <td id=\"T_8922e_row4_col0\" class=\"data row4 col0\" >Random Forest Classifier</td>\n",
       "                        <td id=\"T_8922e_row4_col1\" class=\"data row4 col1\" >0.9539</td>\n",
       "                        <td id=\"T_8922e_row4_col2\" class=\"data row4 col2\" >0.8776</td>\n",
       "                        <td id=\"T_8922e_row4_col3\" class=\"data row4 col3\" >0.1216</td>\n",
       "                        <td id=\"T_8922e_row4_col4\" class=\"data row4 col4\" >0.8400</td>\n",
       "                        <td id=\"T_8922e_row4_col5\" class=\"data row4 col5\" >0.2067</td>\n",
       "                        <td id=\"T_8922e_row4_col6\" class=\"data row4 col6\" >0.1969</td>\n",
       "                        <td id=\"T_8922e_row4_col7\" class=\"data row4 col7\" >0.2989</td>\n",
       "                        <td id=\"T_8922e_row4_col8\" class=\"data row4 col8\" >0.4320</td>\n",
       "            </tr>\n",
       "            <tr>\n",
       "                        <th id=\"T_8922e_level0_row5\" class=\"row_heading level0 row5\" >ada</th>\n",
       "                        <td id=\"T_8922e_row5_col0\" class=\"data row5 col0\" >Ada Boost Classifier</td>\n",
       "                        <td id=\"T_8922e_row5_col1\" class=\"data row5 col1\" >0.9510</td>\n",
       "                        <td id=\"T_8922e_row5_col2\" class=\"data row5 col2\" >0.8518</td>\n",
       "                        <td id=\"T_8922e_row5_col3\" class=\"data row5 col3\" >0.2034</td>\n",
       "                        <td id=\"T_8922e_row5_col4\" class=\"data row5 col4\" >0.5836</td>\n",
       "                        <td id=\"T_8922e_row5_col5\" class=\"data row5 col5\" >0.2911</td>\n",
       "                        <td id=\"T_8922e_row5_col6\" class=\"data row5 col6\" >0.2722</td>\n",
       "                        <td id=\"T_8922e_row5_col7\" class=\"data row5 col7\" >0.3176</td>\n",
       "                        <td id=\"T_8922e_row5_col8\" class=\"data row5 col8\" >0.3350</td>\n",
       "            </tr>\n",
       "            <tr>\n",
       "                        <th id=\"T_8922e_level0_row6\" class=\"row_heading level0 row6\" >et</th>\n",
       "                        <td id=\"T_8922e_row6_col0\" class=\"data row6 col0\" >Extra Trees Classifier</td>\n",
       "                        <td id=\"T_8922e_row6_col1\" class=\"data row6 col1\" >0.9480</td>\n",
       "                        <td id=\"T_8922e_row6_col2\" class=\"data row6 col2\" >0.8412</td>\n",
       "                        <td id=\"T_8922e_row6_col3\" class=\"data row6 col3\" >0.0174</td>\n",
       "                        <td id=\"T_8922e_row6_col4\" class=\"data row6 col4\" >0.1500</td>\n",
       "                        <td id=\"T_8922e_row6_col5\" class=\"data row6 col5\" >0.0308</td>\n",
       "                        <td id=\"T_8922e_row6_col6\" class=\"data row6 col6\" >0.0261</td>\n",
       "                        <td id=\"T_8922e_row6_col7\" class=\"data row6 col7\" >0.0433</td>\n",
       "                        <td id=\"T_8922e_row6_col8\" class=\"data row6 col8\" >0.1670</td>\n",
       "            </tr>\n",
       "            <tr>\n",
       "                        <th id=\"T_8922e_level0_row7\" class=\"row_heading level0 row7\" >ridge</th>\n",
       "                        <td id=\"T_8922e_row7_col0\" class=\"data row7 col0\" >Ridge Classifier</td>\n",
       "                        <td id=\"T_8922e_row7_col1\" class=\"data row7 col1\" >0.9471</td>\n",
       "                        <td id=\"T_8922e_row7_col2\" class=\"data row7 col2\" >0.0000</td>\n",
       "                        <td id=\"T_8922e_row7_col3\" class=\"data row7 col3\" >0.0043</td>\n",
       "                        <td id=\"T_8922e_row7_col4\" class=\"data row7 col4\" >0.1000</td>\n",
       "                        <td id=\"T_8922e_row7_col5\" class=\"data row7 col5\" >0.0083</td>\n",
       "                        <td id=\"T_8922e_row7_col6\" class=\"data row7 col6\" >0.0039</td>\n",
       "                        <td id=\"T_8922e_row7_col7\" class=\"data row7 col7\" >0.0122</td>\n",
       "                        <td id=\"T_8922e_row7_col8\" class=\"data row7 col8\" >0.0100</td>\n",
       "            </tr>\n",
       "            <tr>\n",
       "                        <th id=\"T_8922e_level0_row8\" class=\"row_heading level0 row8\" >lr</th>\n",
       "                        <td id=\"T_8922e_row8_col0\" class=\"data row8 col0\" >Logistic Regression</td>\n",
       "                        <td id=\"T_8922e_row8_col1\" class=\"data row8 col1\" >0.9466</td>\n",
       "                        <td id=\"T_8922e_row8_col2\" class=\"data row8 col2\" >0.5792</td>\n",
       "                        <td id=\"T_8922e_row8_col3\" class=\"data row8 col3\" >0.0130</td>\n",
       "                        <td id=\"T_8922e_row8_col4\" class=\"data row8 col4\" >0.1700</td>\n",
       "                        <td id=\"T_8922e_row8_col5\" class=\"data row8 col5\" >0.0235</td>\n",
       "                        <td id=\"T_8922e_row8_col6\" class=\"data row8 col6\" >0.0170</td>\n",
       "                        <td id=\"T_8922e_row8_col7\" class=\"data row8 col7\" >0.0341</td>\n",
       "                        <td id=\"T_8922e_row8_col8\" class=\"data row8 col8\" >1.1800</td>\n",
       "            </tr>\n",
       "            <tr>\n",
       "                        <th id=\"T_8922e_level0_row9\" class=\"row_heading level0 row9\" >knn</th>\n",
       "                        <td id=\"T_8922e_row9_col0\" class=\"data row9 col0\" >K Neighbors Classifier</td>\n",
       "                        <td id=\"T_8922e_row9_col1\" class=\"data row9 col1\" >0.9466</td>\n",
       "                        <td id=\"T_8922e_row9_col2\" class=\"data row9 col2\" >0.6185</td>\n",
       "                        <td id=\"T_8922e_row9_col3\" class=\"data row9 col3\" >0.0174</td>\n",
       "                        <td id=\"T_8922e_row9_col4\" class=\"data row9 col4\" >0.2333</td>\n",
       "                        <td id=\"T_8922e_row9_col5\" class=\"data row9 col5\" >0.0320</td>\n",
       "                        <td id=\"T_8922e_row9_col6\" class=\"data row9 col6\" >0.0246</td>\n",
       "                        <td id=\"T_8922e_row9_col7\" class=\"data row9 col7\" >0.0502</td>\n",
       "                        <td id=\"T_8922e_row9_col8\" class=\"data row9 col8\" >0.0390</td>\n",
       "            </tr>\n",
       "            <tr>\n",
       "                        <th id=\"T_8922e_level0_row10\" class=\"row_heading level0 row10\" >lda</th>\n",
       "                        <td id=\"T_8922e_row10_col0\" class=\"data row10 col0\" >Linear Discriminant Analysis</td>\n",
       "                        <td id=\"T_8922e_row10_col1\" class=\"data row10 col1\" >0.9422</td>\n",
       "                        <td id=\"T_8922e_row10_col2\" class=\"data row10 col2\" >0.7253</td>\n",
       "                        <td id=\"T_8922e_row10_col3\" class=\"data row10 col3\" >0.0435</td>\n",
       "                        <td id=\"T_8922e_row10_col4\" class=\"data row10 col4\" >0.2127</td>\n",
       "                        <td id=\"T_8922e_row10_col5\" class=\"data row10 col5\" >0.0699</td>\n",
       "                        <td id=\"T_8922e_row10_col6\" class=\"data row10 col6\" >0.0530</td>\n",
       "                        <td id=\"T_8922e_row10_col7\" class=\"data row10 col7\" >0.0725</td>\n",
       "                        <td id=\"T_8922e_row10_col8\" class=\"data row10 col8\" >0.0170</td>\n",
       "            </tr>\n",
       "            <tr>\n",
       "                        <th id=\"T_8922e_level0_row11\" class=\"row_heading level0 row11\" >dt</th>\n",
       "                        <td id=\"T_8922e_row11_col0\" class=\"data row11 col0\" >Decision Tree Classifier</td>\n",
       "                        <td id=\"T_8922e_row11_col1\" class=\"data row11 col1\" >0.9347</td>\n",
       "                        <td id=\"T_8922e_row11_col2\" class=\"data row11 col2\" >0.6851</td>\n",
       "                        <td id=\"T_8922e_row11_col3\" class=\"data row11 col3\" >0.4071</td>\n",
       "                        <td id=\"T_8922e_row11_col4\" class=\"data row11 col4\" >0.3843</td>\n",
       "                        <td id=\"T_8922e_row11_col5\" class=\"data row11 col5\" >0.3934</td>\n",
       "                        <td id=\"T_8922e_row11_col6\" class=\"data row11 col6\" >0.3592</td>\n",
       "                        <td id=\"T_8922e_row11_col7\" class=\"data row11 col7\" >0.3603</td>\n",
       "                        <td id=\"T_8922e_row11_col8\" class=\"data row11 col8\" >0.0680</td>\n",
       "            </tr>\n",
       "            <tr>\n",
       "                        <th id=\"T_8922e_level0_row12\" class=\"row_heading level0 row12\" >svm</th>\n",
       "                        <td id=\"T_8922e_row12_col0\" class=\"data row12 col0\" >SVM - Linear Kernel</td>\n",
       "                        <td id=\"T_8922e_row12_col1\" class=\"data row12 col1\" >0.8465</td>\n",
       "                        <td id=\"T_8922e_row12_col2\" class=\"data row12 col2\" >0.0000</td>\n",
       "                        <td id=\"T_8922e_row12_col3\" class=\"data row12 col3\" >0.2388</td>\n",
       "                        <td id=\"T_8922e_row12_col4\" class=\"data row12 col4\" >0.0905</td>\n",
       "                        <td id=\"T_8922e_row12_col5\" class=\"data row12 col5\" >0.1255</td>\n",
       "                        <td id=\"T_8922e_row12_col6\" class=\"data row12 col6\" >0.0647</td>\n",
       "                        <td id=\"T_8922e_row12_col7\" class=\"data row12 col7\" >0.0744</td>\n",
       "                        <td id=\"T_8922e_row12_col8\" class=\"data row12 col8\" >0.0120</td>\n",
       "            </tr>\n",
       "            <tr>\n",
       "                        <th id=\"T_8922e_level0_row13\" class=\"row_heading level0 row13\" >qda</th>\n",
       "                        <td id=\"T_8922e_row13_col0\" class=\"data row13 col0\" >Quadratic Discriminant Analysis</td>\n",
       "                        <td id=\"T_8922e_row13_col1\" class=\"data row13 col1\" >0.5451</td>\n",
       "                        <td id=\"T_8922e_row13_col2\" class=\"data row13 col2\" >0.5270</td>\n",
       "                        <td id=\"T_8922e_row13_col3\" class=\"data row13 col3\" >0.5150</td>\n",
       "                        <td id=\"T_8922e_row13_col4\" class=\"data row13 col4\" >0.0575</td>\n",
       "                        <td id=\"T_8922e_row13_col5\" class=\"data row13 col5\" >0.1034</td>\n",
       "                        <td id=\"T_8922e_row13_col6\" class=\"data row13 col6\" >0.0130</td>\n",
       "                        <td id=\"T_8922e_row13_col7\" class=\"data row13 col7\" >0.0273</td>\n",
       "                        <td id=\"T_8922e_row13_col8\" class=\"data row13 col8\" >0.0160</td>\n",
       "            </tr>\n",
       "            <tr>\n",
       "                        <th id=\"T_8922e_level0_row14\" class=\"row_heading level0 row14\" >nb</th>\n",
       "                        <td id=\"T_8922e_row14_col0\" class=\"data row14 col0\" >Naive Bayes</td>\n",
       "                        <td id=\"T_8922e_row14_col1\" class=\"data row14 col1\" >0.1030</td>\n",
       "                        <td id=\"T_8922e_row14_col2\" class=\"data row14 col2\" >0.4968</td>\n",
       "                        <td id=\"T_8922e_row14_col3\" class=\"data row14 col3\" >0.9091</td>\n",
       "                        <td id=\"T_8922e_row14_col4\" class=\"data row14 col4\" >0.0493</td>\n",
       "                        <td id=\"T_8922e_row14_col5\" class=\"data row14 col5\" >0.0936</td>\n",
       "                        <td id=\"T_8922e_row14_col6\" class=\"data row14 col6\" >-0.0034</td>\n",
       "                        <td id=\"T_8922e_row14_col7\" class=\"data row14 col7\" >-0.0283</td>\n",
       "                        <td id=\"T_8922e_row14_col8\" class=\"data row14 col8\" >0.0090</td>\n",
       "            </tr>\n",
       "    </tbody></table>"
      ],
      "text/plain": [
       "<pandas.io.formats.style.Styler at 0x17d8fd8d130>"
      ]
     },
     "metadata": {},
     "output_type": "display_data"
    }
   ],
   "source": [
    "best_model = compare_models()"
   ]
  },
  {
   "cell_type": "markdown",
   "metadata": {
    "colab_type": "text",
    "id": "nZAUhQGLEQoz"
   },
   "source": [
    "Two simple words of code ***(not even a line)*** have trained and evaluated over 15 models using cross validation. The score grid printed above highlights the highest performing metric for comparison purposes only. The grid by default is sorted using 'Accuracy' (highest to lowest) which can be changed by passing the `sort` parameter. For example `compare_models(sort = 'Recall')` will sort the grid by Recall instead of Accuracy. If you want to change the fold parameter from the default value of `10` to a different value then you can use the `fold` parameter. For example `compare_models(fold = 5)` will compare all models on 5 fold cross validation. Reducing the number of folds will improve the training time. By default, `compare_models` return the best performing model based on default sort order but can be used to return a list of top N models by using `n_select` parameter."
   ]
  },
  {
   "cell_type": "code",
   "execution_count": 6,
   "metadata": {},
   "outputs": [
    {
     "name": "stdout",
     "output_type": "stream",
     "text": [
      "<catboost.core.CatBoostClassifier object at 0x0000017DE792CCA0>\n"
     ]
    }
   ],
   "source": [
    "print(best_model)"
   ]
  },
  {
   "cell_type": "markdown",
   "metadata": {
    "colab_type": "text",
    "id": "P5m2pciOEQo4"
   },
   "source": [
    "# 8.0 Create a Model"
   ]
  },
  {
   "cell_type": "markdown",
   "metadata": {
    "colab_type": "text",
    "id": "u_6cIilfEQo7"
   },
   "source": [
    "`create_model` is the most granular function in PyCaret and is often the foundation behind most of the PyCaret functionalities. As the name suggests this function trains and evaluates a model using cross validation that can be set with `fold` parameter. The output prints a score grid that shows Accuracy, AUC, Recall, Precision, F1, Kappa and MCC by fold. \n",
    "\n",
    "There are 18 classifiers available in the model library of PyCaret. To see list of all classifiers either check the `docstring` or use `models` function to see the library."
   ]
  },
  {
   "cell_type": "code",
   "execution_count": 7,
   "metadata": {},
   "outputs": [
    {
     "data": {
      "text/html": [
       "<div>\n",
       "<style scoped>\n",
       "    .dataframe tbody tr th:only-of-type {\n",
       "        vertical-align: middle;\n",
       "    }\n",
       "\n",
       "    .dataframe tbody tr th {\n",
       "        vertical-align: top;\n",
       "    }\n",
       "\n",
       "    .dataframe thead th {\n",
       "        text-align: right;\n",
       "    }\n",
       "</style>\n",
       "<table border=\"1\" class=\"dataframe\">\n",
       "  <thead>\n",
       "    <tr style=\"text-align: right;\">\n",
       "      <th></th>\n",
       "      <th>Name</th>\n",
       "      <th>Reference</th>\n",
       "      <th>Turbo</th>\n",
       "    </tr>\n",
       "    <tr>\n",
       "      <th>ID</th>\n",
       "      <th></th>\n",
       "      <th></th>\n",
       "      <th></th>\n",
       "    </tr>\n",
       "  </thead>\n",
       "  <tbody>\n",
       "    <tr>\n",
       "      <th>lr</th>\n",
       "      <td>Logistic Regression</td>\n",
       "      <td>sklearn.linear_model._logistic.LogisticRegression</td>\n",
       "      <td>True</td>\n",
       "    </tr>\n",
       "    <tr>\n",
       "      <th>knn</th>\n",
       "      <td>K Neighbors Classifier</td>\n",
       "      <td>sklearn.neighbors._classification.KNeighborsCl...</td>\n",
       "      <td>True</td>\n",
       "    </tr>\n",
       "    <tr>\n",
       "      <th>nb</th>\n",
       "      <td>Naive Bayes</td>\n",
       "      <td>sklearn.naive_bayes.GaussianNB</td>\n",
       "      <td>True</td>\n",
       "    </tr>\n",
       "    <tr>\n",
       "      <th>dt</th>\n",
       "      <td>Decision Tree Classifier</td>\n",
       "      <td>sklearn.tree._classes.DecisionTreeClassifier</td>\n",
       "      <td>True</td>\n",
       "    </tr>\n",
       "    <tr>\n",
       "      <th>svm</th>\n",
       "      <td>SVM - Linear Kernel</td>\n",
       "      <td>sklearn.linear_model._stochastic_gradient.SGDC...</td>\n",
       "      <td>True</td>\n",
       "    </tr>\n",
       "    <tr>\n",
       "      <th>rbfsvm</th>\n",
       "      <td>SVM - Radial Kernel</td>\n",
       "      <td>sklearn.svm._classes.SVC</td>\n",
       "      <td>False</td>\n",
       "    </tr>\n",
       "    <tr>\n",
       "      <th>gpc</th>\n",
       "      <td>Gaussian Process Classifier</td>\n",
       "      <td>sklearn.gaussian_process._gpc.GaussianProcessC...</td>\n",
       "      <td>False</td>\n",
       "    </tr>\n",
       "    <tr>\n",
       "      <th>mlp</th>\n",
       "      <td>MLP Classifier</td>\n",
       "      <td>sklearn.neural_network._multilayer_perceptron....</td>\n",
       "      <td>False</td>\n",
       "    </tr>\n",
       "    <tr>\n",
       "      <th>ridge</th>\n",
       "      <td>Ridge Classifier</td>\n",
       "      <td>sklearn.linear_model._ridge.RidgeClassifier</td>\n",
       "      <td>True</td>\n",
       "    </tr>\n",
       "    <tr>\n",
       "      <th>rf</th>\n",
       "      <td>Random Forest Classifier</td>\n",
       "      <td>sklearn.ensemble._forest.RandomForestClassifier</td>\n",
       "      <td>True</td>\n",
       "    </tr>\n",
       "    <tr>\n",
       "      <th>qda</th>\n",
       "      <td>Quadratic Discriminant Analysis</td>\n",
       "      <td>sklearn.discriminant_analysis.QuadraticDiscrim...</td>\n",
       "      <td>True</td>\n",
       "    </tr>\n",
       "    <tr>\n",
       "      <th>ada</th>\n",
       "      <td>Ada Boost Classifier</td>\n",
       "      <td>sklearn.ensemble._weight_boosting.AdaBoostClas...</td>\n",
       "      <td>True</td>\n",
       "    </tr>\n",
       "    <tr>\n",
       "      <th>gbc</th>\n",
       "      <td>Gradient Boosting Classifier</td>\n",
       "      <td>sklearn.ensemble._gb.GradientBoostingClassifier</td>\n",
       "      <td>True</td>\n",
       "    </tr>\n",
       "    <tr>\n",
       "      <th>lda</th>\n",
       "      <td>Linear Discriminant Analysis</td>\n",
       "      <td>sklearn.discriminant_analysis.LinearDiscrimina...</td>\n",
       "      <td>True</td>\n",
       "    </tr>\n",
       "    <tr>\n",
       "      <th>et</th>\n",
       "      <td>Extra Trees Classifier</td>\n",
       "      <td>sklearn.ensemble._forest.ExtraTreesClassifier</td>\n",
       "      <td>True</td>\n",
       "    </tr>\n",
       "    <tr>\n",
       "      <th>xgboost</th>\n",
       "      <td>Extreme Gradient Boosting</td>\n",
       "      <td>xgboost.sklearn.XGBClassifier</td>\n",
       "      <td>True</td>\n",
       "    </tr>\n",
       "    <tr>\n",
       "      <th>lightgbm</th>\n",
       "      <td>Light Gradient Boosting Machine</td>\n",
       "      <td>lightgbm.sklearn.LGBMClassifier</td>\n",
       "      <td>True</td>\n",
       "    </tr>\n",
       "    <tr>\n",
       "      <th>catboost</th>\n",
       "      <td>CatBoost Classifier</td>\n",
       "      <td>catboost.core.CatBoostClassifier</td>\n",
       "      <td>True</td>\n",
       "    </tr>\n",
       "  </tbody>\n",
       "</table>\n",
       "</div>"
      ],
      "text/plain": [
       "                                     Name  \\\n",
       "ID                                          \n",
       "lr                    Logistic Regression   \n",
       "knn                K Neighbors Classifier   \n",
       "nb                            Naive Bayes   \n",
       "dt               Decision Tree Classifier   \n",
       "svm                   SVM - Linear Kernel   \n",
       "rbfsvm                SVM - Radial Kernel   \n",
       "gpc           Gaussian Process Classifier   \n",
       "mlp                        MLP Classifier   \n",
       "ridge                    Ridge Classifier   \n",
       "rf               Random Forest Classifier   \n",
       "qda       Quadratic Discriminant Analysis   \n",
       "ada                  Ada Boost Classifier   \n",
       "gbc          Gradient Boosting Classifier   \n",
       "lda          Linear Discriminant Analysis   \n",
       "et                 Extra Trees Classifier   \n",
       "xgboost         Extreme Gradient Boosting   \n",
       "lightgbm  Light Gradient Boosting Machine   \n",
       "catboost              CatBoost Classifier   \n",
       "\n",
       "                                                  Reference  Turbo  \n",
       "ID                                                                  \n",
       "lr        sklearn.linear_model._logistic.LogisticRegression   True  \n",
       "knn       sklearn.neighbors._classification.KNeighborsCl...   True  \n",
       "nb                           sklearn.naive_bayes.GaussianNB   True  \n",
       "dt             sklearn.tree._classes.DecisionTreeClassifier   True  \n",
       "svm       sklearn.linear_model._stochastic_gradient.SGDC...   True  \n",
       "rbfsvm                             sklearn.svm._classes.SVC  False  \n",
       "gpc       sklearn.gaussian_process._gpc.GaussianProcessC...  False  \n",
       "mlp       sklearn.neural_network._multilayer_perceptron....  False  \n",
       "ridge           sklearn.linear_model._ridge.RidgeClassifier   True  \n",
       "rf          sklearn.ensemble._forest.RandomForestClassifier   True  \n",
       "qda       sklearn.discriminant_analysis.QuadraticDiscrim...   True  \n",
       "ada       sklearn.ensemble._weight_boosting.AdaBoostClas...   True  \n",
       "gbc         sklearn.ensemble._gb.GradientBoostingClassifier   True  \n",
       "lda       sklearn.discriminant_analysis.LinearDiscrimina...   True  \n",
       "et            sklearn.ensemble._forest.ExtraTreesClassifier   True  \n",
       "xgboost                       xgboost.sklearn.XGBClassifier   True  \n",
       "lightgbm                    lightgbm.sklearn.LGBMClassifier   True  \n",
       "catboost                   catboost.core.CatBoostClassifier   True  "
      ]
     },
     "execution_count": 7,
     "metadata": {},
     "output_type": "execute_result"
    }
   ],
   "source": [
    "models()"
   ]
  },
  {
   "cell_type": "markdown",
   "metadata": {
    "colab_type": "text",
    "id": "UWMSeyNhEQo-"
   },
   "source": [
    "### 8.1 Logistic Regression Classifier"
   ]
  },
  {
   "cell_type": "code",
   "execution_count": 8,
   "metadata": {
    "colab": {
     "base_uri": "https://localhost:8080/",
     "height": 392
    },
    "colab_type": "code",
    "id": "LP896uSIEQpD",
    "outputId": "d6d31562-feb5-4052-ee23-0a444fecaacf"
   },
   "outputs": [
    {
     "data": {
      "text/html": [
       "<style  type=\"text/css\" >\n",
       "#T_7653f_row10_col0,#T_7653f_row10_col1,#T_7653f_row10_col2,#T_7653f_row10_col3,#T_7653f_row10_col4,#T_7653f_row10_col5,#T_7653f_row10_col6{\n",
       "            background:  yellow;\n",
       "        }</style><table id=\"T_7653f_\" ><thead>    <tr>        <th class=\"blank level0\" ></th>        <th class=\"col_heading level0 col0\" >Accuracy</th>        <th class=\"col_heading level0 col1\" >AUC</th>        <th class=\"col_heading level0 col2\" >Recall</th>        <th class=\"col_heading level0 col3\" >Prec.</th>        <th class=\"col_heading level0 col4\" >F1</th>        <th class=\"col_heading level0 col5\" >Kappa</th>        <th class=\"col_heading level0 col6\" >MCC</th>    </tr></thead><tbody>\n",
       "                <tr>\n",
       "                        <th id=\"T_7653f_level0_row0\" class=\"row_heading level0 row0\" >0</th>\n",
       "                        <td id=\"T_7653f_row0_col0\" class=\"data row0 col0\" >0.9493</td>\n",
       "                        <td id=\"T_7653f_row0_col1\" class=\"data row0 col1\" >0.6033</td>\n",
       "                        <td id=\"T_7653f_row0_col2\" class=\"data row0 col2\" >0.0000</td>\n",
       "                        <td id=\"T_7653f_row0_col3\" class=\"data row0 col3\" >0.0000</td>\n",
       "                        <td id=\"T_7653f_row0_col4\" class=\"data row0 col4\" >0.0000</td>\n",
       "                        <td id=\"T_7653f_row0_col5\" class=\"data row0 col5\" >0.0000</td>\n",
       "                        <td id=\"T_7653f_row0_col6\" class=\"data row0 col6\" >0.0000</td>\n",
       "            </tr>\n",
       "            <tr>\n",
       "                        <th id=\"T_7653f_level0_row1\" class=\"row_heading level0 row1\" >1</th>\n",
       "                        <td id=\"T_7653f_row1_col0\" class=\"data row1 col0\" >0.9471</td>\n",
       "                        <td id=\"T_7653f_row1_col1\" class=\"data row1 col1\" >0.6519</td>\n",
       "                        <td id=\"T_7653f_row1_col2\" class=\"data row1 col2\" >0.0000</td>\n",
       "                        <td id=\"T_7653f_row1_col3\" class=\"data row1 col3\" >0.0000</td>\n",
       "                        <td id=\"T_7653f_row1_col4\" class=\"data row1 col4\" >0.0000</td>\n",
       "                        <td id=\"T_7653f_row1_col5\" class=\"data row1 col5\" >-0.0042</td>\n",
       "                        <td id=\"T_7653f_row1_col6\" class=\"data row1 col6\" >-0.0109</td>\n",
       "            </tr>\n",
       "            <tr>\n",
       "                        <th id=\"T_7653f_level0_row2\" class=\"row_heading level0 row2\" >2</th>\n",
       "                        <td id=\"T_7653f_row2_col0\" class=\"data row2 col0\" >0.9493</td>\n",
       "                        <td id=\"T_7653f_row2_col1\" class=\"data row2 col1\" >0.5753</td>\n",
       "                        <td id=\"T_7653f_row2_col2\" class=\"data row2 col2\" >0.0000</td>\n",
       "                        <td id=\"T_7653f_row2_col3\" class=\"data row2 col3\" >0.0000</td>\n",
       "                        <td id=\"T_7653f_row2_col4\" class=\"data row2 col4\" >0.0000</td>\n",
       "                        <td id=\"T_7653f_row2_col5\" class=\"data row2 col5\" >0.0000</td>\n",
       "                        <td id=\"T_7653f_row2_col6\" class=\"data row2 col6\" >0.0000</td>\n",
       "            </tr>\n",
       "            <tr>\n",
       "                        <th id=\"T_7653f_level0_row3\" class=\"row_heading level0 row3\" >3</th>\n",
       "                        <td id=\"T_7653f_row3_col0\" class=\"data row3 col0\" >0.9449</td>\n",
       "                        <td id=\"T_7653f_row3_col1\" class=\"data row3 col1\" >0.5321</td>\n",
       "                        <td id=\"T_7653f_row3_col2\" class=\"data row3 col2\" >0.0000</td>\n",
       "                        <td id=\"T_7653f_row3_col3\" class=\"data row3 col3\" >0.0000</td>\n",
       "                        <td id=\"T_7653f_row3_col4\" class=\"data row3 col4\" >0.0000</td>\n",
       "                        <td id=\"T_7653f_row3_col5\" class=\"data row3 col5\" >-0.0082</td>\n",
       "                        <td id=\"T_7653f_row3_col6\" class=\"data row3 col6\" >-0.0154</td>\n",
       "            </tr>\n",
       "            <tr>\n",
       "                        <th id=\"T_7653f_level0_row4\" class=\"row_heading level0 row4\" >4</th>\n",
       "                        <td id=\"T_7653f_row4_col0\" class=\"data row4 col0\" >0.9449</td>\n",
       "                        <td id=\"T_7653f_row4_col1\" class=\"data row4 col1\" >0.4578</td>\n",
       "                        <td id=\"T_7653f_row4_col2\" class=\"data row4 col2\" >0.0000</td>\n",
       "                        <td id=\"T_7653f_row4_col3\" class=\"data row4 col3\" >0.0000</td>\n",
       "                        <td id=\"T_7653f_row4_col4\" class=\"data row4 col4\" >0.0000</td>\n",
       "                        <td id=\"T_7653f_row4_col5\" class=\"data row4 col5\" >-0.0042</td>\n",
       "                        <td id=\"T_7653f_row4_col6\" class=\"data row4 col6\" >-0.0111</td>\n",
       "            </tr>\n",
       "            <tr>\n",
       "                        <th id=\"T_7653f_level0_row5\" class=\"row_heading level0 row5\" >5</th>\n",
       "                        <td id=\"T_7653f_row5_col0\" class=\"data row5 col0\" >0.9492</td>\n",
       "                        <td id=\"T_7653f_row5_col1\" class=\"data row5 col1\" >0.6126</td>\n",
       "                        <td id=\"T_7653f_row5_col2\" class=\"data row5 col2\" >0.0435</td>\n",
       "                        <td id=\"T_7653f_row5_col3\" class=\"data row5 col3\" >0.5000</td>\n",
       "                        <td id=\"T_7653f_row5_col4\" class=\"data row5 col4\" >0.0800</td>\n",
       "                        <td id=\"T_7653f_row5_col5\" class=\"data row5 col5\" >0.0725</td>\n",
       "                        <td id=\"T_7653f_row5_col6\" class=\"data row5 col6\" >0.1363</td>\n",
       "            </tr>\n",
       "            <tr>\n",
       "                        <th id=\"T_7653f_level0_row6\" class=\"row_heading level0 row6\" >6</th>\n",
       "                        <td id=\"T_7653f_row6_col0\" class=\"data row6 col0\" >0.9470</td>\n",
       "                        <td id=\"T_7653f_row6_col1\" class=\"data row6 col1\" >0.6505</td>\n",
       "                        <td id=\"T_7653f_row6_col2\" class=\"data row6 col2\" >0.0000</td>\n",
       "                        <td id=\"T_7653f_row6_col3\" class=\"data row6 col3\" >0.0000</td>\n",
       "                        <td id=\"T_7653f_row6_col4\" class=\"data row6 col4\" >0.0000</td>\n",
       "                        <td id=\"T_7653f_row6_col5\" class=\"data row6 col5\" >-0.0042</td>\n",
       "                        <td id=\"T_7653f_row6_col6\" class=\"data row6 col6\" >-0.0109</td>\n",
       "            </tr>\n",
       "            <tr>\n",
       "                        <th id=\"T_7653f_level0_row7\" class=\"row_heading level0 row7\" >7</th>\n",
       "                        <td id=\"T_7653f_row7_col0\" class=\"data row7 col0\" >0.9426</td>\n",
       "                        <td id=\"T_7653f_row7_col1\" class=\"data row7 col1\" >0.5474</td>\n",
       "                        <td id=\"T_7653f_row7_col2\" class=\"data row7 col2\" >0.0435</td>\n",
       "                        <td id=\"T_7653f_row7_col3\" class=\"data row7 col3\" >0.2000</td>\n",
       "                        <td id=\"T_7653f_row7_col4\" class=\"data row7 col4\" >0.0714</td>\n",
       "                        <td id=\"T_7653f_row7_col5\" class=\"data row7 col5\" >0.0543</td>\n",
       "                        <td id=\"T_7653f_row7_col6\" class=\"data row7 col6\" >0.0718</td>\n",
       "            </tr>\n",
       "            <tr>\n",
       "                        <th id=\"T_7653f_level0_row8\" class=\"row_heading level0 row8\" >8</th>\n",
       "                        <td id=\"T_7653f_row8_col0\" class=\"data row8 col0\" >0.9514</td>\n",
       "                        <td id=\"T_7653f_row8_col1\" class=\"data row8 col1\" >0.6714</td>\n",
       "                        <td id=\"T_7653f_row8_col2\" class=\"data row8 col2\" >0.0435</td>\n",
       "                        <td id=\"T_7653f_row8_col3\" class=\"data row8 col3\" >1.0000</td>\n",
       "                        <td id=\"T_7653f_row8_col4\" class=\"data row8 col4\" >0.0833</td>\n",
       "                        <td id=\"T_7653f_row8_col5\" class=\"data row8 col5\" >0.0794</td>\n",
       "                        <td id=\"T_7653f_row8_col6\" class=\"data row8 col6\" >0.2034</td>\n",
       "            </tr>\n",
       "            <tr>\n",
       "                        <th id=\"T_7653f_level0_row9\" class=\"row_heading level0 row9\" >9</th>\n",
       "                        <td id=\"T_7653f_row9_col0\" class=\"data row9 col0\" >0.9404</td>\n",
       "                        <td id=\"T_7653f_row9_col1\" class=\"data row9 col1\" >0.4892</td>\n",
       "                        <td id=\"T_7653f_row9_col2\" class=\"data row9 col2\" >0.0000</td>\n",
       "                        <td id=\"T_7653f_row9_col3\" class=\"data row9 col3\" >0.0000</td>\n",
       "                        <td id=\"T_7653f_row9_col4\" class=\"data row9 col4\" >0.0000</td>\n",
       "                        <td id=\"T_7653f_row9_col5\" class=\"data row9 col5\" >-0.0153</td>\n",
       "                        <td id=\"T_7653f_row9_col6\" class=\"data row9 col6\" >-0.0218</td>\n",
       "            </tr>\n",
       "            <tr>\n",
       "                        <th id=\"T_7653f_level0_row10\" class=\"row_heading level0 row10\" >Mean</th>\n",
       "                        <td id=\"T_7653f_row10_col0\" class=\"data row10 col0\" >0.9466</td>\n",
       "                        <td id=\"T_7653f_row10_col1\" class=\"data row10 col1\" >0.5792</td>\n",
       "                        <td id=\"T_7653f_row10_col2\" class=\"data row10 col2\" >0.0130</td>\n",
       "                        <td id=\"T_7653f_row10_col3\" class=\"data row10 col3\" >0.1700</td>\n",
       "                        <td id=\"T_7653f_row10_col4\" class=\"data row10 col4\" >0.0235</td>\n",
       "                        <td id=\"T_7653f_row10_col5\" class=\"data row10 col5\" >0.0170</td>\n",
       "                        <td id=\"T_7653f_row10_col6\" class=\"data row10 col6\" >0.0341</td>\n",
       "            </tr>\n",
       "            <tr>\n",
       "                        <th id=\"T_7653f_level0_row11\" class=\"row_heading level0 row11\" >SD</th>\n",
       "                        <td id=\"T_7653f_row11_col0\" class=\"data row11 col0\" >0.0033</td>\n",
       "                        <td id=\"T_7653f_row11_col1\" class=\"data row11 col1\" >0.0683</td>\n",
       "                        <td id=\"T_7653f_row11_col2\" class=\"data row11 col2\" >0.0199</td>\n",
       "                        <td id=\"T_7653f_row11_col3\" class=\"data row11 col3\" >0.3164</td>\n",
       "                        <td id=\"T_7653f_row11_col4\" class=\"data row11 col4\" >0.0360</td>\n",
       "                        <td id=\"T_7653f_row11_col5\" class=\"data row11 col5\" >0.0346</td>\n",
       "                        <td id=\"T_7653f_row11_col6\" class=\"data row11 col6\" >0.0738</td>\n",
       "            </tr>\n",
       "    </tbody></table>"
      ],
      "text/plain": [
       "<pandas.io.formats.style.Styler at 0x17de83a5640>"
      ]
     },
     "metadata": {},
     "output_type": "display_data"
    }
   ],
   "source": [
    "lr = create_model('lr')"
   ]
  },
  {
   "cell_type": "code",
   "execution_count": 9,
   "metadata": {
    "colab": {},
    "colab_type": "code",
    "id": "FRat05yGEQpQ",
    "outputId": "c8e6a190-8bec-4646-d2c8-8a92b129c484"
   },
   "outputs": [
    {
     "name": "stdout",
     "output_type": "stream",
     "text": [
      "LogisticRegression(C=1.0, class_weight=None, dual=False, fit_intercept=True,\n",
      "                   intercept_scaling=1, l1_ratio=None, max_iter=1000,\n",
      "                   multi_class='auto', n_jobs=None, penalty='l2',\n",
      "                   random_state=2021, solver='lbfgs', tol=0.0001, verbose=0,\n",
      "                   warm_start=False)\n"
     ]
    }
   ],
   "source": [
    "print(lr)"
   ]
  },
  {
   "cell_type": "markdown",
   "metadata": {
    "colab_type": "text",
    "id": "rWUojqBCEQpb"
   },
   "source": [
    "### 8.2 catboost Classifier"
   ]
  },
  {
   "cell_type": "code",
   "execution_count": 10,
   "metadata": {
    "colab": {
     "base_uri": "https://localhost:8080/",
     "height": 392
    },
    "colab_type": "code",
    "id": "2uonD20gEQpe",
    "outputId": "560e3cb6-41d5-4293-b1c5-2bd1cf3bc63b"
   },
   "outputs": [
    {
     "data": {
      "text/html": [
       "<style  type=\"text/css\" >\n",
       "#T_3b50f_row10_col0,#T_3b50f_row10_col1,#T_3b50f_row10_col2,#T_3b50f_row10_col3,#T_3b50f_row10_col4,#T_3b50f_row10_col5,#T_3b50f_row10_col6{\n",
       "            background:  yellow;\n",
       "        }</style><table id=\"T_3b50f_\" ><thead>    <tr>        <th class=\"blank level0\" ></th>        <th class=\"col_heading level0 col0\" >Accuracy</th>        <th class=\"col_heading level0 col1\" >AUC</th>        <th class=\"col_heading level0 col2\" >Recall</th>        <th class=\"col_heading level0 col3\" >Prec.</th>        <th class=\"col_heading level0 col4\" >F1</th>        <th class=\"col_heading level0 col5\" >Kappa</th>        <th class=\"col_heading level0 col6\" >MCC</th>    </tr></thead><tbody>\n",
       "                <tr>\n",
       "                        <th id=\"T_3b50f_level0_row0\" class=\"row_heading level0 row0\" >0</th>\n",
       "                        <td id=\"T_3b50f_row0_col0\" class=\"data row0 col0\" >0.9648</td>\n",
       "                        <td id=\"T_3b50f_row0_col1\" class=\"data row0 col1\" >0.9024</td>\n",
       "                        <td id=\"T_3b50f_row0_col2\" class=\"data row0 col2\" >0.3043</td>\n",
       "                        <td id=\"T_3b50f_row0_col3\" class=\"data row0 col3\" >1.0000</td>\n",
       "                        <td id=\"T_3b50f_row0_col4\" class=\"data row0 col4\" >0.4667</td>\n",
       "                        <td id=\"T_3b50f_row0_col5\" class=\"data row0 col5\" >0.4538</td>\n",
       "                        <td id=\"T_3b50f_row0_col6\" class=\"data row0 col6\" >0.5417</td>\n",
       "            </tr>\n",
       "            <tr>\n",
       "                        <th id=\"T_3b50f_level0_row1\" class=\"row_heading level0 row1\" >1</th>\n",
       "                        <td id=\"T_3b50f_row1_col0\" class=\"data row1 col0\" >0.9714</td>\n",
       "                        <td id=\"T_3b50f_row1_col1\" class=\"data row1 col1\" >0.9425</td>\n",
       "                        <td id=\"T_3b50f_row1_col2\" class=\"data row1 col2\" >0.4348</td>\n",
       "                        <td id=\"T_3b50f_row1_col3\" class=\"data row1 col3\" >1.0000</td>\n",
       "                        <td id=\"T_3b50f_row1_col4\" class=\"data row1 col4\" >0.6061</td>\n",
       "                        <td id=\"T_3b50f_row1_col5\" class=\"data row1 col5\" >0.5936</td>\n",
       "                        <td id=\"T_3b50f_row1_col6\" class=\"data row1 col6\" >0.6497</td>\n",
       "            </tr>\n",
       "            <tr>\n",
       "                        <th id=\"T_3b50f_level0_row2\" class=\"row_heading level0 row2\" >2</th>\n",
       "                        <td id=\"T_3b50f_row2_col0\" class=\"data row2 col0\" >0.9648</td>\n",
       "                        <td id=\"T_3b50f_row2_col1\" class=\"data row2 col1\" >0.9030</td>\n",
       "                        <td id=\"T_3b50f_row2_col2\" class=\"data row2 col2\" >0.3478</td>\n",
       "                        <td id=\"T_3b50f_row2_col3\" class=\"data row2 col3\" >0.8889</td>\n",
       "                        <td id=\"T_3b50f_row2_col4\" class=\"data row2 col4\" >0.5000</td>\n",
       "                        <td id=\"T_3b50f_row2_col5\" class=\"data row2 col5\" >0.4853</td>\n",
       "                        <td id=\"T_3b50f_row2_col6\" class=\"data row2 col6\" >0.5436</td>\n",
       "            </tr>\n",
       "            <tr>\n",
       "                        <th id=\"T_3b50f_level0_row3\" class=\"row_heading level0 row3\" >3</th>\n",
       "                        <td id=\"T_3b50f_row3_col0\" class=\"data row3 col0\" >0.9714</td>\n",
       "                        <td id=\"T_3b50f_row3_col1\" class=\"data row3 col1\" >0.9587</td>\n",
       "                        <td id=\"T_3b50f_row3_col2\" class=\"data row3 col2\" >0.4348</td>\n",
       "                        <td id=\"T_3b50f_row3_col3\" class=\"data row3 col3\" >1.0000</td>\n",
       "                        <td id=\"T_3b50f_row3_col4\" class=\"data row3 col4\" >0.6061</td>\n",
       "                        <td id=\"T_3b50f_row3_col5\" class=\"data row3 col5\" >0.5936</td>\n",
       "                        <td id=\"T_3b50f_row3_col6\" class=\"data row3 col6\" >0.6497</td>\n",
       "            </tr>\n",
       "            <tr>\n",
       "                        <th id=\"T_3b50f_level0_row4\" class=\"row_heading level0 row4\" >4</th>\n",
       "                        <td id=\"T_3b50f_row4_col0\" class=\"data row4 col0\" >0.9758</td>\n",
       "                        <td id=\"T_3b50f_row4_col1\" class=\"data row4 col1\" >0.9502</td>\n",
       "                        <td id=\"T_3b50f_row4_col2\" class=\"data row4 col2\" >0.5417</td>\n",
       "                        <td id=\"T_3b50f_row4_col3\" class=\"data row4 col3\" >1.0000</td>\n",
       "                        <td id=\"T_3b50f_row4_col4\" class=\"data row4 col4\" >0.7027</td>\n",
       "                        <td id=\"T_3b50f_row4_col5\" class=\"data row4 col5\" >0.6912</td>\n",
       "                        <td id=\"T_3b50f_row4_col6\" class=\"data row4 col6\" >0.7267</td>\n",
       "            </tr>\n",
       "            <tr>\n",
       "                        <th id=\"T_3b50f_level0_row5\" class=\"row_heading level0 row5\" >5</th>\n",
       "                        <td id=\"T_3b50f_row5_col0\" class=\"data row5 col0\" >0.9691</td>\n",
       "                        <td id=\"T_3b50f_row5_col1\" class=\"data row5 col1\" >0.9623</td>\n",
       "                        <td id=\"T_3b50f_row5_col2\" class=\"data row5 col2\" >0.5217</td>\n",
       "                        <td id=\"T_3b50f_row5_col3\" class=\"data row5 col3\" >0.8000</td>\n",
       "                        <td id=\"T_3b50f_row5_col4\" class=\"data row5 col4\" >0.6316</td>\n",
       "                        <td id=\"T_3b50f_row5_col5\" class=\"data row5 col5\" >0.6162</td>\n",
       "                        <td id=\"T_3b50f_row5_col6\" class=\"data row5 col6\" >0.6316</td>\n",
       "            </tr>\n",
       "            <tr>\n",
       "                        <th id=\"T_3b50f_level0_row6\" class=\"row_heading level0 row6\" >6</th>\n",
       "                        <td id=\"T_3b50f_row6_col0\" class=\"data row6 col0\" >0.9713</td>\n",
       "                        <td id=\"T_3b50f_row6_col1\" class=\"data row6 col1\" >0.9521</td>\n",
       "                        <td id=\"T_3b50f_row6_col2\" class=\"data row6 col2\" >0.4783</td>\n",
       "                        <td id=\"T_3b50f_row6_col3\" class=\"data row6 col3\" >0.9167</td>\n",
       "                        <td id=\"T_3b50f_row6_col4\" class=\"data row6 col4\" >0.6286</td>\n",
       "                        <td id=\"T_3b50f_row6_col5\" class=\"data row6 col5\" >0.6152</td>\n",
       "                        <td id=\"T_3b50f_row6_col6\" class=\"data row6 col6\" >0.6506</td>\n",
       "            </tr>\n",
       "            <tr>\n",
       "                        <th id=\"T_3b50f_level0_row7\" class=\"row_heading level0 row7\" >7</th>\n",
       "                        <td id=\"T_3b50f_row7_col0\" class=\"data row7 col0\" >0.9691</td>\n",
       "                        <td id=\"T_3b50f_row7_col1\" class=\"data row7 col1\" >0.9296</td>\n",
       "                        <td id=\"T_3b50f_row7_col2\" class=\"data row7 col2\" >0.3913</td>\n",
       "                        <td id=\"T_3b50f_row7_col3\" class=\"data row7 col3\" >1.0000</td>\n",
       "                        <td id=\"T_3b50f_row7_col4\" class=\"data row7 col4\" >0.5625</td>\n",
       "                        <td id=\"T_3b50f_row7_col5\" class=\"data row7 col5\" >0.5496</td>\n",
       "                        <td id=\"T_3b50f_row7_col6\" class=\"data row7 col6\" >0.6156</td>\n",
       "            </tr>\n",
       "            <tr>\n",
       "                        <th id=\"T_3b50f_level0_row8\" class=\"row_heading level0 row8\" >8</th>\n",
       "                        <td id=\"T_3b50f_row8_col0\" class=\"data row8 col0\" >0.9735</td>\n",
       "                        <td id=\"T_3b50f_row8_col1\" class=\"data row8 col1\" >0.9741</td>\n",
       "                        <td id=\"T_3b50f_row8_col2\" class=\"data row8 col2\" >0.4783</td>\n",
       "                        <td id=\"T_3b50f_row8_col3\" class=\"data row8 col3\" >1.0000</td>\n",
       "                        <td id=\"T_3b50f_row8_col4\" class=\"data row8 col4\" >0.6471</td>\n",
       "                        <td id=\"T_3b50f_row8_col5\" class=\"data row8 col5\" >0.6351</td>\n",
       "                        <td id=\"T_3b50f_row8_col6\" class=\"data row8 col6\" >0.6821</td>\n",
       "            </tr>\n",
       "            <tr>\n",
       "                        <th id=\"T_3b50f_level0_row9\" class=\"row_heading level0 row9\" >9</th>\n",
       "                        <td id=\"T_3b50f_row9_col0\" class=\"data row9 col0\" >0.9625</td>\n",
       "                        <td id=\"T_3b50f_row9_col1\" class=\"data row9 col1\" >0.8835</td>\n",
       "                        <td id=\"T_3b50f_row9_col2\" class=\"data row9 col2\" >0.3043</td>\n",
       "                        <td id=\"T_3b50f_row9_col3\" class=\"data row9 col3\" >0.8750</td>\n",
       "                        <td id=\"T_3b50f_row9_col4\" class=\"data row9 col4\" >0.4516</td>\n",
       "                        <td id=\"T_3b50f_row9_col5\" class=\"data row9 col5\" >0.4369</td>\n",
       "                        <td id=\"T_3b50f_row9_col6\" class=\"data row9 col6\" >0.5034</td>\n",
       "            </tr>\n",
       "            <tr>\n",
       "                        <th id=\"T_3b50f_level0_row10\" class=\"row_heading level0 row10\" >Mean</th>\n",
       "                        <td id=\"T_3b50f_row10_col0\" class=\"data row10 col0\" >0.9693</td>\n",
       "                        <td id=\"T_3b50f_row10_col1\" class=\"data row10 col1\" >0.9358</td>\n",
       "                        <td id=\"T_3b50f_row10_col2\" class=\"data row10 col2\" >0.4237</td>\n",
       "                        <td id=\"T_3b50f_row10_col3\" class=\"data row10 col3\" >0.9481</td>\n",
       "                        <td id=\"T_3b50f_row10_col4\" class=\"data row10 col4\" >0.5803</td>\n",
       "                        <td id=\"T_3b50f_row10_col5\" class=\"data row10 col5\" >0.5670</td>\n",
       "                        <td id=\"T_3b50f_row10_col6\" class=\"data row10 col6\" >0.6195</td>\n",
       "            </tr>\n",
       "            <tr>\n",
       "                        <th id=\"T_3b50f_level0_row11\" class=\"row_heading level0 row11\" >SD</th>\n",
       "                        <td id=\"T_3b50f_row11_col0\" class=\"data row11 col0\" >0.0040</td>\n",
       "                        <td id=\"T_3b50f_row11_col1\" class=\"data row11 col1\" >0.0286</td>\n",
       "                        <td id=\"T_3b50f_row11_col2\" class=\"data row11 col2\" >0.0806</td>\n",
       "                        <td id=\"T_3b50f_row11_col3\" class=\"data row11 col3\" >0.0692</td>\n",
       "                        <td id=\"T_3b50f_row11_col4\" class=\"data row11 col4\" >0.0787</td>\n",
       "                        <td id=\"T_3b50f_row11_col5\" class=\"data row11 col5\" >0.0793</td>\n",
       "                        <td id=\"T_3b50f_row11_col6\" class=\"data row11 col6\" >0.0661</td>\n",
       "            </tr>\n",
       "    </tbody></table>"
      ],
      "text/plain": [
       "<pandas.io.formats.style.Styler at 0x17de79408b0>"
      ]
     },
     "metadata": {},
     "output_type": "display_data"
    }
   ],
   "source": [
    "catboost = create_model('catboost')"
   ]
  },
  {
   "cell_type": "markdown",
   "metadata": {
    "colab_type": "text",
    "id": "nSg3OUjuEQpu"
   },
   "source": [
    "### 8.3 Random Forest Classifier"
   ]
  },
  {
   "cell_type": "code",
   "execution_count": 11,
   "metadata": {
    "colab": {
     "base_uri": "https://localhost:8080/",
     "height": 392
    },
    "colab_type": "code",
    "id": "FGCoUiQpEQpz",
    "outputId": "212cb736-6dcb-4b77-e45b-14ad895bff43"
   },
   "outputs": [
    {
     "data": {
      "text/html": [
       "<style  type=\"text/css\" >\n",
       "#T_6e7de_row10_col0,#T_6e7de_row10_col1,#T_6e7de_row10_col2,#T_6e7de_row10_col3,#T_6e7de_row10_col4,#T_6e7de_row10_col5,#T_6e7de_row10_col6{\n",
       "            background:  yellow;\n",
       "        }</style><table id=\"T_6e7de_\" ><thead>    <tr>        <th class=\"blank level0\" ></th>        <th class=\"col_heading level0 col0\" >Accuracy</th>        <th class=\"col_heading level0 col1\" >AUC</th>        <th class=\"col_heading level0 col2\" >Recall</th>        <th class=\"col_heading level0 col3\" >Prec.</th>        <th class=\"col_heading level0 col4\" >F1</th>        <th class=\"col_heading level0 col5\" >Kappa</th>        <th class=\"col_heading level0 col6\" >MCC</th>    </tr></thead><tbody>\n",
       "                <tr>\n",
       "                        <th id=\"T_6e7de_level0_row0\" class=\"row_heading level0 row0\" >0</th>\n",
       "                        <td id=\"T_6e7de_row0_col0\" class=\"data row0 col0\" >0.9537</td>\n",
       "                        <td id=\"T_6e7de_row0_col1\" class=\"data row0 col1\" >0.8226</td>\n",
       "                        <td id=\"T_6e7de_row0_col2\" class=\"data row0 col2\" >0.0870</td>\n",
       "                        <td id=\"T_6e7de_row0_col3\" class=\"data row0 col3\" >1.0000</td>\n",
       "                        <td id=\"T_6e7de_row0_col4\" class=\"data row0 col4\" >0.1600</td>\n",
       "                        <td id=\"T_6e7de_row0_col5\" class=\"data row0 col5\" >0.1531</td>\n",
       "                        <td id=\"T_6e7de_row0_col6\" class=\"data row0 col6\" >0.2880</td>\n",
       "            </tr>\n",
       "            <tr>\n",
       "                        <th id=\"T_6e7de_level0_row1\" class=\"row_heading level0 row1\" >1</th>\n",
       "                        <td id=\"T_6e7de_row1_col0\" class=\"data row1 col0\" >0.9515</td>\n",
       "                        <td id=\"T_6e7de_row1_col1\" class=\"data row1 col1\" >0.9103</td>\n",
       "                        <td id=\"T_6e7de_row1_col2\" class=\"data row1 col2\" >0.0435</td>\n",
       "                        <td id=\"T_6e7de_row1_col3\" class=\"data row1 col3\" >1.0000</td>\n",
       "                        <td id=\"T_6e7de_row1_col4\" class=\"data row1 col4\" >0.0833</td>\n",
       "                        <td id=\"T_6e7de_row1_col5\" class=\"data row1 col5\" >0.0794</td>\n",
       "                        <td id=\"T_6e7de_row1_col6\" class=\"data row1 col6\" >0.2034</td>\n",
       "            </tr>\n",
       "            <tr>\n",
       "                        <th id=\"T_6e7de_level0_row2\" class=\"row_heading level0 row2\" >2</th>\n",
       "                        <td id=\"T_6e7de_row2_col0\" class=\"data row2 col0\" >0.9559</td>\n",
       "                        <td id=\"T_6e7de_row2_col1\" class=\"data row2 col1\" >0.8863</td>\n",
       "                        <td id=\"T_6e7de_row2_col2\" class=\"data row2 col2\" >0.1304</td>\n",
       "                        <td id=\"T_6e7de_row2_col3\" class=\"data row2 col3\" >1.0000</td>\n",
       "                        <td id=\"T_6e7de_row2_col4\" class=\"data row2 col4\" >0.2308</td>\n",
       "                        <td id=\"T_6e7de_row2_col5\" class=\"data row2 col5\" >0.2217</td>\n",
       "                        <td id=\"T_6e7de_row2_col6\" class=\"data row2 col6\" >0.3531</td>\n",
       "            </tr>\n",
       "            <tr>\n",
       "                        <th id=\"T_6e7de_level0_row3\" class=\"row_heading level0 row3\" >3</th>\n",
       "                        <td id=\"T_6e7de_row3_col0\" class=\"data row3 col0\" >0.9604</td>\n",
       "                        <td id=\"T_6e7de_row3_col1\" class=\"data row3 col1\" >0.9581</td>\n",
       "                        <td id=\"T_6e7de_row3_col2\" class=\"data row3 col2\" >0.2174</td>\n",
       "                        <td id=\"T_6e7de_row3_col3\" class=\"data row3 col3\" >1.0000</td>\n",
       "                        <td id=\"T_6e7de_row3_col4\" class=\"data row3 col4\" >0.3571</td>\n",
       "                        <td id=\"T_6e7de_row3_col5\" class=\"data row3 col5\" >0.3453</td>\n",
       "                        <td id=\"T_6e7de_row3_col6\" class=\"data row3 col6\" >0.4568</td>\n",
       "            </tr>\n",
       "            <tr>\n",
       "                        <th id=\"T_6e7de_level0_row4\" class=\"row_heading level0 row4\" >4</th>\n",
       "                        <td id=\"T_6e7de_row4_col0\" class=\"data row4 col0\" >0.9471</td>\n",
       "                        <td id=\"T_6e7de_row4_col1\" class=\"data row4 col1\" >0.8209</td>\n",
       "                        <td id=\"T_6e7de_row4_col2\" class=\"data row4 col2\" >0.0417</td>\n",
       "                        <td id=\"T_6e7de_row4_col3\" class=\"data row4 col3\" >0.5000</td>\n",
       "                        <td id=\"T_6e7de_row4_col4\" class=\"data row4 col4\" >0.0769</td>\n",
       "                        <td id=\"T_6e7de_row4_col5\" class=\"data row4 col5\" >0.0694</td>\n",
       "                        <td id=\"T_6e7de_row4_col6\" class=\"data row4 col6\" >0.1329</td>\n",
       "            </tr>\n",
       "            <tr>\n",
       "                        <th id=\"T_6e7de_level0_row5\" class=\"row_heading level0 row5\" >5</th>\n",
       "                        <td id=\"T_6e7de_row5_col0\" class=\"data row5 col0\" >0.9558</td>\n",
       "                        <td id=\"T_6e7de_row5_col1\" class=\"data row5 col1\" >0.9169</td>\n",
       "                        <td id=\"T_6e7de_row5_col2\" class=\"data row5 col2\" >0.1739</td>\n",
       "                        <td id=\"T_6e7de_row5_col3\" class=\"data row5 col3\" >0.8000</td>\n",
       "                        <td id=\"T_6e7de_row5_col4\" class=\"data row5 col4\" >0.2857</td>\n",
       "                        <td id=\"T_6e7de_row5_col5\" class=\"data row5 col5\" >0.2725</td>\n",
       "                        <td id=\"T_6e7de_row5_col6\" class=\"data row5 col6\" >0.3605</td>\n",
       "            </tr>\n",
       "            <tr>\n",
       "                        <th id=\"T_6e7de_level0_row6\" class=\"row_heading level0 row6\" >6</th>\n",
       "                        <td id=\"T_6e7de_row6_col0\" class=\"data row6 col0\" >0.9581</td>\n",
       "                        <td id=\"T_6e7de_row6_col1\" class=\"data row6 col1\" >0.8688</td>\n",
       "                        <td id=\"T_6e7de_row6_col2\" class=\"data row6 col2\" >0.2174</td>\n",
       "                        <td id=\"T_6e7de_row6_col3\" class=\"data row6 col3\" >0.8333</td>\n",
       "                        <td id=\"T_6e7de_row6_col4\" class=\"data row6 col4\" >0.3448</td>\n",
       "                        <td id=\"T_6e7de_row6_col5\" class=\"data row6 col5\" >0.3308</td>\n",
       "                        <td id=\"T_6e7de_row6_col6\" class=\"data row6 col6\" >0.4130</td>\n",
       "            </tr>\n",
       "            <tr>\n",
       "                        <th id=\"T_6e7de_level0_row7\" class=\"row_heading level0 row7\" >7</th>\n",
       "                        <td id=\"T_6e7de_row7_col0\" class=\"data row7 col0\" >0.9514</td>\n",
       "                        <td id=\"T_6e7de_row7_col1\" class=\"data row7 col1\" >0.8756</td>\n",
       "                        <td id=\"T_6e7de_row7_col2\" class=\"data row7 col2\" >0.0870</td>\n",
       "                        <td id=\"T_6e7de_row7_col3\" class=\"data row7 col3\" >0.6667</td>\n",
       "                        <td id=\"T_6e7de_row7_col4\" class=\"data row7 col4\" >0.1538</td>\n",
       "                        <td id=\"T_6e7de_row7_col5\" class=\"data row7 col5\" >0.1438</td>\n",
       "                        <td id=\"T_6e7de_row7_col6\" class=\"data row7 col6\" >0.2291</td>\n",
       "            </tr>\n",
       "            <tr>\n",
       "                        <th id=\"T_6e7de_level0_row8\" class=\"row_heading level0 row8\" >8</th>\n",
       "                        <td id=\"T_6e7de_row8_col0\" class=\"data row8 col0\" >0.9536</td>\n",
       "                        <td id=\"T_6e7de_row8_col1\" class=\"data row8 col1\" >0.8708</td>\n",
       "                        <td id=\"T_6e7de_row8_col2\" class=\"data row8 col2\" >0.0870</td>\n",
       "                        <td id=\"T_6e7de_row8_col3\" class=\"data row8 col3\" >1.0000</td>\n",
       "                        <td id=\"T_6e7de_row8_col4\" class=\"data row8 col4\" >0.1600</td>\n",
       "                        <td id=\"T_6e7de_row8_col5\" class=\"data row8 col5\" >0.1531</td>\n",
       "                        <td id=\"T_6e7de_row8_col6\" class=\"data row8 col6\" >0.2879</td>\n",
       "            </tr>\n",
       "            <tr>\n",
       "                        <th id=\"T_6e7de_level0_row9\" class=\"row_heading level0 row9\" >9</th>\n",
       "                        <td id=\"T_6e7de_row9_col0\" class=\"data row9 col0\" >0.9514</td>\n",
       "                        <td id=\"T_6e7de_row9_col1\" class=\"data row9 col1\" >0.8460</td>\n",
       "                        <td id=\"T_6e7de_row9_col2\" class=\"data row9 col2\" >0.1304</td>\n",
       "                        <td id=\"T_6e7de_row9_col3\" class=\"data row9 col3\" >0.6000</td>\n",
       "                        <td id=\"T_6e7de_row9_col4\" class=\"data row9 col4\" >0.2143</td>\n",
       "                        <td id=\"T_6e7de_row9_col5\" class=\"data row9 col5\" >0.1998</td>\n",
       "                        <td id=\"T_6e7de_row9_col6\" class=\"data row9 col6\" >0.2643</td>\n",
       "            </tr>\n",
       "            <tr>\n",
       "                        <th id=\"T_6e7de_level0_row10\" class=\"row_heading level0 row10\" >Mean</th>\n",
       "                        <td id=\"T_6e7de_row10_col0\" class=\"data row10 col0\" >0.9539</td>\n",
       "                        <td id=\"T_6e7de_row10_col1\" class=\"data row10 col1\" >0.8776</td>\n",
       "                        <td id=\"T_6e7de_row10_col2\" class=\"data row10 col2\" >0.1216</td>\n",
       "                        <td id=\"T_6e7de_row10_col3\" class=\"data row10 col3\" >0.8400</td>\n",
       "                        <td id=\"T_6e7de_row10_col4\" class=\"data row10 col4\" >0.2067</td>\n",
       "                        <td id=\"T_6e7de_row10_col5\" class=\"data row10 col5\" >0.1969</td>\n",
       "                        <td id=\"T_6e7de_row10_col6\" class=\"data row10 col6\" >0.2989</td>\n",
       "            </tr>\n",
       "            <tr>\n",
       "                        <th id=\"T_6e7de_level0_row11\" class=\"row_heading level0 row11\" >SD</th>\n",
       "                        <td id=\"T_6e7de_row11_col0\" class=\"data row11 col0\" >0.0036</td>\n",
       "                        <td id=\"T_6e7de_row11_col1\" class=\"data row11 col1\" >0.0407</td>\n",
       "                        <td id=\"T_6e7de_row11_col2\" class=\"data row11 col2\" >0.0611</td>\n",
       "                        <td id=\"T_6e7de_row11_col3\" class=\"data row11 col3\" >0.1825</td>\n",
       "                        <td id=\"T_6e7de_row11_col4\" class=\"data row11 col4\" >0.0937</td>\n",
       "                        <td id=\"T_6e7de_row11_col5\" class=\"data row11 col5\" >0.0911</td>\n",
       "                        <td id=\"T_6e7de_row11_col6\" class=\"data row11 col6\" >0.0936</td>\n",
       "            </tr>\n",
       "    </tbody></table>"
      ],
      "text/plain": [
       "<pandas.io.formats.style.Styler at 0x17de83b5ac0>"
      ]
     },
     "metadata": {},
     "output_type": "display_data"
    }
   ],
   "source": [
    "rf = create_model('rf')"
   ]
  },
  {
   "cell_type": "markdown",
   "metadata": {
    "colab_type": "text",
    "id": "z6F3Fk7TEQp8"
   },
   "source": [
    "Notice that the mean score of all models matches with the score printed in `compare_models()`. This is because the metrics printed in the `compare_models()` score grid are the average scores across all CV folds. Similar to `compare_models()`, if you want to change the fold parameter from the default value of 10 to a different value then you can use the `fold` parameter. For Example: `create_model('dt', fold = 5)` will create a Decision Tree Classifier using 5 fold stratified CV."
   ]
  },
  {
   "cell_type": "markdown",
   "metadata": {
    "colab_type": "text",
    "id": "XvpjzbGQEQqB"
   },
   "source": [
    "# 9.0 Tune a Model"
   ]
  },
  {
   "cell_type": "markdown",
   "metadata": {
    "colab_type": "text",
    "id": "nc_GgksHEQqE"
   },
   "source": [
    "When a model is created using the `create_model()` function it uses the default hyperparameters to train the model. In order to tune hyperparameters, the `tune_model()` function is used. This function automatically tunes the hyperparameters of a model using `Random Grid Search` on a pre-defined search space. The output prints a score grid that shows Accuracy, AUC, Recall, Precision, F1, Kappa, and MCC by fold for the best model. To use the custom search grid, you can pass `custom_grid` parameter in the `tune_model` function. <br/>\n",
    "<br/>"
   ]
  },
  {
   "cell_type": "markdown",
   "metadata": {
    "colab_type": "text",
    "id": "BQlMCxrUEQqG"
   },
   "source": [
    "### 9.1 Logistic Regression\tClassifier"
   ]
  },
  {
   "cell_type": "code",
   "execution_count": 12,
   "metadata": {
    "colab": {
     "base_uri": "https://localhost:8080/",
     "height": 392
    },
    "colab_type": "code",
    "id": "of46aj6vEQqJ",
    "outputId": "26f7f708-739a-489b-bb76-b33e0a800362"
   },
   "outputs": [
    {
     "data": {
      "text/html": [
       "<style  type=\"text/css\" >\n",
       "#T_96ecd_row10_col0,#T_96ecd_row10_col1,#T_96ecd_row10_col2,#T_96ecd_row10_col3,#T_96ecd_row10_col4,#T_96ecd_row10_col5,#T_96ecd_row10_col6{\n",
       "            background:  yellow;\n",
       "        }</style><table id=\"T_96ecd_\" ><thead>    <tr>        <th class=\"blank level0\" ></th>        <th class=\"col_heading level0 col0\" >Accuracy</th>        <th class=\"col_heading level0 col1\" >AUC</th>        <th class=\"col_heading level0 col2\" >Recall</th>        <th class=\"col_heading level0 col3\" >Prec.</th>        <th class=\"col_heading level0 col4\" >F1</th>        <th class=\"col_heading level0 col5\" >Kappa</th>        <th class=\"col_heading level0 col6\" >MCC</th>    </tr></thead><tbody>\n",
       "                <tr>\n",
       "                        <th id=\"T_96ecd_level0_row0\" class=\"row_heading level0 row0\" >0</th>\n",
       "                        <td id=\"T_96ecd_row0_col0\" class=\"data row0 col0\" >0.9493</td>\n",
       "                        <td id=\"T_96ecd_row0_col1\" class=\"data row0 col1\" >0.6053</td>\n",
       "                        <td id=\"T_96ecd_row0_col2\" class=\"data row0 col2\" >0.0000</td>\n",
       "                        <td id=\"T_96ecd_row0_col3\" class=\"data row0 col3\" >0.0000</td>\n",
       "                        <td id=\"T_96ecd_row0_col4\" class=\"data row0 col4\" >0.0000</td>\n",
       "                        <td id=\"T_96ecd_row0_col5\" class=\"data row0 col5\" >0.0000</td>\n",
       "                        <td id=\"T_96ecd_row0_col6\" class=\"data row0 col6\" >0.0000</td>\n",
       "            </tr>\n",
       "            <tr>\n",
       "                        <th id=\"T_96ecd_level0_row1\" class=\"row_heading level0 row1\" >1</th>\n",
       "                        <td id=\"T_96ecd_row1_col0\" class=\"data row1 col0\" >0.9493</td>\n",
       "                        <td id=\"T_96ecd_row1_col1\" class=\"data row1 col1\" >0.6301</td>\n",
       "                        <td id=\"T_96ecd_row1_col2\" class=\"data row1 col2\" >0.0000</td>\n",
       "                        <td id=\"T_96ecd_row1_col3\" class=\"data row1 col3\" >0.0000</td>\n",
       "                        <td id=\"T_96ecd_row1_col4\" class=\"data row1 col4\" >0.0000</td>\n",
       "                        <td id=\"T_96ecd_row1_col5\" class=\"data row1 col5\" >0.0000</td>\n",
       "                        <td id=\"T_96ecd_row1_col6\" class=\"data row1 col6\" >0.0000</td>\n",
       "            </tr>\n",
       "            <tr>\n",
       "                        <th id=\"T_96ecd_level0_row2\" class=\"row_heading level0 row2\" >2</th>\n",
       "                        <td id=\"T_96ecd_row2_col0\" class=\"data row2 col0\" >0.9493</td>\n",
       "                        <td id=\"T_96ecd_row2_col1\" class=\"data row2 col1\" >0.5427</td>\n",
       "                        <td id=\"T_96ecd_row2_col2\" class=\"data row2 col2\" >0.0000</td>\n",
       "                        <td id=\"T_96ecd_row2_col3\" class=\"data row2 col3\" >0.0000</td>\n",
       "                        <td id=\"T_96ecd_row2_col4\" class=\"data row2 col4\" >0.0000</td>\n",
       "                        <td id=\"T_96ecd_row2_col5\" class=\"data row2 col5\" >0.0000</td>\n",
       "                        <td id=\"T_96ecd_row2_col6\" class=\"data row2 col6\" >0.0000</td>\n",
       "            </tr>\n",
       "            <tr>\n",
       "                        <th id=\"T_96ecd_level0_row3\" class=\"row_heading level0 row3\" >3</th>\n",
       "                        <td id=\"T_96ecd_row3_col0\" class=\"data row3 col0\" >0.9449</td>\n",
       "                        <td id=\"T_96ecd_row3_col1\" class=\"data row3 col1\" >0.5613</td>\n",
       "                        <td id=\"T_96ecd_row3_col2\" class=\"data row3 col2\" >0.0000</td>\n",
       "                        <td id=\"T_96ecd_row3_col3\" class=\"data row3 col3\" >0.0000</td>\n",
       "                        <td id=\"T_96ecd_row3_col4\" class=\"data row3 col4\" >0.0000</td>\n",
       "                        <td id=\"T_96ecd_row3_col5\" class=\"data row3 col5\" >-0.0082</td>\n",
       "                        <td id=\"T_96ecd_row3_col6\" class=\"data row3 col6\" >-0.0154</td>\n",
       "            </tr>\n",
       "            <tr>\n",
       "                        <th id=\"T_96ecd_level0_row4\" class=\"row_heading level0 row4\" >4</th>\n",
       "                        <td id=\"T_96ecd_row4_col0\" class=\"data row4 col0\" >0.9449</td>\n",
       "                        <td id=\"T_96ecd_row4_col1\" class=\"data row4 col1\" >0.4478</td>\n",
       "                        <td id=\"T_96ecd_row4_col2\" class=\"data row4 col2\" >0.0000</td>\n",
       "                        <td id=\"T_96ecd_row4_col3\" class=\"data row4 col3\" >0.0000</td>\n",
       "                        <td id=\"T_96ecd_row4_col4\" class=\"data row4 col4\" >0.0000</td>\n",
       "                        <td id=\"T_96ecd_row4_col5\" class=\"data row4 col5\" >-0.0042</td>\n",
       "                        <td id=\"T_96ecd_row4_col6\" class=\"data row4 col6\" >-0.0111</td>\n",
       "            </tr>\n",
       "            <tr>\n",
       "                        <th id=\"T_96ecd_level0_row5\" class=\"row_heading level0 row5\" >5</th>\n",
       "                        <td id=\"T_96ecd_row5_col0\" class=\"data row5 col0\" >0.9514</td>\n",
       "                        <td id=\"T_96ecd_row5_col1\" class=\"data row5 col1\" >0.4812</td>\n",
       "                        <td id=\"T_96ecd_row5_col2\" class=\"data row5 col2\" >0.0870</td>\n",
       "                        <td id=\"T_96ecd_row5_col3\" class=\"data row5 col3\" >0.6667</td>\n",
       "                        <td id=\"T_96ecd_row5_col4\" class=\"data row5 col4\" >0.1538</td>\n",
       "                        <td id=\"T_96ecd_row5_col5\" class=\"data row5 col5\" >0.1438</td>\n",
       "                        <td id=\"T_96ecd_row5_col6\" class=\"data row5 col6\" >0.2291</td>\n",
       "            </tr>\n",
       "            <tr>\n",
       "                        <th id=\"T_96ecd_level0_row6\" class=\"row_heading level0 row6\" >6</th>\n",
       "                        <td id=\"T_96ecd_row6_col0\" class=\"data row6 col0\" >0.9470</td>\n",
       "                        <td id=\"T_96ecd_row6_col1\" class=\"data row6 col1\" >0.6010</td>\n",
       "                        <td id=\"T_96ecd_row6_col2\" class=\"data row6 col2\" >0.0000</td>\n",
       "                        <td id=\"T_96ecd_row6_col3\" class=\"data row6 col3\" >0.0000</td>\n",
       "                        <td id=\"T_96ecd_row6_col4\" class=\"data row6 col4\" >0.0000</td>\n",
       "                        <td id=\"T_96ecd_row6_col5\" class=\"data row6 col5\" >-0.0042</td>\n",
       "                        <td id=\"T_96ecd_row6_col6\" class=\"data row6 col6\" >-0.0109</td>\n",
       "            </tr>\n",
       "            <tr>\n",
       "                        <th id=\"T_96ecd_level0_row7\" class=\"row_heading level0 row7\" >7</th>\n",
       "                        <td id=\"T_96ecd_row7_col0\" class=\"data row7 col0\" >0.9426</td>\n",
       "                        <td id=\"T_96ecd_row7_col1\" class=\"data row7 col1\" >0.5355</td>\n",
       "                        <td id=\"T_96ecd_row7_col2\" class=\"data row7 col2\" >0.0435</td>\n",
       "                        <td id=\"T_96ecd_row7_col3\" class=\"data row7 col3\" >0.2000</td>\n",
       "                        <td id=\"T_96ecd_row7_col4\" class=\"data row7 col4\" >0.0714</td>\n",
       "                        <td id=\"T_96ecd_row7_col5\" class=\"data row7 col5\" >0.0543</td>\n",
       "                        <td id=\"T_96ecd_row7_col6\" class=\"data row7 col6\" >0.0718</td>\n",
       "            </tr>\n",
       "            <tr>\n",
       "                        <th id=\"T_96ecd_level0_row8\" class=\"row_heading level0 row8\" >8</th>\n",
       "                        <td id=\"T_96ecd_row8_col0\" class=\"data row8 col0\" >0.9492</td>\n",
       "                        <td id=\"T_96ecd_row8_col1\" class=\"data row8 col1\" >0.6547</td>\n",
       "                        <td id=\"T_96ecd_row8_col2\" class=\"data row8 col2\" >0.0435</td>\n",
       "                        <td id=\"T_96ecd_row8_col3\" class=\"data row8 col3\" >0.5000</td>\n",
       "                        <td id=\"T_96ecd_row8_col4\" class=\"data row8 col4\" >0.0800</td>\n",
       "                        <td id=\"T_96ecd_row8_col5\" class=\"data row8 col5\" >0.0725</td>\n",
       "                        <td id=\"T_96ecd_row8_col6\" class=\"data row8 col6\" >0.1363</td>\n",
       "            </tr>\n",
       "            <tr>\n",
       "                        <th id=\"T_96ecd_level0_row9\" class=\"row_heading level0 row9\" >9</th>\n",
       "                        <td id=\"T_96ecd_row9_col0\" class=\"data row9 col0\" >0.9448</td>\n",
       "                        <td id=\"T_96ecd_row9_col1\" class=\"data row9 col1\" >0.5042</td>\n",
       "                        <td id=\"T_96ecd_row9_col2\" class=\"data row9 col2\" >0.0000</td>\n",
       "                        <td id=\"T_96ecd_row9_col3\" class=\"data row9 col3\" >0.0000</td>\n",
       "                        <td id=\"T_96ecd_row9_col4\" class=\"data row9 col4\" >0.0000</td>\n",
       "                        <td id=\"T_96ecd_row9_col5\" class=\"data row9 col5\" >-0.0082</td>\n",
       "                        <td id=\"T_96ecd_row9_col6\" class=\"data row9 col6\" >-0.0154</td>\n",
       "            </tr>\n",
       "            <tr>\n",
       "                        <th id=\"T_96ecd_level0_row10\" class=\"row_heading level0 row10\" >Mean</th>\n",
       "                        <td id=\"T_96ecd_row10_col0\" class=\"data row10 col0\" >0.9473</td>\n",
       "                        <td id=\"T_96ecd_row10_col1\" class=\"data row10 col1\" >0.5564</td>\n",
       "                        <td id=\"T_96ecd_row10_col2\" class=\"data row10 col2\" >0.0174</td>\n",
       "                        <td id=\"T_96ecd_row10_col3\" class=\"data row10 col3\" >0.1367</td>\n",
       "                        <td id=\"T_96ecd_row10_col4\" class=\"data row10 col4\" >0.0305</td>\n",
       "                        <td id=\"T_96ecd_row10_col5\" class=\"data row10 col5\" >0.0246</td>\n",
       "                        <td id=\"T_96ecd_row10_col6\" class=\"data row10 col6\" >0.0384</td>\n",
       "            </tr>\n",
       "            <tr>\n",
       "                        <th id=\"T_96ecd_level0_row11\" class=\"row_heading level0 row11\" >SD</th>\n",
       "                        <td id=\"T_96ecd_row11_col0\" class=\"data row11 col0\" >0.0027</td>\n",
       "                        <td id=\"T_96ecd_row11_col1\" class=\"data row11 col1\" >0.0635</td>\n",
       "                        <td id=\"T_96ecd_row11_col2\" class=\"data row11 col2\" >0.0288</td>\n",
       "                        <td id=\"T_96ecd_row11_col3\" class=\"data row11 col3\" >0.2340</td>\n",
       "                        <td id=\"T_96ecd_row11_col4\" class=\"data row11 col4\" >0.0508</td>\n",
       "                        <td id=\"T_96ecd_row11_col5\" class=\"data row11 col5\" >0.0480</td>\n",
       "                        <td id=\"T_96ecd_row11_col6\" class=\"data row11 col6\" >0.0788</td>\n",
       "            </tr>\n",
       "    </tbody></table>"
      ],
      "text/plain": [
       "<pandas.io.formats.style.Styler at 0x17de75c4130>"
      ]
     },
     "metadata": {},
     "output_type": "display_data"
    }
   ],
   "source": [
    "tuned_lr = tune_model(lr)"
   ]
  },
  {
   "cell_type": "code",
   "execution_count": 13,
   "metadata": {
    "colab": {},
    "colab_type": "code",
    "id": "__anDkttEQqV",
    "outputId": "7cf46ace-012a-4131-b8b8-370f9d4a63cb"
   },
   "outputs": [
    {
     "name": "stdout",
     "output_type": "stream",
     "text": [
      "LogisticRegression(C=8.174, class_weight={}, dual=False, fit_intercept=True,\n",
      "                   intercept_scaling=1, l1_ratio=None, max_iter=1000,\n",
      "                   multi_class='auto', n_jobs=None, penalty='l2',\n",
      "                   random_state=2021, solver='lbfgs', tol=0.0001, verbose=0,\n",
      "                   warm_start=False)\n"
     ]
    }
   ],
   "source": [
    "#tuned model object is stored in the variable 'tuned_dt'. \n",
    "print(tuned_lr)"
   ]
  },
  {
   "cell_type": "markdown",
   "metadata": {
    "colab_type": "text",
    "id": "CD-f0delEQqq"
   },
   "source": [
    "### 9.2 catboost Classifier"
   ]
  },
  {
   "cell_type": "code",
   "execution_count": 14,
   "metadata": {
    "colab": {
     "base_uri": "https://localhost:8080/",
     "height": 392
    },
    "colab_type": "code",
    "id": "xN1nYwFXEQqv",
    "outputId": "e4ab669d-bee0-4a9d-f5c7-2ed07ec613b9"
   },
   "outputs": [
    {
     "data": {
      "text/html": [
       "<style  type=\"text/css\" >\n",
       "#T_a1d15_row10_col0,#T_a1d15_row10_col1,#T_a1d15_row10_col2,#T_a1d15_row10_col3,#T_a1d15_row10_col4,#T_a1d15_row10_col5,#T_a1d15_row10_col6{\n",
       "            background:  yellow;\n",
       "        }</style><table id=\"T_a1d15_\" ><thead>    <tr>        <th class=\"blank level0\" ></th>        <th class=\"col_heading level0 col0\" >Accuracy</th>        <th class=\"col_heading level0 col1\" >AUC</th>        <th class=\"col_heading level0 col2\" >Recall</th>        <th class=\"col_heading level0 col3\" >Prec.</th>        <th class=\"col_heading level0 col4\" >F1</th>        <th class=\"col_heading level0 col5\" >Kappa</th>        <th class=\"col_heading level0 col6\" >MCC</th>    </tr></thead><tbody>\n",
       "                <tr>\n",
       "                        <th id=\"T_a1d15_level0_row0\" class=\"row_heading level0 row0\" >0</th>\n",
       "                        <td id=\"T_a1d15_row0_col0\" class=\"data row0 col0\" >0.9626</td>\n",
       "                        <td id=\"T_a1d15_row0_col1\" class=\"data row0 col1\" >0.8914</td>\n",
       "                        <td id=\"T_a1d15_row0_col2\" class=\"data row0 col2\" >0.3478</td>\n",
       "                        <td id=\"T_a1d15_row0_col3\" class=\"data row0 col3\" >0.8000</td>\n",
       "                        <td id=\"T_a1d15_row0_col4\" class=\"data row0 col4\" >0.4848</td>\n",
       "                        <td id=\"T_a1d15_row0_col5\" class=\"data row0 col5\" >0.4685</td>\n",
       "                        <td id=\"T_a1d15_row0_col6\" class=\"data row0 col6\" >0.5128</td>\n",
       "            </tr>\n",
       "            <tr>\n",
       "                        <th id=\"T_a1d15_level0_row1\" class=\"row_heading level0 row1\" >1</th>\n",
       "                        <td id=\"T_a1d15_row1_col0\" class=\"data row1 col0\" >0.9714</td>\n",
       "                        <td id=\"T_a1d15_row1_col1\" class=\"data row1 col1\" >0.9300</td>\n",
       "                        <td id=\"T_a1d15_row1_col2\" class=\"data row1 col2\" >0.4348</td>\n",
       "                        <td id=\"T_a1d15_row1_col3\" class=\"data row1 col3\" >1.0000</td>\n",
       "                        <td id=\"T_a1d15_row1_col4\" class=\"data row1 col4\" >0.6061</td>\n",
       "                        <td id=\"T_a1d15_row1_col5\" class=\"data row1 col5\" >0.5936</td>\n",
       "                        <td id=\"T_a1d15_row1_col6\" class=\"data row1 col6\" >0.6497</td>\n",
       "            </tr>\n",
       "            <tr>\n",
       "                        <th id=\"T_a1d15_level0_row2\" class=\"row_heading level0 row2\" >2</th>\n",
       "                        <td id=\"T_a1d15_row2_col0\" class=\"data row2 col0\" >0.9692</td>\n",
       "                        <td id=\"T_a1d15_row2_col1\" class=\"data row2 col1\" >0.8755</td>\n",
       "                        <td id=\"T_a1d15_row2_col2\" class=\"data row2 col2\" >0.4348</td>\n",
       "                        <td id=\"T_a1d15_row2_col3\" class=\"data row2 col3\" >0.9091</td>\n",
       "                        <td id=\"T_a1d15_row2_col4\" class=\"data row2 col4\" >0.5882</td>\n",
       "                        <td id=\"T_a1d15_row2_col5\" class=\"data row2 col5\" >0.5743</td>\n",
       "                        <td id=\"T_a1d15_row2_col6\" class=\"data row2 col6\" >0.6168</td>\n",
       "            </tr>\n",
       "            <tr>\n",
       "                        <th id=\"T_a1d15_level0_row3\" class=\"row_heading level0 row3\" >3</th>\n",
       "                        <td id=\"T_a1d15_row3_col0\" class=\"data row3 col0\" >0.9670</td>\n",
       "                        <td id=\"T_a1d15_row3_col1\" class=\"data row3 col1\" >0.9270</td>\n",
       "                        <td id=\"T_a1d15_row3_col2\" class=\"data row3 col2\" >0.5217</td>\n",
       "                        <td id=\"T_a1d15_row3_col3\" class=\"data row3 col3\" >0.7500</td>\n",
       "                        <td id=\"T_a1d15_row3_col4\" class=\"data row3 col4\" >0.6154</td>\n",
       "                        <td id=\"T_a1d15_row3_col5\" class=\"data row3 col5\" >0.5987</td>\n",
       "                        <td id=\"T_a1d15_row3_col6\" class=\"data row3 col6\" >0.6095</td>\n",
       "            </tr>\n",
       "            <tr>\n",
       "                        <th id=\"T_a1d15_level0_row4\" class=\"row_heading level0 row4\" >4</th>\n",
       "                        <td id=\"T_a1d15_row4_col0\" class=\"data row4 col0\" >0.9736</td>\n",
       "                        <td id=\"T_a1d15_row4_col1\" class=\"data row4 col1\" >0.9391</td>\n",
       "                        <td id=\"T_a1d15_row4_col2\" class=\"data row4 col2\" >0.5417</td>\n",
       "                        <td id=\"T_a1d15_row4_col3\" class=\"data row4 col3\" >0.9286</td>\n",
       "                        <td id=\"T_a1d15_row4_col4\" class=\"data row4 col4\" >0.6842</td>\n",
       "                        <td id=\"T_a1d15_row4_col5\" class=\"data row4 col5\" >0.6714</td>\n",
       "                        <td id=\"T_a1d15_row4_col6\" class=\"data row4 col6\" >0.6981</td>\n",
       "            </tr>\n",
       "            <tr>\n",
       "                        <th id=\"T_a1d15_level0_row5\" class=\"row_heading level0 row5\" >5</th>\n",
       "                        <td id=\"T_a1d15_row5_col0\" class=\"data row5 col0\" >0.9735</td>\n",
       "                        <td id=\"T_a1d15_row5_col1\" class=\"data row5 col1\" >0.9223</td>\n",
       "                        <td id=\"T_a1d15_row5_col2\" class=\"data row5 col2\" >0.6087</td>\n",
       "                        <td id=\"T_a1d15_row5_col3\" class=\"data row5 col3\" >0.8235</td>\n",
       "                        <td id=\"T_a1d15_row5_col4\" class=\"data row5 col4\" >0.7000</td>\n",
       "                        <td id=\"T_a1d15_row5_col5\" class=\"data row5 col5\" >0.6865</td>\n",
       "                        <td id=\"T_a1d15_row5_col6\" class=\"data row5 col6\" >0.6951</td>\n",
       "            </tr>\n",
       "            <tr>\n",
       "                        <th id=\"T_a1d15_level0_row6\" class=\"row_heading level0 row6\" >6</th>\n",
       "                        <td id=\"T_a1d15_row6_col0\" class=\"data row6 col0\" >0.9757</td>\n",
       "                        <td id=\"T_a1d15_row6_col1\" class=\"data row6 col1\" >0.9446</td>\n",
       "                        <td id=\"T_a1d15_row6_col2\" class=\"data row6 col2\" >0.6087</td>\n",
       "                        <td id=\"T_a1d15_row6_col3\" class=\"data row6 col3\" >0.8750</td>\n",
       "                        <td id=\"T_a1d15_row6_col4\" class=\"data row6 col4\" >0.7179</td>\n",
       "                        <td id=\"T_a1d15_row6_col5\" class=\"data row6 col5\" >0.7057</td>\n",
       "                        <td id=\"T_a1d15_row6_col6\" class=\"data row6 col6\" >0.7184</td>\n",
       "            </tr>\n",
       "            <tr>\n",
       "                        <th id=\"T_a1d15_level0_row7\" class=\"row_heading level0 row7\" >7</th>\n",
       "                        <td id=\"T_a1d15_row7_col0\" class=\"data row7 col0\" >0.9647</td>\n",
       "                        <td id=\"T_a1d15_row7_col1\" class=\"data row7 col1\" >0.9088</td>\n",
       "                        <td id=\"T_a1d15_row7_col2\" class=\"data row7 col2\" >0.3913</td>\n",
       "                        <td id=\"T_a1d15_row7_col3\" class=\"data row7 col3\" >0.8182</td>\n",
       "                        <td id=\"T_a1d15_row7_col4\" class=\"data row7 col4\" >0.5294</td>\n",
       "                        <td id=\"T_a1d15_row7_col5\" class=\"data row7 col5\" >0.5134</td>\n",
       "                        <td id=\"T_a1d15_row7_col6\" class=\"data row7 col6\" >0.5515</td>\n",
       "            </tr>\n",
       "            <tr>\n",
       "                        <th id=\"T_a1d15_level0_row8\" class=\"row_heading level0 row8\" >8</th>\n",
       "                        <td id=\"T_a1d15_row8_col0\" class=\"data row8 col0\" >0.9713</td>\n",
       "                        <td id=\"T_a1d15_row8_col1\" class=\"data row8 col1\" >0.9496</td>\n",
       "                        <td id=\"T_a1d15_row8_col2\" class=\"data row8 col2\" >0.4783</td>\n",
       "                        <td id=\"T_a1d15_row8_col3\" class=\"data row8 col3\" >0.9167</td>\n",
       "                        <td id=\"T_a1d15_row8_col4\" class=\"data row8 col4\" >0.6286</td>\n",
       "                        <td id=\"T_a1d15_row8_col5\" class=\"data row8 col5\" >0.6152</td>\n",
       "                        <td id=\"T_a1d15_row8_col6\" class=\"data row8 col6\" >0.6506</td>\n",
       "            </tr>\n",
       "            <tr>\n",
       "                        <th id=\"T_a1d15_level0_row9\" class=\"row_heading level0 row9\" >9</th>\n",
       "                        <td id=\"T_a1d15_row9_col0\" class=\"data row9 col0\" >0.9625</td>\n",
       "                        <td id=\"T_a1d15_row9_col1\" class=\"data row9 col1\" >0.8595</td>\n",
       "                        <td id=\"T_a1d15_row9_col2\" class=\"data row9 col2\" >0.3478</td>\n",
       "                        <td id=\"T_a1d15_row9_col3\" class=\"data row9 col3\" >0.8000</td>\n",
       "                        <td id=\"T_a1d15_row9_col4\" class=\"data row9 col4\" >0.4848</td>\n",
       "                        <td id=\"T_a1d15_row9_col5\" class=\"data row9 col5\" >0.4685</td>\n",
       "                        <td id=\"T_a1d15_row9_col6\" class=\"data row9 col6\" >0.5128</td>\n",
       "            </tr>\n",
       "            <tr>\n",
       "                        <th id=\"T_a1d15_level0_row10\" class=\"row_heading level0 row10\" >Mean</th>\n",
       "                        <td id=\"T_a1d15_row10_col0\" class=\"data row10 col0\" >0.9691</td>\n",
       "                        <td id=\"T_a1d15_row10_col1\" class=\"data row10 col1\" >0.9148</td>\n",
       "                        <td id=\"T_a1d15_row10_col2\" class=\"data row10 col2\" >0.4716</td>\n",
       "                        <td id=\"T_a1d15_row10_col3\" class=\"data row10 col3\" >0.8621</td>\n",
       "                        <td id=\"T_a1d15_row10_col4\" class=\"data row10 col4\" >0.6040</td>\n",
       "                        <td id=\"T_a1d15_row10_col5\" class=\"data row10 col5\" >0.5896</td>\n",
       "                        <td id=\"T_a1d15_row10_col6\" class=\"data row10 col6\" >0.6215</td>\n",
       "            </tr>\n",
       "            <tr>\n",
       "                        <th id=\"T_a1d15_level0_row11\" class=\"row_heading level0 row11\" >SD</th>\n",
       "                        <td id=\"T_a1d15_row11_col0\" class=\"data row11 col0\" >0.0045</td>\n",
       "                        <td id=\"T_a1d15_row11_col1\" class=\"data row11 col1\" >0.0288</td>\n",
       "                        <td id=\"T_a1d15_row11_col2\" class=\"data row11 col2\" >0.0921</td>\n",
       "                        <td id=\"T_a1d15_row11_col3\" class=\"data row11 col3\" >0.0724</td>\n",
       "                        <td id=\"T_a1d15_row11_col4\" class=\"data row11 col4\" >0.0797</td>\n",
       "                        <td id=\"T_a1d15_row11_col5\" class=\"data row11 col5\" >0.0810</td>\n",
       "                        <td id=\"T_a1d15_row11_col6\" class=\"data row11 col6\" >0.0714</td>\n",
       "            </tr>\n",
       "    </tbody></table>"
      ],
      "text/plain": [
       "<pandas.io.formats.style.Styler at 0x17de749bbe0>"
      ]
     },
     "metadata": {},
     "output_type": "display_data"
    }
   ],
   "source": [
    "tuned_catboost = tune_model(catboost)\n",
    "# , custom_grid = {'n_neighbors' : np.arange(0,50,1)})"
   ]
  },
  {
   "cell_type": "code",
   "execution_count": 15,
   "metadata": {},
   "outputs": [
    {
     "name": "stdout",
     "output_type": "stream",
     "text": [
      "<catboost.core.CatBoostClassifier object at 0x0000017DE794DDC0>\n"
     ]
    }
   ],
   "source": [
    "print(tuned_catboost)"
   ]
  },
  {
   "cell_type": "markdown",
   "metadata": {
    "colab_type": "text",
    "id": "KO3zIfs-EQrA"
   },
   "source": [
    "### 9.3 Random Forest Classifier"
   ]
  },
  {
   "cell_type": "code",
   "execution_count": 16,
   "metadata": {
    "colab": {
     "base_uri": "https://localhost:8080/",
     "height": 392
    },
    "colab_type": "code",
    "id": "gmaIfnBMEQrE",
    "outputId": "a59cebfa-f81e-477c-f83c-e9443fd80b0f"
   },
   "outputs": [
    {
     "data": {
      "text/html": [
       "<style  type=\"text/css\" >\n",
       "#T_0bc4d_row10_col0,#T_0bc4d_row10_col1,#T_0bc4d_row10_col2,#T_0bc4d_row10_col3,#T_0bc4d_row10_col4,#T_0bc4d_row10_col5,#T_0bc4d_row10_col6{\n",
       "            background:  yellow;\n",
       "        }</style><table id=\"T_0bc4d_\" ><thead>    <tr>        <th class=\"blank level0\" ></th>        <th class=\"col_heading level0 col0\" >Accuracy</th>        <th class=\"col_heading level0 col1\" >AUC</th>        <th class=\"col_heading level0 col2\" >Recall</th>        <th class=\"col_heading level0 col3\" >Prec.</th>        <th class=\"col_heading level0 col4\" >F1</th>        <th class=\"col_heading level0 col5\" >Kappa</th>        <th class=\"col_heading level0 col6\" >MCC</th>    </tr></thead><tbody>\n",
       "                <tr>\n",
       "                        <th id=\"T_0bc4d_level0_row0\" class=\"row_heading level0 row0\" >0</th>\n",
       "                        <td id=\"T_0bc4d_row0_col0\" class=\"data row0 col0\" >0.9493</td>\n",
       "                        <td id=\"T_0bc4d_row0_col1\" class=\"data row0 col1\" >0.8621</td>\n",
       "                        <td id=\"T_0bc4d_row0_col2\" class=\"data row0 col2\" >0.0000</td>\n",
       "                        <td id=\"T_0bc4d_row0_col3\" class=\"data row0 col3\" >0.0000</td>\n",
       "                        <td id=\"T_0bc4d_row0_col4\" class=\"data row0 col4\" >0.0000</td>\n",
       "                        <td id=\"T_0bc4d_row0_col5\" class=\"data row0 col5\" >0.0000</td>\n",
       "                        <td id=\"T_0bc4d_row0_col6\" class=\"data row0 col6\" >0.0000</td>\n",
       "            </tr>\n",
       "            <tr>\n",
       "                        <th id=\"T_0bc4d_level0_row1\" class=\"row_heading level0 row1\" >1</th>\n",
       "                        <td id=\"T_0bc4d_row1_col0\" class=\"data row1 col0\" >0.9493</td>\n",
       "                        <td id=\"T_0bc4d_row1_col1\" class=\"data row1 col1\" >0.9178</td>\n",
       "                        <td id=\"T_0bc4d_row1_col2\" class=\"data row1 col2\" >0.0000</td>\n",
       "                        <td id=\"T_0bc4d_row1_col3\" class=\"data row1 col3\" >0.0000</td>\n",
       "                        <td id=\"T_0bc4d_row1_col4\" class=\"data row1 col4\" >0.0000</td>\n",
       "                        <td id=\"T_0bc4d_row1_col5\" class=\"data row1 col5\" >0.0000</td>\n",
       "                        <td id=\"T_0bc4d_row1_col6\" class=\"data row1 col6\" >0.0000</td>\n",
       "            </tr>\n",
       "            <tr>\n",
       "                        <th id=\"T_0bc4d_level0_row2\" class=\"row_heading level0 row2\" >2</th>\n",
       "                        <td id=\"T_0bc4d_row2_col0\" class=\"data row2 col0\" >0.9493</td>\n",
       "                        <td id=\"T_0bc4d_row2_col1\" class=\"data row2 col1\" >0.8885</td>\n",
       "                        <td id=\"T_0bc4d_row2_col2\" class=\"data row2 col2\" >0.0000</td>\n",
       "                        <td id=\"T_0bc4d_row2_col3\" class=\"data row2 col3\" >0.0000</td>\n",
       "                        <td id=\"T_0bc4d_row2_col4\" class=\"data row2 col4\" >0.0000</td>\n",
       "                        <td id=\"T_0bc4d_row2_col5\" class=\"data row2 col5\" >0.0000</td>\n",
       "                        <td id=\"T_0bc4d_row2_col6\" class=\"data row2 col6\" >0.0000</td>\n",
       "            </tr>\n",
       "            <tr>\n",
       "                        <th id=\"T_0bc4d_level0_row3\" class=\"row_heading level0 row3\" >3</th>\n",
       "                        <td id=\"T_0bc4d_row3_col0\" class=\"data row3 col0\" >0.9515</td>\n",
       "                        <td id=\"T_0bc4d_row3_col1\" class=\"data row3 col1\" >0.9524</td>\n",
       "                        <td id=\"T_0bc4d_row3_col2\" class=\"data row3 col2\" >0.0435</td>\n",
       "                        <td id=\"T_0bc4d_row3_col3\" class=\"data row3 col3\" >1.0000</td>\n",
       "                        <td id=\"T_0bc4d_row3_col4\" class=\"data row3 col4\" >0.0833</td>\n",
       "                        <td id=\"T_0bc4d_row3_col5\" class=\"data row3 col5\" >0.0794</td>\n",
       "                        <td id=\"T_0bc4d_row3_col6\" class=\"data row3 col6\" >0.2034</td>\n",
       "            </tr>\n",
       "            <tr>\n",
       "                        <th id=\"T_0bc4d_level0_row4\" class=\"row_heading level0 row4\" >4</th>\n",
       "                        <td id=\"T_0bc4d_row4_col0\" class=\"data row4 col0\" >0.9471</td>\n",
       "                        <td id=\"T_0bc4d_row4_col1\" class=\"data row4 col1\" >0.8578</td>\n",
       "                        <td id=\"T_0bc4d_row4_col2\" class=\"data row4 col2\" >0.0000</td>\n",
       "                        <td id=\"T_0bc4d_row4_col3\" class=\"data row4 col3\" >0.0000</td>\n",
       "                        <td id=\"T_0bc4d_row4_col4\" class=\"data row4 col4\" >0.0000</td>\n",
       "                        <td id=\"T_0bc4d_row4_col5\" class=\"data row4 col5\" >0.0000</td>\n",
       "                        <td id=\"T_0bc4d_row4_col6\" class=\"data row4 col6\" >0.0000</td>\n",
       "            </tr>\n",
       "            <tr>\n",
       "                        <th id=\"T_0bc4d_level0_row5\" class=\"row_heading level0 row5\" >5</th>\n",
       "                        <td id=\"T_0bc4d_row5_col0\" class=\"data row5 col0\" >0.9492</td>\n",
       "                        <td id=\"T_0bc4d_row5_col1\" class=\"data row5 col1\" >0.9310</td>\n",
       "                        <td id=\"T_0bc4d_row5_col2\" class=\"data row5 col2\" >0.0000</td>\n",
       "                        <td id=\"T_0bc4d_row5_col3\" class=\"data row5 col3\" >0.0000</td>\n",
       "                        <td id=\"T_0bc4d_row5_col4\" class=\"data row5 col4\" >0.0000</td>\n",
       "                        <td id=\"T_0bc4d_row5_col5\" class=\"data row5 col5\" >0.0000</td>\n",
       "                        <td id=\"T_0bc4d_row5_col6\" class=\"data row5 col6\" >0.0000</td>\n",
       "            </tr>\n",
       "            <tr>\n",
       "                        <th id=\"T_0bc4d_level0_row6\" class=\"row_heading level0 row6\" >6</th>\n",
       "                        <td id=\"T_0bc4d_row6_col0\" class=\"data row6 col0\" >0.9492</td>\n",
       "                        <td id=\"T_0bc4d_row6_col1\" class=\"data row6 col1\" >0.8935</td>\n",
       "                        <td id=\"T_0bc4d_row6_col2\" class=\"data row6 col2\" >0.0000</td>\n",
       "                        <td id=\"T_0bc4d_row6_col3\" class=\"data row6 col3\" >0.0000</td>\n",
       "                        <td id=\"T_0bc4d_row6_col4\" class=\"data row6 col4\" >0.0000</td>\n",
       "                        <td id=\"T_0bc4d_row6_col5\" class=\"data row6 col5\" >0.0000</td>\n",
       "                        <td id=\"T_0bc4d_row6_col6\" class=\"data row6 col6\" >0.0000</td>\n",
       "            </tr>\n",
       "            <tr>\n",
       "                        <th id=\"T_0bc4d_level0_row7\" class=\"row_heading level0 row7\" >7</th>\n",
       "                        <td id=\"T_0bc4d_row7_col0\" class=\"data row7 col0\" >0.9492</td>\n",
       "                        <td id=\"T_0bc4d_row7_col1\" class=\"data row7 col1\" >0.8704</td>\n",
       "                        <td id=\"T_0bc4d_row7_col2\" class=\"data row7 col2\" >0.0000</td>\n",
       "                        <td id=\"T_0bc4d_row7_col3\" class=\"data row7 col3\" >0.0000</td>\n",
       "                        <td id=\"T_0bc4d_row7_col4\" class=\"data row7 col4\" >0.0000</td>\n",
       "                        <td id=\"T_0bc4d_row7_col5\" class=\"data row7 col5\" >0.0000</td>\n",
       "                        <td id=\"T_0bc4d_row7_col6\" class=\"data row7 col6\" >0.0000</td>\n",
       "            </tr>\n",
       "            <tr>\n",
       "                        <th id=\"T_0bc4d_level0_row8\" class=\"row_heading level0 row8\" >8</th>\n",
       "                        <td id=\"T_0bc4d_row8_col0\" class=\"data row8 col0\" >0.9492</td>\n",
       "                        <td id=\"T_0bc4d_row8_col1\" class=\"data row8 col1\" >0.8975</td>\n",
       "                        <td id=\"T_0bc4d_row8_col2\" class=\"data row8 col2\" >0.0000</td>\n",
       "                        <td id=\"T_0bc4d_row8_col3\" class=\"data row8 col3\" >0.0000</td>\n",
       "                        <td id=\"T_0bc4d_row8_col4\" class=\"data row8 col4\" >0.0000</td>\n",
       "                        <td id=\"T_0bc4d_row8_col5\" class=\"data row8 col5\" >0.0000</td>\n",
       "                        <td id=\"T_0bc4d_row8_col6\" class=\"data row8 col6\" >0.0000</td>\n",
       "            </tr>\n",
       "            <tr>\n",
       "                        <th id=\"T_0bc4d_level0_row9\" class=\"row_heading level0 row9\" >9</th>\n",
       "                        <td id=\"T_0bc4d_row9_col0\" class=\"data row9 col0\" >0.9492</td>\n",
       "                        <td id=\"T_0bc4d_row9_col1\" class=\"data row9 col1\" >0.8295</td>\n",
       "                        <td id=\"T_0bc4d_row9_col2\" class=\"data row9 col2\" >0.0000</td>\n",
       "                        <td id=\"T_0bc4d_row9_col3\" class=\"data row9 col3\" >0.0000</td>\n",
       "                        <td id=\"T_0bc4d_row9_col4\" class=\"data row9 col4\" >0.0000</td>\n",
       "                        <td id=\"T_0bc4d_row9_col5\" class=\"data row9 col5\" >0.0000</td>\n",
       "                        <td id=\"T_0bc4d_row9_col6\" class=\"data row9 col6\" >0.0000</td>\n",
       "            </tr>\n",
       "            <tr>\n",
       "                        <th id=\"T_0bc4d_level0_row10\" class=\"row_heading level0 row10\" >Mean</th>\n",
       "                        <td id=\"T_0bc4d_row10_col0\" class=\"data row10 col0\" >0.9493</td>\n",
       "                        <td id=\"T_0bc4d_row10_col1\" class=\"data row10 col1\" >0.8900</td>\n",
       "                        <td id=\"T_0bc4d_row10_col2\" class=\"data row10 col2\" >0.0043</td>\n",
       "                        <td id=\"T_0bc4d_row10_col3\" class=\"data row10 col3\" >0.1000</td>\n",
       "                        <td id=\"T_0bc4d_row10_col4\" class=\"data row10 col4\" >0.0083</td>\n",
       "                        <td id=\"T_0bc4d_row10_col5\" class=\"data row10 col5\" >0.0079</td>\n",
       "                        <td id=\"T_0bc4d_row10_col6\" class=\"data row10 col6\" >0.0203</td>\n",
       "            </tr>\n",
       "            <tr>\n",
       "                        <th id=\"T_0bc4d_level0_row11\" class=\"row_heading level0 row11\" >SD</th>\n",
       "                        <td id=\"T_0bc4d_row11_col0\" class=\"data row11 col0\" >0.0010</td>\n",
       "                        <td id=\"T_0bc4d_row11_col1\" class=\"data row11 col1\" >0.0350</td>\n",
       "                        <td id=\"T_0bc4d_row11_col2\" class=\"data row11 col2\" >0.0130</td>\n",
       "                        <td id=\"T_0bc4d_row11_col3\" class=\"data row11 col3\" >0.3000</td>\n",
       "                        <td id=\"T_0bc4d_row11_col4\" class=\"data row11 col4\" >0.0250</td>\n",
       "                        <td id=\"T_0bc4d_row11_col5\" class=\"data row11 col5\" >0.0238</td>\n",
       "                        <td id=\"T_0bc4d_row11_col6\" class=\"data row11 col6\" >0.0610</td>\n",
       "            </tr>\n",
       "    </tbody></table>"
      ],
      "text/plain": [
       "<pandas.io.formats.style.Styler at 0x17de7991670>"
      ]
     },
     "metadata": {},
     "output_type": "display_data"
    }
   ],
   "source": [
    "tuned_rf = tune_model(rf)"
   ]
  },
  {
   "cell_type": "markdown",
   "metadata": {
    "colab_type": "text",
    "id": "IqxEZRi1EQrO"
   },
   "source": [
    "By default, `tune_model` optimizes `Accuracy` but this can be changed using `optimize` parameter. For example: `tune_model(dt, optimize = 'AUC')` will search for the hyperparameters of a Decision Tree Classifier that results in the highest `AUC` instead of `Accuracy`. For the purposes of this example, we have used the default metric `Accuracy` only for the sake of simplicity. Generally, when the dataset is imbalanced (such as the credit dataset we are working with) `Accuracy` is not a good metric for consideration. The methodology behind selecting the right metric to evaluate a classifier is beyond the scope of this tutorial but if you would like to learn more about it, you can __[click here](https://medium.com/@MohammedS/performance-metrics-for-classification-problems-in-machine-learning-part-i-b085d432082b)__ to read an article on how to choose the right evaluation metric."
   ]
  },
  {
   "cell_type": "markdown",
   "metadata": {
    "colab_type": "text",
    "id": "w_P46O0jEQrT"
   },
   "source": [
    "# 10.0 Plot a Model"
   ]
  },
  {
   "cell_type": "markdown",
   "metadata": {
    "colab_type": "text",
    "id": "FGM9GOtjEQrV"
   },
   "source": [
    "Before model finalization, the `plot_model()` function can be used to analyze the performance across different aspects such as AUC, confusion_matrix, decision boundary etc. This function takes a trained model object and returns a plot based on the test / hold-out set. \n",
    "\n",
    "There are 15 different plots available,\n",
    "\n",
    "    * 'auc' - Area Under the Curve\n",
    "    * 'threshold' - Discrimination Threshold\n",
    "    * 'pr' - Precision Recall Curve\n",
    "    * 'confusion_matrix' - Confusion Matrix\n",
    "    * 'error' - Class Prediction Error\n",
    "    * 'class_report' - Classification Report\n",
    "    * 'boundary' - Decision Boundary\n",
    "    * 'rfe' - Recursive Feature Selection\n",
    "    * 'learning' - Learning Curve\n",
    "    * 'manifold' - Manifold Learning\n",
    "    * 'calibration' - Calibration Curve\n",
    "    * 'vc' - Validation Curve\n",
    "    * 'dimension' - Dimension Learning\n",
    "    * 'feature' - Feature Importance\n",
    "    * 'feature_all' - Feature Importance (All)\n",
    "    * 'parameter' - Model Hyperparameter\n",
    "    * 'lift' - Lift Curve\n",
    "    * 'gain' - Gain Chart\n",
    "    * 'tree' - Decision Tree\n",
    "    * 'ks' - KS Statistic Plot"
   ]
  },
  {
   "cell_type": "markdown",
   "metadata": {
    "colab_type": "text",
    "id": "euqkQYJaEQrY"
   },
   "source": [
    "### 10.1 AUC Plot"
   ]
  },
  {
   "cell_type": "code",
   "execution_count": 17,
   "metadata": {
    "colab": {},
    "colab_type": "code",
    "id": "RLbLqvkHEQra",
    "outputId": "fe40b5e3-6375-43e8-e97d-1d487e02eb2d"
   },
   "outputs": [
    {
     "data": {
      "image/png": "[encoded data removed]",
      "text/plain": [
       "<Figure size 576x396 with 1 Axes>"
      ]
     },
     "metadata": {},
     "output_type": "display_data"
    }
   ],
   "source": [
    "plot_model(tuned_catboost, plot = 'auc')"
   ]
  },
  {
   "cell_type": "markdown",
   "metadata": {
    "colab_type": "text",
    "id": "bwyoTUDQEQrm"
   },
   "source": [
    "### 10.2 Precision-Recall Curve"
   ]
  },
  {
   "cell_type": "code",
   "execution_count": 18,
   "metadata": {
    "colab": {},
    "colab_type": "code",
    "id": "4IvchQoiEQrr",
    "outputId": "fdff2076-86fc-42f5-beee-f0051ea30dd4"
   },
   "outputs": [
    {
     "data": {
      "image/png": "[encoded data removed]",
      "text/plain": [
       "<Figure size 576x396 with 1 Axes>"
      ]
     },
     "metadata": {},
     "output_type": "display_data"
    }
   ],
   "source": [
    "plot_model(tuned_catboost, plot = 'pr')"
   ]
  },
  {
   "cell_type": "markdown",
   "metadata": {
    "colab_type": "text",
    "id": "_r9rwEw7EQrz"
   },
   "source": [
    "### 10.3 Feature Importance Plot"
   ]
  },
  {
   "cell_type": "code",
   "execution_count": 19,
   "metadata": {
    "colab": {},
    "colab_type": "code",
    "id": "nVScSxJ-EQr2",
    "outputId": "f44f4b08-b749-4d0e-dcc9-d7e3dc6240c8"
   },
   "outputs": [
    {
     "data": {
      "image/png": "[encoded data removed]",
      "text/plain": [
       "<Figure size 800x500 with 1 Axes>"
      ]
     },
     "metadata": {},
     "output_type": "display_data"
    }
   ],
   "source": [
    "plot_model(tuned_catboost, plot='feature')"
   ]
  },
  {
   "cell_type": "markdown",
   "metadata": {
    "colab_type": "text",
    "id": "FfWC3NEhEQr9"
   },
   "source": [
    "### 10.4 Confusion Matrix"
   ]
  },
  {
   "cell_type": "code",
   "execution_count": 20,
   "metadata": {
    "colab": {},
    "colab_type": "code",
    "id": "OAB5mes-EQsA",
    "outputId": "bd82130d-2cc3-4b63-df5d-03b7aa54bf52"
   },
   "outputs": [
    {
     "data": {
      "image/png": "[encoded data removed]",
      "text/plain": [
       "<Figure size 576x396 with 1 Axes>"
      ]
     },
     "metadata": {},
     "output_type": "display_data"
    }
   ],
   "source": [
    "plot_model(tuned_catboost, plot = 'confusion_matrix')"
   ]
  },
  {
   "cell_type": "markdown",
   "metadata": {
    "colab_type": "text",
    "id": "deClKJrbEQsJ"
   },
   "source": [
    "*Another* way to analyze the performance of models is to use the `evaluate_model()` function which displays a user interface for all of the available plots for a given model. It internally uses the `plot_model()` function. "
   ]
  },
  {
   "cell_type": "code",
   "execution_count": 21,
   "metadata": {
    "colab": {
     "base_uri": "https://localhost:8080/",
     "height": 436,
     "referenced_widgets": [
      "42d5400d235d40b78190016ef0dabe11",
      "41031579127f4a53b58957e601465083",
      "12bf8b3c6ae8444a900474912589fdf1",
      "9bb3600d38c04691b444ff375ad5e3f5",
      "8886001bc7c1463ba58a8453f5c55073",
      "0a06fb091bd94ce6b6ab892e2c6faadf",
      "3cc1e83b91f34b289c7d52003f20a97a",
      "8d709ec9ec484944b1f9773748857f84",
      "8399e21b17634116861a5abaa9c0ccf7",
      "d5b6fce1763b4b54898ff3397b0f5bb0",
      "57b94ac505d142769b79de2f1e5c1166",
      "2a81017413ca4fe789c2272a5831a069",
      "02771b4dc3284414ab05df1906f4556b",
      "9e338844e75b4e17be8483529f5f38fd",
      "22588a12c0db4067982e62ebbe7e6930"
     ]
    },
    "colab_type": "code",
    "id": "OcLV1Ln6EQsN",
    "outputId": "7b5b8b4e-8d4a-4371-9a4f-cabb0a96265a"
   },
   "outputs": [],
   "source": [
    "# evaluate_model(tuned_lr)"
   ]
  },
  {
   "cell_type": "markdown",
   "metadata": {
    "colab_type": "text",
    "id": "RX5pYUJJEQsV"
   },
   "source": [
    "# 11.0 Predict on test / hold-out Sample"
   ]
  },
  {
   "cell_type": "code",
   "execution_count": 22,
   "metadata": {
    "colab": {},
    "colab_type": "code",
    "id": "nwaZk6oTEQsi",
    "outputId": "d30c8533-d347-4fa6-f18e-5b2abc937bec"
   },
   "outputs": [
    {
     "data": {
      "text/html": [
       "<style  type=\"text/css\" >\n",
       "</style><table id=\"T_1a8c2_\" ><thead>    <tr>        <th class=\"blank level0\" ></th>        <th class=\"col_heading level0 col0\" >Model</th>        <th class=\"col_heading level0 col1\" >Accuracy</th>        <th class=\"col_heading level0 col2\" >AUC</th>        <th class=\"col_heading level0 col3\" >Recall</th>        <th class=\"col_heading level0 col4\" >Prec.</th>        <th class=\"col_heading level0 col5\" >F1</th>        <th class=\"col_heading level0 col6\" >Kappa</th>        <th class=\"col_heading level0 col7\" >MCC</th>    </tr></thead><tbody>\n",
       "                <tr>\n",
       "                        <th id=\"T_1a8c2_level0_row0\" class=\"row_heading level0 row0\" >0</th>\n",
       "                        <td id=\"T_1a8c2_row0_col0\" class=\"data row0 col0\" >CatBoost Classifier</td>\n",
       "                        <td id=\"T_1a8c2_row0_col1\" class=\"data row0 col1\" >0.9666</td>\n",
       "                        <td id=\"T_1a8c2_row0_col2\" class=\"data row0 col2\" >0.9199</td>\n",
       "                        <td id=\"T_1a8c2_row0_col3\" class=\"data row0 col3\" >0.5045</td>\n",
       "                        <td id=\"T_1a8c2_row0_col4\" class=\"data row0 col4\" >0.8485</td>\n",
       "                        <td id=\"T_1a8c2_row0_col5\" class=\"data row0 col5\" >0.6328</td>\n",
       "                        <td id=\"T_1a8c2_row0_col6\" class=\"data row0 col6\" >0.6164</td>\n",
       "                        <td id=\"T_1a8c2_row0_col7\" class=\"data row0 col7\" >0.6394</td>\n",
       "            </tr>\n",
       "    </tbody></table>"
      ],
      "text/plain": [
       "<pandas.io.formats.style.Styler at 0x17de7990e20>"
      ]
     },
     "metadata": {},
     "output_type": "display_data"
    }
   ],
   "source": [
    "predict_model(tuned_catboost);"
   ]
  },
  {
   "cell_type": "markdown",
   "metadata": {
    "colab_type": "text",
    "id": "E-fHsX2AEQsx"
   },
   "source": [
    "This is not a significant difference. If there is a large variation between the test/hold-out and CV results, then this would normally indicate over-fitting but could also be due to several other factors and would require further investigation. In this case, we will move forward with finalizing the model and predicting on unseen data (the 5% that we had separated in the beginning and never exposed to PyCaret).\n",
    "\n",
    "(TIP : It's always good to look at the standard deviation of CV results when using `create_model()`.)"
   ]
  },
  {
   "cell_type": "markdown",
   "metadata": {
    "colab_type": "text",
    "id": "r79BGjIfEQs1"
   },
   "source": [
    "# 12.0 Finalize Model for Deployment"
   ]
  },
  {
   "cell_type": "markdown",
   "metadata": {
    "colab_type": "text",
    "id": "B-6xJ9kQEQs7"
   },
   "source": [
    "Model finalization is the last step in the experiment. A normal machine learning workflow in PyCaret starts with `setup()`, followed by comparing all models using `compare_models()` and shortlisting a few candidate models (based on the metric of interest) to perform several modeling techniques such as hyperparameter tuning, ensembling, stacking etc. This workflow will eventually lead you to the best model for use in making predictions on new and unseen data. The `finalize_model()` function fits the model onto the complete dataset including the test/hold-out sample (30% in this case). The purpose of this function is to train the model on the complete dataset before it is deployed in production."
   ]
  },
  {
   "cell_type": "code",
   "execution_count": 23,
   "metadata": {
    "colab": {},
    "colab_type": "code",
    "id": "_--tO4KGEQs-"
   },
   "outputs": [],
   "source": [
    "final_catboost = finalize_model(tuned_catboost)"
   ]
  },
  {
   "cell_type": "code",
   "execution_count": 24,
   "metadata": {
    "colab": {
     "base_uri": "https://localhost:8080/",
     "height": 147
    },
    "colab_type": "code",
    "id": "U9W6kXsSEQtQ",
    "outputId": "794b24a4-9c95-4730-eddd-f82e4925b866"
   },
   "outputs": [
    {
     "name": "stdout",
     "output_type": "stream",
     "text": [
      "<catboost.core.CatBoostClassifier object at 0x0000017DC8160F40>\n"
     ]
    }
   ],
   "source": [
    "#Final Random Forest model parameters for deployment\n",
    "print(final_catboost)"
   ]
  },
  {
   "cell_type": "markdown",
   "metadata": {
    "colab_type": "text",
    "id": "kgdOjxypEQtd"
   },
   "source": [
    "**Caution:** One final word of caution. Once the model is finalized using `finalize_model()`, the entire dataset including the test/hold-out set is used for training. As such, if the model is used for predictions on the hold-out set after `finalize_model()` is used, the information grid printed will be misleading as you are trying to predict on the same data that was used for modeling. "
   ]
  },
  {
   "cell_type": "code",
   "execution_count": 25,
   "metadata": {
    "colab": {},
    "colab_type": "code",
    "id": "NJDk3I-EEQtg",
    "outputId": "4d75663a-e86f-4826-c8e4-c9aa722648df"
   },
   "outputs": [
    {
     "data": {
      "text/html": [
       "<style  type=\"text/css\" >\n",
       "</style><table id=\"T_e990f_\" ><thead>    <tr>        <th class=\"blank level0\" ></th>        <th class=\"col_heading level0 col0\" >Model</th>        <th class=\"col_heading level0 col1\" >Accuracy</th>        <th class=\"col_heading level0 col2\" >AUC</th>        <th class=\"col_heading level0 col3\" >Recall</th>        <th class=\"col_heading level0 col4\" >Prec.</th>        <th class=\"col_heading level0 col5\" >F1</th>        <th class=\"col_heading level0 col6\" >Kappa</th>        <th class=\"col_heading level0 col7\" >MCC</th>    </tr></thead><tbody>\n",
       "                <tr>\n",
       "                        <th id=\"T_e990f_level0_row0\" class=\"row_heading level0 row0\" >0</th>\n",
       "                        <td id=\"T_e990f_row0_col0\" class=\"data row0 col0\" >CatBoost Classifier</td>\n",
       "                        <td id=\"T_e990f_row0_col1\" class=\"data row0 col1\" >0.9979</td>\n",
       "                        <td id=\"T_e990f_row0_col2\" class=\"data row0 col2\" >0.9992</td>\n",
       "                        <td id=\"T_e990f_row0_col3\" class=\"data row0 col3\" >0.9640</td>\n",
       "                        <td id=\"T_e990f_row0_col4\" class=\"data row0 col4\" >1.0000</td>\n",
       "                        <td id=\"T_e990f_row0_col5\" class=\"data row0 col5\" >0.9817</td>\n",
       "                        <td id=\"T_e990f_row0_col6\" class=\"data row0 col6\" >0.9806</td>\n",
       "                        <td id=\"T_e990f_row0_col7\" class=\"data row0 col7\" >0.9807</td>\n",
       "            </tr>\n",
       "    </tbody></table>"
      ],
      "text/plain": [
       "<pandas.io.formats.style.Styler at 0x17de83b5ac0>"
      ]
     },
     "metadata": {},
     "output_type": "display_data"
    }
   ],
   "source": [
    "predict_model(final_catboost);"
   ]
  },
  {
   "cell_type": "markdown",
   "metadata": {
    "colab_type": "text",
    "id": "hUzc6tXNEQtr"
   },
   "source": [
    "# 13.0 Predict on unseen data"
   ]
  },
  {
   "cell_type": "markdown",
   "metadata": {
    "colab_type": "text",
    "id": "dx5vXjChEQtt"
   },
   "source": [
    "The `predict_model()` function is also used to predict on the unseen dataset. The only difference from section 11 above is that this time we will pass the `data_unseen` parameter. "
   ]
  },
  {
   "cell_type": "code",
   "execution_count": 26,
   "metadata": {
    "colab": {
     "base_uri": "https://localhost:8080/",
     "height": 211
    },
    "colab_type": "code",
    "id": "0y5KWLC6EQtx",
    "outputId": "30771f87-7847-43ce-e984-9963cff7d043"
   },
   "outputs": [
    {
     "data": {
      "text/html": [
       "<div>\n",
       "<style scoped>\n",
       "    .dataframe tbody tr th:only-of-type {\n",
       "        vertical-align: middle;\n",
       "    }\n",
       "\n",
       "    .dataframe tbody tr th {\n",
       "        vertical-align: top;\n",
       "    }\n",
       "\n",
       "    .dataframe thead th {\n",
       "        text-align: right;\n",
       "    }\n",
       "</style>\n",
       "<table border=\"1\" class=\"dataframe\">\n",
       "  <thead>\n",
       "    <tr style=\"text-align: right;\">\n",
       "      <th></th>\n",
       "      <th>Attr1</th>\n",
       "      <th>Attr2</th>\n",
       "      <th>Attr3</th>\n",
       "      <th>Attr4</th>\n",
       "      <th>Attr5</th>\n",
       "      <th>Attr6</th>\n",
       "      <th>Attr7</th>\n",
       "      <th>Attr8</th>\n",
       "      <th>Attr9</th>\n",
       "      <th>Attr10</th>\n",
       "      <th>...</th>\n",
       "      <th>Attr58</th>\n",
       "      <th>Attr59</th>\n",
       "      <th>Attr60</th>\n",
       "      <th>Attr61</th>\n",
       "      <th>Attr62</th>\n",
       "      <th>Attr63</th>\n",
       "      <th>Attr64</th>\n",
       "      <th>class</th>\n",
       "      <th>Label</th>\n",
       "      <th>Score</th>\n",
       "    </tr>\n",
       "  </thead>\n",
       "  <tbody>\n",
       "    <tr>\n",
       "      <th>0</th>\n",
       "      <td>0.152550</td>\n",
       "      <td>0.47011</td>\n",
       "      <td>0.018859</td>\n",
       "      <td>1.0406</td>\n",
       "      <td>-39.9980</td>\n",
       "      <td>0.000000</td>\n",
       "      <td>0.152550</td>\n",
       "      <td>1.12720</td>\n",
       "      <td>1.9155</td>\n",
       "      <td>0.52989</td>\n",
       "      <td>...</td>\n",
       "      <td>0.81964</td>\n",
       "      <td>0.000000</td>\n",
       "      <td>10.4360</td>\n",
       "      <td>6.5827</td>\n",
       "      <td>88.464</td>\n",
       "      <td>4.1260</td>\n",
       "      <td>3.7058</td>\n",
       "      <td>0.0</td>\n",
       "      <td>0.0</td>\n",
       "      <td>0.9994</td>\n",
       "    </tr>\n",
       "    <tr>\n",
       "      <th>1</th>\n",
       "      <td>0.056009</td>\n",
       "      <td>0.48351</td>\n",
       "      <td>0.047054</td>\n",
       "      <td>1.1005</td>\n",
       "      <td>-30.8950</td>\n",
       "      <td>0.056009</td>\n",
       "      <td>0.056009</td>\n",
       "      <td>1.06820</td>\n",
       "      <td>1.0281</td>\n",
       "      <td>0.51649</td>\n",
       "      <td>...</td>\n",
       "      <td>0.97266</td>\n",
       "      <td>0.030049</td>\n",
       "      <td>10.3160</td>\n",
       "      <td>16.9280</td>\n",
       "      <td>59.064</td>\n",
       "      <td>6.1797</td>\n",
       "      <td>5.9635</td>\n",
       "      <td>1.0</td>\n",
       "      <td>1.0</td>\n",
       "      <td>0.9941</td>\n",
       "    </tr>\n",
       "    <tr>\n",
       "      <th>2</th>\n",
       "      <td>0.004603</td>\n",
       "      <td>0.52812</td>\n",
       "      <td>0.043685</td>\n",
       "      <td>1.2884</td>\n",
       "      <td>-18.3050</td>\n",
       "      <td>0.000000</td>\n",
       "      <td>0.006654</td>\n",
       "      <td>0.89353</td>\n",
       "      <td>1.4128</td>\n",
       "      <td>0.47188</td>\n",
       "      <td>...</td>\n",
       "      <td>0.99529</td>\n",
       "      <td>0.798200</td>\n",
       "      <td>13.7700</td>\n",
       "      <td>16.0330</td>\n",
       "      <td>39.130</td>\n",
       "      <td>9.3279</td>\n",
       "      <td>1.7553</td>\n",
       "      <td>0.0</td>\n",
       "      <td>0.0</td>\n",
       "      <td>0.9934</td>\n",
       "    </tr>\n",
       "    <tr>\n",
       "      <th>3</th>\n",
       "      <td>0.038360</td>\n",
       "      <td>0.38974</td>\n",
       "      <td>0.285340</td>\n",
       "      <td>1.9692</td>\n",
       "      <td>-8.4639</td>\n",
       "      <td>0.160020</td>\n",
       "      <td>0.051804</td>\n",
       "      <td>1.56580</td>\n",
       "      <td>2.2331</td>\n",
       "      <td>0.61026</td>\n",
       "      <td>...</td>\n",
       "      <td>0.97685</td>\n",
       "      <td>0.154580</td>\n",
       "      <td>6.7651</td>\n",
       "      <td>10.0010</td>\n",
       "      <td>48.119</td>\n",
       "      <td>7.5854</td>\n",
       "      <td>5.3137</td>\n",
       "      <td>0.0</td>\n",
       "      <td>0.0</td>\n",
       "      <td>0.9980</td>\n",
       "    </tr>\n",
       "    <tr>\n",
       "      <th>4</th>\n",
       "      <td>0.011846</td>\n",
       "      <td>0.18761</td>\n",
       "      <td>0.016834</td>\n",
       "      <td>1.1081</td>\n",
       "      <td>-6.3450</td>\n",
       "      <td>0.000000</td>\n",
       "      <td>0.018625</td>\n",
       "      <td>4.33010</td>\n",
       "      <td>1.5691</td>\n",
       "      <td>0.81236</td>\n",
       "      <td>...</td>\n",
       "      <td>0.78842</td>\n",
       "      <td>0.037357</td>\n",
       "      <td>33.2680</td>\n",
       "      <td>13.8420</td>\n",
       "      <td>36.214</td>\n",
       "      <td>10.0790</td>\n",
       "      <td>1.8955</td>\n",
       "      <td>1.0</td>\n",
       "      <td>0.0</td>\n",
       "      <td>0.8017</td>\n",
       "    </tr>\n",
       "  </tbody>\n",
       "</table>\n",
       "<p>5 rows × 66 columns</p>\n",
       "</div>"
      ],
      "text/plain": [
       "      Attr1    Attr2     Attr3   Attr4    Attr5     Attr6     Attr7    Attr8  \\\n",
       "0  0.152550  0.47011  0.018859  1.0406 -39.9980  0.000000  0.152550  1.12720   \n",
       "1  0.056009  0.48351  0.047054  1.1005 -30.8950  0.056009  0.056009  1.06820   \n",
       "2  0.004603  0.52812  0.043685  1.2884 -18.3050  0.000000  0.006654  0.89353   \n",
       "3  0.038360  0.38974  0.285340  1.9692  -8.4639  0.160020  0.051804  1.56580   \n",
       "4  0.011846  0.18761  0.016834  1.1081  -6.3450  0.000000  0.018625  4.33010   \n",
       "\n",
       "    Attr9   Attr10  ...   Attr58    Attr59   Attr60   Attr61  Attr62   Attr63  \\\n",
       "0  1.9155  0.52989  ...  0.81964  0.000000  10.4360   6.5827  88.464   4.1260   \n",
       "1  1.0281  0.51649  ...  0.97266  0.030049  10.3160  16.9280  59.064   6.1797   \n",
       "2  1.4128  0.47188  ...  0.99529  0.798200  13.7700  16.0330  39.130   9.3279   \n",
       "3  2.2331  0.61026  ...  0.97685  0.154580   6.7651  10.0010  48.119   7.5854   \n",
       "4  1.5691  0.81236  ...  0.78842  0.037357  33.2680  13.8420  36.214  10.0790   \n",
       "\n",
       "   Attr64  class  Label   Score  \n",
       "0  3.7058    0.0    0.0  0.9994  \n",
       "1  5.9635    1.0    1.0  0.9941  \n",
       "2  1.7553    0.0    0.0  0.9934  \n",
       "3  5.3137    0.0    0.0  0.9980  \n",
       "4  1.8955    1.0    0.0  0.8017  \n",
       "\n",
       "[5 rows x 66 columns]"
      ]
     },
     "execution_count": 26,
     "metadata": {},
     "output_type": "execute_result"
    }
   ],
   "source": [
    "unseen_predictions = predict_model(final_catboost, data=data_unseen)\n",
    "unseen_predictions.head()"
   ]
  },
  {
   "cell_type": "markdown",
   "metadata": {
    "colab_type": "text",
    "id": "oPYmVpugEQt5"
   },
   "source": [
    "The `Label` and `Score` columns are added onto the `data_unseen` set. Label is the prediction and score is the probability of the prediction. Notice that predicted results are concatenated to the original dataset while all the transformations are automatically performed in the background. You can also check the metrics on this since you have actual target column `default` available. To do that we will use `pycaret.utils` module. See example below:"
   ]
  },
  {
   "cell_type": "code",
   "execution_count": 29,
   "metadata": {},
   "outputs": [
    {
     "data": {
      "text/plain": [
       "0.5"
      ]
     },
     "execution_count": 29,
     "metadata": {},
     "output_type": "execute_result"
    }
   ],
   "source": [
    "check_metric(unseen_predictions['class'],unseen_predictions['Label'].astype('float32'), metric = 'F1')"
   ]
  }
 ],
 "metadata": {
  "colab": {
   "collapsed_sections": [
    "Ui_rALqYEQmv",
    "y9s9wNcjEQn0",
    "it_nJo1IEQob",
    "P5m2pciOEQo4",
    "UWMSeyNhEQo-",
    "rWUojqBCEQpb",
    "nSg3OUjuEQpu",
    "XvpjzbGQEQqB",
    "BQlMCxrUEQqG",
    "CD-f0delEQqq",
    "KO3zIfs-EQrA",
    "w_P46O0jEQrT",
    "euqkQYJaEQrY",
    "bwyoTUDQEQrm",
    "_r9rwEw7EQrz",
    "FfWC3NEhEQr9",
    "RX5pYUJJEQsV",
    "r79BGjIfEQs1",
    "hUzc6tXNEQtr",
    "L__po3sUEQt7",
    "Z8OBesfkEQuU",
    "_HeOs8BhEQvF"
   ],
   "name": "Binary Classification Tutorial (CLF101) - Level Beginner (ACN_EDITS).ipynb",
   "provenance": []
  },
  "kernelspec": {
   "display_name": "Python 3",
   "language": "python",
   "name": "python3"
  },
  "language_info": {
   "codemirror_mode": {
    "name": "ipython",
    "version": 3
   },
   "file_extension": ".py",
   "mimetype": "text/x-python",
   "name": "python",
   "nbconvert_exporter": "python",
   "pygments_lexer": "ipython3",
   "version": "3.8.8"
  },
  "widgets": {
   "application/vnd.jupyter.widget-state+json": {
    "02771b4dc3284414ab05df1906f4556b": {
     "model_module": "@jupyter-widgets/controls",
     "model_name": "IntProgressModel",
     "state": {
      "_dom_classes": [],
      "_model_module": "@jupyter-widgets/controls",
      "_model_module_version": "1.5.0",
      "_model_name": "IntProgressModel",
      "_view_count": null,
      "_view_module": "@jupyter-widgets/controls",
      "_view_module_version": "1.5.0",
      "_view_name": "ProgressView",
      "bar_style": "",
      "description": "Processing: ",
      "description_tooltip": null,
      "layout": "IPY_MODEL_22588a12c0db4067982e62ebbe7e6930",
      "max": 5,
      "min": 0,
      "orientation": "horizontal",
      "style": "IPY_MODEL_9e338844e75b4e17be8483529f5f38fd",
      "value": 5
     }
    },
    "0a06fb091bd94ce6b6ab892e2c6faadf": {
     "model_module": "@jupyter-widgets/base",
     "model_name": "LayoutModel",
     "state": {
      "_model_module": "@jupyter-widgets/base",
      "_model_module_version": "1.2.0",
      "_model_name": "LayoutModel",
      "_view_count": null,
      "_view_module": "@jupyter-widgets/base",
      "_view_module_version": "1.2.0",
      "_view_name": "LayoutView",
      "align_content": null,
      "align_items": null,
      "align_self": null,
      "border": null,
      "bottom": null,
      "display": null,
      "flex": null,
      "flex_flow": null,
      "grid_area": null,
      "grid_auto_columns": null,
      "grid_auto_flow": null,
      "grid_auto_rows": null,
      "grid_column": null,
      "grid_gap": null,
      "grid_row": null,
      "grid_template_areas": null,
      "grid_template_columns": null,
      "grid_template_rows": null,
      "height": null,
      "justify_content": null,
      "justify_items": null,
      "left": null,
      "margin": null,
      "max_height": null,
      "max_width": null,
      "min_height": null,
      "min_width": null,
      "object_fit": null,
      "object_position": null,
      "order": null,
      "overflow": null,
      "overflow_x": null,
      "overflow_y": null,
      "padding": null,
      "right": null,
      "top": null,
      "visibility": null,
      "width": null
     }
    },
    "12bf8b3c6ae8444a900474912589fdf1": {
     "model_module": "@jupyter-widgets/controls",
     "model_name": "ToggleButtonsModel",
     "state": {
      "_dom_classes": [],
      "_model_module": "@jupyter-widgets/controls",
      "_model_module_version": "1.5.0",
      "_model_name": "ToggleButtonsModel",
      "_options_labels": [
       "Hyperparameters",
       "AUC",
       "Confusion Matrix",
       "Threshold",
       "Precision Recall",
       "Error",
       "Class Report",
       "Feature Selection",
       "Learning Curve",
       "Manifold Learning",
       "Calibration Curve",
       "Validation Curve",
       "Dimensions",
       "Feature Importance",
       "Decision Boundary"
      ],
      "_view_count": null,
      "_view_module": "@jupyter-widgets/controls",
      "_view_module_version": "1.5.0",
      "_view_name": "ToggleButtonsView",
      "button_style": "",
      "description": "Plot Type:",
      "description_tooltip": null,
      "disabled": false,
      "icons": [
       ""
      ],
      "index": 2,
      "layout": "IPY_MODEL_0a06fb091bd94ce6b6ab892e2c6faadf",
      "style": "IPY_MODEL_8886001bc7c1463ba58a8453f5c55073",
      "tooltips": []
     }
    },
    "22588a12c0db4067982e62ebbe7e6930": {
     "model_module": "@jupyter-widgets/base",
     "model_name": "LayoutModel",
     "state": {
      "_model_module": "@jupyter-widgets/base",
      "_model_module_version": "1.2.0",
      "_model_name": "LayoutModel",
      "_view_count": null,
      "_view_module": "@jupyter-widgets/base",
      "_view_module_version": "1.2.0",
      "_view_name": "LayoutView",
      "align_content": null,
      "align_items": null,
      "align_self": null,
      "border": null,
      "bottom": null,
      "display": null,
      "flex": null,
      "flex_flow": null,
      "grid_area": null,
      "grid_auto_columns": null,
      "grid_auto_flow": null,
      "grid_auto_rows": null,
      "grid_column": null,
      "grid_gap": null,
      "grid_row": null,
      "grid_template_areas": null,
      "grid_template_columns": null,
      "grid_template_rows": null,
      "height": null,
      "justify_content": null,
      "justify_items": null,
      "left": null,
      "margin": null,
      "max_height": null,
      "max_width": null,
      "min_height": null,
      "min_width": null,
      "object_fit": null,
      "object_position": null,
      "order": null,
      "overflow": null,
      "overflow_x": null,
      "overflow_y": null,
      "padding": null,
      "right": null,
      "top": null,
      "visibility": null,
      "width": null
     }
    },
    "2a81017413ca4fe789c2272a5831a069": {
     "model_module": "@jupyter-widgets/base",
     "model_name": "LayoutModel",
     "state": {
      "_model_module": "@jupyter-widgets/base",
      "_model_module_version": "1.2.0",
      "_model_name": "LayoutModel",
      "_view_count": null,
      "_view_module": "@jupyter-widgets/base",
      "_view_module_version": "1.2.0",
      "_view_name": "LayoutView",
      "align_content": null,
      "align_items": null,
      "align_self": null,
      "border": null,
      "bottom": null,
      "display": null,
      "flex": null,
      "flex_flow": null,
      "grid_area": null,
      "grid_auto_columns": null,
      "grid_auto_flow": null,
      "grid_auto_rows": null,
      "grid_column": null,
      "grid_gap": null,
      "grid_row": null,
      "grid_template_areas": null,
      "grid_template_columns": null,
      "grid_template_rows": null,
      "height": null,
      "justify_content": null,
      "justify_items": null,
      "left": null,
      "margin": null,
      "max_height": null,
      "max_width": null,
      "min_height": null,
      "min_width": null,
      "object_fit": null,
      "object_position": null,
      "order": null,
      "overflow": null,
      "overflow_x": null,
      "overflow_y": null,
      "padding": null,
      "right": null,
      "top": null,
      "visibility": null,
      "width": null
     }
    },
    "3cc1e83b91f34b289c7d52003f20a97a": {
     "model_module": "@jupyter-widgets/controls",
     "model_name": "IntProgressModel",
     "state": {
      "_dom_classes": [],
      "_model_module": "@jupyter-widgets/controls",
      "_model_module_version": "1.5.0",
      "_model_name": "IntProgressModel",
      "_view_count": null,
      "_view_module": "@jupyter-widgets/controls",
      "_view_module_version": "1.5.0",
      "_view_name": "ProgressView",
      "bar_style": "",
      "description": "Processing: ",
      "description_tooltip": null,
      "layout": "IPY_MODEL_8399e21b17634116861a5abaa9c0ccf7",
      "max": 5,
      "min": 0,
      "orientation": "horizontal",
      "style": "IPY_MODEL_8d709ec9ec484944b1f9773748857f84",
      "value": 2
     }
    },
    "41031579127f4a53b58957e601465083": {
     "model_module": "@jupyter-widgets/base",
     "model_name": "LayoutModel",
     "state": {
      "_model_module": "@jupyter-widgets/base",
      "_model_module_version": "1.2.0",
      "_model_name": "LayoutModel",
      "_view_count": null,
      "_view_module": "@jupyter-widgets/base",
      "_view_module_version": "1.2.0",
      "_view_name": "LayoutView",
      "align_content": null,
      "align_items": null,
      "align_self": null,
      "border": null,
      "bottom": null,
      "display": null,
      "flex": null,
      "flex_flow": null,
      "grid_area": null,
      "grid_auto_columns": null,
      "grid_auto_flow": null,
      "grid_auto_rows": null,
      "grid_column": null,
      "grid_gap": null,
      "grid_row": null,
      "grid_template_areas": null,
      "grid_template_columns": null,
      "grid_template_rows": null,
      "height": null,
      "justify_content": null,
      "justify_items": null,
      "left": null,
      "margin": null,
      "max_height": null,
      "max_width": null,
      "min_height": null,
      "min_width": null,
      "object_fit": null,
      "object_position": null,
      "order": null,
      "overflow": null,
      "overflow_x": null,
      "overflow_y": null,
      "padding": null,
      "right": null,
      "top": null,
      "visibility": null,
      "width": null
     }
    },
    "42d5400d235d40b78190016ef0dabe11": {
     "model_module": "@jupyter-widgets/controls",
     "model_name": "VBoxModel",
     "state": {
      "_dom_classes": [
       "widget-interact"
      ],
      "_model_module": "@jupyter-widgets/controls",
      "_model_module_version": "1.5.0",
      "_model_name": "VBoxModel",
      "_view_count": null,
      "_view_module": "@jupyter-widgets/controls",
      "_view_module_version": "1.5.0",
      "_view_name": "VBoxView",
      "box_style": "",
      "children": [
       "IPY_MODEL_12bf8b3c6ae8444a900474912589fdf1",
       "IPY_MODEL_9bb3600d38c04691b444ff375ad5e3f5"
      ],
      "layout": "IPY_MODEL_41031579127f4a53b58957e601465083"
     }
    },
    "57b94ac505d142769b79de2f1e5c1166": {
     "model_module": "@jupyter-widgets/controls",
     "model_name": "ProgressStyleModel",
     "state": {
      "_model_module": "@jupyter-widgets/controls",
      "_model_module_version": "1.5.0",
      "_model_name": "ProgressStyleModel",
      "_view_count": null,
      "_view_module": "@jupyter-widgets/base",
      "_view_module_version": "1.2.0",
      "_view_name": "StyleView",
      "bar_color": null,
      "description_width": ""
     }
    },
    "8399e21b17634116861a5abaa9c0ccf7": {
     "model_module": "@jupyter-widgets/base",
     "model_name": "LayoutModel",
     "state": {
      "_model_module": "@jupyter-widgets/base",
      "_model_module_version": "1.2.0",
      "_model_name": "LayoutModel",
      "_view_count": null,
      "_view_module": "@jupyter-widgets/base",
      "_view_module_version": "1.2.0",
      "_view_name": "LayoutView",
      "align_content": null,
      "align_items": null,
      "align_self": null,
      "border": null,
      "bottom": null,
      "display": null,
      "flex": null,
      "flex_flow": null,
      "grid_area": null,
      "grid_auto_columns": null,
      "grid_auto_flow": null,
      "grid_auto_rows": null,
      "grid_column": null,
      "grid_gap": null,
      "grid_row": null,
      "grid_template_areas": null,
      "grid_template_columns": null,
      "grid_template_rows": null,
      "height": null,
      "justify_content": null,
      "justify_items": null,
      "left": null,
      "margin": null,
      "max_height": null,
      "max_width": null,
      "min_height": null,
      "min_width": null,
      "object_fit": null,
      "object_position": null,
      "order": null,
      "overflow": null,
      "overflow_x": null,
      "overflow_y": null,
      "padding": null,
      "right": null,
      "top": null,
      "visibility": null,
      "width": null
     }
    },
    "8886001bc7c1463ba58a8453f5c55073": {
     "model_module": "@jupyter-widgets/controls",
     "model_name": "ToggleButtonsStyleModel",
     "state": {
      "_model_module": "@jupyter-widgets/controls",
      "_model_module_version": "1.5.0",
      "_model_name": "ToggleButtonsStyleModel",
      "_view_count": null,
      "_view_module": "@jupyter-widgets/base",
      "_view_module_version": "1.2.0",
      "_view_name": "StyleView",
      "button_width": "",
      "description_width": "",
      "font_weight": ""
     }
    },
    "8d709ec9ec484944b1f9773748857f84": {
     "model_module": "@jupyter-widgets/controls",
     "model_name": "ProgressStyleModel",
     "state": {
      "_model_module": "@jupyter-widgets/controls",
      "_model_module_version": "1.5.0",
      "_model_name": "ProgressStyleModel",
      "_view_count": null,
      "_view_module": "@jupyter-widgets/base",
      "_view_module_version": "1.2.0",
      "_view_name": "StyleView",
      "bar_color": null,
      "description_width": ""
     }
    },
    "9bb3600d38c04691b444ff375ad5e3f5": {
     "model_module": "@jupyter-widgets/output",
     "model_name": "OutputModel",
     "state": {
      "_dom_classes": [],
      "_model_module": "@jupyter-widgets/output",
      "_model_module_version": "1.0.0",
      "_model_name": "OutputModel",
      "_view_count": null,
      "_view_module": "@jupyter-widgets/output",
      "_view_module_version": "1.0.0",
      "_view_name": "OutputView",
      "layout": "IPY_MODEL_4f8f81ab97b041a58a53c85a1ab97bd4",
      "msg_id": "",
      "outputs": [
       {
        "image/png": "iVBORw0KGgoAAAANSUhEUgAAAeoAAAFlCAYAAAAki6s3AAAABHNCSVQICAgIfAhkiAAAAAlwSFlz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\nAAAm9n9QR+M8QEgGtgAAAABJRU5ErkJggg==\n",
        "metadata": {
         "tags": []
        },
        "output_type": "display_data",
        "text/plain": "<Figure size 576x396 with 1 Axes>"
       }
      ]
     }
    },
    "9e338844e75b4e17be8483529f5f38fd": {
     "model_module": "@jupyter-widgets/controls",
     "model_name": "ProgressStyleModel",
     "state": {
      "_model_module": "@jupyter-widgets/controls",
      "_model_module_version": "1.5.0",
      "_model_name": "ProgressStyleModel",
      "_view_count": null,
      "_view_module": "@jupyter-widgets/base",
      "_view_module_version": "1.2.0",
      "_view_name": "StyleView",
      "bar_color": null,
      "description_width": ""
     }
    },
    "d5b6fce1763b4b54898ff3397b0f5bb0": {
     "model_module": "@jupyter-widgets/controls",
     "model_name": "IntProgressModel",
     "state": {
      "_dom_classes": [],
      "_model_module": "@jupyter-widgets/controls",
      "_model_module_version": "1.5.0",
      "_model_name": "IntProgressModel",
      "_view_count": null,
      "_view_module": "@jupyter-widgets/controls",
      "_view_module_version": "1.5.0",
      "_view_name": "ProgressView",
      "bar_style": "",
      "description": "Processing: ",
      "description_tooltip": null,
      "layout": "IPY_MODEL_2a81017413ca4fe789c2272a5831a069",
      "max": 5,
      "min": 0,
      "orientation": "horizontal",
      "style": "IPY_MODEL_57b94ac505d142769b79de2f1e5c1166",
      "value": 5
     }
    }
   }
  }
 },
 "nbformat": 4,
 "nbformat_minor": 1
}
