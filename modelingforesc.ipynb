{
  "nbformat": 4,
  "nbformat_minor": 0,
  "metadata": {
    "colab": {
      "name": "modelingforesc.ipynb",
      "private_outputs": true,
      "provenance": [],
      "collapsed_sections": []
    },
    "kernelspec": {
      "name": "python3",
      "display_name": "Python 3"
    },
    "language_info": {
      "name": "python"
    },
    "accelerator": "GPU"
  },
  "cells": [
    {
      "cell_type": "code",
      "metadata": {
        "id": "iYMwGYCrzcjZ"
      },
      "source": [
        "!pip install pycaret\n",
        "!pip install pyyaml==5.4.1\n",
        "# !pip install plotly --upgrade\n",
        "# !pip install shap --upgrade\n",
        "# !pip install interpret\n",
        "# !pip install interpret-community"
      ],
      "execution_count": null,
      "outputs": []
    },
    {
      "cell_type": "code",
      "metadata": {
        "id": "TXw9sKfmdLgL"
      },
      "source": [
        "!pip install -U pandas-profiling"
      ],
      "execution_count": null,
      "outputs": []
    },
    {
      "cell_type": "code",
      "metadata": {
        "id": "1l-Rnoc3dQ48"
      },
      "source": [
        "import pandas as pd\n",
        "import pandas_profiling\n",
        "import numpy as np\n",
        "import seaborn as sns\n",
        "from pandas_profiling import ProfileReport\n",
        "from sklearn.decomposition import PCA\n",
        "import warnings\n",
        "warnings.filterwarnings(\"ignore\")"
      ],
      "execution_count": null,
      "outputs": []
    },
    {
      "cell_type": "code",
      "metadata": {
        "id": "Azd81fCfzpG8"
      },
      "source": [
        "df = pd.read_csv('/content/drive/MyDrive/Colab Notebooks/Escfinal/feature_extraction.csv',encoding='utf-8')\n",
        "#df_label = pd.read_csv('',encoding='utf-8')\n",
        "#df = pd.merge(df,df_label,on='id')\n",
        "#df = df.astype({'class':'category'})"
      ],
      "execution_count": null,
      "outputs": []
    },
    {
      "cell_type": "code",
      "metadata": {
        "id": "iyGvXgjSc6fh"
      },
      "source": [
        "df.info()"
      ],
      "execution_count": null,
      "outputs": []
    },
    {
      "cell_type": "markdown",
      "metadata": {
        "id": "JTaQca5_d27l"
      },
      "source": [
        "# clustering variables + PCA"
      ]
    },
    {
      "cell_type": "code",
      "metadata": {
        "id": "MzvI6nfvd2aR"
      },
      "source": [
        "df_liq = df[['Attr12','Attr32','Attr33','Attr4','Attr40','Attr5']]\n",
        "df_tn_ovr = df[['Attr1','Attr15','Attr20','Attr43','Attr47','Attr57','Attr61','Attr64']]\n",
        "df_op_prof = df[['Attr18','Attr21','Attr24','Attr27','Attr3','Attr41','Attr42','Attr45','Attr49','Attr53','Attr7']]\n",
        "df_bsns_rsk = df[['Attr13','Attr19','Attr39']]\n",
        "df_fncl_rsk = df[['Attr10','Attr2','Attr25','Attr30','Attr58','Attr59','Attr6','Attr8']]\n",
        "df_stab = df[['Attr28','Attr29','Attr38','Attr55']]\n"
      ],
      "execution_count": null,
      "outputs": []
    },
    {
      "cell_type": "code",
      "metadata": {
        "id": "mVAyzBfOuEb9"
      },
      "source": [
        "from sklearn.preprocessing import StandardScaler\n",
        "df_liq = StandardScaler().fit_transform(df_liq)\n",
        "df_tn_ovr = StandardScaler().fit_transform(df_tn_ovr)\n",
        "df_op_prof = StandardScaler().fit_transform(df_op_prof)\n",
        "df_bsns_rsk = StandardScaler().fit_transform(df_bsns_rsk)\n",
        "df_fncl_rsk = StandardScaler().fit_transform(df_fncl_rsk)\n",
        "df_stab = StandardScaler().fit_transform(df_stab)"
      ],
      "execution_count": null,
      "outputs": []
    },
    {
      "cell_type": "code",
      "metadata": {
        "id": "7SP9fnvLe_SK"
      },
      "source": [
        "pca = PCA(n_components=df_liq.shape[1])\n",
        "pca.fit(df_liq)\n",
        "explained_variance_ratio = pca.explained_variance_ratio_\n",
        "pd.DataFrame(np.cumsum(explained_variance_ratio[:]),  \n",
        "                    columns=['Cum_V_ration'])\n"
      ],
      "execution_count": null,
      "outputs": []
    },
    {
      "cell_type": "code",
      "metadata": {
        "id": "ypnrqvyQhNwz"
      },
      "source": [
        "pcs = pca.fit_transform(df_liq)\n",
        "n_of_pcs = 5\n",
        "print(\"PC의 설명력 : {:.3f}%\".format(np.sum(explained_variance_ratio[:n_of_pcs]*100)))\n",
        "df_liq_pc = pd.DataFrame(pcs[:,:n_of_pcs], \n",
        "                        columns = ['liq_1','liq_2','liq_3','liq_4','liq_5'][:n_of_pcs])"
      ],
      "execution_count": null,
      "outputs": []
    },
    {
      "cell_type": "code",
      "metadata": {
        "id": "ZQlCd94-hbq1"
      },
      "source": [
        "df_liq_pc.head()"
      ],
      "execution_count": null,
      "outputs": []
    },
    {
      "cell_type": "markdown",
      "metadata": {
        "id": "7YGuns1IiGZg"
      },
      "source": [
        "tnovr"
      ]
    },
    {
      "cell_type": "code",
      "metadata": {
        "id": "LSoCgAuMf4km"
      },
      "source": [
        "pca = PCA(n_components=df_tn_ovr.shape[1])\n",
        "pca.fit(df_tn_ovr)\n",
        "explained_variance_ratio = pca.explained_variance_ratio_\n",
        "pd.DataFrame(np.cumsum(explained_variance_ratio[:]), \n",
        "                    columns=['Cum_V_ration'])"
      ],
      "execution_count": null,
      "outputs": []
    },
    {
      "cell_type": "code",
      "metadata": {
        "id": "Ehe60U5Lh2Pa"
      },
      "source": [
        "pcs = pca.fit_transform(df_tn_ovr)\n",
        "n_of_pcs = 8\n",
        "print(\"PC의 설명력 : {:.3f}%\".format(np.sum(explained_variance_ratio[:n_of_pcs]*100)))\n",
        "df_tn_ovr_pc = pd.DataFrame(pcs[:,:n_of_pcs], \n",
        "                        columns = ['tn_1','tn_2','tn_3','tn_4','tn_5','tn_6','tn_7','tn_8'][:n_of_pcs])"
      ],
      "execution_count": null,
      "outputs": []
    },
    {
      "cell_type": "markdown",
      "metadata": {
        "id": "DuH-x-LriLqc"
      },
      "source": [
        "op_prof"
      ]
    },
    {
      "cell_type": "code",
      "metadata": {
        "id": "b6HEEKTIf4pA"
      },
      "source": [
        "pca = PCA(n_components=df_op_prof.shape[1])\n",
        "pca.fit(df_op_prof)\n",
        "explained_variance_ratio = pca.explained_variance_ratio_\n",
        "pd.DataFrame(np.cumsum(explained_variance_ratio[:]),  \n",
        "                    columns=['Cum_V_ration'])"
      ],
      "execution_count": null,
      "outputs": []
    },
    {
      "cell_type": "code",
      "metadata": {
        "id": "kJaH5zlKiQqA"
      },
      "source": [
        "pcs = pca.fit_transform(df_op_prof)\n",
        "n_of_pcs = 9\n",
        "print(\"PC의 설명력 : {:.3f}%\".format(np.sum(explained_variance_ratio[:n_of_pcs]*100)))\n",
        "df_op_prof_pc = pd.DataFrame(pcs[:,:n_of_pcs], \n",
        "                        columns = ['op_1','op_2','op_3','op_4','op_5','op_6','op_7','op_8','op_9'][:n_of_pcs])"
      ],
      "execution_count": null,
      "outputs": []
    },
    {
      "cell_type": "markdown",
      "metadata": {
        "id": "I8KnfOa4isfh"
      },
      "source": [
        "bsns_rsk"
      ]
    },
    {
      "cell_type": "code",
      "metadata": {
        "id": "5bv9Ztfff51Z"
      },
      "source": [
        "pca = PCA(n_components=df_bsns_rsk.shape[1])\n",
        "pca.fit(df_bsns_rsk)\n",
        "explained_variance_ratio = pca.explained_variance_ratio_\n",
        "pd.DataFrame(np.cumsum(explained_variance_ratio[:]), \n",
        "                    columns=['Cum_V_ration'])"
      ],
      "execution_count": null,
      "outputs": []
    },
    {
      "cell_type": "code",
      "metadata": {
        "id": "dwPR0qXMiRYT"
      },
      "source": [
        "pcs = pca.fit_transform(df_bsns_rsk)\n",
        "n_of_pcs = 3\n",
        "print(\"PC의 설명력 : {:.3f}%\".format(np.sum(explained_variance_ratio[:n_of_pcs]*100)))\n",
        "df_bsns_rsk_pc = pd.DataFrame(pcs[:,:n_of_pcs], \n",
        "                        columns = ['bs_1','bs_2','bs_3'][:n_of_pcs])"
      ],
      "execution_count": null,
      "outputs": []
    },
    {
      "cell_type": "markdown",
      "metadata": {
        "id": "qTcHq_Lai7Ib"
      },
      "source": [
        "fncl_rsk"
      ]
    },
    {
      "cell_type": "code",
      "metadata": {
        "id": "8fIEEWoCf6ce"
      },
      "source": [
        "pca = PCA(n_components=df_fncl_rsk.shape[1])\n",
        "pca.fit(df_fncl_rsk)\n",
        "explained_variance_ratio = pca.explained_variance_ratio_\n",
        "pd.DataFrame(np.cumsum(explained_variance_ratio[:]), \n",
        "                    columns=['Cum_V_ration'])"
      ],
      "execution_count": null,
      "outputs": []
    },
    {
      "cell_type": "code",
      "metadata": {
        "id": "LFa7mpKxiR3I"
      },
      "source": [
        "pcs = pca.fit_transform(df_fncl_rsk)\n",
        "n_of_pcs = 6\n",
        "print(\"PC의 설명력 : {:.3f}%\".format(np.sum(explained_variance_ratio[:n_of_pcs]*100)))\n",
        "df_fncl_rsk_pc = pd.DataFrame(pcs[:,:n_of_pcs], \n",
        "                        columns = ['fn_1','fn_2','fn_3','fn_4','fn_5','fn_6'][:n_of_pcs])"
      ],
      "execution_count": null,
      "outputs": []
    },
    {
      "cell_type": "markdown",
      "metadata": {
        "id": "rKEA1JEFjHAO"
      },
      "source": [
        "stab"
      ]
    },
    {
      "cell_type": "code",
      "metadata": {
        "id": "l3YWT6qdgEZL"
      },
      "source": [
        "pca = PCA(n_components=df_stab.shape[1])\n",
        "pca.fit(df_stab)\n",
        "explained_variance_ratio = pca.explained_variance_ratio_\n",
        "pd.DataFrame(np.cumsum(explained_variance_ratio[:]), \n",
        "                    columns=['Cum_V_ration'])"
      ],
      "execution_count": null,
      "outputs": []
    },
    {
      "cell_type": "code",
      "metadata": {
        "id": "ZuhE9EJViSZ7"
      },
      "source": [
        "pcs = pca.fit_transform(df_stab)\n",
        "n_of_pcs = 4\n",
        "print(\"PC의 설명력 : {:.3f}%\".format(np.sum(explained_variance_ratio[:n_of_pcs]*100)))\n",
        "df_stab_pc = pd.DataFrame(pcs[:,:n_of_pcs], \n",
        "                        columns = ['stb_1','stb_2','stb_3','stb_4'][:n_of_pcs])"
      ],
      "execution_count": null,
      "outputs": []
    },
    {
      "cell_type": "markdown",
      "metadata": {
        "id": "07vpS3ixlNgT"
      },
      "source": [
        "concatenate"
      ]
    },
    {
      "cell_type": "code",
      "metadata": {
        "id": "d9GT9897jcmv"
      },
      "source": [
        "df_label = df[['class']]\n",
        "df_list = [df_liq_pc, df_tn_ovr_pc, df_op_prof_pc,df_bsns_rsk_pc,df_fncl_rsk_pc,df_stab_pc,df_label]\n",
        "df_full = pd.concat(df_list, ignore_index=False,axis=1)\n",
        "df_full.head()\n",
        "# 35개"
      ],
      "execution_count": null,
      "outputs": []
    },
    {
      "cell_type": "markdown",
      "metadata": {
        "id": "IgOFmULhGYWa"
      },
      "source": [
        "# 머신러닝 기반 전반적인 model accuracy 확인\n",
        "\n",
        "데이터셋에 적합한 모델을 찾기 위해 13개 베이스 모델에 대해 성능 찍어봄. stratified k fold 10으로 train size 0.9로 진행. Gradient Boosting Classifier 에서 Accuracy 0.6951로 가장 높았고, F1 score는 Light Gradient Boosting Machine이 0.6823로 가장 높았음. \n",
        "\n",
        "원 데이터보다 약 3% 낮아 차이가 있었음. \n",
        "\n",
        "전처리 데이터가 변수를 30%만 사용했음에도 불구하고 데이터 정보량을 잘 보존했다고 보여짐\n",
        "\n"
      ]
    },
    {
      "cell_type": "code",
      "metadata": {
        "id": "xkpoAaDH3kgg"
      },
      "source": [
        "from pycaret.classification import *\n",
        "\n",
        "exp_name = setup(data = df_full,  target = 'class',train_size=0.9, data_split_shuffle = True, \n",
        "                 fold_strategy='stratifiedkfold', fold=10, \n",
        "                 silent = True, verbose = False, session_id = 123)\n"
      ],
      "execution_count": null,
      "outputs": []
    },
    {
      "cell_type": "code",
      "metadata": {
        "id": "k2pluz7Wo11b"
      },
      "source": [
        "# from pycaret.classification import *\n",
        "\n",
        "# exp_name = setup(data = df_full,  target = 'class',session_id=2021)\n"
      ],
      "execution_count": null,
      "outputs": []
    },
    {
      "cell_type": "code",
      "metadata": {
        "id": "0SiEN4WO6LdT"
      },
      "source": [
        "best_model = compare_models(sort='F1')"
      ],
      "execution_count": null,
      "outputs": []
    },
    {
      "cell_type": "markdown",
      "metadata": {
        "id": "ciOmXGaJ69Rx"
      },
      "source": [
        "# 묶는거 다시"
      ]
    },
    {
      "cell_type": "code",
      "metadata": {
        "id": "rgzViUgP62RE"
      },
      "source": [
        "df_liq = df[['Attr12','Attr32','Attr33','Attr4','Attr40','Attr5']]\n",
        "df_tn_ovr = df[['Attr1','Attr15','Attr20','Attr43','Attr47','Attr57','Attr61','Attr64']]\n",
        "df_op_prof = df[['Attr18','Attr21','Attr24','Attr27','Attr3','Attr41','Attr42','Attr45','Attr49','Attr53','Attr7']]\n",
        "df_bsns_rsk = df[['Attr13','Attr19','Attr39']]\n",
        "df_fncl_rsk = df[['Attr10','Attr2','Attr25','Attr30','Attr58','Attr59','Attr6','Attr8']]\n",
        "df_stab = df[['Attr28','Attr29','Attr38','Attr55']]\n"
      ],
      "execution_count": null,
      "outputs": []
    },
    {
      "cell_type": "code",
      "metadata": {
        "id": "M1NpoLdO6_b1"
      },
      "source": [
        "from sklearn.preprocessing import StandardScaler\n",
        "df_liq = StandardScaler().fit_transform(df_liq)\n",
        "df_tn_ovr = StandardScaler().fit_transform(df_tn_ovr)\n",
        "df_op_prof = StandardScaler().fit_transform(df_op_prof)\n",
        "df_bsns_rsk = StandardScaler().fit_transform(df_bsns_rsk)\n",
        "df_fncl_rsk = StandardScaler().fit_transform(df_fncl_rsk)\n",
        "df_stab = StandardScaler().fit_transform(df_stab)"
      ],
      "execution_count": null,
      "outputs": []
    },
    {
      "cell_type": "code",
      "metadata": {
        "id": "JYh9JJJS7EgE"
      },
      "source": [
        "corr_diff = [abs(df_liq.corr(method='pearson')) > 0.5]\n",
        "corr_diff[0]"
      ],
      "execution_count": null,
      "outputs": []
    },
    {
      "cell_type": "code",
      "metadata": {
        "id": "htlPTkS27Yfw"
      },
      "source": [
        "corr_diff = [abs(df_tn_ovr.corr(method='pearson')) > 0.5]\n",
        "corr_diff[0]"
      ],
      "execution_count": null,
      "outputs": []
    },
    {
      "cell_type": "code",
      "metadata": {
        "id": "bxOKobre7Yi5"
      },
      "source": [
        "corr_diff = [abs(df_op_prof.corr(method='pearson')) > 0.5]\n",
        "corr_diff[0]"
      ],
      "execution_count": null,
      "outputs": []
    },
    {
      "cell_type": "code",
      "metadata": {
        "id": "d6OhMeUM7Yk5"
      },
      "source": [
        "corr_diff = [abs(df_bsns_rsk.corr(method='pearson')) > 0.5]\n",
        "corr_diff[0]"
      ],
      "execution_count": null,
      "outputs": []
    },
    {
      "cell_type": "code",
      "metadata": {
        "id": "Volbpgpp7YnS"
      },
      "source": [
        "corr_diff = [abs(df_fncl_rsk.corr(method='pearson')) > 0.5]\n",
        "corr_diff[0]"
      ],
      "execution_count": null,
      "outputs": []
    },
    {
      "cell_type": "code",
      "metadata": {
        "id": "ad6kKCKQ7Yqi"
      },
      "source": [
        "corr_diff = [abs(df_stab.corr(method='pearson')) > 0.5]\n",
        "corr_diff[0]"
      ],
      "execution_count": null,
      "outputs": []
    },
    {
      "cell_type": "code",
      "metadata": {
        "id": "6LRusWXA8OC1"
      },
      "source": [
        "df_liq = df[['Attr4','Attr40']]\n",
        "df_op_prof = df[['Attr42','Attr49']]\n",
        "df_bsns_rsk = df[['Attr13','Attr19']]\n",
        "df_fncl_rsk = df[['Attr10','Attr2','Attr25']]"
      ],
      "execution_count": null,
      "outputs": []
    },
    {
      "cell_type": "code",
      "metadata": {
        "id": "1T3ZAFIC8zMn"
      },
      "source": [
        "from sklearn.preprocessing import StandardScaler\n",
        "df_liq = StandardScaler().fit_transform(df_liq)\n",
        "#df_tn_ovr = StandardScaler().fit_transform(df_tn_ovr)\n",
        "df_op_prof = StandardScaler().fit_transform(df_op_prof)\n",
        "df_bsns_rsk = StandardScaler().fit_transform(df_bsns_rsk)\n",
        "df_fncl_rsk = StandardScaler().fit_transform(df_fncl_rsk)\n",
        "#df_stab = StandardScaler().fit_transform(df_stab)"
      ],
      "execution_count": null,
      "outputs": []
    },
    {
      "cell_type": "markdown",
      "metadata": {
        "id": "zuhlgQtJBOMe"
      },
      "source": [
        "liq"
      ]
    },
    {
      "cell_type": "code",
      "metadata": {
        "id": "n6RxA3ng8zMo"
      },
      "source": [
        "pca = PCA(n_components=df_liq.shape[1])\n",
        "pca.fit(df_liq)\n",
        "explained_variance_ratio = pca.explained_variance_ratio_\n",
        "pd.DataFrame(np.cumsum(explained_variance_ratio[:]),  \n",
        "                    columns=['Cum_V_ration'])\n"
      ],
      "execution_count": null,
      "outputs": []
    },
    {
      "cell_type": "code",
      "metadata": {
        "id": "pRFzVRvI8zMp"
      },
      "source": [
        "pcs = pca.fit_transform(df_liq)\n",
        "n_of_pcs = 1\n",
        "print(\"PC의 설명력 : {:.3f}%\".format(np.sum(explained_variance_ratio[:n_of_pcs]*100)))\n",
        "df_liq_pc = pd.DataFrame(pcs[:,:n_of_pcs], \n",
        "                        columns = ['liq_1'][:n_of_pcs])"
      ],
      "execution_count": null,
      "outputs": []
    },
    {
      "cell_type": "code",
      "metadata": {
        "id": "-sHHlZoRBQNk"
      },
      "source": [
        "df_liq_pc.head()"
      ],
      "execution_count": null,
      "outputs": []
    },
    {
      "cell_type": "markdown",
      "metadata": {
        "id": "Sp9YQYeo8zMr"
      },
      "source": [
        "op_prof"
      ]
    },
    {
      "cell_type": "code",
      "metadata": {
        "id": "R-z2C_9G8zMr"
      },
      "source": [
        "pca = PCA(n_components=df_op_prof.shape[1])\n",
        "pca.fit(df_op_prof)\n",
        "explained_variance_ratio = pca.explained_variance_ratio_\n",
        "pd.DataFrame(np.cumsum(explained_variance_ratio[:]),  \n",
        "                    columns=['Cum_V_ration'])"
      ],
      "execution_count": null,
      "outputs": []
    },
    {
      "cell_type": "code",
      "metadata": {
        "id": "IHBCeOeI8zMs"
      },
      "source": [
        "pcs = pca.fit_transform(df_op_prof)\n",
        "n_of_pcs = 1\n",
        "print(\"PC의 설명력 : {:.3f}%\".format(np.sum(explained_variance_ratio[:n_of_pcs]*100)))\n",
        "df_op_prof_pc = pd.DataFrame(pcs[:,:n_of_pcs], \n",
        "                        columns = ['op_1'][:n_of_pcs])"
      ],
      "execution_count": null,
      "outputs": []
    },
    {
      "cell_type": "code",
      "metadata": {
        "id": "K84vudmXBLtt"
      },
      "source": [
        "df_op_prof_pc.head()"
      ],
      "execution_count": null,
      "outputs": []
    },
    {
      "cell_type": "markdown",
      "metadata": {
        "id": "tCfs-NZ98zMs"
      },
      "source": [
        "bsns_rsk"
      ]
    },
    {
      "cell_type": "code",
      "metadata": {
        "id": "_r2V_7VC8zMs"
      },
      "source": [
        "pca = PCA(n_components=df_bsns_rsk.shape[1])\n",
        "pca.fit(df_bsns_rsk)\n",
        "explained_variance_ratio = pca.explained_variance_ratio_\n",
        "pd.DataFrame(np.cumsum(explained_variance_ratio[:]), \n",
        "                    columns=['Cum_V_ration'])"
      ],
      "execution_count": null,
      "outputs": []
    },
    {
      "cell_type": "code",
      "metadata": {
        "id": "1VqgXIRv8zMs"
      },
      "source": [
        "pcs = pca.fit_transform(df_bsns_rsk)\n",
        "n_of_pcs = 1\n",
        "print(\"PC의 설명력 : {:.3f}%\".format(np.sum(explained_variance_ratio[:n_of_pcs]*100)))\n",
        "df_bsns_rsk_pc = pd.DataFrame(pcs[:,:n_of_pcs], \n",
        "                        columns = ['bs_1'][:n_of_pcs])"
      ],
      "execution_count": null,
      "outputs": []
    },
    {
      "cell_type": "code",
      "metadata": {
        "id": "5SU2kx2CBLFh"
      },
      "source": [
        "df_bsns_rsk_pc.head()"
      ],
      "execution_count": null,
      "outputs": []
    },
    {
      "cell_type": "markdown",
      "metadata": {
        "id": "CyLzPaUb8zMs"
      },
      "source": [
        "fncl_rsk"
      ]
    },
    {
      "cell_type": "code",
      "metadata": {
        "id": "P6Ta_JES8zMt"
      },
      "source": [
        "pca = PCA(n_components=df_fncl_rsk.shape[1])\n",
        "pca.fit(df_fncl_rsk)\n",
        "explained_variance_ratio = pca.explained_variance_ratio_\n",
        "pd.DataFrame(np.cumsum(explained_variance_ratio[:]), \n",
        "                    columns=['Cum_V_ration'])"
      ],
      "execution_count": null,
      "outputs": []
    },
    {
      "cell_type": "code",
      "metadata": {
        "id": "OiEt1CVe8zMt"
      },
      "source": [
        "pcs = pca.fit_transform(df_fncl_rsk)\n",
        "n_of_pcs = 1\n",
        "print(\"PC의 설명력 : {:.3f}%\".format(np.sum(explained_variance_ratio[:n_of_pcs]*100)))\n",
        "df_fncl_rsk_pc = pd.DataFrame(pcs[:,:n_of_pcs], \n",
        "                        columns = ['fn_1'][:n_of_pcs])"
      ],
      "execution_count": null,
      "outputs": []
    },
    {
      "cell_type": "code",
      "metadata": {
        "id": "6xPDpf0ZBKvt"
      },
      "source": [
        "df_fncl_rsk_pc.head()"
      ],
      "execution_count": null,
      "outputs": []
    },
    {
      "cell_type": "markdown",
      "metadata": {
        "id": "8-8_Z6H-8zMu"
      },
      "source": [
        "concatenate"
      ]
    },
    {
      "cell_type": "code",
      "metadata": {
        "id": "FtaBHoQ68zMu"
      },
      "source": [
        "df_list = [df_liq_pc, df_op_prof_pc,df_bsns_rsk_pc,df_fncl_rsk_pc,df ]\n",
        "df_full = pd.concat(df_list, ignore_index=False,axis=1)\n",
        "df_full.head()\n",
        "# 35개"
      ],
      "execution_count": null,
      "outputs": []
    },
    {
      "cell_type": "code",
      "metadata": {
        "id": "ozVCxd9O8sNP"
      },
      "source": [
        "df_full.drop(['Attr4','Attr40','Attr42','Attr49','Attr13','Attr19','Attr10','Attr2','Attr25'],axis=1,inplace=True)\n",
        "df_full.head()"
      ],
      "execution_count": null,
      "outputs": []
    },
    {
      "cell_type": "code",
      "metadata": {
        "id": "F6VcVPTrA4li"
      },
      "source": [
        "from pycaret.classification import *\n",
        "\n",
        "exp_name = setup(data = df_full,  target = 'class',train_size=0.9, data_split_shuffle = True, \n",
        "                 fold_strategy='stratifiedkfold', fold=10, \n",
        "                 silent = True, verbose = False, session_id = 123)\n"
      ],
      "execution_count": null,
      "outputs": []
    },
    {
      "cell_type": "code",
      "metadata": {
        "id": "wEUUKmv6A4lp"
      },
      "source": [
        "best_model = compare_models(sort='F1')"
      ],
      "execution_count": null,
      "outputs": []
    },
    {
      "cell_type": "code",
      "metadata": {
        "id": "5vLDEtNo8sSU"
      },
      "source": [
        "lightgbm = create_model('lightgbm')\n",
        "tuned_lightgbmc = tune_model(lightgbm,optimize='F1')"
      ],
      "execution_count": null,
      "outputs": []
    },
    {
      "cell_type": "code",
      "metadata": {
        "id": "1fvWP-8u8sUq"
      },
      "source": [
        "bagged_lightgbm = ensemble_model(lightgbm, method = 'Bagging',optimize='F1')"
      ],
      "execution_count": null,
      "outputs": []
    },
    {
      "cell_type": "code",
      "metadata": {
        "id": "adzwjqCbNNLa"
      },
      "source": [
        "top5 = compare_models(n_select = 5,sort='F1')\n",
        "tuned_top5 = [tune_model(i,optimize='F1') for i in top5]\n",
        "blender = blend_models(tuned_top5,optimize='F1')\n",
        "stacker = stack_models(tuned_top5,optimize='F1')"
      ],
      "execution_count": null,
      "outputs": []
    },
    {
      "cell_type": "code",
      "metadata": {
        "id": "H0PkghYVsfxG"
      },
      "source": [
        "best_f1_model = automl(optimize = 'F1')"
      ],
      "execution_count": null,
      "outputs": []
    },
    {
      "cell_type": "code",
      "metadata": {
        "id": "2tyvHQ7g8sWM"
      },
      "source": [
        "best_f1_model = finalize_model(best_f1_model)"
      ],
      "execution_count": null,
      "outputs": []
    },
    {
      "cell_type": "code",
      "metadata": {
        "id": "JldKP55VGI0j"
      },
      "source": [
        ""
      ],
      "execution_count": null,
      "outputs": []
    },
    {
      "cell_type": "code",
      "metadata": {
        "id": "oW_jtUwzGI2j"
      },
      "source": [
        ""
      ],
      "execution_count": null,
      "outputs": []
    },
    {
      "cell_type": "code",
      "metadata": {
        "id": "CP8Wa8vdGI4p"
      },
      "source": [
        ""
      ],
      "execution_count": null,
      "outputs": []
    },
    {
      "cell_type": "code",
      "metadata": {
        "id": "BOuGfNvaTJNb"
      },
      "source": [
        "plot_model(bagged_gbc, plot = 'learning')"
      ],
      "execution_count": null,
      "outputs": []
    },
    {
      "cell_type": "markdown",
      "metadata": {
        "id": "_zSd4wc1dqeI"
      },
      "source": [
        "manifold 상에서 feature들이 class 별로 명확히 나누어지지 않는 것을 확인할 수 있다. "
      ]
    },
    {
      "cell_type": "code",
      "metadata": {
        "id": "5SFVMfabTWxe"
      },
      "source": [
        "plot_model(bagged_gbc, plot = 'manifold')"
      ],
      "execution_count": null,
      "outputs": []
    },
    {
      "cell_type": "markdown",
      "metadata": {
        "id": "veybmp5qe3X8"
      },
      "source": [
        "False negative를 특히 잘 못 잡아내는 경향이 있었다."
      ]
    },
    {
      "cell_type": "code",
      "metadata": {
        "id": "sMED-js4etF6"
      },
      "source": [
        " plot_model(bagged_gbc, plot = 'confusion_matrix')"
      ],
      "execution_count": null,
      "outputs": []
    },
    {
      "cell_type": "code",
      "metadata": {
        "id": "947sMEzCOYGZ"
      },
      "source": [
        "save_model(bagged_gbc, '/content/drive/MyDrive/Colab Notebooks/투자공학_HW3데이터분석/bag_gbc_model')"
      ],
      "execution_count": null,
      "outputs": []
    },
    {
      "cell_type": "markdown",
      "metadata": {
        "id": "3AE9KFic6pVu"
      },
      "source": [
        ""
      ]
    },
    {
      "cell_type": "markdown",
      "metadata": {
        "id": "YLqP7RRU6pYE"
      },
      "source": [
        ""
      ]
    },
    {
      "cell_type": "markdown",
      "metadata": {
        "id": "BulnPrHB6pb4"
      },
      "source": [
        ""
      ]
    },
    {
      "cell_type": "markdown",
      "metadata": {
        "id": "w8G_zkG-6pe2"
      },
      "source": [
        ""
      ]
    },
    {
      "cell_type": "markdown",
      "metadata": {
        "id": "-8MfGA_-6phQ"
      },
      "source": [
        ""
      ]
    },
    {
      "cell_type": "markdown",
      "metadata": {
        "id": "b8b47nMf6pkA"
      },
      "source": [
        ""
      ]
    },
    {
      "cell_type": "markdown",
      "metadata": {
        "id": "Ohy9W1t-6pml"
      },
      "source": [
        ""
      ]
    },
    {
      "cell_type": "markdown",
      "metadata": {
        "id": "oD0lHiRe6ppC"
      },
      "source": [
        ""
      ]
    },
    {
      "cell_type": "markdown",
      "metadata": {
        "id": "Kdm82Bsl6pr1"
      },
      "source": [
        ""
      ]
    },
    {
      "cell_type": "markdown",
      "metadata": {
        "id": "1Ru-hdoY6puO"
      },
      "source": [
        ""
      ]
    },
    {
      "cell_type": "markdown",
      "metadata": {
        "id": "CtwvCrC76pww"
      },
      "source": [
        ""
      ]
    },
    {
      "cell_type": "markdown",
      "metadata": {
        "id": "ntbnOg-G6pzR"
      },
      "source": [
        ""
      ]
    },
    {
      "cell_type": "markdown",
      "metadata": {
        "id": "G5GGnwvcfxJS"
      },
      "source": [
        "# 예측"
      ]
    },
    {
      "cell_type": "code",
      "metadata": {
        "id": "8twGka7HngVV"
      },
      "source": [
        "import pandas as pd \n",
        "df_test = pd.read_csv('/content/drive/MyDrive/Colab Notebooks/투자공학_HW3데이터분석/minmax_loan_test_fixed.csv')\n",
        "# df.head()\n",
        "df_test_label = pd.read_csv('/content/drive/MyDrive/Colab Notebooks/투자공학_HW3데이터분석/loan_test_label.csv')\n",
        "#df.info()\n",
        "\n",
        "df_test = pd.merge(df_test,df_test_label,on='id')\n",
        "df_test.drop('id',axis=1,inplace=True)\n",
        "df_test = df_test.astype({'loan_status':'category'})\n",
        "df_test.info()"
      ],
      "execution_count": null,
      "outputs": []
    },
    {
      "cell_type": "code",
      "metadata": {
        "id": "sPirrgjinm3P"
      },
      "source": [
        "from pycaret.classification import *\n",
        "\n",
        "exp_name = setup(data = df,  target = 'loan_status',train_size=0.9, data_split_shuffle = True, \n",
        "                 fold_strategy='stratifiedkfold', fold=10, \n",
        "                 numeric_features=['int_rate','recoveries','annual_inc','dti','int_rate','tot_cur_bal','emp_length','inq_last_6mths','revol_util','delinq_2yrs','loan_amnt'],\n",
        "                 silent = True, verbose = False, session_id = 123)\n",
        "\n",
        "bagged_gbc =load_model('/content/drive/MyDrive/Colab Notebooks/투자공학_HW3데이터분석/bag_gbc_model')\n",
        "\n",
        "pred_unseen = predict_model(bagged_gbc, data = df_test)"
      ],
      "execution_count": null,
      "outputs": []
    },
    {
      "cell_type": "code",
      "metadata": {
        "id": "-rZ0DoV-oeK0"
      },
      "source": [
        "pred_unseen"
      ],
      "execution_count": null,
      "outputs": []
    },
    {
      "cell_type": "code",
      "metadata": {
        "id": "8PUICHDxpG-J"
      },
      "source": [
        "sum(pred_unseen['Label']==0)"
      ],
      "execution_count": null,
      "outputs": []
    },
    {
      "cell_type": "code",
      "metadata": {
        "id": "KwkhZfqkKmrX"
      },
      "source": [
        "sum(pred_unseen['Label']==1)"
      ],
      "execution_count": null,
      "outputs": []
    },
    {
      "cell_type": "code",
      "metadata": {
        "id": "WHHeKKUfpWen"
      },
      "source": [
        "pred_unseen.to_csv('/content/drive/MyDrive/Colab Notebooks/투자공학_HW3데이터분석/predict_tmp_file.csv')"
      ],
      "execution_count": null,
      "outputs": []
    },
    {
      "cell_type": "code",
      "metadata": {
        "id": "aDcemBZfMpxa"
      },
      "source": [
        ""
      ],
      "execution_count": null,
      "outputs": []
    }
  ]
}