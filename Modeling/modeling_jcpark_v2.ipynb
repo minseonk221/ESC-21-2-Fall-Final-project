{
 "cells": [
  {
   "cell_type": "code",
   "execution_count": 1,
   "metadata": {
    "id": "1l-Rnoc3dQ48"
   },
   "outputs": [],
   "source": [
    "import pandas as pd\n",
    "import pandas_profiling\n",
    "import numpy as np\n",
    "import seaborn as sns\n",
    "from pandas_profiling import ProfileReport\n",
    "from sklearn.decomposition import PCA\n",
    "#import warnings\n",
    "#warnings.filterwarnings(\"ignore\")"
   ]
  },
  {
   "cell_type": "code",
   "execution_count": 2,
   "metadata": {
    "id": "Azd81fCfzpG8"
   },
   "outputs": [],
   "source": [
    "df = pd.read_csv('FS_2y_before_Bankruptcy_train_preprocessed.csv',encoding='utf-8')\n",
    "#df_label = pd.read_csv('',encoding='utf-8')\n",
    "#df = pd.merge(df,df_label,on='id')\n",
    "#df = df.astype({'class':'category'})"
   ]
  },
  {
   "cell_type": "code",
   "execution_count": 3,
   "metadata": {
    "colab": {
     "base_uri": "https://localhost:8080/"
    },
    "id": "iyGvXgjSc6fh",
    "outputId": "ff245b65-b24d-42d3-9139-a410c26d795e"
   },
   "outputs": [
    {
     "name": "stdout",
     "output_type": "stream",
     "text": [
      "<class 'pandas.core.frame.DataFrame'>\n",
      "RangeIndex: 6820 entries, 0 to 6819\n",
      "Data columns (total 65 columns):\n",
      " #   Column      Non-Null Count  Dtype  \n",
      "---  ------      --------------  -----  \n",
      " 0   Unnamed: 0  6820 non-null   int64  \n",
      " 1   Attr1       6820 non-null   float64\n",
      " 2   Attr2       6820 non-null   float64\n",
      " 3   Attr3       6820 non-null   float64\n",
      " 4   Attr4       6820 non-null   float64\n",
      " 5   Attr5       6820 non-null   float64\n",
      " 6   Attr6       6820 non-null   float64\n",
      " 7   Attr7       6820 non-null   float64\n",
      " 8   Attr8       6820 non-null   float64\n",
      " 9   Attr9       6820 non-null   float64\n",
      " 10  Attr10      6820 non-null   float64\n",
      " 11  Attr11      6820 non-null   float64\n",
      " 12  Attr12      6820 non-null   float64\n",
      " 13  Attr13      6820 non-null   float64\n",
      " 14  Attr14      6820 non-null   float64\n",
      " 15  Attr15      6820 non-null   float64\n",
      " 16  Attr16      6820 non-null   float64\n",
      " 17  Attr17      6820 non-null   float64\n",
      " 18  Attr18      6820 non-null   float64\n",
      " 19  Attr19      6820 non-null   float64\n",
      " 20  Attr20      6820 non-null   float64\n",
      " 21  Attr21      6820 non-null   float64\n",
      " 22  Attr22      6820 non-null   float64\n",
      " 23  Attr23      6820 non-null   float64\n",
      " 24  Attr24      6820 non-null   float64\n",
      " 25  Attr25      6820 non-null   float64\n",
      " 26  Attr26      6820 non-null   float64\n",
      " 27  Attr27      6820 non-null   float64\n",
      " 28  Attr28      6820 non-null   float64\n",
      " 29  Attr29      6820 non-null   float64\n",
      " 30  Attr30      6820 non-null   float64\n",
      " 31  Attr31      6820 non-null   float64\n",
      " 32  Attr32      6820 non-null   float64\n",
      " 33  Attr33      6820 non-null   float64\n",
      " 34  Attr34      6820 non-null   float64\n",
      " 35  Attr35      6820 non-null   float64\n",
      " 36  Attr36      6820 non-null   float64\n",
      " 37  Attr38      6820 non-null   float64\n",
      " 38  Attr39      6820 non-null   float64\n",
      " 39  Attr40      6820 non-null   float64\n",
      " 40  Attr41      6820 non-null   float64\n",
      " 41  Attr42      6820 non-null   float64\n",
      " 42  Attr43      6820 non-null   float64\n",
      " 43  Attr44      6820 non-null   float64\n",
      " 44  Attr45      6820 non-null   float64\n",
      " 45  Attr46      6820 non-null   float64\n",
      " 46  Attr47      6820 non-null   float64\n",
      " 47  Attr48      6820 non-null   float64\n",
      " 48  Attr49      6820 non-null   float64\n",
      " 49  Attr50      6820 non-null   float64\n",
      " 50  Attr51      6820 non-null   float64\n",
      " 51  Attr52      6820 non-null   float64\n",
      " 52  Attr53      6820 non-null   float64\n",
      " 53  Attr54      6820 non-null   float64\n",
      " 54  Attr55      6820 non-null   float64\n",
      " 55  Attr56      6820 non-null   float64\n",
      " 56  Attr57      6820 non-null   float64\n",
      " 57  Attr58      6820 non-null   float64\n",
      " 58  Attr59      6820 non-null   float64\n",
      " 59  Attr60      6820 non-null   float64\n",
      " 60  Attr61      6820 non-null   float64\n",
      " 61  Attr62      6820 non-null   float64\n",
      " 62  Attr63      6820 non-null   float64\n",
      " 63  Attr64      6820 non-null   float64\n",
      " 64  class       6820 non-null   float64\n",
      "dtypes: float64(64), int64(1)\n",
      "memory usage: 3.4 MB\n"
     ]
    }
   ],
   "source": [
    "df.info()"
   ]
  },
  {
   "cell_type": "markdown",
   "metadata": {
    "id": "JTaQca5_d27l"
   },
   "source": [
    "# clustering variables + PCA"
   ]
  },
  {
   "cell_type": "code",
   "execution_count": 4,
   "metadata": {
    "id": "MzvI6nfvd2aR"
   },
   "outputs": [],
   "source": [
    "df_liq = df[['Attr12','Attr32','Attr33','Attr4','Attr40','Attr5']]\n",
    "df_tn_ovr = df[['Attr1','Attr15','Attr20','Attr43','Attr47','Attr57','Attr61','Attr64']]\n",
    "df_op_prof = df[['Attr18','Attr21','Attr24','Attr27','Attr3','Attr41','Attr42','Attr45','Attr49','Attr53','Attr7']]\n",
    "df_bsns_rsk = df[['Attr13','Attr19','Attr39']]\n",
    "df_fncl_rsk = df[['Attr10','Attr2','Attr25','Attr30','Attr58','Attr59','Attr6','Attr8']]\n",
    "df_stab = df[['Attr28','Attr29','Attr38','Attr55']]\n"
   ]
  },
  {
   "cell_type": "code",
   "execution_count": 5,
   "metadata": {
    "id": "mVAyzBfOuEb9"
   },
   "outputs": [],
   "source": [
    "from sklearn.preprocessing import StandardScaler\n",
    "df_liq = StandardScaler().fit_transform(df_liq)\n",
    "df_tn_ovr = StandardScaler().fit_transform(df_tn_ovr)\n",
    "df_op_prof = StandardScaler().fit_transform(df_op_prof)\n",
    "df_bsns_rsk = StandardScaler().fit_transform(df_bsns_rsk)\n",
    "df_fncl_rsk = StandardScaler().fit_transform(df_fncl_rsk)\n",
    "df_stab = StandardScaler().fit_transform(df_stab)"
   ]
  },
  {
   "cell_type": "code",
   "execution_count": 6,
   "metadata": {
    "colab": {
     "base_uri": "https://localhost:8080/",
     "height": 235
    },
    "id": "7SP9fnvLe_SK",
    "outputId": "83395b5f-ba6f-499b-fad4-97bce311b330"
   },
   "outputs": [
    {
     "data": {
      "text/html": [
       "<div>\n",
       "<style scoped>\n",
       "    .dataframe tbody tr th:only-of-type {\n",
       "        vertical-align: middle;\n",
       "    }\n",
       "\n",
       "    .dataframe tbody tr th {\n",
       "        vertical-align: top;\n",
       "    }\n",
       "\n",
       "    .dataframe thead th {\n",
       "        text-align: right;\n",
       "    }\n",
       "</style>\n",
       "<table border=\"1\" class=\"dataframe\">\n",
       "  <thead>\n",
       "    <tr style=\"text-align: right;\">\n",
       "      <th></th>\n",
       "      <th>Cum_V_ration</th>\n",
       "    </tr>\n",
       "  </thead>\n",
       "  <tbody>\n",
       "    <tr>\n",
       "      <th>0</th>\n",
       "      <td>0.363323</td>\n",
       "    </tr>\n",
       "    <tr>\n",
       "      <th>1</th>\n",
       "      <td>0.545178</td>\n",
       "    </tr>\n",
       "    <tr>\n",
       "      <th>2</th>\n",
       "      <td>0.719125</td>\n",
       "    </tr>\n",
       "    <tr>\n",
       "      <th>3</th>\n",
       "      <td>0.878379</td>\n",
       "    </tr>\n",
       "    <tr>\n",
       "      <th>4</th>\n",
       "      <td>0.961137</td>\n",
       "    </tr>\n",
       "    <tr>\n",
       "      <th>5</th>\n",
       "      <td>1.000000</td>\n",
       "    </tr>\n",
       "  </tbody>\n",
       "</table>\n",
       "</div>"
      ],
      "text/plain": [
       "   Cum_V_ration\n",
       "0      0.363323\n",
       "1      0.545178\n",
       "2      0.719125\n",
       "3      0.878379\n",
       "4      0.961137\n",
       "5      1.000000"
      ]
     },
     "execution_count": 6,
     "metadata": {},
     "output_type": "execute_result"
    }
   ],
   "source": [
    "pca = PCA(n_components=df_liq.shape[1])\n",
    "pca.fit(df_liq)\n",
    "explained_variance_ratio = pca.explained_variance_ratio_\n",
    "pd.DataFrame(np.cumsum(explained_variance_ratio[:]),  \n",
    "                    columns=['Cum_V_ration'])\n"
   ]
  },
  {
   "cell_type": "code",
   "execution_count": 7,
   "metadata": {
    "colab": {
     "base_uri": "https://localhost:8080/"
    },
    "id": "ypnrqvyQhNwz",
    "outputId": "5b9eeef7-dbb3-4567-e747-dc741b63e676"
   },
   "outputs": [
    {
     "name": "stdout",
     "output_type": "stream",
     "text": [
      "PC의 설명력 : 96.114%\n"
     ]
    }
   ],
   "source": [
    "pcs = pca.fit_transform(df_liq)\n",
    "n_of_pcs = 5\n",
    "print(\"PC의 설명력 : {:.3f}%\".format(np.sum(explained_variance_ratio[:n_of_pcs]*100)))\n",
    "df_liq_pc = pd.DataFrame(pcs[:,:n_of_pcs], \n",
    "                        columns = ['liq_1','liq_2','liq_3','liq_4','liq_5'][:n_of_pcs])"
   ]
  },
  {
   "cell_type": "code",
   "execution_count": 8,
   "metadata": {
    "colab": {
     "base_uri": "https://localhost:8080/",
     "height": 204
    },
    "id": "ZQlCd94-hbq1",
    "outputId": "57718f49-18f8-485c-df15-c137abf347e1"
   },
   "outputs": [
    {
     "data": {
      "text/html": [
       "<div>\n",
       "<style scoped>\n",
       "    .dataframe tbody tr th:only-of-type {\n",
       "        vertical-align: middle;\n",
       "    }\n",
       "\n",
       "    .dataframe tbody tr th {\n",
       "        vertical-align: top;\n",
       "    }\n",
       "\n",
       "    .dataframe thead th {\n",
       "        text-align: right;\n",
       "    }\n",
       "</style>\n",
       "<table border=\"1\" class=\"dataframe\">\n",
       "  <thead>\n",
       "    <tr style=\"text-align: right;\">\n",
       "      <th></th>\n",
       "      <th>liq_1</th>\n",
       "      <th>liq_2</th>\n",
       "      <th>liq_3</th>\n",
       "      <th>liq_4</th>\n",
       "      <th>liq_5</th>\n",
       "    </tr>\n",
       "  </thead>\n",
       "  <tbody>\n",
       "    <tr>\n",
       "      <th>0</th>\n",
       "      <td>-0.077698</td>\n",
       "      <td>-0.009744</td>\n",
       "      <td>0.036172</td>\n",
       "      <td>-0.045073</td>\n",
       "      <td>-0.015530</td>\n",
       "    </tr>\n",
       "    <tr>\n",
       "      <th>1</th>\n",
       "      <td>0.000312</td>\n",
       "      <td>0.001476</td>\n",
       "      <td>0.050332</td>\n",
       "      <td>-0.061983</td>\n",
       "      <td>-0.000834</td>\n",
       "    </tr>\n",
       "    <tr>\n",
       "      <th>2</th>\n",
       "      <td>-0.088944</td>\n",
       "      <td>-0.019859</td>\n",
       "      <td>0.035746</td>\n",
       "      <td>-0.044869</td>\n",
       "      <td>-0.002328</td>\n",
       "    </tr>\n",
       "    <tr>\n",
       "      <th>3</th>\n",
       "      <td>-0.007213</td>\n",
       "      <td>-0.003145</td>\n",
       "      <td>0.045225</td>\n",
       "      <td>-0.047667</td>\n",
       "      <td>-0.006670</td>\n",
       "    </tr>\n",
       "    <tr>\n",
       "      <th>4</th>\n",
       "      <td>-0.045926</td>\n",
       "      <td>-0.010120</td>\n",
       "      <td>0.021055</td>\n",
       "      <td>-0.036718</td>\n",
       "      <td>-0.060496</td>\n",
       "    </tr>\n",
       "  </tbody>\n",
       "</table>\n",
       "</div>"
      ],
      "text/plain": [
       "      liq_1     liq_2     liq_3     liq_4     liq_5\n",
       "0 -0.077698 -0.009744  0.036172 -0.045073 -0.015530\n",
       "1  0.000312  0.001476  0.050332 -0.061983 -0.000834\n",
       "2 -0.088944 -0.019859  0.035746 -0.044869 -0.002328\n",
       "3 -0.007213 -0.003145  0.045225 -0.047667 -0.006670\n",
       "4 -0.045926 -0.010120  0.021055 -0.036718 -0.060496"
      ]
     },
     "execution_count": 8,
     "metadata": {},
     "output_type": "execute_result"
    }
   ],
   "source": [
    "df_liq_pc.head()"
   ]
  },
  {
   "cell_type": "markdown",
   "metadata": {
    "id": "7YGuns1IiGZg"
   },
   "source": [
    "tnovr"
   ]
  },
  {
   "cell_type": "code",
   "execution_count": 9,
   "metadata": {
    "colab": {
     "base_uri": "https://localhost:8080/",
     "height": 297
    },
    "id": "LSoCgAuMf4km",
    "outputId": "40eddcad-daa8-4dd0-82ea-364f6ebb2d84"
   },
   "outputs": [
    {
     "data": {
      "text/html": [
       "<div>\n",
       "<style scoped>\n",
       "    .dataframe tbody tr th:only-of-type {\n",
       "        vertical-align: middle;\n",
       "    }\n",
       "\n",
       "    .dataframe tbody tr th {\n",
       "        vertical-align: top;\n",
       "    }\n",
       "\n",
       "    .dataframe thead th {\n",
       "        text-align: right;\n",
       "    }\n",
       "</style>\n",
       "<table border=\"1\" class=\"dataframe\">\n",
       "  <thead>\n",
       "    <tr style=\"text-align: right;\">\n",
       "      <th></th>\n",
       "      <th>Cum_V_ration</th>\n",
       "    </tr>\n",
       "  </thead>\n",
       "  <tbody>\n",
       "    <tr>\n",
       "      <th>0</th>\n",
       "      <td>0.160328</td>\n",
       "    </tr>\n",
       "    <tr>\n",
       "      <th>1</th>\n",
       "      <td>0.293981</td>\n",
       "    </tr>\n",
       "    <tr>\n",
       "      <th>2</th>\n",
       "      <td>0.419833</td>\n",
       "    </tr>\n",
       "    <tr>\n",
       "      <th>3</th>\n",
       "      <td>0.545047</td>\n",
       "    </tr>\n",
       "    <tr>\n",
       "      <th>4</th>\n",
       "      <td>0.669945</td>\n",
       "    </tr>\n",
       "    <tr>\n",
       "      <th>5</th>\n",
       "      <td>0.794105</td>\n",
       "    </tr>\n",
       "    <tr>\n",
       "      <th>6</th>\n",
       "      <td>0.910220</td>\n",
       "    </tr>\n",
       "    <tr>\n",
       "      <th>7</th>\n",
       "      <td>1.000000</td>\n",
       "    </tr>\n",
       "  </tbody>\n",
       "</table>\n",
       "</div>"
      ],
      "text/plain": [
       "   Cum_V_ration\n",
       "0      0.160328\n",
       "1      0.293981\n",
       "2      0.419833\n",
       "3      0.545047\n",
       "4      0.669945\n",
       "5      0.794105\n",
       "6      0.910220\n",
       "7      1.000000"
      ]
     },
     "execution_count": 9,
     "metadata": {},
     "output_type": "execute_result"
    }
   ],
   "source": [
    "pca = PCA(n_components=df_tn_ovr.shape[1])\n",
    "pca.fit(df_tn_ovr)\n",
    "explained_variance_ratio = pca.explained_variance_ratio_\n",
    "pd.DataFrame(np.cumsum(explained_variance_ratio[:]), \n",
    "                    columns=['Cum_V_ration'])"
   ]
  },
  {
   "cell_type": "code",
   "execution_count": 10,
   "metadata": {
    "colab": {
     "base_uri": "https://localhost:8080/"
    },
    "id": "Ehe60U5Lh2Pa",
    "outputId": "7759bc76-98c5-49f7-e6e0-0629302c5b8d"
   },
   "outputs": [
    {
     "name": "stdout",
     "output_type": "stream",
     "text": [
      "PC의 설명력 : 100.000%\n"
     ]
    }
   ],
   "source": [
    "pcs = pca.fit_transform(df_tn_ovr)\n",
    "n_of_pcs = 8\n",
    "print(\"PC의 설명력 : {:.3f}%\".format(np.sum(explained_variance_ratio[:n_of_pcs]*100)))\n",
    "df_tn_ovr_pc = pd.DataFrame(pcs[:,:n_of_pcs], \n",
    "                        columns = ['tn_1','tn_2','tn_3','tn_4','tn_5','tn_6','tn_7','tn_8'][:n_of_pcs])"
   ]
  },
  {
   "cell_type": "markdown",
   "metadata": {
    "id": "DuH-x-LriLqc"
   },
   "source": [
    "op_prof"
   ]
  },
  {
   "cell_type": "code",
   "execution_count": 11,
   "metadata": {
    "colab": {
     "base_uri": "https://localhost:8080/",
     "height": 390
    },
    "id": "b6HEEKTIf4pA",
    "outputId": "3d5906f8-74b6-4439-f9b6-1f8eea92a1fd"
   },
   "outputs": [
    {
     "data": {
      "text/html": [
       "<div>\n",
       "<style scoped>\n",
       "    .dataframe tbody tr th:only-of-type {\n",
       "        vertical-align: middle;\n",
       "    }\n",
       "\n",
       "    .dataframe tbody tr th {\n",
       "        vertical-align: top;\n",
       "    }\n",
       "\n",
       "    .dataframe thead th {\n",
       "        text-align: right;\n",
       "    }\n",
       "</style>\n",
       "<table border=\"1\" class=\"dataframe\">\n",
       "  <thead>\n",
       "    <tr style=\"text-align: right;\">\n",
       "      <th></th>\n",
       "      <th>Cum_V_ration</th>\n",
       "    </tr>\n",
       "  </thead>\n",
       "  <tbody>\n",
       "    <tr>\n",
       "      <th>0</th>\n",
       "      <td>0.181367</td>\n",
       "    </tr>\n",
       "    <tr>\n",
       "      <th>1</th>\n",
       "      <td>0.349062</td>\n",
       "    </tr>\n",
       "    <tr>\n",
       "      <th>2</th>\n",
       "      <td>0.444868</td>\n",
       "    </tr>\n",
       "    <tr>\n",
       "      <th>3</th>\n",
       "      <td>0.536316</td>\n",
       "    </tr>\n",
       "    <tr>\n",
       "      <th>4</th>\n",
       "      <td>0.627254</td>\n",
       "    </tr>\n",
       "    <tr>\n",
       "      <th>5</th>\n",
       "      <td>0.717696</td>\n",
       "    </tr>\n",
       "    <tr>\n",
       "      <th>6</th>\n",
       "      <td>0.807627</td>\n",
       "    </tr>\n",
       "    <tr>\n",
       "      <th>7</th>\n",
       "      <td>0.889788</td>\n",
       "    </tr>\n",
       "    <tr>\n",
       "      <th>8</th>\n",
       "      <td>0.961332</td>\n",
       "    </tr>\n",
       "    <tr>\n",
       "      <th>9</th>\n",
       "      <td>0.989714</td>\n",
       "    </tr>\n",
       "    <tr>\n",
       "      <th>10</th>\n",
       "      <td>1.000000</td>\n",
       "    </tr>\n",
       "  </tbody>\n",
       "</table>\n",
       "</div>"
      ],
      "text/plain": [
       "    Cum_V_ration\n",
       "0       0.181367\n",
       "1       0.349062\n",
       "2       0.444868\n",
       "3       0.536316\n",
       "4       0.627254\n",
       "5       0.717696\n",
       "6       0.807627\n",
       "7       0.889788\n",
       "8       0.961332\n",
       "9       0.989714\n",
       "10      1.000000"
      ]
     },
     "execution_count": 11,
     "metadata": {},
     "output_type": "execute_result"
    }
   ],
   "source": [
    "pca = PCA(n_components=df_op_prof.shape[1])\n",
    "pca.fit(df_op_prof)\n",
    "explained_variance_ratio = pca.explained_variance_ratio_\n",
    "pd.DataFrame(np.cumsum(explained_variance_ratio[:]),  \n",
    "                    columns=['Cum_V_ration'])"
   ]
  },
  {
   "cell_type": "code",
   "execution_count": 12,
   "metadata": {
    "colab": {
     "base_uri": "https://localhost:8080/"
    },
    "id": "kJaH5zlKiQqA",
    "outputId": "949d145d-e1f7-41c8-c0d7-9637df62fd9e"
   },
   "outputs": [
    {
     "name": "stdout",
     "output_type": "stream",
     "text": [
      "PC의 설명력 : 96.133%\n"
     ]
    }
   ],
   "source": [
    "pcs = pca.fit_transform(df_op_prof)\n",
    "n_of_pcs = 9\n",
    "print(\"PC의 설명력 : {:.3f}%\".format(np.sum(explained_variance_ratio[:n_of_pcs]*100)))\n",
    "df_op_prof_pc = pd.DataFrame(pcs[:,:n_of_pcs], \n",
    "                        columns = ['op_1','op_2','op_3','op_4','op_5','op_6','op_7','op_8','op_9'][:n_of_pcs])"
   ]
  },
  {
   "cell_type": "markdown",
   "metadata": {
    "id": "I8KnfOa4isfh"
   },
   "source": [
    "bsns_rsk"
   ]
  },
  {
   "cell_type": "code",
   "execution_count": 13,
   "metadata": {
    "colab": {
     "base_uri": "https://localhost:8080/",
     "height": 142
    },
    "id": "5bv9Ztfff51Z",
    "outputId": "605b2d95-a64c-4091-bc6a-ebd5559081d9"
   },
   "outputs": [
    {
     "data": {
      "text/html": [
       "<div>\n",
       "<style scoped>\n",
       "    .dataframe tbody tr th:only-of-type {\n",
       "        vertical-align: middle;\n",
       "    }\n",
       "\n",
       "    .dataframe tbody tr th {\n",
       "        vertical-align: top;\n",
       "    }\n",
       "\n",
       "    .dataframe thead th {\n",
       "        text-align: right;\n",
       "    }\n",
       "</style>\n",
       "<table border=\"1\" class=\"dataframe\">\n",
       "  <thead>\n",
       "    <tr style=\"text-align: right;\">\n",
       "      <th></th>\n",
       "      <th>Cum_V_ration</th>\n",
       "    </tr>\n",
       "  </thead>\n",
       "  <tbody>\n",
       "    <tr>\n",
       "      <th>0</th>\n",
       "      <td>0.530467</td>\n",
       "    </tr>\n",
       "    <tr>\n",
       "      <th>1</th>\n",
       "      <td>0.869240</td>\n",
       "    </tr>\n",
       "    <tr>\n",
       "      <th>2</th>\n",
       "      <td>1.000000</td>\n",
       "    </tr>\n",
       "  </tbody>\n",
       "</table>\n",
       "</div>"
      ],
      "text/plain": [
       "   Cum_V_ration\n",
       "0      0.530467\n",
       "1      0.869240\n",
       "2      1.000000"
      ]
     },
     "execution_count": 13,
     "metadata": {},
     "output_type": "execute_result"
    }
   ],
   "source": [
    "pca = PCA(n_components=df_bsns_rsk.shape[1])\n",
    "pca.fit(df_bsns_rsk)\n",
    "explained_variance_ratio = pca.explained_variance_ratio_\n",
    "pd.DataFrame(np.cumsum(explained_variance_ratio[:]), \n",
    "                    columns=['Cum_V_ration'])"
   ]
  },
  {
   "cell_type": "code",
   "execution_count": 14,
   "metadata": {
    "colab": {
     "base_uri": "https://localhost:8080/"
    },
    "id": "dwPR0qXMiRYT",
    "outputId": "444dc080-ef9d-4c2f-81be-9fb83a1aac6e"
   },
   "outputs": [
    {
     "name": "stdout",
     "output_type": "stream",
     "text": [
      "PC의 설명력 : 100.000%\n"
     ]
    }
   ],
   "source": [
    "pcs = pca.fit_transform(df_bsns_rsk)\n",
    "n_of_pcs = 3\n",
    "print(\"PC의 설명력 : {:.3f}%\".format(np.sum(explained_variance_ratio[:n_of_pcs]*100)))\n",
    "df_bsns_rsk_pc = pd.DataFrame(pcs[:,:n_of_pcs], \n",
    "                        columns = ['bs_1','bs_2','bs_3'][:n_of_pcs])"
   ]
  },
  {
   "cell_type": "markdown",
   "metadata": {
    "id": "qTcHq_Lai7Ib"
   },
   "source": [
    "fncl_rsk"
   ]
  },
  {
   "cell_type": "code",
   "execution_count": 15,
   "metadata": {
    "colab": {
     "base_uri": "https://localhost:8080/",
     "height": 297
    },
    "id": "8fIEEWoCf6ce",
    "outputId": "83661915-ed1b-4657-cad5-58a1d0123851"
   },
   "outputs": [
    {
     "data": {
      "text/html": [
       "<div>\n",
       "<style scoped>\n",
       "    .dataframe tbody tr th:only-of-type {\n",
       "        vertical-align: middle;\n",
       "    }\n",
       "\n",
       "    .dataframe tbody tr th {\n",
       "        vertical-align: top;\n",
       "    }\n",
       "\n",
       "    .dataframe thead th {\n",
       "        text-align: right;\n",
       "    }\n",
       "</style>\n",
       "<table border=\"1\" class=\"dataframe\">\n",
       "  <thead>\n",
       "    <tr style=\"text-align: right;\">\n",
       "      <th></th>\n",
       "      <th>Cum_V_ration</th>\n",
       "    </tr>\n",
       "  </thead>\n",
       "  <tbody>\n",
       "    <tr>\n",
       "      <th>0</th>\n",
       "      <td>0.366892</td>\n",
       "    </tr>\n",
       "    <tr>\n",
       "      <th>1</th>\n",
       "      <td>0.498122</td>\n",
       "    </tr>\n",
       "    <tr>\n",
       "      <th>2</th>\n",
       "      <td>0.623147</td>\n",
       "    </tr>\n",
       "    <tr>\n",
       "      <th>3</th>\n",
       "      <td>0.748038</td>\n",
       "    </tr>\n",
       "    <tr>\n",
       "      <th>4</th>\n",
       "      <td>0.867048</td>\n",
       "    </tr>\n",
       "    <tr>\n",
       "      <th>5</th>\n",
       "      <td>0.977412</td>\n",
       "    </tr>\n",
       "    <tr>\n",
       "      <th>6</th>\n",
       "      <td>0.996930</td>\n",
       "    </tr>\n",
       "    <tr>\n",
       "      <th>7</th>\n",
       "      <td>1.000000</td>\n",
       "    </tr>\n",
       "  </tbody>\n",
       "</table>\n",
       "</div>"
      ],
      "text/plain": [
       "   Cum_V_ration\n",
       "0      0.366892\n",
       "1      0.498122\n",
       "2      0.623147\n",
       "3      0.748038\n",
       "4      0.867048\n",
       "5      0.977412\n",
       "6      0.996930\n",
       "7      1.000000"
      ]
     },
     "execution_count": 15,
     "metadata": {},
     "output_type": "execute_result"
    }
   ],
   "source": [
    "pca = PCA(n_components=df_fncl_rsk.shape[1])\n",
    "pca.fit(df_fncl_rsk)\n",
    "explained_variance_ratio = pca.explained_variance_ratio_\n",
    "pd.DataFrame(np.cumsum(explained_variance_ratio[:]), \n",
    "                    columns=['Cum_V_ration'])"
   ]
  },
  {
   "cell_type": "code",
   "execution_count": 16,
   "metadata": {
    "colab": {
     "base_uri": "https://localhost:8080/"
    },
    "id": "LFa7mpKxiR3I",
    "outputId": "89b7f5b1-c023-4df7-b6e1-716733497e09"
   },
   "outputs": [
    {
     "name": "stdout",
     "output_type": "stream",
     "text": [
      "PC의 설명력 : 97.741%\n"
     ]
    }
   ],
   "source": [
    "pcs = pca.fit_transform(df_fncl_rsk)\n",
    "n_of_pcs = 6\n",
    "print(\"PC의 설명력 : {:.3f}%\".format(np.sum(explained_variance_ratio[:n_of_pcs]*100)))\n",
    "df_fncl_rsk_pc = pd.DataFrame(pcs[:,:n_of_pcs], \n",
    "                        columns = ['fn_1','fn_2','fn_3','fn_4','fn_5','fn_6'][:n_of_pcs])"
   ]
  },
  {
   "cell_type": "markdown",
   "metadata": {
    "id": "rKEA1JEFjHAO"
   },
   "source": [
    "stab"
   ]
  },
  {
   "cell_type": "code",
   "execution_count": 17,
   "metadata": {
    "colab": {
     "base_uri": "https://localhost:8080/",
     "height": 173
    },
    "id": "l3YWT6qdgEZL",
    "outputId": "721d374a-e2dc-4e49-e50f-6a84bb578095"
   },
   "outputs": [
    {
     "data": {
      "text/html": [
       "<div>\n",
       "<style scoped>\n",
       "    .dataframe tbody tr th:only-of-type {\n",
       "        vertical-align: middle;\n",
       "    }\n",
       "\n",
       "    .dataframe tbody tr th {\n",
       "        vertical-align: top;\n",
       "    }\n",
       "\n",
       "    .dataframe thead th {\n",
       "        text-align: right;\n",
       "    }\n",
       "</style>\n",
       "<table border=\"1\" class=\"dataframe\">\n",
       "  <thead>\n",
       "    <tr style=\"text-align: right;\">\n",
       "      <th></th>\n",
       "      <th>Cum_V_ration</th>\n",
       "    </tr>\n",
       "  </thead>\n",
       "  <tbody>\n",
       "    <tr>\n",
       "      <th>0</th>\n",
       "      <td>0.313673</td>\n",
       "    </tr>\n",
       "    <tr>\n",
       "      <th>1</th>\n",
       "      <td>0.565597</td>\n",
       "    </tr>\n",
       "    <tr>\n",
       "      <th>2</th>\n",
       "      <td>0.805541</td>\n",
       "    </tr>\n",
       "    <tr>\n",
       "      <th>3</th>\n",
       "      <td>1.000000</td>\n",
       "    </tr>\n",
       "  </tbody>\n",
       "</table>\n",
       "</div>"
      ],
      "text/plain": [
       "   Cum_V_ration\n",
       "0      0.313673\n",
       "1      0.565597\n",
       "2      0.805541\n",
       "3      1.000000"
      ]
     },
     "execution_count": 17,
     "metadata": {},
     "output_type": "execute_result"
    }
   ],
   "source": [
    "pca = PCA(n_components=df_stab.shape[1])\n",
    "pca.fit(df_stab)\n",
    "explained_variance_ratio = pca.explained_variance_ratio_\n",
    "pd.DataFrame(np.cumsum(explained_variance_ratio[:]), \n",
    "                    columns=['Cum_V_ration'])"
   ]
  },
  {
   "cell_type": "code",
   "execution_count": 18,
   "metadata": {
    "colab": {
     "base_uri": "https://localhost:8080/"
    },
    "id": "ZuhE9EJViSZ7",
    "outputId": "5698112a-56e8-45c3-b9cf-2afd1487a4d8"
   },
   "outputs": [
    {
     "name": "stdout",
     "output_type": "stream",
     "text": [
      "PC의 설명력 : 100.000%\n"
     ]
    }
   ],
   "source": [
    "pcs = pca.fit_transform(df_stab)\n",
    "n_of_pcs = 4\n",
    "print(\"PC의 설명력 : {:.3f}%\".format(np.sum(explained_variance_ratio[:n_of_pcs]*100)))\n",
    "df_stab_pc = pd.DataFrame(pcs[:,:n_of_pcs], \n",
    "                        columns = ['stb_1','stb_2','stb_3','stb_4'][:n_of_pcs])"
   ]
  },
  {
   "cell_type": "markdown",
   "metadata": {
    "id": "07vpS3ixlNgT"
   },
   "source": [
    "concatenate"
   ]
  },
  {
   "cell_type": "code",
   "execution_count": 19,
   "metadata": {
    "colab": {
     "base_uri": "https://localhost:8080/",
     "height": 224
    },
    "id": "d9GT9897jcmv",
    "outputId": "dfba1f2d-5681-4068-e889-59ef0e7cde12"
   },
   "outputs": [
    {
     "data": {
      "text/html": [
       "<div>\n",
       "<style scoped>\n",
       "    .dataframe tbody tr th:only-of-type {\n",
       "        vertical-align: middle;\n",
       "    }\n",
       "\n",
       "    .dataframe tbody tr th {\n",
       "        vertical-align: top;\n",
       "    }\n",
       "\n",
       "    .dataframe thead th {\n",
       "        text-align: right;\n",
       "    }\n",
       "</style>\n",
       "<table border=\"1\" class=\"dataframe\">\n",
       "  <thead>\n",
       "    <tr style=\"text-align: right;\">\n",
       "      <th></th>\n",
       "      <th>liq_1</th>\n",
       "      <th>liq_2</th>\n",
       "      <th>liq_3</th>\n",
       "      <th>liq_4</th>\n",
       "      <th>liq_5</th>\n",
       "      <th>tn_1</th>\n",
       "      <th>tn_2</th>\n",
       "      <th>tn_3</th>\n",
       "      <th>tn_4</th>\n",
       "      <th>tn_5</th>\n",
       "      <th>...</th>\n",
       "      <th>fn_2</th>\n",
       "      <th>fn_3</th>\n",
       "      <th>fn_4</th>\n",
       "      <th>fn_5</th>\n",
       "      <th>fn_6</th>\n",
       "      <th>stb_1</th>\n",
       "      <th>stb_2</th>\n",
       "      <th>stb_3</th>\n",
       "      <th>stb_4</th>\n",
       "      <th>class</th>\n",
       "    </tr>\n",
       "  </thead>\n",
       "  <tbody>\n",
       "    <tr>\n",
       "      <th>0</th>\n",
       "      <td>-0.077698</td>\n",
       "      <td>-0.009744</td>\n",
       "      <td>0.036172</td>\n",
       "      <td>-0.045073</td>\n",
       "      <td>-0.015530</td>\n",
       "      <td>-0.083274</td>\n",
       "      <td>0.197211</td>\n",
       "      <td>0.042159</td>\n",
       "      <td>-0.064459</td>\n",
       "      <td>0.019826</td>\n",
       "      <td>...</td>\n",
       "      <td>0.022569</td>\n",
       "      <td>0.003777</td>\n",
       "      <td>-0.031172</td>\n",
       "      <td>-0.071608</td>\n",
       "      <td>0.094562</td>\n",
       "      <td>0.662362</td>\n",
       "      <td>0.055985</td>\n",
       "      <td>-0.333463</td>\n",
       "      <td>-0.361790</td>\n",
       "      <td>0.0</td>\n",
       "    </tr>\n",
       "    <tr>\n",
       "      <th>1</th>\n",
       "      <td>0.000312</td>\n",
       "      <td>0.001476</td>\n",
       "      <td>0.050332</td>\n",
       "      <td>-0.061983</td>\n",
       "      <td>-0.000834</td>\n",
       "      <td>-0.218890</td>\n",
       "      <td>-1.515718</td>\n",
       "      <td>-0.025419</td>\n",
       "      <td>0.045784</td>\n",
       "      <td>-0.046831</td>\n",
       "      <td>...</td>\n",
       "      <td>-0.080623</td>\n",
       "      <td>-0.052718</td>\n",
       "      <td>0.002402</td>\n",
       "      <td>-0.270254</td>\n",
       "      <td>0.114106</td>\n",
       "      <td>-1.919302</td>\n",
       "      <td>0.389720</td>\n",
       "      <td>-0.465096</td>\n",
       "      <td>2.539435</td>\n",
       "      <td>0.0</td>\n",
       "    </tr>\n",
       "    <tr>\n",
       "      <th>2</th>\n",
       "      <td>-0.088944</td>\n",
       "      <td>-0.019859</td>\n",
       "      <td>0.035746</td>\n",
       "      <td>-0.044869</td>\n",
       "      <td>-0.002328</td>\n",
       "      <td>-0.083562</td>\n",
       "      <td>1.299308</td>\n",
       "      <td>-0.009012</td>\n",
       "      <td>-0.111196</td>\n",
       "      <td>0.046048</td>\n",
       "      <td>...</td>\n",
       "      <td>0.019711</td>\n",
       "      <td>0.001946</td>\n",
       "      <td>-0.037062</td>\n",
       "      <td>-0.035626</td>\n",
       "      <td>0.015077</td>\n",
       "      <td>-0.794277</td>\n",
       "      <td>0.060304</td>\n",
       "      <td>-0.109277</td>\n",
       "      <td>0.817294</td>\n",
       "      <td>0.0</td>\n",
       "    </tr>\n",
       "    <tr>\n",
       "      <th>3</th>\n",
       "      <td>-0.007213</td>\n",
       "      <td>-0.003145</td>\n",
       "      <td>0.045225</td>\n",
       "      <td>-0.047667</td>\n",
       "      <td>-0.006670</td>\n",
       "      <td>-0.074286</td>\n",
       "      <td>-0.180139</td>\n",
       "      <td>0.000731</td>\n",
       "      <td>-0.055688</td>\n",
       "      <td>0.006367</td>\n",
       "      <td>...</td>\n",
       "      <td>0.051722</td>\n",
       "      <td>-0.000557</td>\n",
       "      <td>-0.035405</td>\n",
       "      <td>-0.057875</td>\n",
       "      <td>0.122143</td>\n",
       "      <td>2.431524</td>\n",
       "      <td>-0.216331</td>\n",
       "      <td>1.022179</td>\n",
       "      <td>-0.119245</td>\n",
       "      <td>0.0</td>\n",
       "    </tr>\n",
       "    <tr>\n",
       "      <th>4</th>\n",
       "      <td>-0.045926</td>\n",
       "      <td>-0.010120</td>\n",
       "      <td>0.021055</td>\n",
       "      <td>-0.036718</td>\n",
       "      <td>-0.060496</td>\n",
       "      <td>-0.072028</td>\n",
       "      <td>-0.467789</td>\n",
       "      <td>0.008134</td>\n",
       "      <td>-0.058193</td>\n",
       "      <td>0.002085</td>\n",
       "      <td>...</td>\n",
       "      <td>0.016506</td>\n",
       "      <td>0.007735</td>\n",
       "      <td>-0.037539</td>\n",
       "      <td>0.036133</td>\n",
       "      <td>0.077658</td>\n",
       "      <td>2.807374</td>\n",
       "      <td>-0.123421</td>\n",
       "      <td>-0.382468</td>\n",
       "      <td>-2.707671</td>\n",
       "      <td>0.0</td>\n",
       "    </tr>\n",
       "  </tbody>\n",
       "</table>\n",
       "<p>5 rows × 36 columns</p>\n",
       "</div>"
      ],
      "text/plain": [
       "      liq_1     liq_2     liq_3     liq_4     liq_5      tn_1      tn_2  \\\n",
       "0 -0.077698 -0.009744  0.036172 -0.045073 -0.015530 -0.083274  0.197211   \n",
       "1  0.000312  0.001476  0.050332 -0.061983 -0.000834 -0.218890 -1.515718   \n",
       "2 -0.088944 -0.019859  0.035746 -0.044869 -0.002328 -0.083562  1.299308   \n",
       "3 -0.007213 -0.003145  0.045225 -0.047667 -0.006670 -0.074286 -0.180139   \n",
       "4 -0.045926 -0.010120  0.021055 -0.036718 -0.060496 -0.072028 -0.467789   \n",
       "\n",
       "       tn_3      tn_4      tn_5  ...      fn_2      fn_3      fn_4      fn_5  \\\n",
       "0  0.042159 -0.064459  0.019826  ...  0.022569  0.003777 -0.031172 -0.071608   \n",
       "1 -0.025419  0.045784 -0.046831  ... -0.080623 -0.052718  0.002402 -0.270254   \n",
       "2 -0.009012 -0.111196  0.046048  ...  0.019711  0.001946 -0.037062 -0.035626   \n",
       "3  0.000731 -0.055688  0.006367  ...  0.051722 -0.000557 -0.035405 -0.057875   \n",
       "4  0.008134 -0.058193  0.002085  ...  0.016506  0.007735 -0.037539  0.036133   \n",
       "\n",
       "       fn_6     stb_1     stb_2     stb_3     stb_4  class  \n",
       "0  0.094562  0.662362  0.055985 -0.333463 -0.361790    0.0  \n",
       "1  0.114106 -1.919302  0.389720 -0.465096  2.539435    0.0  \n",
       "2  0.015077 -0.794277  0.060304 -0.109277  0.817294    0.0  \n",
       "3  0.122143  2.431524 -0.216331  1.022179 -0.119245    0.0  \n",
       "4  0.077658  2.807374 -0.123421 -0.382468 -2.707671    0.0  \n",
       "\n",
       "[5 rows x 36 columns]"
      ]
     },
     "execution_count": 19,
     "metadata": {},
     "output_type": "execute_result"
    }
   ],
   "source": [
    "df_label = df[['class']]\n",
    "df_list = [df_liq_pc, df_tn_ovr_pc, df_op_prof_pc,df_bsns_rsk_pc,df_fncl_rsk_pc,df_stab_pc,df_label]\n",
    "df_full = pd.concat(df_list, ignore_index=False,axis=1)\n",
    "df_full.head()\n",
    "# 35개"
   ]
  },
  {
   "cell_type": "markdown",
   "metadata": {
    "id": "IgOFmULhGYWa"
   },
   "source": [
    "# 머신러닝 기반 전반적인 model accuracy 확인\n",
    "\n",
    "데이터셋에 적합한 모델을 찾기 위해 13개 베이스 모델에 대해 성능 찍어봄. stratified k fold 10으로 train size 0.9로 진행. Gradient Boosting Classifier 에서 Accuracy 0.6951로 가장 높았고, F1 score는 Light Gradient Boosting Machine이 0.6823로 가장 높았음. \n",
    "\n",
    "원 데이터보다 약 3% 낮아 차이가 있었음. \n",
    "\n",
    "전처리 데이터가 변수를 30%만 사용했음에도 불구하고 데이터 정보량을 잘 보존했다고 보여짐\n",
    "\n"
   ]
  },
  {
   "cell_type": "code",
   "execution_count": 20,
   "metadata": {
    "id": "xkpoAaDH3kgg"
   },
   "outputs": [],
   "source": [
    "from pycaret.classification import *\n",
    "\n",
    "exp_name = setup(data = df_full,  target = 'class',train_size=0.9, data_split_shuffle = True, \n",
    "                 fold_strategy='stratifiedkfold', fold=10, \n",
    "                 silent = True, verbose = False, session_id = 123)\n"
   ]
  },
  {
   "cell_type": "code",
   "execution_count": 21,
   "metadata": {
    "id": "k2pluz7Wo11b"
   },
   "outputs": [],
   "source": [
    "# from pycaret.classification import *\n",
    "\n",
    "# exp_name = setup(data = df_full,  target = 'class',session_id=2021)\n"
   ]
  },
  {
   "cell_type": "code",
   "execution_count": 22,
   "metadata": {
    "colab": {
     "base_uri": "https://localhost:8080/",
     "height": 483,
     "referenced_widgets": [
      "bbfe39d728e242ef992854978ed9e267",
      "f684ec2101284908ab5d95171453ea1a",
      "47eaf1fb920f446e9500c97758541fa7"
     ]
    },
    "id": "0SiEN4WO6LdT",
    "outputId": "d995fff2-d547-4f32-c85c-5f843d88de46"
   },
   "outputs": [
    {
     "data": {
      "text/html": [
       "<style  type=\"text/css\" >\n",
       "    #T_079f6_ th {\n",
       "          text-align: left;\n",
       "    }#T_079f6_row0_col0,#T_079f6_row0_col1,#T_079f6_row0_col2,#T_079f6_row0_col3,#T_079f6_row0_col4,#T_079f6_row0_col6,#T_079f6_row0_col7,#T_079f6_row1_col0,#T_079f6_row1_col1,#T_079f6_row1_col2,#T_079f6_row1_col3,#T_079f6_row1_col4,#T_079f6_row1_col5,#T_079f6_row2_col0,#T_079f6_row2_col1,#T_079f6_row2_col2,#T_079f6_row2_col3,#T_079f6_row2_col4,#T_079f6_row2_col5,#T_079f6_row2_col6,#T_079f6_row2_col7,#T_079f6_row3_col0,#T_079f6_row3_col1,#T_079f6_row3_col2,#T_079f6_row3_col3,#T_079f6_row3_col4,#T_079f6_row3_col5,#T_079f6_row3_col6,#T_079f6_row3_col7,#T_079f6_row4_col0,#T_079f6_row4_col1,#T_079f6_row4_col2,#T_079f6_row4_col4,#T_079f6_row4_col5,#T_079f6_row4_col6,#T_079f6_row4_col7,#T_079f6_row5_col0,#T_079f6_row5_col1,#T_079f6_row5_col2,#T_079f6_row5_col3,#T_079f6_row5_col4,#T_079f6_row5_col5,#T_079f6_row5_col6,#T_079f6_row5_col7,#T_079f6_row6_col0,#T_079f6_row6_col3,#T_079f6_row6_col5,#T_079f6_row6_col6,#T_079f6_row6_col7,#T_079f6_row7_col0,#T_079f6_row7_col1,#T_079f6_row7_col2,#T_079f6_row7_col3,#T_079f6_row7_col4,#T_079f6_row7_col5,#T_079f6_row7_col6,#T_079f6_row7_col7,#T_079f6_row8_col0,#T_079f6_row8_col1,#T_079f6_row8_col2,#T_079f6_row8_col3,#T_079f6_row8_col4,#T_079f6_row8_col5,#T_079f6_row8_col6,#T_079f6_row8_col7,#T_079f6_row9_col0,#T_079f6_row9_col1,#T_079f6_row9_col2,#T_079f6_row9_col3,#T_079f6_row9_col4,#T_079f6_row9_col5,#T_079f6_row9_col6,#T_079f6_row9_col7,#T_079f6_row10_col0,#T_079f6_row10_col1,#T_079f6_row10_col2,#T_079f6_row10_col3,#T_079f6_row10_col4,#T_079f6_row10_col5,#T_079f6_row10_col6,#T_079f6_row10_col7,#T_079f6_row11_col0,#T_079f6_row11_col1,#T_079f6_row11_col2,#T_079f6_row11_col3,#T_079f6_row11_col4,#T_079f6_row11_col5,#T_079f6_row11_col6,#T_079f6_row11_col7,#T_079f6_row12_col0,#T_079f6_row12_col1,#T_079f6_row12_col2,#T_079f6_row12_col3,#T_079f6_row12_col4,#T_079f6_row12_col5,#T_079f6_row12_col6,#T_079f6_row12_col7,#T_079f6_row13_col0,#T_079f6_row13_col1,#T_079f6_row13_col2,#T_079f6_row13_col3,#T_079f6_row13_col4,#T_079f6_row13_col5,#T_079f6_row13_col6,#T_079f6_row13_col7,#T_079f6_row14_col0,#T_079f6_row14_col1,#T_079f6_row14_col2,#T_079f6_row14_col3,#T_079f6_row14_col4,#T_079f6_row14_col5,#T_079f6_row14_col6,#T_079f6_row14_col7{\n",
       "            text-align:  left;\n",
       "            text-align:  left;\n",
       "        }#T_079f6_row0_col5,#T_079f6_row1_col6,#T_079f6_row1_col7,#T_079f6_row4_col3,#T_079f6_row6_col1,#T_079f6_row6_col2,#T_079f6_row6_col4{\n",
       "            text-align:  left;\n",
       "            text-align:  left;\n",
       "            background-color:  yellow;\n",
       "        }#T_079f6_row0_col8,#T_079f6_row1_col8,#T_079f6_row2_col8,#T_079f6_row3_col8,#T_079f6_row5_col8,#T_079f6_row6_col8,#T_079f6_row7_col8,#T_079f6_row8_col8,#T_079f6_row9_col8,#T_079f6_row10_col8,#T_079f6_row11_col8,#T_079f6_row12_col8,#T_079f6_row13_col8,#T_079f6_row14_col8{\n",
       "            text-align:  left;\n",
       "            text-align:  left;\n",
       "            background-color:  lightgrey;\n",
       "        }#T_079f6_row4_col8{\n",
       "            text-align:  left;\n",
       "            text-align:  left;\n",
       "            background-color:  yellow;\n",
       "            background-color:  lightgrey;\n",
       "        }</style><table id=\"T_079f6_\" ><thead>    <tr>        <th class=\"blank level0\" ></th>        <th class=\"col_heading level0 col0\" >Model</th>        <th class=\"col_heading level0 col1\" >Accuracy</th>        <th class=\"col_heading level0 col2\" >AUC</th>        <th class=\"col_heading level0 col3\" >Recall</th>        <th class=\"col_heading level0 col4\" >Prec.</th>        <th class=\"col_heading level0 col5\" >F1</th>        <th class=\"col_heading level0 col6\" >Kappa</th>        <th class=\"col_heading level0 col7\" >MCC</th>        <th class=\"col_heading level0 col8\" >TT (Sec)</th>    </tr></thead><tbody>\n",
       "                <tr>\n",
       "                        <th id=\"T_079f6_level0_row0\" class=\"row_heading level0 row0\" >dt</th>\n",
       "                        <td id=\"T_079f6_row0_col0\" class=\"data row0 col0\" >Decision Tree Classifier</td>\n",
       "                        <td id=\"T_079f6_row0_col1\" class=\"data row0 col1\" >0.8910</td>\n",
       "                        <td id=\"T_079f6_row0_col2\" class=\"data row0 col2\" >0.5460</td>\n",
       "                        <td id=\"T_079f6_row0_col3\" class=\"data row0 col3\" >0.1587</td>\n",
       "                        <td id=\"T_079f6_row0_col4\" class=\"data row0 col4\" >0.1231</td>\n",
       "                        <td id=\"T_079f6_row0_col5\" class=\"data row0 col5\" >0.1380</td>\n",
       "                        <td id=\"T_079f6_row0_col6\" class=\"data row0 col6\" >0.0813</td>\n",
       "                        <td id=\"T_079f6_row0_col7\" class=\"data row0 col7\" >0.0822</td>\n",
       "                        <td id=\"T_079f6_row0_col8\" class=\"data row0 col8\" >0.0620</td>\n",
       "            </tr>\n",
       "            <tr>\n",
       "                        <th id=\"T_079f6_level0_row1\" class=\"row_heading level0 row1\" >xgboost</th>\n",
       "                        <td id=\"T_079f6_row1_col0\" class=\"data row1 col0\" >Extreme Gradient Boosting</td>\n",
       "                        <td id=\"T_079f6_row1_col1\" class=\"data row1 col1\" >0.9441</td>\n",
       "                        <td id=\"T_079f6_row1_col2\" class=\"data row1 col2\" >0.7869</td>\n",
       "                        <td id=\"T_079f6_row1_col3\" class=\"data row1 col3\" >0.0689</td>\n",
       "                        <td id=\"T_079f6_row1_col4\" class=\"data row1 col4\" >0.4448</td>\n",
       "                        <td id=\"T_079f6_row1_col5\" class=\"data row1 col5\" >0.1180</td>\n",
       "                        <td id=\"T_079f6_row1_col6\" class=\"data row1 col6\" >0.1047</td>\n",
       "                        <td id=\"T_079f6_row1_col7\" class=\"data row1 col7\" >0.1561</td>\n",
       "                        <td id=\"T_079f6_row1_col8\" class=\"data row1 col8\" >1.3010</td>\n",
       "            </tr>\n",
       "            <tr>\n",
       "                        <th id=\"T_079f6_level0_row2\" class=\"row_heading level0 row2\" >qda</th>\n",
       "                        <td id=\"T_079f6_row2_col0\" class=\"data row2 col0\" >Quadratic Discriminant Analysis</td>\n",
       "                        <td id=\"T_079f6_row2_col1\" class=\"data row2 col1\" >0.1412</td>\n",
       "                        <td id=\"T_079f6_row2_col2\" class=\"data row2 col2\" >0.4975</td>\n",
       "                        <td id=\"T_079f6_row2_col3\" class=\"data row2 col3\" >0.9015</td>\n",
       "                        <td id=\"T_079f6_row2_col4\" class=\"data row2 col4\" >0.0545</td>\n",
       "                        <td id=\"T_079f6_row2_col5\" class=\"data row2 col5\" >0.1028</td>\n",
       "                        <td id=\"T_079f6_row2_col6\" class=\"data row2 col6\" >-0.0001</td>\n",
       "                        <td id=\"T_079f6_row2_col7\" class=\"data row2 col7\" >-0.0017</td>\n",
       "                        <td id=\"T_079f6_row2_col8\" class=\"data row2 col8\" >0.0130</td>\n",
       "            </tr>\n",
       "            <tr>\n",
       "                        <th id=\"T_079f6_level0_row3\" class=\"row_heading level0 row3\" >ada</th>\n",
       "                        <td id=\"T_079f6_row3_col0\" class=\"data row3 col0\" >Ada Boost Classifier</td>\n",
       "                        <td id=\"T_079f6_row3_col1\" class=\"data row3 col1\" >0.9428</td>\n",
       "                        <td id=\"T_079f6_row3_col2\" class=\"data row3 col2\" >0.7497</td>\n",
       "                        <td id=\"T_079f6_row3_col3\" class=\"data row3 col3\" >0.0601</td>\n",
       "                        <td id=\"T_079f6_row3_col4\" class=\"data row3 col4\" >0.3644</td>\n",
       "                        <td id=\"T_079f6_row3_col5\" class=\"data row3 col5\" >0.1023</td>\n",
       "                        <td id=\"T_079f6_row3_col6\" class=\"data row3 col6\" >0.0882</td>\n",
       "                        <td id=\"T_079f6_row3_col7\" class=\"data row3 col7\" >0.1288</td>\n",
       "                        <td id=\"T_079f6_row3_col8\" class=\"data row3 col8\" >0.2800</td>\n",
       "            </tr>\n",
       "            <tr>\n",
       "                        <th id=\"T_079f6_level0_row4\" class=\"row_heading level0 row4\" >nb</th>\n",
       "                        <td id=\"T_079f6_row4_col0\" class=\"data row4 col0\" >Naive Bayes</td>\n",
       "                        <td id=\"T_079f6_row4_col1\" class=\"data row4 col1\" >0.0963</td>\n",
       "                        <td id=\"T_079f6_row4_col2\" class=\"data row4 col2\" >0.6101</td>\n",
       "                        <td id=\"T_079f6_row4_col3\" class=\"data row4 col3\" >0.9405</td>\n",
       "                        <td id=\"T_079f6_row4_col4\" class=\"data row4 col4\" >0.0539</td>\n",
       "                        <td id=\"T_079f6_row4_col5\" class=\"data row4 col5\" >0.1020</td>\n",
       "                        <td id=\"T_079f6_row4_col6\" class=\"data row4 col6\" >-0.0014</td>\n",
       "                        <td id=\"T_079f6_row4_col7\" class=\"data row4 col7\" >-0.0124</td>\n",
       "                        <td id=\"T_079f6_row4_col8\" class=\"data row4 col8\" >0.0090</td>\n",
       "            </tr>\n",
       "            <tr>\n",
       "                        <th id=\"T_079f6_level0_row5\" class=\"row_heading level0 row5\" >lightgbm</th>\n",
       "                        <td id=\"T_079f6_row5_col0\" class=\"data row5 col0\" >Light Gradient Boosting Machine</td>\n",
       "                        <td id=\"T_079f6_row5_col1\" class=\"data row5 col1\" >0.9435</td>\n",
       "                        <td id=\"T_079f6_row5_col2\" class=\"data row5 col2\" >0.7818</td>\n",
       "                        <td id=\"T_079f6_row5_col3\" class=\"data row5 col3\" >0.0538</td>\n",
       "                        <td id=\"T_079f6_row5_col4\" class=\"data row5 col4\" >0.3456</td>\n",
       "                        <td id=\"T_079f6_row5_col5\" class=\"data row5 col5\" >0.0922</td>\n",
       "                        <td id=\"T_079f6_row5_col6\" class=\"data row5 col6\" >0.0802</td>\n",
       "                        <td id=\"T_079f6_row5_col7\" class=\"data row5 col7\" >0.1194</td>\n",
       "                        <td id=\"T_079f6_row5_col8\" class=\"data row5 col8\" >0.3730</td>\n",
       "            </tr>\n",
       "            <tr>\n",
       "                        <th id=\"T_079f6_level0_row6\" class=\"row_heading level0 row6\" >catboost</th>\n",
       "                        <td id=\"T_079f6_row6_col0\" class=\"data row6 col0\" >CatBoost Classifier</td>\n",
       "                        <td id=\"T_079f6_row6_col1\" class=\"data row6 col1\" >0.9457</td>\n",
       "                        <td id=\"T_079f6_row6_col2\" class=\"data row6 col2\" >0.8051</td>\n",
       "                        <td id=\"T_079f6_row6_col3\" class=\"data row6 col3\" >0.0447</td>\n",
       "                        <td id=\"T_079f6_row6_col4\" class=\"data row6 col4\" >0.5317</td>\n",
       "                        <td id=\"T_079f6_row6_col5\" class=\"data row6 col5\" >0.0803</td>\n",
       "                        <td id=\"T_079f6_row6_col6\" class=\"data row6 col6\" >0.0729</td>\n",
       "                        <td id=\"T_079f6_row6_col7\" class=\"data row6 col7\" >0.1355</td>\n",
       "                        <td id=\"T_079f6_row6_col8\" class=\"data row6 col8\" >5.2340</td>\n",
       "            </tr>\n",
       "            <tr>\n",
       "                        <th id=\"T_079f6_level0_row7\" class=\"row_heading level0 row7\" >knn</th>\n",
       "                        <td id=\"T_079f6_row7_col0\" class=\"data row7 col0\" >K Neighbors Classifier</td>\n",
       "                        <td id=\"T_079f6_row7_col1\" class=\"data row7 col1\" >0.9423</td>\n",
       "                        <td id=\"T_079f6_row7_col2\" class=\"data row7 col2\" >0.6123</td>\n",
       "                        <td id=\"T_079f6_row7_col3\" class=\"data row7 col3\" >0.0330</td>\n",
       "                        <td id=\"T_079f6_row7_col4\" class=\"data row7 col4\" >0.3033</td>\n",
       "                        <td id=\"T_079f6_row7_col5\" class=\"data row7 col5\" >0.0587</td>\n",
       "                        <td id=\"T_079f6_row7_col6\" class=\"data row7 col6\" >0.0474</td>\n",
       "                        <td id=\"T_079f6_row7_col7\" class=\"data row7 col7\" >0.0819</td>\n",
       "                        <td id=\"T_079f6_row7_col8\" class=\"data row7 col8\" >0.0790</td>\n",
       "            </tr>\n",
       "            <tr>\n",
       "                        <th id=\"T_079f6_level0_row8\" class=\"row_heading level0 row8\" >gbc</th>\n",
       "                        <td id=\"T_079f6_row8_col0\" class=\"data row8 col0\" >Gradient Boosting Classifier</td>\n",
       "                        <td id=\"T_079f6_row8_col1\" class=\"data row8 col1\" >0.9417</td>\n",
       "                        <td id=\"T_079f6_row8_col2\" class=\"data row8 col2\" >0.7863</td>\n",
       "                        <td id=\"T_079f6_row8_col3\" class=\"data row8 col3\" >0.0239</td>\n",
       "                        <td id=\"T_079f6_row8_col4\" class=\"data row8 col4\" >0.2867</td>\n",
       "                        <td id=\"T_079f6_row8_col5\" class=\"data row8 col5\" >0.0430</td>\n",
       "                        <td id=\"T_079f6_row8_col6\" class=\"data row8 col6\" >0.0323</td>\n",
       "                        <td id=\"T_079f6_row8_col7\" class=\"data row8 col7\" >0.0635</td>\n",
       "                        <td id=\"T_079f6_row8_col8\" class=\"data row8 col8\" >1.3140</td>\n",
       "            </tr>\n",
       "            <tr>\n",
       "                        <th id=\"T_079f6_level0_row9\" class=\"row_heading level0 row9\" >svm</th>\n",
       "                        <td id=\"T_079f6_row9_col0\" class=\"data row9 col0\" >SVM - Linear Kernel</td>\n",
       "                        <td id=\"T_079f6_row9_col1\" class=\"data row9 col1\" >0.9125</td>\n",
       "                        <td id=\"T_079f6_row9_col2\" class=\"data row9 col2\" >0.0000</td>\n",
       "                        <td id=\"T_079f6_row9_col3\" class=\"data row9 col3\" >0.0242</td>\n",
       "                        <td id=\"T_079f6_row9_col4\" class=\"data row9 col4\" >0.0808</td>\n",
       "                        <td id=\"T_079f6_row9_col5\" class=\"data row9 col5\" >0.0312</td>\n",
       "                        <td id=\"T_079f6_row9_col6\" class=\"data row9 col6\" >0.0038</td>\n",
       "                        <td id=\"T_079f6_row9_col7\" class=\"data row9 col7\" >0.0046</td>\n",
       "                        <td id=\"T_079f6_row9_col8\" class=\"data row9 col8\" >0.0170</td>\n",
       "            </tr>\n",
       "            <tr>\n",
       "                        <th id=\"T_079f6_level0_row10\" class=\"row_heading level0 row10\" >et</th>\n",
       "                        <td id=\"T_079f6_row10_col0\" class=\"data row10 col0\" >Extra Trees Classifier</td>\n",
       "                        <td id=\"T_079f6_row10_col1\" class=\"data row10 col1\" >0.9420</td>\n",
       "                        <td id=\"T_079f6_row10_col2\" class=\"data row10 col2\" >0.7383</td>\n",
       "                        <td id=\"T_079f6_row10_col3\" class=\"data row10 col3\" >0.0120</td>\n",
       "                        <td id=\"T_079f6_row10_col4\" class=\"data row10 col4\" >0.1500</td>\n",
       "                        <td id=\"T_079f6_row10_col5\" class=\"data row10 col5\" >0.0222</td>\n",
       "                        <td id=\"T_079f6_row10_col6\" class=\"data row10 col6\" >0.0139</td>\n",
       "                        <td id=\"T_079f6_row10_col7\" class=\"data row10 col7\" >0.0278</td>\n",
       "                        <td id=\"T_079f6_row10_col8\" class=\"data row10 col8\" >0.1750</td>\n",
       "            </tr>\n",
       "            <tr>\n",
       "                        <th id=\"T_079f6_level0_row11\" class=\"row_heading level0 row11\" >lda</th>\n",
       "                        <td id=\"T_079f6_row11_col0\" class=\"data row11 col0\" >Linear Discriminant Analysis</td>\n",
       "                        <td id=\"T_079f6_row11_col1\" class=\"data row11 col1\" >0.9420</td>\n",
       "                        <td id=\"T_079f6_row11_col2\" class=\"data row11 col2\" >0.7025</td>\n",
       "                        <td id=\"T_079f6_row11_col3\" class=\"data row11 col3\" >0.0119</td>\n",
       "                        <td id=\"T_079f6_row11_col4\" class=\"data row11 col4\" >0.1400</td>\n",
       "                        <td id=\"T_079f6_row11_col5\" class=\"data row11 col5\" >0.0217</td>\n",
       "                        <td id=\"T_079f6_row11_col6\" class=\"data row11 col6\" >0.0133</td>\n",
       "                        <td id=\"T_079f6_row11_col7\" class=\"data row11 col7\" >0.0260</td>\n",
       "                        <td id=\"T_079f6_row11_col8\" class=\"data row11 col8\" >0.0160</td>\n",
       "            </tr>\n",
       "            <tr>\n",
       "                        <th id=\"T_079f6_level0_row12\" class=\"row_heading level0 row12\" >lr</th>\n",
       "                        <td id=\"T_079f6_row12_col0\" class=\"data row12 col0\" >Logistic Regression</td>\n",
       "                        <td id=\"T_079f6_row12_col1\" class=\"data row12 col1\" >0.9428</td>\n",
       "                        <td id=\"T_079f6_row12_col2\" class=\"data row12 col2\" >0.6718</td>\n",
       "                        <td id=\"T_079f6_row12_col3\" class=\"data row12 col3\" >0.0089</td>\n",
       "                        <td id=\"T_079f6_row12_col4\" class=\"data row12 col4\" >0.0867</td>\n",
       "                        <td id=\"T_079f6_row12_col5\" class=\"data row12 col5\" >0.0161</td>\n",
       "                        <td id=\"T_079f6_row12_col6\" class=\"data row12 col6\" >0.0097</td>\n",
       "                        <td id=\"T_079f6_row12_col7\" class=\"data row12 col7\" >0.0160</td>\n",
       "                        <td id=\"T_079f6_row12_col8\" class=\"data row12 col8\" >0.5410</td>\n",
       "            </tr>\n",
       "            <tr>\n",
       "                        <th id=\"T_079f6_level0_row13\" class=\"row_heading level0 row13\" >ridge</th>\n",
       "                        <td id=\"T_079f6_row13_col0\" class=\"data row13 col0\" >Ridge Classifier</td>\n",
       "                        <td id=\"T_079f6_row13_col1\" class=\"data row13 col1\" >0.9444</td>\n",
       "                        <td id=\"T_079f6_row13_col2\" class=\"data row13 col2\" >0.0000</td>\n",
       "                        <td id=\"T_079f6_row13_col3\" class=\"data row13 col3\" >0.0059</td>\n",
       "                        <td id=\"T_079f6_row13_col4\" class=\"data row13 col4\" >0.0833</td>\n",
       "                        <td id=\"T_079f6_row13_col5\" class=\"data row13 col5\" >0.0110</td>\n",
       "                        <td id=\"T_079f6_row13_col6\" class=\"data row13 col6\" >0.0079</td>\n",
       "                        <td id=\"T_079f6_row13_col7\" class=\"data row13 col7\" >0.0148</td>\n",
       "                        <td id=\"T_079f6_row13_col8\" class=\"data row13 col8\" >0.0100</td>\n",
       "            </tr>\n",
       "            <tr>\n",
       "                        <th id=\"T_079f6_level0_row14\" class=\"row_heading level0 row14\" >rf</th>\n",
       "                        <td id=\"T_079f6_row14_col0\" class=\"data row14 col0\" >Random Forest Classifier</td>\n",
       "                        <td id=\"T_079f6_row14_col1\" class=\"data row14 col1\" >0.9431</td>\n",
       "                        <td id=\"T_079f6_row14_col2\" class=\"data row14 col2\" >0.7571</td>\n",
       "                        <td id=\"T_079f6_row14_col3\" class=\"data row14 col3\" >0.0029</td>\n",
       "                        <td id=\"T_079f6_row14_col4\" class=\"data row14 col4\" >0.0500</td>\n",
       "                        <td id=\"T_079f6_row14_col5\" class=\"data row14 col5\" >0.0056</td>\n",
       "                        <td id=\"T_079f6_row14_col6\" class=\"data row14 col6\" >0.0008</td>\n",
       "                        <td id=\"T_079f6_row14_col7\" class=\"data row14 col7\" >0.0021</td>\n",
       "                        <td id=\"T_079f6_row14_col8\" class=\"data row14 col8\" >0.4310</td>\n",
       "            </tr>\n",
       "    </tbody></table>"
      ],
      "text/plain": [
       "<pandas.io.formats.style.Styler at 0x24df4b3a760>"
      ]
     },
     "metadata": {},
     "output_type": "display_data"
    }
   ],
   "source": [
    "best_model = compare_models(sort='F1')"
   ]
  },
  {
   "cell_type": "markdown",
   "metadata": {
    "id": "ciOmXGaJ69Rx"
   },
   "source": [
    "# 묶는거 다시"
   ]
  },
  {
   "cell_type": "code",
   "execution_count": 23,
   "metadata": {
    "id": "rgzViUgP62RE"
   },
   "outputs": [],
   "source": [
    "df_liq = df[['Attr12','Attr32','Attr33','Attr4','Attr40','Attr5']]\n",
    "df_tn_ovr = df[['Attr1','Attr15','Attr20','Attr43','Attr47','Attr57','Attr61','Attr64']]\n",
    "df_op_prof = df[['Attr18','Attr21','Attr24','Attr27','Attr3','Attr41','Attr42','Attr45','Attr49','Attr53','Attr7']]\n",
    "df_bsns_rsk = df[['Attr13','Attr19','Attr39']]\n",
    "df_fncl_rsk = df[['Attr10','Attr2','Attr25','Attr30','Attr58','Attr59','Attr6','Attr8']]\n",
    "df_stab = df[['Attr28','Attr29','Attr38','Attr55']]\n"
   ]
  },
  {
   "cell_type": "code",
   "execution_count": 24,
   "metadata": {
    "id": "M1NpoLdO6_b1"
   },
   "outputs": [],
   "source": [
    "from sklearn.preprocessing import StandardScaler\n",
    "df_liq = StandardScaler().fit_transform(df_liq)\n",
    "df_tn_ovr = StandardScaler().fit_transform(df_tn_ovr)\n",
    "df_op_prof = StandardScaler().fit_transform(df_op_prof)\n",
    "df_bsns_rsk = StandardScaler().fit_transform(df_bsns_rsk)\n",
    "df_fncl_rsk = StandardScaler().fit_transform(df_fncl_rsk)\n",
    "df_stab = StandardScaler().fit_transform(df_stab)"
   ]
  },
  {
   "cell_type": "code",
   "execution_count": 25,
   "metadata": {
    "colab": {
     "base_uri": "https://localhost:8080/",
     "height": 235
    },
    "id": "JYh9JJJS7EgE",
    "outputId": "8ebad1e7-af32-408c-caac-3e0c12eab1c8"
   },
   "outputs": [
    {
     "ename": "AttributeError",
     "evalue": "'numpy.ndarray' object has no attribute 'corr'",
     "output_type": "error",
     "traceback": [
      "\u001b[1;31m---------------------------------------------------------------------------\u001b[0m",
      "\u001b[1;31mAttributeError\u001b[0m                            Traceback (most recent call last)",
      "\u001b[1;32m<ipython-input-25-d072671456a6>\u001b[0m in \u001b[0;36m<module>\u001b[1;34m\u001b[0m\n\u001b[1;32m----> 1\u001b[1;33m \u001b[0mcorr_diff\u001b[0m \u001b[1;33m=\u001b[0m \u001b[1;33m[\u001b[0m\u001b[0mabs\u001b[0m\u001b[1;33m(\u001b[0m\u001b[0mdf_liq\u001b[0m\u001b[1;33m.\u001b[0m\u001b[0mcorr\u001b[0m\u001b[1;33m(\u001b[0m\u001b[0mmethod\u001b[0m\u001b[1;33m=\u001b[0m\u001b[1;34m'pearson'\u001b[0m\u001b[1;33m)\u001b[0m\u001b[1;33m)\u001b[0m \u001b[1;33m>\u001b[0m \u001b[1;36m0.5\u001b[0m\u001b[1;33m]\u001b[0m\u001b[1;33m\u001b[0m\u001b[1;33m\u001b[0m\u001b[0m\n\u001b[0m\u001b[0;32m      2\u001b[0m \u001b[0mcorr_diff\u001b[0m\u001b[1;33m[\u001b[0m\u001b[1;36m0\u001b[0m\u001b[1;33m]\u001b[0m\u001b[1;33m\u001b[0m\u001b[1;33m\u001b[0m\u001b[0m\n",
      "\u001b[1;31mAttributeError\u001b[0m: 'numpy.ndarray' object has no attribute 'corr'"
     ]
    }
   ],
   "source": [
    "corr_diff = [abs(df_liq.corr(method='pearson')) > 0.5]\n",
    "corr_diff[0]"
   ]
  },
  {
   "cell_type": "code",
   "execution_count": 28,
   "metadata": {
    "colab": {
     "base_uri": "https://localhost:8080/",
     "height": 297
    },
    "id": "htlPTkS27Yfw",
    "outputId": "69d2da10-5ec9-4ec5-8d8f-479f7ce95a57"
   },
   "outputs": [
    {
     "ename": "AttributeError",
     "evalue": "'numpy.ndarray' object has no attribute 'corr'",
     "output_type": "error",
     "traceback": [
      "\u001b[1;31m---------------------------------------------------------------------------\u001b[0m",
      "\u001b[1;31mAttributeError\u001b[0m                            Traceback (most recent call last)",
      "\u001b[1;32m<ipython-input-28-ab2e7c91ef6b>\u001b[0m in \u001b[0;36m<module>\u001b[1;34m\u001b[0m\n\u001b[1;32m----> 1\u001b[1;33m \u001b[0mcorr_diff\u001b[0m \u001b[1;33m=\u001b[0m \u001b[1;33m[\u001b[0m\u001b[0mabs\u001b[0m\u001b[1;33m(\u001b[0m\u001b[0mdf_tn_ovr\u001b[0m\u001b[1;33m.\u001b[0m\u001b[0mcorr\u001b[0m\u001b[1;33m(\u001b[0m\u001b[0mmethod\u001b[0m\u001b[1;33m=\u001b[0m\u001b[1;34m'pearson'\u001b[0m\u001b[1;33m)\u001b[0m\u001b[1;33m)\u001b[0m \u001b[1;33m>\u001b[0m \u001b[1;36m0.5\u001b[0m\u001b[1;33m]\u001b[0m\u001b[1;33m\u001b[0m\u001b[1;33m\u001b[0m\u001b[0m\n\u001b[0m\u001b[0;32m      2\u001b[0m \u001b[0mcorr_diff\u001b[0m\u001b[1;33m[\u001b[0m\u001b[1;36m0\u001b[0m\u001b[1;33m]\u001b[0m\u001b[1;33m\u001b[0m\u001b[1;33m\u001b[0m\u001b[0m\n",
      "\u001b[1;31mAttributeError\u001b[0m: 'numpy.ndarray' object has no attribute 'corr'"
     ]
    }
   ],
   "source": [
    "corr_diff = [abs(df_tn_ovr.corr(method='pearson')) > 0.5]\n",
    "corr_diff[0]"
   ]
  },
  {
   "cell_type": "code",
   "execution_count": 29,
   "metadata": {
    "colab": {
     "base_uri": "https://localhost:8080/",
     "height": 390
    },
    "id": "bxOKobre7Yi5",
    "outputId": "8935add7-d897-4e12-cca5-dbe8e8cf3e54"
   },
   "outputs": [
    {
     "ename": "AttributeError",
     "evalue": "'numpy.ndarray' object has no attribute 'corr'",
     "output_type": "error",
     "traceback": [
      "\u001b[1;31m---------------------------------------------------------------------------\u001b[0m",
      "\u001b[1;31mAttributeError\u001b[0m                            Traceback (most recent call last)",
      "\u001b[1;32m<ipython-input-29-767f92be2d79>\u001b[0m in \u001b[0;36m<module>\u001b[1;34m\u001b[0m\n\u001b[1;32m----> 1\u001b[1;33m \u001b[0mcorr_diff\u001b[0m \u001b[1;33m=\u001b[0m \u001b[1;33m[\u001b[0m\u001b[0mabs\u001b[0m\u001b[1;33m(\u001b[0m\u001b[0mdf_op_prof\u001b[0m\u001b[1;33m.\u001b[0m\u001b[0mcorr\u001b[0m\u001b[1;33m(\u001b[0m\u001b[0mmethod\u001b[0m\u001b[1;33m=\u001b[0m\u001b[1;34m'pearson'\u001b[0m\u001b[1;33m)\u001b[0m\u001b[1;33m)\u001b[0m \u001b[1;33m>\u001b[0m \u001b[1;36m0.5\u001b[0m\u001b[1;33m]\u001b[0m\u001b[1;33m\u001b[0m\u001b[1;33m\u001b[0m\u001b[0m\n\u001b[0m\u001b[0;32m      2\u001b[0m \u001b[0mcorr_diff\u001b[0m\u001b[1;33m[\u001b[0m\u001b[1;36m0\u001b[0m\u001b[1;33m]\u001b[0m\u001b[1;33m\u001b[0m\u001b[1;33m\u001b[0m\u001b[0m\n",
      "\u001b[1;31mAttributeError\u001b[0m: 'numpy.ndarray' object has no attribute 'corr'"
     ]
    }
   ],
   "source": [
    "corr_diff = [abs(df_op_prof.corr(method='pearson')) > 0.5]\n",
    "corr_diff[0]"
   ]
  },
  {
   "cell_type": "code",
   "execution_count": 30,
   "metadata": {
    "colab": {
     "base_uri": "https://localhost:8080/",
     "height": 142
    },
    "id": "d6OhMeUM7Yk5",
    "outputId": "bf8d642b-4109-4565-c55e-0294e6e16c82"
   },
   "outputs": [
    {
     "ename": "AttributeError",
     "evalue": "'numpy.ndarray' object has no attribute 'corr'",
     "output_type": "error",
     "traceback": [
      "\u001b[1;31m---------------------------------------------------------------------------\u001b[0m",
      "\u001b[1;31mAttributeError\u001b[0m                            Traceback (most recent call last)",
      "\u001b[1;32m<ipython-input-30-0ca0491b1408>\u001b[0m in \u001b[0;36m<module>\u001b[1;34m\u001b[0m\n\u001b[1;32m----> 1\u001b[1;33m \u001b[0mcorr_diff\u001b[0m \u001b[1;33m=\u001b[0m \u001b[1;33m[\u001b[0m\u001b[0mabs\u001b[0m\u001b[1;33m(\u001b[0m\u001b[0mdf_bsns_rsk\u001b[0m\u001b[1;33m.\u001b[0m\u001b[0mcorr\u001b[0m\u001b[1;33m(\u001b[0m\u001b[0mmethod\u001b[0m\u001b[1;33m=\u001b[0m\u001b[1;34m'pearson'\u001b[0m\u001b[1;33m)\u001b[0m\u001b[1;33m)\u001b[0m \u001b[1;33m>\u001b[0m \u001b[1;36m0.5\u001b[0m\u001b[1;33m]\u001b[0m\u001b[1;33m\u001b[0m\u001b[1;33m\u001b[0m\u001b[0m\n\u001b[0m\u001b[0;32m      2\u001b[0m \u001b[0mcorr_diff\u001b[0m\u001b[1;33m[\u001b[0m\u001b[1;36m0\u001b[0m\u001b[1;33m]\u001b[0m\u001b[1;33m\u001b[0m\u001b[1;33m\u001b[0m\u001b[0m\n",
      "\u001b[1;31mAttributeError\u001b[0m: 'numpy.ndarray' object has no attribute 'corr'"
     ]
    }
   ],
   "source": [
    "corr_diff = [abs(df_bsns_rsk.corr(method='pearson')) > 0.5]\n",
    "corr_diff[0]"
   ]
  },
  {
   "cell_type": "code",
   "execution_count": 31,
   "metadata": {
    "colab": {
     "base_uri": "https://localhost:8080/",
     "height": 297
    },
    "id": "Volbpgpp7YnS",
    "outputId": "7564f6ce-d9e3-4b05-f399-549bc0b6aacb"
   },
   "outputs": [
    {
     "ename": "AttributeError",
     "evalue": "'numpy.ndarray' object has no attribute 'corr'",
     "output_type": "error",
     "traceback": [
      "\u001b[1;31m---------------------------------------------------------------------------\u001b[0m",
      "\u001b[1;31mAttributeError\u001b[0m                            Traceback (most recent call last)",
      "\u001b[1;32m<ipython-input-31-96c269b9e564>\u001b[0m in \u001b[0;36m<module>\u001b[1;34m\u001b[0m\n\u001b[1;32m----> 1\u001b[1;33m \u001b[0mcorr_diff\u001b[0m \u001b[1;33m=\u001b[0m \u001b[1;33m[\u001b[0m\u001b[0mabs\u001b[0m\u001b[1;33m(\u001b[0m\u001b[0mdf_fncl_rsk\u001b[0m\u001b[1;33m.\u001b[0m\u001b[0mcorr\u001b[0m\u001b[1;33m(\u001b[0m\u001b[0mmethod\u001b[0m\u001b[1;33m=\u001b[0m\u001b[1;34m'pearson'\u001b[0m\u001b[1;33m)\u001b[0m\u001b[1;33m)\u001b[0m \u001b[1;33m>\u001b[0m \u001b[1;36m0.5\u001b[0m\u001b[1;33m]\u001b[0m\u001b[1;33m\u001b[0m\u001b[1;33m\u001b[0m\u001b[0m\n\u001b[0m\u001b[0;32m      2\u001b[0m \u001b[0mcorr_diff\u001b[0m\u001b[1;33m[\u001b[0m\u001b[1;36m0\u001b[0m\u001b[1;33m]\u001b[0m\u001b[1;33m\u001b[0m\u001b[1;33m\u001b[0m\u001b[0m\n",
      "\u001b[1;31mAttributeError\u001b[0m: 'numpy.ndarray' object has no attribute 'corr'"
     ]
    }
   ],
   "source": [
    "corr_diff = [abs(df_fncl_rsk.corr(method='pearson')) > 0.5]\n",
    "corr_diff[0]"
   ]
  },
  {
   "cell_type": "code",
   "execution_count": 32,
   "metadata": {
    "colab": {
     "base_uri": "https://localhost:8080/",
     "height": 173
    },
    "id": "ad6kKCKQ7Yqi",
    "outputId": "2a1c8227-7434-4f78-cd47-0fb3e74533bc"
   },
   "outputs": [
    {
     "ename": "AttributeError",
     "evalue": "'numpy.ndarray' object has no attribute 'corr'",
     "output_type": "error",
     "traceback": [
      "\u001b[1;31m---------------------------------------------------------------------------\u001b[0m",
      "\u001b[1;31mAttributeError\u001b[0m                            Traceback (most recent call last)",
      "\u001b[1;32m<ipython-input-32-5981bb5dd712>\u001b[0m in \u001b[0;36m<module>\u001b[1;34m\u001b[0m\n\u001b[1;32m----> 1\u001b[1;33m \u001b[0mcorr_diff\u001b[0m \u001b[1;33m=\u001b[0m \u001b[1;33m[\u001b[0m\u001b[0mabs\u001b[0m\u001b[1;33m(\u001b[0m\u001b[0mdf_stab\u001b[0m\u001b[1;33m.\u001b[0m\u001b[0mcorr\u001b[0m\u001b[1;33m(\u001b[0m\u001b[0mmethod\u001b[0m\u001b[1;33m=\u001b[0m\u001b[1;34m'pearson'\u001b[0m\u001b[1;33m)\u001b[0m\u001b[1;33m)\u001b[0m \u001b[1;33m>\u001b[0m \u001b[1;36m0.5\u001b[0m\u001b[1;33m]\u001b[0m\u001b[1;33m\u001b[0m\u001b[1;33m\u001b[0m\u001b[0m\n\u001b[0m\u001b[0;32m      2\u001b[0m \u001b[0mcorr_diff\u001b[0m\u001b[1;33m[\u001b[0m\u001b[1;36m0\u001b[0m\u001b[1;33m]\u001b[0m\u001b[1;33m\u001b[0m\u001b[1;33m\u001b[0m\u001b[0m\n",
      "\u001b[1;31mAttributeError\u001b[0m: 'numpy.ndarray' object has no attribute 'corr'"
     ]
    }
   ],
   "source": [
    "corr_diff = [abs(df_stab.corr(method='pearson')) > 0.5]\n",
    "corr_diff[0]"
   ]
  },
  {
   "cell_type": "code",
   "execution_count": 33,
   "metadata": {
    "id": "6LRusWXA8OC1"
   },
   "outputs": [],
   "source": [
    "df_liq = df[['Attr4','Attr40']]\n",
    "df_op_prof = df[['Attr42','Attr49']]\n",
    "df_bsns_rsk = df[['Attr13','Attr19']]\n",
    "df_fncl_rsk = df[['Attr10','Attr2','Attr25']]"
   ]
  },
  {
   "cell_type": "code",
   "execution_count": 34,
   "metadata": {
    "id": "1T3ZAFIC8zMn"
   },
   "outputs": [],
   "source": [
    "from sklearn.preprocessing import StandardScaler\n",
    "df_liq = StandardScaler().fit_transform(df_liq)\n",
    "#df_tn_ovr = StandardScaler().fit_transform(df_tn_ovr)\n",
    "df_op_prof = StandardScaler().fit_transform(df_op_prof)\n",
    "df_bsns_rsk = StandardScaler().fit_transform(df_bsns_rsk)\n",
    "df_fncl_rsk = StandardScaler().fit_transform(df_fncl_rsk)\n",
    "#df_stab = StandardScaler().fit_transform(df_stab)"
   ]
  },
  {
   "cell_type": "markdown",
   "metadata": {
    "id": "zuhlgQtJBOMe"
   },
   "source": [
    "liq"
   ]
  },
  {
   "cell_type": "code",
   "execution_count": 35,
   "metadata": {
    "colab": {
     "base_uri": "https://localhost:8080/",
     "height": 111
    },
    "id": "n6RxA3ng8zMo",
    "outputId": "bceb75a7-5262-4ac7-8ca4-a7aafa9b9c2e"
   },
   "outputs": [
    {
     "data": {
      "text/html": [
       "<div>\n",
       "<style scoped>\n",
       "    .dataframe tbody tr th:only-of-type {\n",
       "        vertical-align: middle;\n",
       "    }\n",
       "\n",
       "    .dataframe tbody tr th {\n",
       "        vertical-align: top;\n",
       "    }\n",
       "\n",
       "    .dataframe thead th {\n",
       "        text-align: right;\n",
       "    }\n",
       "</style>\n",
       "<table border=\"1\" class=\"dataframe\">\n",
       "  <thead>\n",
       "    <tr style=\"text-align: right;\">\n",
       "      <th></th>\n",
       "      <th>Cum_V_ration</th>\n",
       "    </tr>\n",
       "  </thead>\n",
       "  <tbody>\n",
       "    <tr>\n",
       "      <th>0</th>\n",
       "      <td>0.86701</td>\n",
       "    </tr>\n",
       "    <tr>\n",
       "      <th>1</th>\n",
       "      <td>1.00000</td>\n",
       "    </tr>\n",
       "  </tbody>\n",
       "</table>\n",
       "</div>"
      ],
      "text/plain": [
       "   Cum_V_ration\n",
       "0       0.86701\n",
       "1       1.00000"
      ]
     },
     "execution_count": 35,
     "metadata": {},
     "output_type": "execute_result"
    }
   ],
   "source": [
    "pca = PCA(n_components=df_liq.shape[1])\n",
    "pca.fit(df_liq)\n",
    "explained_variance_ratio = pca.explained_variance_ratio_\n",
    "pd.DataFrame(np.cumsum(explained_variance_ratio[:]),  \n",
    "                    columns=['Cum_V_ration'])\n"
   ]
  },
  {
   "cell_type": "code",
   "execution_count": 36,
   "metadata": {
    "colab": {
     "base_uri": "https://localhost:8080/"
    },
    "id": "pRFzVRvI8zMp",
    "outputId": "86e6007c-b449-4977-e9f9-9ab5d43688e9"
   },
   "outputs": [
    {
     "name": "stdout",
     "output_type": "stream",
     "text": [
      "PC의 설명력 : 86.701%\n"
     ]
    }
   ],
   "source": [
    "pcs = pca.fit_transform(df_liq)\n",
    "n_of_pcs = 1\n",
    "print(\"PC의 설명력 : {:.3f}%\".format(np.sum(explained_variance_ratio[:n_of_pcs]*100)))\n",
    "df_liq_pc = pd.DataFrame(pcs[:,:n_of_pcs], \n",
    "                        columns = ['liq_1'][:n_of_pcs])"
   ]
  },
  {
   "cell_type": "code",
   "execution_count": 37,
   "metadata": {
    "id": "-sHHlZoRBQNk"
   },
   "outputs": [
    {
     "data": {
      "text/html": [
       "<div>\n",
       "<style scoped>\n",
       "    .dataframe tbody tr th:only-of-type {\n",
       "        vertical-align: middle;\n",
       "    }\n",
       "\n",
       "    .dataframe tbody tr th {\n",
       "        vertical-align: top;\n",
       "    }\n",
       "\n",
       "    .dataframe thead th {\n",
       "        text-align: right;\n",
       "    }\n",
       "</style>\n",
       "<table border=\"1\" class=\"dataframe\">\n",
       "  <thead>\n",
       "    <tr style=\"text-align: right;\">\n",
       "      <th></th>\n",
       "      <th>liq_1</th>\n",
       "    </tr>\n",
       "  </thead>\n",
       "  <tbody>\n",
       "    <tr>\n",
       "      <th>0</th>\n",
       "      <td>-5.690372e-02</td>\n",
       "    </tr>\n",
       "    <tr>\n",
       "      <th>1</th>\n",
       "      <td>4.056575e-17</td>\n",
       "    </tr>\n",
       "    <tr>\n",
       "      <th>2</th>\n",
       "      <td>-5.763256e-02</td>\n",
       "    </tr>\n",
       "    <tr>\n",
       "      <th>3</th>\n",
       "      <td>-2.880104e-03</td>\n",
       "    </tr>\n",
       "    <tr>\n",
       "      <th>4</th>\n",
       "      <td>-3.597121e-02</td>\n",
       "    </tr>\n",
       "  </tbody>\n",
       "</table>\n",
       "</div>"
      ],
      "text/plain": [
       "          liq_1\n",
       "0 -5.690372e-02\n",
       "1  4.056575e-17\n",
       "2 -5.763256e-02\n",
       "3 -2.880104e-03\n",
       "4 -3.597121e-02"
      ]
     },
     "execution_count": 37,
     "metadata": {},
     "output_type": "execute_result"
    }
   ],
   "source": [
    "df_liq_pc.head()"
   ]
  },
  {
   "cell_type": "markdown",
   "metadata": {
    "id": "Sp9YQYeo8zMr"
   },
   "source": [
    "op_prof"
   ]
  },
  {
   "cell_type": "code",
   "execution_count": 38,
   "metadata": {
    "colab": {
     "base_uri": "https://localhost:8080/",
     "height": 111
    },
    "id": "R-z2C_9G8zMr",
    "outputId": "1c65971a-c599-49c7-cefc-b26dbb62422e"
   },
   "outputs": [
    {
     "data": {
      "text/html": [
       "<div>\n",
       "<style scoped>\n",
       "    .dataframe tbody tr th:only-of-type {\n",
       "        vertical-align: middle;\n",
       "    }\n",
       "\n",
       "    .dataframe tbody tr th {\n",
       "        vertical-align: top;\n",
       "    }\n",
       "\n",
       "    .dataframe thead th {\n",
       "        text-align: right;\n",
       "    }\n",
       "</style>\n",
       "<table border=\"1\" class=\"dataframe\">\n",
       "  <thead>\n",
       "    <tr style=\"text-align: right;\">\n",
       "      <th></th>\n",
       "      <th>Cum_V_ration</th>\n",
       "    </tr>\n",
       "  </thead>\n",
       "  <tbody>\n",
       "    <tr>\n",
       "      <th>0</th>\n",
       "      <td>0.942934</td>\n",
       "    </tr>\n",
       "    <tr>\n",
       "      <th>1</th>\n",
       "      <td>1.000000</td>\n",
       "    </tr>\n",
       "  </tbody>\n",
       "</table>\n",
       "</div>"
      ],
      "text/plain": [
       "   Cum_V_ration\n",
       "0      0.942934\n",
       "1      1.000000"
      ]
     },
     "execution_count": 38,
     "metadata": {},
     "output_type": "execute_result"
    }
   ],
   "source": [
    "pca = PCA(n_components=df_op_prof.shape[1])\n",
    "pca.fit(df_op_prof)\n",
    "explained_variance_ratio = pca.explained_variance_ratio_\n",
    "pd.DataFrame(np.cumsum(explained_variance_ratio[:]),  \n",
    "                    columns=['Cum_V_ration'])"
   ]
  },
  {
   "cell_type": "code",
   "execution_count": 39,
   "metadata": {
    "colab": {
     "base_uri": "https://localhost:8080/"
    },
    "id": "IHBCeOeI8zMs",
    "outputId": "09ca2894-f15d-430a-f6d8-d7c1d3859cf3"
   },
   "outputs": [
    {
     "name": "stdout",
     "output_type": "stream",
     "text": [
      "PC의 설명력 : 94.293%\n"
     ]
    }
   ],
   "source": [
    "pcs = pca.fit_transform(df_op_prof)\n",
    "n_of_pcs = 1\n",
    "print(\"PC의 설명력 : {:.3f}%\".format(np.sum(explained_variance_ratio[:n_of_pcs]*100)))\n",
    "df_op_prof_pc = pd.DataFrame(pcs[:,:n_of_pcs], \n",
    "                        columns = ['op_1'][:n_of_pcs])"
   ]
  },
  {
   "cell_type": "code",
   "execution_count": 40,
   "metadata": {
    "id": "K84vudmXBLtt"
   },
   "outputs": [
    {
     "data": {
      "text/html": [
       "<div>\n",
       "<style scoped>\n",
       "    .dataframe tbody tr th:only-of-type {\n",
       "        vertical-align: middle;\n",
       "    }\n",
       "\n",
       "    .dataframe tbody tr th {\n",
       "        vertical-align: top;\n",
       "    }\n",
       "\n",
       "    .dataframe thead th {\n",
       "        text-align: right;\n",
       "    }\n",
       "</style>\n",
       "<table border=\"1\" class=\"dataframe\">\n",
       "  <thead>\n",
       "    <tr style=\"text-align: right;\">\n",
       "      <th></th>\n",
       "      <th>op_1</th>\n",
       "    </tr>\n",
       "  </thead>\n",
       "  <tbody>\n",
       "    <tr>\n",
       "      <th>0</th>\n",
       "      <td>-0.039632</td>\n",
       "    </tr>\n",
       "    <tr>\n",
       "      <th>1</th>\n",
       "      <td>-0.097482</td>\n",
       "    </tr>\n",
       "    <tr>\n",
       "      <th>2</th>\n",
       "      <td>-0.015167</td>\n",
       "    </tr>\n",
       "    <tr>\n",
       "      <th>3</th>\n",
       "      <td>-0.046792</td>\n",
       "    </tr>\n",
       "    <tr>\n",
       "      <th>4</th>\n",
       "      <td>-0.068734</td>\n",
       "    </tr>\n",
       "  </tbody>\n",
       "</table>\n",
       "</div>"
      ],
      "text/plain": [
       "       op_1\n",
       "0 -0.039632\n",
       "1 -0.097482\n",
       "2 -0.015167\n",
       "3 -0.046792\n",
       "4 -0.068734"
      ]
     },
     "execution_count": 40,
     "metadata": {},
     "output_type": "execute_result"
    }
   ],
   "source": [
    "df_op_prof_pc.head()"
   ]
  },
  {
   "cell_type": "markdown",
   "metadata": {
    "id": "tCfs-NZ98zMs"
   },
   "source": [
    "bsns_rsk"
   ]
  },
  {
   "cell_type": "code",
   "execution_count": 41,
   "metadata": {
    "colab": {
     "base_uri": "https://localhost:8080/",
     "height": 111
    },
    "id": "_r2V_7VC8zMs",
    "outputId": "fe25de61-07a4-42b5-e7c7-bc9d7f4e35cd"
   },
   "outputs": [
    {
     "data": {
      "text/html": [
       "<div>\n",
       "<style scoped>\n",
       "    .dataframe tbody tr th:only-of-type {\n",
       "        vertical-align: middle;\n",
       "    }\n",
       "\n",
       "    .dataframe tbody tr th {\n",
       "        vertical-align: top;\n",
       "    }\n",
       "\n",
       "    .dataframe thead th {\n",
       "        text-align: right;\n",
       "    }\n",
       "</style>\n",
       "<table border=\"1\" class=\"dataframe\">\n",
       "  <thead>\n",
       "    <tr style=\"text-align: right;\">\n",
       "      <th></th>\n",
       "      <th>Cum_V_ration</th>\n",
       "    </tr>\n",
       "  </thead>\n",
       "  <tbody>\n",
       "    <tr>\n",
       "      <th>0</th>\n",
       "      <td>0.785348</td>\n",
       "    </tr>\n",
       "    <tr>\n",
       "      <th>1</th>\n",
       "      <td>1.000000</td>\n",
       "    </tr>\n",
       "  </tbody>\n",
       "</table>\n",
       "</div>"
      ],
      "text/plain": [
       "   Cum_V_ration\n",
       "0      0.785348\n",
       "1      1.000000"
      ]
     },
     "execution_count": 41,
     "metadata": {},
     "output_type": "execute_result"
    }
   ],
   "source": [
    "pca = PCA(n_components=df_bsns_rsk.shape[1])\n",
    "pca.fit(df_bsns_rsk)\n",
    "explained_variance_ratio = pca.explained_variance_ratio_\n",
    "pd.DataFrame(np.cumsum(explained_variance_ratio[:]), \n",
    "                    columns=['Cum_V_ration'])"
   ]
  },
  {
   "cell_type": "code",
   "execution_count": 42,
   "metadata": {
    "colab": {
     "base_uri": "https://localhost:8080/"
    },
    "id": "1VqgXIRv8zMs",
    "outputId": "44e2a999-12e9-4879-f64d-3f9be751f13b"
   },
   "outputs": [
    {
     "name": "stdout",
     "output_type": "stream",
     "text": [
      "PC의 설명력 : 78.535%\n"
     ]
    }
   ],
   "source": [
    "pcs = pca.fit_transform(df_bsns_rsk)\n",
    "n_of_pcs = 1\n",
    "print(\"PC의 설명력 : {:.3f}%\".format(np.sum(explained_variance_ratio[:n_of_pcs]*100)))\n",
    "df_bsns_rsk_pc = pd.DataFrame(pcs[:,:n_of_pcs], \n",
    "                        columns = ['bs_1'][:n_of_pcs])"
   ]
  },
  {
   "cell_type": "code",
   "execution_count": 43,
   "metadata": {
    "id": "5SU2kx2CBLFh"
   },
   "outputs": [
    {
     "data": {
      "text/html": [
       "<div>\n",
       "<style scoped>\n",
       "    .dataframe tbody tr th:only-of-type {\n",
       "        vertical-align: middle;\n",
       "    }\n",
       "\n",
       "    .dataframe tbody tr th {\n",
       "        vertical-align: top;\n",
       "    }\n",
       "\n",
       "    .dataframe thead th {\n",
       "        text-align: right;\n",
       "    }\n",
       "</style>\n",
       "<table border=\"1\" class=\"dataframe\">\n",
       "  <thead>\n",
       "    <tr style=\"text-align: right;\">\n",
       "      <th></th>\n",
       "      <th>bs_1</th>\n",
       "    </tr>\n",
       "  </thead>\n",
       "  <tbody>\n",
       "    <tr>\n",
       "      <th>0</th>\n",
       "      <td>-0.006127</td>\n",
       "    </tr>\n",
       "    <tr>\n",
       "      <th>1</th>\n",
       "      <td>-0.038243</td>\n",
       "    </tr>\n",
       "    <tr>\n",
       "      <th>2</th>\n",
       "      <td>0.006112</td>\n",
       "    </tr>\n",
       "    <tr>\n",
       "      <th>3</th>\n",
       "      <td>-0.011557</td>\n",
       "    </tr>\n",
       "    <tr>\n",
       "      <th>4</th>\n",
       "      <td>-0.023606</td>\n",
       "    </tr>\n",
       "  </tbody>\n",
       "</table>\n",
       "</div>"
      ],
      "text/plain": [
       "       bs_1\n",
       "0 -0.006127\n",
       "1 -0.038243\n",
       "2  0.006112\n",
       "3 -0.011557\n",
       "4 -0.023606"
      ]
     },
     "execution_count": 43,
     "metadata": {},
     "output_type": "execute_result"
    }
   ],
   "source": [
    "df_bsns_rsk_pc.head()"
   ]
  },
  {
   "cell_type": "markdown",
   "metadata": {
    "id": "CyLzPaUb8zMs"
   },
   "source": [
    "fncl_rsk"
   ]
  },
  {
   "cell_type": "code",
   "execution_count": 44,
   "metadata": {
    "colab": {
     "base_uri": "https://localhost:8080/",
     "height": 142
    },
    "id": "P6Ta_JES8zMt",
    "outputId": "18a67a7c-6b59-4a9d-cdac-7ae5a6371435"
   },
   "outputs": [
    {
     "data": {
      "text/html": [
       "<div>\n",
       "<style scoped>\n",
       "    .dataframe tbody tr th:only-of-type {\n",
       "        vertical-align: middle;\n",
       "    }\n",
       "\n",
       "    .dataframe tbody tr th {\n",
       "        vertical-align: top;\n",
       "    }\n",
       "\n",
       "    .dataframe thead th {\n",
       "        text-align: right;\n",
       "    }\n",
       "</style>\n",
       "<table border=\"1\" class=\"dataframe\">\n",
       "  <thead>\n",
       "    <tr style=\"text-align: right;\">\n",
       "      <th></th>\n",
       "      <th>Cum_V_ration</th>\n",
       "    </tr>\n",
       "  </thead>\n",
       "  <tbody>\n",
       "    <tr>\n",
       "      <th>0</th>\n",
       "      <td>0.938459</td>\n",
       "    </tr>\n",
       "    <tr>\n",
       "      <th>1</th>\n",
       "      <td>0.991801</td>\n",
       "    </tr>\n",
       "    <tr>\n",
       "      <th>2</th>\n",
       "      <td>1.000000</td>\n",
       "    </tr>\n",
       "  </tbody>\n",
       "</table>\n",
       "</div>"
      ],
      "text/plain": [
       "   Cum_V_ration\n",
       "0      0.938459\n",
       "1      0.991801\n",
       "2      1.000000"
      ]
     },
     "execution_count": 44,
     "metadata": {},
     "output_type": "execute_result"
    }
   ],
   "source": [
    "pca = PCA(n_components=df_fncl_rsk.shape[1])\n",
    "pca.fit(df_fncl_rsk)\n",
    "explained_variance_ratio = pca.explained_variance_ratio_\n",
    "pd.DataFrame(np.cumsum(explained_variance_ratio[:]), \n",
    "                    columns=['Cum_V_ration'])"
   ]
  },
  {
   "cell_type": "code",
   "execution_count": 45,
   "metadata": {
    "colab": {
     "base_uri": "https://localhost:8080/"
    },
    "id": "OiEt1CVe8zMt",
    "outputId": "c284f2b8-88a3-4fbf-bf12-ae87dd1233b4"
   },
   "outputs": [
    {
     "name": "stdout",
     "output_type": "stream",
     "text": [
      "PC의 설명력 : 93.846%\n"
     ]
    }
   ],
   "source": [
    "pcs = pca.fit_transform(df_fncl_rsk)\n",
    "n_of_pcs = 1\n",
    "print(\"PC의 설명력 : {:.3f}%\".format(np.sum(explained_variance_ratio[:n_of_pcs]*100)))\n",
    "df_fncl_rsk_pc = pd.DataFrame(pcs[:,:n_of_pcs], \n",
    "                        columns = ['fn_1'][:n_of_pcs])"
   ]
  },
  {
   "cell_type": "code",
   "execution_count": 46,
   "metadata": {
    "id": "6xPDpf0ZBKvt"
   },
   "outputs": [
    {
     "data": {
      "text/html": [
       "<div>\n",
       "<style scoped>\n",
       "    .dataframe tbody tr th:only-of-type {\n",
       "        vertical-align: middle;\n",
       "    }\n",
       "\n",
       "    .dataframe tbody tr th {\n",
       "        vertical-align: top;\n",
       "    }\n",
       "\n",
       "    .dataframe thead th {\n",
       "        text-align: right;\n",
       "    }\n",
       "</style>\n",
       "<table border=\"1\" class=\"dataframe\">\n",
       "  <thead>\n",
       "    <tr style=\"text-align: right;\">\n",
       "      <th></th>\n",
       "      <th>fn_1</th>\n",
       "    </tr>\n",
       "  </thead>\n",
       "  <tbody>\n",
       "    <tr>\n",
       "      <th>0</th>\n",
       "      <td>-0.527226</td>\n",
       "    </tr>\n",
       "    <tr>\n",
       "      <th>1</th>\n",
       "      <td>-0.412242</td>\n",
       "    </tr>\n",
       "    <tr>\n",
       "      <th>2</th>\n",
       "      <td>-0.194449</td>\n",
       "    </tr>\n",
       "    <tr>\n",
       "      <th>3</th>\n",
       "      <td>-0.772702</td>\n",
       "    </tr>\n",
       "    <tr>\n",
       "      <th>4</th>\n",
       "      <td>-0.562140</td>\n",
       "    </tr>\n",
       "  </tbody>\n",
       "</table>\n",
       "</div>"
      ],
      "text/plain": [
       "       fn_1\n",
       "0 -0.527226\n",
       "1 -0.412242\n",
       "2 -0.194449\n",
       "3 -0.772702\n",
       "4 -0.562140"
      ]
     },
     "execution_count": 46,
     "metadata": {},
     "output_type": "execute_result"
    }
   ],
   "source": [
    "df_fncl_rsk_pc.head()"
   ]
  },
  {
   "cell_type": "markdown",
   "metadata": {
    "id": "8-8_Z6H-8zMu"
   },
   "source": [
    "concatenate"
   ]
  },
  {
   "cell_type": "code",
   "execution_count": 47,
   "metadata": {
    "colab": {
     "base_uri": "https://localhost:8080/",
     "height": 309
    },
    "id": "FtaBHoQ68zMu",
    "outputId": "860e09c3-fd4c-40f8-e35c-958dfdd88072"
   },
   "outputs": [
    {
     "data": {
      "text/html": [
       "<div>\n",
       "<style scoped>\n",
       "    .dataframe tbody tr th:only-of-type {\n",
       "        vertical-align: middle;\n",
       "    }\n",
       "\n",
       "    .dataframe tbody tr th {\n",
       "        vertical-align: top;\n",
       "    }\n",
       "\n",
       "    .dataframe thead th {\n",
       "        text-align: right;\n",
       "    }\n",
       "</style>\n",
       "<table border=\"1\" class=\"dataframe\">\n",
       "  <thead>\n",
       "    <tr style=\"text-align: right;\">\n",
       "      <th></th>\n",
       "      <th>liq_1</th>\n",
       "      <th>op_1</th>\n",
       "      <th>bs_1</th>\n",
       "      <th>fn_1</th>\n",
       "      <th>Unnamed: 0</th>\n",
       "      <th>Attr1</th>\n",
       "      <th>Attr2</th>\n",
       "      <th>Attr3</th>\n",
       "      <th>Attr4</th>\n",
       "      <th>Attr5</th>\n",
       "      <th>...</th>\n",
       "      <th>Attr56</th>\n",
       "      <th>Attr57</th>\n",
       "      <th>Attr58</th>\n",
       "      <th>Attr59</th>\n",
       "      <th>Attr60</th>\n",
       "      <th>Attr61</th>\n",
       "      <th>Attr62</th>\n",
       "      <th>Attr63</th>\n",
       "      <th>Attr64</th>\n",
       "      <th>class</th>\n",
       "    </tr>\n",
       "  </thead>\n",
       "  <tbody>\n",
       "    <tr>\n",
       "      <th>0</th>\n",
       "      <td>-5.690372e-02</td>\n",
       "      <td>-0.039632</td>\n",
       "      <td>-0.006127</td>\n",
       "      <td>-0.527226</td>\n",
       "      <td>0</td>\n",
       "      <td>-0.024558</td>\n",
       "      <td>0.30051</td>\n",
       "      <td>0.10733</td>\n",
       "      <td>1.836800</td>\n",
       "      <td>34.382</td>\n",
       "      <td>...</td>\n",
       "      <td>0.062497</td>\n",
       "      <td>-0.036289</td>\n",
       "      <td>0.93750</td>\n",
       "      <td>0.25454</td>\n",
       "      <td>13.632000</td>\n",
       "      <td>3.6930</td>\n",
       "      <td>69.389</td>\n",
       "      <td>5.26020</td>\n",
       "      <td>0.882600</td>\n",
       "      <td>0.0</td>\n",
       "    </tr>\n",
       "    <tr>\n",
       "      <th>1</th>\n",
       "      <td>4.056575e-17</td>\n",
       "      <td>-0.097482</td>\n",
       "      <td>-0.038243</td>\n",
       "      <td>-0.412242</td>\n",
       "      <td>1</td>\n",
       "      <td>0.639180</td>\n",
       "      <td>0.00000</td>\n",
       "      <td>1.00000</td>\n",
       "      <td>8.664398</td>\n",
       "      <td>29.678</td>\n",
       "      <td>...</td>\n",
       "      <td>0.679830</td>\n",
       "      <td>0.639180</td>\n",
       "      <td>0.32014</td>\n",
       "      <td>0.00000</td>\n",
       "      <td>134.817648</td>\n",
       "      <td>37.8860</td>\n",
       "      <td>0.000</td>\n",
       "      <td>8.99491</td>\n",
       "      <td>36.363852</td>\n",
       "      <td>0.0</td>\n",
       "    </tr>\n",
       "    <tr>\n",
       "      <th>2</th>\n",
       "      <td>-5.763256e-02</td>\n",
       "      <td>-0.015167</td>\n",
       "      <td>0.006112</td>\n",
       "      <td>-0.194449</td>\n",
       "      <td>2</td>\n",
       "      <td>-0.440760</td>\n",
       "      <td>0.47723</td>\n",
       "      <td>0.19260</td>\n",
       "      <td>1.467800</td>\n",
       "      <td>34.555</td>\n",
       "      <td>...</td>\n",
       "      <td>-0.290590</td>\n",
       "      <td>-0.843130</td>\n",
       "      <td>1.28710</td>\n",
       "      <td>0.12538</td>\n",
       "      <td>134.817648</td>\n",
       "      <td>2.5649</td>\n",
       "      <td>98.950</td>\n",
       "      <td>3.68870</td>\n",
       "      <td>3.837600</td>\n",
       "      <td>0.0</td>\n",
       "    </tr>\n",
       "    <tr>\n",
       "      <th>3</th>\n",
       "      <td>-2.880104e-03</td>\n",
       "      <td>-0.046792</td>\n",
       "      <td>-0.011557</td>\n",
       "      <td>-0.772702</td>\n",
       "      <td>3</td>\n",
       "      <td>0.119520</td>\n",
       "      <td>0.17679</td>\n",
       "      <td>0.63546</td>\n",
       "      <td>4.594400</td>\n",
       "      <td>117.650</td>\n",
       "      <td>...</td>\n",
       "      <td>0.112110</td>\n",
       "      <td>0.147520</td>\n",
       "      <td>0.88789</td>\n",
       "      <td>0.00000</td>\n",
       "      <td>8.930200</td>\n",
       "      <td>10.2870</td>\n",
       "      <td>40.355</td>\n",
       "      <td>9.04480</td>\n",
       "      <td>8.516900</td>\n",
       "      <td>0.0</td>\n",
       "    </tr>\n",
       "    <tr>\n",
       "      <th>4</th>\n",
       "      <td>-3.597121e-02</td>\n",
       "      <td>-0.068734</td>\n",
       "      <td>-0.023606</td>\n",
       "      <td>-0.562140</td>\n",
       "      <td>4</td>\n",
       "      <td>0.230400</td>\n",
       "      <td>0.27095</td>\n",
       "      <td>0.23762</td>\n",
       "      <td>2.574500</td>\n",
       "      <td>-26.928</td>\n",
       "      <td>...</td>\n",
       "      <td>0.459570</td>\n",
       "      <td>0.316020</td>\n",
       "      <td>0.62320</td>\n",
       "      <td>0.16465</td>\n",
       "      <td>7.927400</td>\n",
       "      <td>6.6605</td>\n",
       "      <td>68.502</td>\n",
       "      <td>5.32830</td>\n",
       "      <td>1.315000</td>\n",
       "      <td>0.0</td>\n",
       "    </tr>\n",
       "  </tbody>\n",
       "</table>\n",
       "<p>5 rows × 69 columns</p>\n",
       "</div>"
      ],
      "text/plain": [
       "          liq_1      op_1      bs_1      fn_1  Unnamed: 0     Attr1    Attr2  \\\n",
       "0 -5.690372e-02 -0.039632 -0.006127 -0.527226           0 -0.024558  0.30051   \n",
       "1  4.056575e-17 -0.097482 -0.038243 -0.412242           1  0.639180  0.00000   \n",
       "2 -5.763256e-02 -0.015167  0.006112 -0.194449           2 -0.440760  0.47723   \n",
       "3 -2.880104e-03 -0.046792 -0.011557 -0.772702           3  0.119520  0.17679   \n",
       "4 -3.597121e-02 -0.068734 -0.023606 -0.562140           4  0.230400  0.27095   \n",
       "\n",
       "     Attr3     Attr4    Attr5  ...    Attr56    Attr57   Attr58   Attr59  \\\n",
       "0  0.10733  1.836800   34.382  ...  0.062497 -0.036289  0.93750  0.25454   \n",
       "1  1.00000  8.664398   29.678  ...  0.679830  0.639180  0.32014  0.00000   \n",
       "2  0.19260  1.467800   34.555  ... -0.290590 -0.843130  1.28710  0.12538   \n",
       "3  0.63546  4.594400  117.650  ...  0.112110  0.147520  0.88789  0.00000   \n",
       "4  0.23762  2.574500  -26.928  ...  0.459570  0.316020  0.62320  0.16465   \n",
       "\n",
       "       Attr60   Attr61  Attr62   Attr63     Attr64  class  \n",
       "0   13.632000   3.6930  69.389  5.26020   0.882600    0.0  \n",
       "1  134.817648  37.8860   0.000  8.99491  36.363852    0.0  \n",
       "2  134.817648   2.5649  98.950  3.68870   3.837600    0.0  \n",
       "3    8.930200  10.2870  40.355  9.04480   8.516900    0.0  \n",
       "4    7.927400   6.6605  68.502  5.32830   1.315000    0.0  \n",
       "\n",
       "[5 rows x 69 columns]"
      ]
     },
     "execution_count": 47,
     "metadata": {},
     "output_type": "execute_result"
    }
   ],
   "source": [
    "df_list = [df_liq_pc, df_op_prof_pc,df_bsns_rsk_pc,df_fncl_rsk_pc,df ]\n",
    "df_full = pd.concat(df_list, ignore_index=False,axis=1)\n",
    "df_full.head()\n",
    "# 35개"
   ]
  },
  {
   "cell_type": "code",
   "execution_count": 48,
   "metadata": {
    "colab": {
     "base_uri": "https://localhost:8080/",
     "height": 309
    },
    "id": "ozVCxd9O8sNP",
    "outputId": "bea49085-272d-4c0a-8dc0-e05998dd58e1"
   },
   "outputs": [
    {
     "data": {
      "text/html": [
       "<div>\n",
       "<style scoped>\n",
       "    .dataframe tbody tr th:only-of-type {\n",
       "        vertical-align: middle;\n",
       "    }\n",
       "\n",
       "    .dataframe tbody tr th {\n",
       "        vertical-align: top;\n",
       "    }\n",
       "\n",
       "    .dataframe thead th {\n",
       "        text-align: right;\n",
       "    }\n",
       "</style>\n",
       "<table border=\"1\" class=\"dataframe\">\n",
       "  <thead>\n",
       "    <tr style=\"text-align: right;\">\n",
       "      <th></th>\n",
       "      <th>liq_1</th>\n",
       "      <th>op_1</th>\n",
       "      <th>bs_1</th>\n",
       "      <th>fn_1</th>\n",
       "      <th>Unnamed: 0</th>\n",
       "      <th>Attr1</th>\n",
       "      <th>Attr3</th>\n",
       "      <th>Attr5</th>\n",
       "      <th>Attr6</th>\n",
       "      <th>Attr7</th>\n",
       "      <th>...</th>\n",
       "      <th>Attr56</th>\n",
       "      <th>Attr57</th>\n",
       "      <th>Attr58</th>\n",
       "      <th>Attr59</th>\n",
       "      <th>Attr60</th>\n",
       "      <th>Attr61</th>\n",
       "      <th>Attr62</th>\n",
       "      <th>Attr63</th>\n",
       "      <th>Attr64</th>\n",
       "      <th>class</th>\n",
       "    </tr>\n",
       "  </thead>\n",
       "  <tbody>\n",
       "    <tr>\n",
       "      <th>0</th>\n",
       "      <td>-5.690372e-02</td>\n",
       "      <td>-0.039632</td>\n",
       "      <td>-0.006127</td>\n",
       "      <td>-0.527226</td>\n",
       "      <td>0</td>\n",
       "      <td>-0.024558</td>\n",
       "      <td>0.10733</td>\n",
       "      <td>34.382</td>\n",
       "      <td>-0.026711</td>\n",
       "      <td>-0.020067</td>\n",
       "      <td>...</td>\n",
       "      <td>0.062497</td>\n",
       "      <td>-0.036289</td>\n",
       "      <td>0.93750</td>\n",
       "      <td>0.25454</td>\n",
       "      <td>13.632000</td>\n",
       "      <td>3.6930</td>\n",
       "      <td>69.389</td>\n",
       "      <td>5.26020</td>\n",
       "      <td>0.882600</td>\n",
       "      <td>0.0</td>\n",
       "    </tr>\n",
       "    <tr>\n",
       "      <th>1</th>\n",
       "      <td>4.056575e-17</td>\n",
       "      <td>-0.097482</td>\n",
       "      <td>-0.038243</td>\n",
       "      <td>-0.412242</td>\n",
       "      <td>1</td>\n",
       "      <td>0.639180</td>\n",
       "      <td>1.00000</td>\n",
       "      <td>29.678</td>\n",
       "      <td>-1.139300</td>\n",
       "      <td>0.760520</td>\n",
       "      <td>...</td>\n",
       "      <td>0.679830</td>\n",
       "      <td>0.639180</td>\n",
       "      <td>0.32014</td>\n",
       "      <td>0.00000</td>\n",
       "      <td>134.817648</td>\n",
       "      <td>37.8860</td>\n",
       "      <td>0.000</td>\n",
       "      <td>8.99491</td>\n",
       "      <td>36.363852</td>\n",
       "      <td>0.0</td>\n",
       "    </tr>\n",
       "    <tr>\n",
       "      <th>2</th>\n",
       "      <td>-5.763256e-02</td>\n",
       "      <td>-0.015167</td>\n",
       "      <td>0.006112</td>\n",
       "      <td>-0.194449</td>\n",
       "      <td>2</td>\n",
       "      <td>-0.440760</td>\n",
       "      <td>0.19260</td>\n",
       "      <td>34.555</td>\n",
       "      <td>0.000000</td>\n",
       "      <td>-0.440760</td>\n",
       "      <td>...</td>\n",
       "      <td>-0.290590</td>\n",
       "      <td>-0.843130</td>\n",
       "      <td>1.28710</td>\n",
       "      <td>0.12538</td>\n",
       "      <td>134.817648</td>\n",
       "      <td>2.5649</td>\n",
       "      <td>98.950</td>\n",
       "      <td>3.68870</td>\n",
       "      <td>3.837600</td>\n",
       "      <td>0.0</td>\n",
       "    </tr>\n",
       "    <tr>\n",
       "      <th>3</th>\n",
       "      <td>-2.880104e-03</td>\n",
       "      <td>-0.046792</td>\n",
       "      <td>-0.011557</td>\n",
       "      <td>-0.772702</td>\n",
       "      <td>3</td>\n",
       "      <td>0.119520</td>\n",
       "      <td>0.63546</td>\n",
       "      <td>117.650</td>\n",
       "      <td>0.251540</td>\n",
       "      <td>0.148750</td>\n",
       "      <td>...</td>\n",
       "      <td>0.112110</td>\n",
       "      <td>0.147520</td>\n",
       "      <td>0.88789</td>\n",
       "      <td>0.00000</td>\n",
       "      <td>8.930200</td>\n",
       "      <td>10.2870</td>\n",
       "      <td>40.355</td>\n",
       "      <td>9.04480</td>\n",
       "      <td>8.516900</td>\n",
       "      <td>0.0</td>\n",
       "    </tr>\n",
       "    <tr>\n",
       "      <th>4</th>\n",
       "      <td>-3.597121e-02</td>\n",
       "      <td>-0.068734</td>\n",
       "      <td>-0.023606</td>\n",
       "      <td>-0.562140</td>\n",
       "      <td>4</td>\n",
       "      <td>0.230400</td>\n",
       "      <td>0.23762</td>\n",
       "      <td>-26.928</td>\n",
       "      <td>0.617540</td>\n",
       "      <td>0.282690</td>\n",
       "      <td>...</td>\n",
       "      <td>0.459570</td>\n",
       "      <td>0.316020</td>\n",
       "      <td>0.62320</td>\n",
       "      <td>0.16465</td>\n",
       "      <td>7.927400</td>\n",
       "      <td>6.6605</td>\n",
       "      <td>68.502</td>\n",
       "      <td>5.32830</td>\n",
       "      <td>1.315000</td>\n",
       "      <td>0.0</td>\n",
       "    </tr>\n",
       "  </tbody>\n",
       "</table>\n",
       "<p>5 rows × 60 columns</p>\n",
       "</div>"
      ],
      "text/plain": [
       "          liq_1      op_1      bs_1      fn_1  Unnamed: 0     Attr1    Attr3  \\\n",
       "0 -5.690372e-02 -0.039632 -0.006127 -0.527226           0 -0.024558  0.10733   \n",
       "1  4.056575e-17 -0.097482 -0.038243 -0.412242           1  0.639180  1.00000   \n",
       "2 -5.763256e-02 -0.015167  0.006112 -0.194449           2 -0.440760  0.19260   \n",
       "3 -2.880104e-03 -0.046792 -0.011557 -0.772702           3  0.119520  0.63546   \n",
       "4 -3.597121e-02 -0.068734 -0.023606 -0.562140           4  0.230400  0.23762   \n",
       "\n",
       "     Attr5     Attr6     Attr7  ...    Attr56    Attr57   Attr58   Attr59  \\\n",
       "0   34.382 -0.026711 -0.020067  ...  0.062497 -0.036289  0.93750  0.25454   \n",
       "1   29.678 -1.139300  0.760520  ...  0.679830  0.639180  0.32014  0.00000   \n",
       "2   34.555  0.000000 -0.440760  ... -0.290590 -0.843130  1.28710  0.12538   \n",
       "3  117.650  0.251540  0.148750  ...  0.112110  0.147520  0.88789  0.00000   \n",
       "4  -26.928  0.617540  0.282690  ...  0.459570  0.316020  0.62320  0.16465   \n",
       "\n",
       "       Attr60   Attr61  Attr62   Attr63     Attr64  class  \n",
       "0   13.632000   3.6930  69.389  5.26020   0.882600    0.0  \n",
       "1  134.817648  37.8860   0.000  8.99491  36.363852    0.0  \n",
       "2  134.817648   2.5649  98.950  3.68870   3.837600    0.0  \n",
       "3    8.930200  10.2870  40.355  9.04480   8.516900    0.0  \n",
       "4    7.927400   6.6605  68.502  5.32830   1.315000    0.0  \n",
       "\n",
       "[5 rows x 60 columns]"
      ]
     },
     "execution_count": 48,
     "metadata": {},
     "output_type": "execute_result"
    }
   ],
   "source": [
    "df_full.drop(['Attr4','Attr40','Attr42','Attr49','Attr13','Attr19','Attr10','Attr2','Attr25'],axis=1,inplace=True)\n",
    "df_full.head()"
   ]
  },
  {
   "cell_type": "code",
   "execution_count": 49,
   "metadata": {
    "id": "F6VcVPTrA4li"
   },
   "outputs": [],
   "source": [
    "from pycaret.classification import *\n",
    "\n",
    "exp_name = setup(data = df_full,  target = 'class',train_size=0.9, data_split_shuffle = True, \n",
    "                 fold_strategy='stratifiedkfold', fold=10, \n",
    "                 silent = True, verbose = False, session_id = 123)\n"
   ]
  },
  {
   "cell_type": "code",
   "execution_count": null,
   "metadata": {
    "colab": {
     "base_uri": "https://localhost:8080/",
     "height": 483,
     "referenced_widgets": [
      "5973e0ea6ed34510963f84587603499c",
      "4b5a4727c99d4f5db195ae03bd842bec",
      "ebc57926388e4bba8a3f313a6f2124a3"
     ]
    },
    "id": "wEUUKmv6A4lp",
    "outputId": "ae261b04-1ff5-4dab-e5a6-3ba27aa3894b"
   },
   "outputs": [
    {
     "data": {
      "application/vnd.jupyter.widget-view+json": {
       "model_id": "7f4af051b94d4e609341b9e3c9670d37",
       "version_major": 2,
       "version_minor": 0
      },
      "text/plain": [
       "IntProgress(value=0, description='Processing: ', max=79)"
      ]
     },
     "metadata": {},
     "output_type": "display_data"
    },
    {
     "data": {
      "text/html": [
       "<div>\n",
       "<style scoped>\n",
       "    .dataframe tbody tr th:only-of-type {\n",
       "        vertical-align: middle;\n",
       "    }\n",
       "\n",
       "    .dataframe tbody tr th {\n",
       "        vertical-align: top;\n",
       "    }\n",
       "\n",
       "    .dataframe thead th {\n",
       "        text-align: right;\n",
       "    }\n",
       "</style>\n",
       "<table border=\"1\" class=\"dataframe\">\n",
       "  <thead>\n",
       "    <tr style=\"text-align: right;\">\n",
       "      <th></th>\n",
       "      <th></th>\n",
       "      <th></th>\n",
       "    </tr>\n",
       "    <tr>\n",
       "      <th></th>\n",
       "      <th></th>\n",
       "      <th></th>\n",
       "    </tr>\n",
       "  </thead>\n",
       "  <tbody>\n",
       "    <tr>\n",
       "      <th>Initiated</th>\n",
       "      <td>. . . . . . . . . . . . . . . . . .</td>\n",
       "      <td>23:58:26</td>\n",
       "    </tr>\n",
       "    <tr>\n",
       "      <th>Status</th>\n",
       "      <td>. . . . . . . . . . . . . . . . . .</td>\n",
       "      <td>Fitting 10 Folds</td>\n",
       "    </tr>\n",
       "    <tr>\n",
       "      <th>Estimator</th>\n",
       "      <td>. . . . . . . . . . . . . . . . . .</td>\n",
       "      <td>Extreme Gradient Boosting</td>\n",
       "    </tr>\n",
       "  </tbody>\n",
       "</table>\n",
       "</div>"
      ],
      "text/plain": [
       "                                                                         \n",
       "                                                                         \n",
       "Initiated  . . . . . . . . . . . . . . . . . .                   23:58:26\n",
       "Status     . . . . . . . . . . . . . . . . . .           Fitting 10 Folds\n",
       "Estimator  . . . . . . . . . . . . . . . . . .  Extreme Gradient Boosting"
      ]
     },
     "metadata": {},
     "output_type": "display_data"
    },
    {
     "data": {
      "text/html": [
       "<style  type=\"text/css\" >\n",
       "    #T_85750_ th {\n",
       "          text-align: left;\n",
       "    }#T_85750_row0_col0,#T_85750_row0_col1,#T_85750_row0_col2,#T_85750_row0_col3,#T_85750_row0_col4,#T_85750_row0_col5,#T_85750_row0_col6,#T_85750_row0_col7,#T_85750_row0_col8,#T_85750_row1_col0,#T_85750_row1_col1,#T_85750_row1_col2,#T_85750_row1_col3,#T_85750_row1_col4,#T_85750_row1_col5,#T_85750_row1_col6,#T_85750_row1_col7,#T_85750_row1_col8,#T_85750_row2_col0,#T_85750_row2_col1,#T_85750_row2_col2,#T_85750_row2_col3,#T_85750_row2_col4,#T_85750_row2_col5,#T_85750_row2_col6,#T_85750_row2_col7,#T_85750_row2_col8,#T_85750_row3_col0,#T_85750_row3_col1,#T_85750_row3_col2,#T_85750_row3_col3,#T_85750_row3_col4,#T_85750_row3_col5,#T_85750_row3_col6,#T_85750_row3_col7,#T_85750_row3_col8,#T_85750_row4_col0,#T_85750_row4_col1,#T_85750_row4_col2,#T_85750_row4_col3,#T_85750_row4_col4,#T_85750_row4_col5,#T_85750_row4_col6,#T_85750_row4_col7,#T_85750_row4_col8,#T_85750_row5_col0,#T_85750_row5_col1,#T_85750_row5_col2,#T_85750_row5_col3,#T_85750_row5_col4,#T_85750_row5_col5,#T_85750_row5_col6,#T_85750_row5_col7,#T_85750_row5_col8,#T_85750_row6_col0,#T_85750_row6_col1,#T_85750_row6_col2,#T_85750_row6_col3,#T_85750_row6_col4,#T_85750_row6_col5,#T_85750_row6_col6,#T_85750_row6_col7,#T_85750_row6_col8,#T_85750_row7_col0,#T_85750_row7_col1,#T_85750_row7_col2,#T_85750_row7_col3,#T_85750_row7_col4,#T_85750_row7_col5,#T_85750_row7_col6,#T_85750_row7_col7,#T_85750_row7_col8,#T_85750_row8_col0,#T_85750_row8_col1,#T_85750_row8_col2,#T_85750_row8_col3,#T_85750_row8_col4,#T_85750_row8_col5,#T_85750_row8_col6,#T_85750_row8_col7,#T_85750_row8_col8,#T_85750_row9_col0,#T_85750_row9_col1,#T_85750_row9_col2,#T_85750_row9_col3,#T_85750_row9_col4,#T_85750_row9_col5,#T_85750_row9_col6,#T_85750_row9_col7,#T_85750_row9_col8,#T_85750_row10_col0,#T_85750_row10_col1,#T_85750_row10_col2,#T_85750_row10_col3,#T_85750_row10_col4,#T_85750_row10_col5,#T_85750_row10_col6,#T_85750_row10_col7,#T_85750_row10_col8,#T_85750_row11_col0,#T_85750_row11_col1,#T_85750_row11_col2,#T_85750_row11_col3,#T_85750_row11_col4,#T_85750_row11_col5,#T_85750_row11_col6,#T_85750_row11_col7,#T_85750_row11_col8{\n",
       "            text-align:  left;\n",
       "        }</style><table id=\"T_85750_\" ><thead>    <tr>        <th class=\"blank level0\" ></th>        <th class=\"col_heading level0 col0\" >Model</th>        <th class=\"col_heading level0 col1\" >Accuracy</th>        <th class=\"col_heading level0 col2\" >AUC</th>        <th class=\"col_heading level0 col3\" >Recall</th>        <th class=\"col_heading level0 col4\" >Prec.</th>        <th class=\"col_heading level0 col5\" >F1</th>        <th class=\"col_heading level0 col6\" >Kappa</th>        <th class=\"col_heading level0 col7\" >MCC</th>        <th class=\"col_heading level0 col8\" >TT (Sec)</th>    </tr></thead><tbody>\n",
       "                <tr>\n",
       "                        <th id=\"T_85750_level0_row0\" class=\"row_heading level0 row0\" >gbc</th>\n",
       "                        <td id=\"T_85750_row0_col0\" class=\"data row0 col0\" >Gradient Boosting Classifier</td>\n",
       "                        <td id=\"T_85750_row0_col1\" class=\"data row0 col1\" >0.9627</td>\n",
       "                        <td id=\"T_85750_row0_col2\" class=\"data row0 col2\" >0.9058</td>\n",
       "                        <td id=\"T_85750_row0_col3\" class=\"data row0 col3\" >0.3730</td>\n",
       "                        <td id=\"T_85750_row0_col4\" class=\"data row0 col4\" >0.8698</td>\n",
       "                        <td id=\"T_85750_row0_col5\" class=\"data row0 col5\" >0.5195</td>\n",
       "                        <td id=\"T_85750_row0_col6\" class=\"data row0 col6\" >0.5035</td>\n",
       "                        <td id=\"T_85750_row0_col7\" class=\"data row0 col7\" >0.5540</td>\n",
       "                        <td id=\"T_85750_row0_col8\" class=\"data row0 col8\" >2.1300</td>\n",
       "            </tr>\n",
       "            <tr>\n",
       "                        <th id=\"T_85750_level0_row1\" class=\"row_heading level0 row1\" >dt</th>\n",
       "                        <td id=\"T_85750_row1_col0\" class=\"data row1 col0\" >Decision Tree Classifier</td>\n",
       "                        <td id=\"T_85750_row1_col1\" class=\"data row1 col1\" >0.9277</td>\n",
       "                        <td id=\"T_85750_row1_col2\" class=\"data row1 col2\" >0.6791</td>\n",
       "                        <td id=\"T_85750_row1_col3\" class=\"data row1 col3\" >0.4000</td>\n",
       "                        <td id=\"T_85750_row1_col4\" class=\"data row1 col4\" >0.3597</td>\n",
       "                        <td id=\"T_85750_row1_col5\" class=\"data row1 col5\" >0.3773</td>\n",
       "                        <td id=\"T_85750_row1_col6\" class=\"data row1 col6\" >0.3393</td>\n",
       "                        <td id=\"T_85750_row1_col7\" class=\"data row1 col7\" >0.3405</td>\n",
       "                        <td id=\"T_85750_row1_col8\" class=\"data row1 col8\" >0.0920</td>\n",
       "            </tr>\n",
       "            <tr>\n",
       "                        <th id=\"T_85750_level0_row2\" class=\"row_heading level0 row2\" >ada</th>\n",
       "                        <td id=\"T_85750_row2_col0\" class=\"data row2 col0\" >Ada Boost Classifier</td>\n",
       "                        <td id=\"T_85750_row2_col1\" class=\"data row2 col1\" >0.9485</td>\n",
       "                        <td id=\"T_85750_row2_col2\" class=\"data row2 col2\" >0.8585</td>\n",
       "                        <td id=\"T_85750_row2_col3\" class=\"data row2 col3\" >0.2143</td>\n",
       "                        <td id=\"T_85750_row2_col4\" class=\"data row2 col4\" >0.5840</td>\n",
       "                        <td id=\"T_85750_row2_col5\" class=\"data row2 col5\" >0.3085</td>\n",
       "                        <td id=\"T_85750_row2_col6\" class=\"data row2 col6\" >0.2881</td>\n",
       "                        <td id=\"T_85750_row2_col7\" class=\"data row2 col7\" >0.3296</td>\n",
       "                        <td id=\"T_85750_row2_col8\" class=\"data row2 col8\" >0.4490</td>\n",
       "            </tr>\n",
       "            <tr>\n",
       "                        <th id=\"T_85750_level0_row3\" class=\"row_heading level0 row3\" >rf</th>\n",
       "                        <td id=\"T_85750_row3_col0\" class=\"data row3 col0\" >Random Forest Classifier</td>\n",
       "                        <td id=\"T_85750_row3_col1\" class=\"data row3 col1\" >0.9519</td>\n",
       "                        <td id=\"T_85750_row3_col2\" class=\"data row3 col2\" >0.8802</td>\n",
       "                        <td id=\"T_85750_row3_col3\" class=\"data row3 col3\" >0.1524</td>\n",
       "                        <td id=\"T_85750_row3_col4\" class=\"data row3 col4\" >0.8436</td>\n",
       "                        <td id=\"T_85750_row3_col5\" class=\"data row3 col5\" >0.2561</td>\n",
       "                        <td id=\"T_85750_row3_col6\" class=\"data row3 col6\" >0.2434</td>\n",
       "                        <td id=\"T_85750_row3_col7\" class=\"data row3 col7\" >0.3438</td>\n",
       "                        <td id=\"T_85750_row3_col8\" class=\"data row3 col8\" >0.6060</td>\n",
       "            </tr>\n",
       "            <tr>\n",
       "                        <th id=\"T_85750_level0_row4\" class=\"row_heading level0 row4\" >nb</th>\n",
       "                        <td id=\"T_85750_row4_col0\" class=\"data row4 col0\" >Naive Bayes</td>\n",
       "                        <td id=\"T_85750_row4_col1\" class=\"data row4 col1\" >0.1083</td>\n",
       "                        <td id=\"T_85750_row4_col2\" class=\"data row4 col2\" >0.5002</td>\n",
       "                        <td id=\"T_85750_row4_col3\" class=\"data row4 col3\" >0.9346</td>\n",
       "                        <td id=\"T_85750_row4_col4\" class=\"data row4 col4\" >0.0543</td>\n",
       "                        <td id=\"T_85750_row4_col5\" class=\"data row4 col5\" >0.1026</td>\n",
       "                        <td id=\"T_85750_row4_col6\" class=\"data row4 col6\" >-0.0006</td>\n",
       "                        <td id=\"T_85750_row4_col7\" class=\"data row4 col7\" >-0.0040</td>\n",
       "                        <td id=\"T_85750_row4_col8\" class=\"data row4 col8\" >0.0270</td>\n",
       "            </tr>\n",
       "            <tr>\n",
       "                        <th id=\"T_85750_level0_row5\" class=\"row_heading level0 row5\" >et</th>\n",
       "                        <td id=\"T_85750_row5_col0\" class=\"data row5 col0\" >Extra Trees Classifier</td>\n",
       "                        <td id=\"T_85750_row5_col1\" class=\"data row5 col1\" >0.9448</td>\n",
       "                        <td id=\"T_85750_row5_col2\" class=\"data row5 col2\" >0.8365</td>\n",
       "                        <td id=\"T_85750_row5_col3\" class=\"data row5 col3\" >0.0417</td>\n",
       "                        <td id=\"T_85750_row5_col4\" class=\"data row5 col4\" >0.4517</td>\n",
       "                        <td id=\"T_85750_row5_col5\" class=\"data row5 col5\" >0.0758</td>\n",
       "                        <td id=\"T_85750_row5_col6\" class=\"data row5 col6\" >0.0670</td>\n",
       "                        <td id=\"T_85750_row5_col7\" class=\"data row5 col7\" >0.1227</td>\n",
       "                        <td id=\"T_85750_row5_col8\" class=\"data row5 col8\" >0.2420</td>\n",
       "            </tr>\n",
       "            <tr>\n",
       "                        <th id=\"T_85750_level0_row6\" class=\"row_heading level0 row6\" >lda</th>\n",
       "                        <td id=\"T_85750_row6_col0\" class=\"data row6 col0\" >Linear Discriminant Analysis</td>\n",
       "                        <td id=\"T_85750_row6_col1\" class=\"data row6 col1\" >0.9396</td>\n",
       "                        <td id=\"T_85750_row6_col2\" class=\"data row6 col2\" >0.7221</td>\n",
       "                        <td id=\"T_85750_row6_col3\" class=\"data row6 col3\" >0.0419</td>\n",
       "                        <td id=\"T_85750_row6_col4\" class=\"data row6 col4\" >0.2528</td>\n",
       "                        <td id=\"T_85750_row6_col5\" class=\"data row6 col5\" >0.0678</td>\n",
       "                        <td id=\"T_85750_row6_col6\" class=\"data row6 col6\" >0.0521</td>\n",
       "                        <td id=\"T_85750_row6_col7\" class=\"data row6 col7\" >0.0766</td>\n",
       "                        <td id=\"T_85750_row6_col8\" class=\"data row6 col8\" >0.0450</td>\n",
       "            </tr>\n",
       "            <tr>\n",
       "                        <th id=\"T_85750_level0_row7\" class=\"row_heading level0 row7\" >qda</th>\n",
       "                        <td id=\"T_85750_row7_col0\" class=\"data row7 col0\" >Quadratic Discriminant Analysis</td>\n",
       "                        <td id=\"T_85750_row7_col1\" class=\"data row7 col1\" >0.8996</td>\n",
       "                        <td id=\"T_85750_row7_col2\" class=\"data row7 col2\" >0.5161</td>\n",
       "                        <td id=\"T_85750_row7_col3\" class=\"data row7 col3\" >0.0839</td>\n",
       "                        <td id=\"T_85750_row7_col4\" class=\"data row7 col4\" >0.0700</td>\n",
       "                        <td id=\"T_85750_row7_col5\" class=\"data row7 col5\" >0.0670</td>\n",
       "                        <td id=\"T_85750_row7_col6\" class=\"data row7 col6\" >0.0201</td>\n",
       "                        <td id=\"T_85750_row7_col7\" class=\"data row7 col7\" >0.0223</td>\n",
       "                        <td id=\"T_85750_row7_col8\" class=\"data row7 col8\" >0.0550</td>\n",
       "            </tr>\n",
       "            <tr>\n",
       "                        <th id=\"T_85750_level0_row8\" class=\"row_heading level0 row8\" >svm</th>\n",
       "                        <td id=\"T_85750_row8_col0\" class=\"data row8 col0\" >SVM - Linear Kernel</td>\n",
       "                        <td id=\"T_85750_row8_col1\" class=\"data row8 col1\" >0.9091</td>\n",
       "                        <td id=\"T_85750_row8_col2\" class=\"data row8 col2\" >0.0000</td>\n",
       "                        <td id=\"T_85750_row8_col3\" class=\"data row8 col3\" >0.0865</td>\n",
       "                        <td id=\"T_85750_row8_col4\" class=\"data row8 col4\" >0.0557</td>\n",
       "                        <td id=\"T_85750_row8_col5\" class=\"data row8 col5\" >0.0652</td>\n",
       "                        <td id=\"T_85750_row8_col6\" class=\"data row8 col6\" >0.0277</td>\n",
       "                        <td id=\"T_85750_row8_col7\" class=\"data row8 col7\" >0.0275</td>\n",
       "                        <td id=\"T_85750_row8_col8\" class=\"data row8 col8\" >0.0370</td>\n",
       "            </tr>\n",
       "            <tr>\n",
       "                        <th id=\"T_85750_level0_row9\" class=\"row_heading level0 row9\" >knn</th>\n",
       "                        <td id=\"T_85750_row9_col0\" class=\"data row9 col0\" >K Neighbors Classifier</td>\n",
       "                        <td id=\"T_85750_row9_col1\" class=\"data row9 col1\" >0.9412</td>\n",
       "                        <td id=\"T_85750_row9_col2\" class=\"data row9 col2\" >0.6244</td>\n",
       "                        <td id=\"T_85750_row9_col3\" class=\"data row9 col3\" >0.0238</td>\n",
       "                        <td id=\"T_85750_row9_col4\" class=\"data row9 col4\" >0.1579</td>\n",
       "                        <td id=\"T_85750_row9_col5\" class=\"data row9 col5\" >0.0410</td>\n",
       "                        <td id=\"T_85750_row9_col6\" class=\"data row9 col6\" >0.0295</td>\n",
       "                        <td id=\"T_85750_row9_col7\" class=\"data row9 col7\" >0.0433</td>\n",
       "                        <td id=\"T_85750_row9_col8\" class=\"data row9 col8\" >0.0890</td>\n",
       "            </tr>\n",
       "            <tr>\n",
       "                        <th id=\"T_85750_level0_row10\" class=\"row_heading level0 row10\" >ridge</th>\n",
       "                        <td id=\"T_85750_row10_col0\" class=\"data row10 col0\" >Ridge Classifier</td>\n",
       "                        <td id=\"T_85750_row10_col1\" class=\"data row10 col1\" >0.9431</td>\n",
       "                        <td id=\"T_85750_row10_col2\" class=\"data row10 col2\" >0.0000</td>\n",
       "                        <td id=\"T_85750_row10_col3\" class=\"data row10 col3\" >0.0060</td>\n",
       "                        <td id=\"T_85750_row10_col4\" class=\"data row10 col4\" >0.0667</td>\n",
       "                        <td id=\"T_85750_row10_col5\" class=\"data row10 col5\" >0.0110</td>\n",
       "                        <td id=\"T_85750_row10_col6\" class=\"data row10 col6\" >0.0055</td>\n",
       "                        <td id=\"T_85750_row10_col7\" class=\"data row10 col7\" >0.0079</td>\n",
       "                        <td id=\"T_85750_row10_col8\" class=\"data row10 col8\" >0.0250</td>\n",
       "            </tr>\n",
       "            <tr>\n",
       "                        <th id=\"T_85750_level0_row11\" class=\"row_heading level0 row11\" >lr</th>\n",
       "                        <td id=\"T_85750_row11_col0\" class=\"data row11 col0\" >Logistic Regression</td>\n",
       "                        <td id=\"T_85750_row11_col1\" class=\"data row11 col1\" >0.9433</td>\n",
       "                        <td id=\"T_85750_row11_col2\" class=\"data row11 col2\" >0.5654</td>\n",
       "                        <td id=\"T_85750_row11_col3\" class=\"data row11 col3\" >0.0000</td>\n",
       "                        <td id=\"T_85750_row11_col4\" class=\"data row11 col4\" >0.0000</td>\n",
       "                        <td id=\"T_85750_row11_col5\" class=\"data row11 col5\" >0.0000</td>\n",
       "                        <td id=\"T_85750_row11_col6\" class=\"data row11 col6\" >-0.0040</td>\n",
       "                        <td id=\"T_85750_row11_col7\" class=\"data row11 col7\" >-0.0096</td>\n",
       "                        <td id=\"T_85750_row11_col8\" class=\"data row11 col8\" >0.8080</td>\n",
       "            </tr>\n",
       "    </tbody></table>"
      ],
      "text/plain": [
       "<pandas.io.formats.style.Styler at 0x24d9d847970>"
      ]
     },
     "metadata": {},
     "output_type": "display_data"
    }
   ],
   "source": [
    "best_model = compare_models(sort='F1')"
   ]
  },
  {
   "cell_type": "code",
   "execution_count": null,
   "metadata": {
    "colab": {
     "base_uri": "https://localhost:8080/",
     "height": 421,
     "referenced_widgets": [
      "aec022315ce1407e97d110036ac7b990",
      "3a9b1817d8ca414fabade1c2a3ac2114",
      "cd1f3d4fa4c94f3094394c5dd5d79205",
      "34e85de384a14a1c8d06f81c57a5a313",
      "91b27b8710cf44d98163fdc4ab2257bd",
      "dc297fa5324d4b7db2d00d02a0e00c45"
     ]
    },
    "id": "5vLDEtNo8sSU",
    "outputId": "f90fb68d-0ca3-43b4-9bd1-243e72cf26c6"
   },
   "outputs": [],
   "source": [
    "lightgbm = create_model('lightgbm')\n",
    "tuned_lightgbmc = tune_model(lightgbm,optimize='F1')"
   ]
  },
  {
   "cell_type": "code",
   "execution_count": null,
   "metadata": {
    "colab": {
     "base_uri": "https://localhost:8080/",
     "height": 421,
     "referenced_widgets": [
      "12de9052f8bd484286d85eb98c69acb7",
      "e33c8c3f00744267be22ac066039715f",
      "5b4369ea15984f42b2f0d2d37df31a21"
     ]
    },
    "id": "1fvWP-8u8sUq",
    "outputId": "7ae83c4a-a1e8-4e42-e665-cc2e63da2708"
   },
   "outputs": [],
   "source": [
    "bagged_lightgbm = ensemble_model(lightgbm, method = 'Bagging',optimize='F1')"
   ]
  },
  {
   "cell_type": "code",
   "execution_count": null,
   "metadata": {
    "colab": {
     "base_uri": "https://localhost:8080/",
     "height": 658,
     "referenced_widgets": [
      "c2c6fdd4e3c546bca0afca55bff5b7d4",
      "93f0d19dc8bb4816945c314c84536003",
      "e154b87e4c3a40b28914ca6cbfb853ff",
      "58317c61e01f404d862fac1ff5d5a10f",
      "7221471b45a14048837355cdd34959a1",
      "aa16cb89a57e452590aa7505ac4622b4",
      "59c8bec8da3948618e8145d5bd156bfc",
      "f442e7f6a03344b7b81f9f7a739d5880",
      "0b6d5db5e6344afbb64e50023a4e877e",
      "83d398630f9e4856aa99d8416c475f85",
      "3727f0e0e9304ffb955e7f48d9ff5b2b",
      "f4aed74b61b64c089d48351ed30c15f1",
      "6473a0e4410046088f919b9d0248e77f",
      "a7fd49559b99481fba83e106b9d3696f",
      "3184356595ab4addae0a7c4af958e846",
      "329d6f1eaee749369224298c9e7cee3a",
      "c7cbccf6cc834f519e6a3fab22af8f5a",
      "a39415fa3aa740be99aa81217eb1df23"
     ]
    },
    "id": "adzwjqCbNNLa",
    "outputId": "7dadc652-5afe-4ad3-c208-973b93156775"
   },
   "outputs": [],
   "source": [
    "top5 = compare_models(n_select = 5,sort='F1')\n",
    "tuned_top5 = [tune_model(i,optimize='F1') for i in top5]\n",
    "blender = blend_models(tuned_top5,optimize='F1')\n",
    "stacker = stack_models(tuned_top5,optimize='F1')"
   ]
  },
  {
   "cell_type": "code",
   "execution_count": null,
   "metadata": {
    "id": "H0PkghYVsfxG"
   },
   "outputs": [],
   "source": [
    "best_f1_model = automl(optimize = 'F1')"
   ]
  },
  {
   "cell_type": "code",
   "execution_count": null,
   "metadata": {
    "id": "2tyvHQ7g8sWM"
   },
   "outputs": [],
   "source": [
    "best_f1_model = finalize_model(best_f1_model)"
   ]
  },
  {
   "cell_type": "code",
   "execution_count": null,
   "metadata": {
    "id": "JldKP55VGI0j"
   },
   "outputs": [],
   "source": []
  },
  {
   "cell_type": "code",
   "execution_count": null,
   "metadata": {
    "id": "oW_jtUwzGI2j"
   },
   "outputs": [],
   "source": []
  },
  {
   "cell_type": "code",
   "execution_count": null,
   "metadata": {
    "id": "CP8Wa8vdGI4p"
   },
   "outputs": [],
   "source": []
  },
  {
   "cell_type": "code",
   "execution_count": null,
   "metadata": {
    "id": "BOuGfNvaTJNb"
   },
   "outputs": [],
   "source": [
    "plot_model(bagged_gbc, plot = 'learning')"
   ]
  },
  {
   "cell_type": "markdown",
   "metadata": {
    "id": "_zSd4wc1dqeI"
   },
   "source": [
    "manifold 상에서 feature들이 class 별로 명확히 나누어지지 않는 것을 확인할 수 있다. "
   ]
  },
  {
   "cell_type": "code",
   "execution_count": null,
   "metadata": {
    "id": "5SFVMfabTWxe"
   },
   "outputs": [],
   "source": [
    "plot_model(bagged_gbc, plot = 'manifold')"
   ]
  },
  {
   "cell_type": "markdown",
   "metadata": {
    "id": "veybmp5qe3X8"
   },
   "source": [
    "False negative를 특히 잘 못 잡아내는 경향이 있었다."
   ]
  },
  {
   "cell_type": "code",
   "execution_count": null,
   "metadata": {
    "id": "sMED-js4etF6"
   },
   "outputs": [],
   "source": [
    " plot_model(bagged_gbc, plot = 'confusion_matrix')"
   ]
  },
  {
   "cell_type": "code",
   "execution_count": null,
   "metadata": {
    "id": "947sMEzCOYGZ"
   },
   "outputs": [],
   "source": [
    "save_model(bagged_gbc, '/content/drive/MyDrive/Colab Notebooks/투자공학_HW3데이터분석/bag_gbc_model')"
   ]
  },
  {
   "cell_type": "markdown",
   "metadata": {
    "id": "3AE9KFic6pVu"
   },
   "source": []
  },
  {
   "cell_type": "markdown",
   "metadata": {
    "id": "YLqP7RRU6pYE"
   },
   "source": []
  },
  {
   "cell_type": "markdown",
   "metadata": {
    "id": "BulnPrHB6pb4"
   },
   "source": []
  },
  {
   "cell_type": "markdown",
   "metadata": {
    "id": "w8G_zkG-6pe2"
   },
   "source": []
  },
  {
   "cell_type": "markdown",
   "metadata": {
    "id": "-8MfGA_-6phQ"
   },
   "source": []
  },
  {
   "cell_type": "markdown",
   "metadata": {
    "id": "b8b47nMf6pkA"
   },
   "source": []
  },
  {
   "cell_type": "markdown",
   "metadata": {
    "id": "Ohy9W1t-6pml"
   },
   "source": []
  },
  {
   "cell_type": "markdown",
   "metadata": {
    "id": "oD0lHiRe6ppC"
   },
   "source": []
  },
  {
   "cell_type": "markdown",
   "metadata": {
    "id": "Kdm82Bsl6pr1"
   },
   "source": []
  },
  {
   "cell_type": "markdown",
   "metadata": {
    "id": "1Ru-hdoY6puO"
   },
   "source": []
  },
  {
   "cell_type": "markdown",
   "metadata": {
    "id": "CtwvCrC76pww"
   },
   "source": []
  },
  {
   "cell_type": "markdown",
   "metadata": {
    "id": "ntbnOg-G6pzR"
   },
   "source": []
  },
  {
   "cell_type": "markdown",
   "metadata": {
    "id": "G5GGnwvcfxJS"
   },
   "source": [
    "# 예측"
   ]
  },
  {
   "cell_type": "code",
   "execution_count": null,
   "metadata": {
    "id": "8twGka7HngVV"
   },
   "outputs": [],
   "source": [
    "import pandas as pd \n",
    "df_test = pd.read_csv('/content/drive/MyDrive/Colab Notebooks/투자공학_HW3데이터분석/minmax_loan_test_fixed.csv')\n",
    "# df.head()\n",
    "df_test_label = pd.read_csv('/content/drive/MyDrive/Colab Notebooks/투자공학_HW3데이터분석/loan_test_label.csv')\n",
    "#df.info()\n",
    "\n",
    "df_test = pd.merge(df_test,df_test_label,on='id')\n",
    "df_test.drop('id',axis=1,inplace=True)\n",
    "df_test = df_test.astype({'loan_status':'category'})\n",
    "df_test.info()"
   ]
  },
  {
   "cell_type": "code",
   "execution_count": null,
   "metadata": {
    "id": "sPirrgjinm3P"
   },
   "outputs": [],
   "source": [
    "from pycaret.classification import *\n",
    "\n",
    "exp_name = setup(data = df,  target = 'loan_status',train_size=0.9, data_split_shuffle = True, \n",
    "                 fold_strategy='stratifiedkfold', fold=10, \n",
    "                 numeric_features=['int_rate','recoveries','annual_inc','dti','int_rate','tot_cur_bal','emp_length','inq_last_6mths','revol_util','delinq_2yrs','loan_amnt'],\n",
    "                 silent = True, verbose = False, session_id = 123)\n",
    "\n",
    "bagged_gbc =load_model('/content/drive/MyDrive/Colab Notebooks/투자공학_HW3데이터분석/bag_gbc_model')\n",
    "\n",
    "pred_unseen = predict_model(bagged_gbc, data = df_test)"
   ]
  },
  {
   "cell_type": "code",
   "execution_count": null,
   "metadata": {
    "id": "-rZ0DoV-oeK0"
   },
   "outputs": [],
   "source": [
    "pred_unseen"
   ]
  },
  {
   "cell_type": "code",
   "execution_count": null,
   "metadata": {
    "id": "8PUICHDxpG-J"
   },
   "outputs": [],
   "source": [
    "sum(pred_unseen['Label']==0)"
   ]
  },
  {
   "cell_type": "code",
   "execution_count": null,
   "metadata": {
    "id": "KwkhZfqkKmrX"
   },
   "outputs": [],
   "source": [
    "sum(pred_unseen['Label']==1)"
   ]
  },
  {
   "cell_type": "code",
   "execution_count": null,
   "metadata": {
    "id": "WHHeKKUfpWen"
   },
   "outputs": [],
   "source": [
    "pred_unseen.to_csv('/content/drive/MyDrive/Colab Notebooks/투자공학_HW3데이터분석/predict_tmp_file.csv')"
   ]
  },
  {
   "cell_type": "code",
   "execution_count": null,
   "metadata": {
    "id": "aDcemBZfMpxa"
   },
   "outputs": [],
   "source": []
  }
 ],
 "metadata": {
  "accelerator": "GPU",
  "colab": {
   "collapsed_sections": [],
   "name": "modelingforesc.ipynb",
   "provenance": []
  },
  "kernelspec": {
   "display_name": "Python 3",
   "language": "python",
   "name": "python3"
  },
  "language_info": {
   "codemirror_mode": {
    "name": "ipython",
    "version": 3
   },
   "file_extension": ".py",
   "mimetype": "text/x-python",
   "name": "python",
   "nbconvert_exporter": "python",
   "pygments_lexer": "ipython3",
   "version": "3.8.8"
  },
  "widgets": {
   "application/vnd.jupyter.widget-state+json": {
    "0b6d5db5e6344afbb64e50023a4e877e": {
     "model_module": "@jupyter-widgets/base",
     "model_module_version": "1.2.0",
     "model_name": "LayoutModel",
     "state": {
      "_model_module": "@jupyter-widgets/base",
      "_model_module_version": "1.2.0",
      "_model_name": "LayoutModel",
      "_view_count": null,
      "_view_module": "@jupyter-widgets/base",
      "_view_module_version": "1.2.0",
      "_view_name": "LayoutView",
      "align_content": null,
      "align_items": null,
      "align_self": null,
      "border": null,
      "bottom": null,
      "display": null,
      "flex": null,
      "flex_flow": null,
      "grid_area": null,
      "grid_auto_columns": null,
      "grid_auto_flow": null,
      "grid_auto_rows": null,
      "grid_column": null,
      "grid_gap": null,
      "grid_row": null,
      "grid_template_areas": null,
      "grid_template_columns": null,
      "grid_template_rows": null,
      "height": null,
      "justify_content": null,
      "justify_items": null,
      "left": null,
      "margin": null,
      "max_height": null,
      "max_width": null,
      "min_height": null,
      "min_width": null,
      "object_fit": null,
      "object_position": null,
      "order": null,
      "overflow": null,
      "overflow_x": null,
      "overflow_y": null,
      "padding": null,
      "right": null,
      "top": null,
      "visibility": null,
      "width": null
     }
    },
    "12de9052f8bd484286d85eb98c69acb7": {
     "model_module": "@jupyter-widgets/controls",
     "model_module_version": "1.5.0",
     "model_name": "IntProgressModel",
     "state": {
      "_dom_classes": [],
      "_model_module": "@jupyter-widgets/controls",
      "_model_module_version": "1.5.0",
      "_model_name": "IntProgressModel",
      "_view_count": null,
      "_view_module": "@jupyter-widgets/controls",
      "_view_module_version": "1.5.0",
      "_view_name": "ProgressView",
      "bar_style": "",
      "description": "Processing: ",
      "description_tooltip": null,
      "layout": "IPY_MODEL_5b4369ea15984f42b2f0d2d37df31a21",
      "max": 6,
      "min": 0,
      "orientation": "horizontal",
      "style": "IPY_MODEL_e33c8c3f00744267be22ac066039715f",
      "value": 6
     }
    },
    "3184356595ab4addae0a7c4af958e846": {
     "model_module": "@jupyter-widgets/base",
     "model_module_version": "1.2.0",
     "model_name": "LayoutModel",
     "state": {
      "_model_module": "@jupyter-widgets/base",
      "_model_module_version": "1.2.0",
      "_model_name": "LayoutModel",
      "_view_count": null,
      "_view_module": "@jupyter-widgets/base",
      "_view_module_version": "1.2.0",
      "_view_name": "LayoutView",
      "align_content": null,
      "align_items": null,
      "align_self": null,
      "border": null,
      "bottom": null,
      "display": null,
      "flex": null,
      "flex_flow": null,
      "grid_area": null,
      "grid_auto_columns": null,
      "grid_auto_flow": null,
      "grid_auto_rows": null,
      "grid_column": null,
      "grid_gap": null,
      "grid_row": null,
      "grid_template_areas": null,
      "grid_template_columns": null,
      "grid_template_rows": null,
      "height": null,
      "justify_content": null,
      "justify_items": null,
      "left": null,
      "margin": null,
      "max_height": null,
      "max_width": null,
      "min_height": null,
      "min_width": null,
      "object_fit": null,
      "object_position": null,
      "order": null,
      "overflow": null,
      "overflow_x": null,
      "overflow_y": null,
      "padding": null,
      "right": null,
      "top": null,
      "visibility": null,
      "width": null
     }
    },
    "329d6f1eaee749369224298c9e7cee3a": {
     "model_module": "@jupyter-widgets/controls",
     "model_module_version": "1.5.0",
     "model_name": "IntProgressModel",
     "state": {
      "_dom_classes": [],
      "_model_module": "@jupyter-widgets/controls",
      "_model_module_version": "1.5.0",
      "_model_name": "IntProgressModel",
      "_view_count": null,
      "_view_module": "@jupyter-widgets/controls",
      "_view_module_version": "1.5.0",
      "_view_name": "ProgressView",
      "bar_style": "",
      "description": "Processing: ",
      "description_tooltip": null,
      "layout": "IPY_MODEL_a39415fa3aa740be99aa81217eb1df23",
      "max": 7,
      "min": 0,
      "orientation": "horizontal",
      "style": "IPY_MODEL_c7cbccf6cc834f519e6a3fab22af8f5a",
      "value": 2
     }
    },
    "34e85de384a14a1c8d06f81c57a5a313": {
     "model_module": "@jupyter-widgets/controls",
     "model_module_version": "1.5.0",
     "model_name": "IntProgressModel",
     "state": {
      "_dom_classes": [],
      "_model_module": "@jupyter-widgets/controls",
      "_model_module_version": "1.5.0",
      "_model_name": "IntProgressModel",
      "_view_count": null,
      "_view_module": "@jupyter-widgets/controls",
      "_view_module_version": "1.5.0",
      "_view_name": "ProgressView",
      "bar_style": "",
      "description": "Processing: ",
      "description_tooltip": null,
      "layout": "IPY_MODEL_dc297fa5324d4b7db2d00d02a0e00c45",
      "max": 7,
      "min": 0,
      "orientation": "horizontal",
      "style": "IPY_MODEL_91b27b8710cf44d98163fdc4ab2257bd",
      "value": 7
     }
    },
    "3727f0e0e9304ffb955e7f48d9ff5b2b": {
     "model_module": "@jupyter-widgets/controls",
     "model_module_version": "1.5.0",
     "model_name": "ProgressStyleModel",
     "state": {
      "_model_module": "@jupyter-widgets/controls",
      "_model_module_version": "1.5.0",
      "_model_name": "ProgressStyleModel",
      "_view_count": null,
      "_view_module": "@jupyter-widgets/base",
      "_view_module_version": "1.2.0",
      "_view_name": "StyleView",
      "bar_color": null,
      "description_width": ""
     }
    },
    "3a9b1817d8ca414fabade1c2a3ac2114": {
     "model_module": "@jupyter-widgets/controls",
     "model_module_version": "1.5.0",
     "model_name": "ProgressStyleModel",
     "state": {
      "_model_module": "@jupyter-widgets/controls",
      "_model_module_version": "1.5.0",
      "_model_name": "ProgressStyleModel",
      "_view_count": null,
      "_view_module": "@jupyter-widgets/base",
      "_view_module_version": "1.2.0",
      "_view_name": "StyleView",
      "bar_color": null,
      "description_width": ""
     }
    },
    "47eaf1fb920f446e9500c97758541fa7": {
     "model_module": "@jupyter-widgets/base",
     "model_module_version": "1.2.0",
     "model_name": "LayoutModel",
     "state": {
      "_model_module": "@jupyter-widgets/base",
      "_model_module_version": "1.2.0",
      "_model_name": "LayoutModel",
      "_view_count": null,
      "_view_module": "@jupyter-widgets/base",
      "_view_module_version": "1.2.0",
      "_view_name": "LayoutView",
      "align_content": null,
      "align_items": null,
      "align_self": null,
      "border": null,
      "bottom": null,
      "display": null,
      "flex": null,
      "flex_flow": null,
      "grid_area": null,
      "grid_auto_columns": null,
      "grid_auto_flow": null,
      "grid_auto_rows": null,
      "grid_column": null,
      "grid_gap": null,
      "grid_row": null,
      "grid_template_areas": null,
      "grid_template_columns": null,
      "grid_template_rows": null,
      "height": null,
      "justify_content": null,
      "justify_items": null,
      "left": null,
      "margin": null,
      "max_height": null,
      "max_width": null,
      "min_height": null,
      "min_width": null,
      "object_fit": null,
      "object_position": null,
      "order": null,
      "overflow": null,
      "overflow_x": null,
      "overflow_y": null,
      "padding": null,
      "right": null,
      "top": null,
      "visibility": null,
      "width": null
     }
    },
    "4b5a4727c99d4f5db195ae03bd842bec": {
     "model_module": "@jupyter-widgets/controls",
     "model_module_version": "1.5.0",
     "model_name": "ProgressStyleModel",
     "state": {
      "_model_module": "@jupyter-widgets/controls",
      "_model_module_version": "1.5.0",
      "_model_name": "ProgressStyleModel",
      "_view_count": null,
      "_view_module": "@jupyter-widgets/base",
      "_view_module_version": "1.2.0",
      "_view_name": "StyleView",
      "bar_color": null,
      "description_width": ""
     }
    },
    "58317c61e01f404d862fac1ff5d5a10f": {
     "model_module": "@jupyter-widgets/controls",
     "model_module_version": "1.5.0",
     "model_name": "IntProgressModel",
     "state": {
      "_dom_classes": [],
      "_model_module": "@jupyter-widgets/controls",
      "_model_module_version": "1.5.0",
      "_model_name": "IntProgressModel",
      "_view_count": null,
      "_view_module": "@jupyter-widgets/controls",
      "_view_module_version": "1.5.0",
      "_view_name": "ProgressView",
      "bar_style": "",
      "description": "Processing: ",
      "description_tooltip": null,
      "layout": "IPY_MODEL_aa16cb89a57e452590aa7505ac4622b4",
      "max": 7,
      "min": 0,
      "orientation": "horizontal",
      "style": "IPY_MODEL_7221471b45a14048837355cdd34959a1",
      "value": 7
     }
    },
    "5973e0ea6ed34510963f84587603499c": {
     "model_module": "@jupyter-widgets/controls",
     "model_module_version": "1.5.0",
     "model_name": "IntProgressModel",
     "state": {
      "_dom_classes": [],
      "_model_module": "@jupyter-widgets/controls",
      "_model_module_version": "1.5.0",
      "_model_name": "IntProgressModel",
      "_view_count": null,
      "_view_module": "@jupyter-widgets/controls",
      "_view_module_version": "1.5.0",
      "_view_name": "ProgressView",
      "bar_style": "",
      "description": "Processing: ",
      "description_tooltip": null,
      "layout": "IPY_MODEL_ebc57926388e4bba8a3f313a6f2124a3",
      "max": 74,
      "min": 0,
      "orientation": "horizontal",
      "style": "IPY_MODEL_4b5a4727c99d4f5db195ae03bd842bec",
      "value": 74
     }
    },
    "59c8bec8da3948618e8145d5bd156bfc": {
     "model_module": "@jupyter-widgets/controls",
     "model_module_version": "1.5.0",
     "model_name": "IntProgressModel",
     "state": {
      "_dom_classes": [],
      "_model_module": "@jupyter-widgets/controls",
      "_model_module_version": "1.5.0",
      "_model_name": "IntProgressModel",
      "_view_count": null,
      "_view_module": "@jupyter-widgets/controls",
      "_view_module_version": "1.5.0",
      "_view_name": "ProgressView",
      "bar_style": "",
      "description": "Processing: ",
      "description_tooltip": null,
      "layout": "IPY_MODEL_0b6d5db5e6344afbb64e50023a4e877e",
      "max": 7,
      "min": 0,
      "orientation": "horizontal",
      "style": "IPY_MODEL_f442e7f6a03344b7b81f9f7a739d5880",
      "value": 7
     }
    },
    "5b4369ea15984f42b2f0d2d37df31a21": {
     "model_module": "@jupyter-widgets/base",
     "model_module_version": "1.2.0",
     "model_name": "LayoutModel",
     "state": {
      "_model_module": "@jupyter-widgets/base",
      "_model_module_version": "1.2.0",
      "_model_name": "LayoutModel",
      "_view_count": null,
      "_view_module": "@jupyter-widgets/base",
      "_view_module_version": "1.2.0",
      "_view_name": "LayoutView",
      "align_content": null,
      "align_items": null,
      "align_self": null,
      "border": null,
      "bottom": null,
      "display": null,
      "flex": null,
      "flex_flow": null,
      "grid_area": null,
      "grid_auto_columns": null,
      "grid_auto_flow": null,
      "grid_auto_rows": null,
      "grid_column": null,
      "grid_gap": null,
      "grid_row": null,
      "grid_template_areas": null,
      "grid_template_columns": null,
      "grid_template_rows": null,
      "height": null,
      "justify_content": null,
      "justify_items": null,
      "left": null,
      "margin": null,
      "max_height": null,
      "max_width": null,
      "min_height": null,
      "min_width": null,
      "object_fit": null,
      "object_position": null,
      "order": null,
      "overflow": null,
      "overflow_x": null,
      "overflow_y": null,
      "padding": null,
      "right": null,
      "top": null,
      "visibility": null,
      "width": null
     }
    },
    "6473a0e4410046088f919b9d0248e77f": {
     "model_module": "@jupyter-widgets/controls",
     "model_module_version": "1.5.0",
     "model_name": "IntProgressModel",
     "state": {
      "_dom_classes": [],
      "_model_module": "@jupyter-widgets/controls",
      "_model_module_version": "1.5.0",
      "_model_name": "IntProgressModel",
      "_view_count": null,
      "_view_module": "@jupyter-widgets/controls",
      "_view_module_version": "1.5.0",
      "_view_name": "ProgressView",
      "bar_style": "",
      "description": "Processing: ",
      "description_tooltip": null,
      "layout": "IPY_MODEL_3184356595ab4addae0a7c4af958e846",
      "max": 7,
      "min": 0,
      "orientation": "horizontal",
      "style": "IPY_MODEL_a7fd49559b99481fba83e106b9d3696f",
      "value": 7
     }
    },
    "7221471b45a14048837355cdd34959a1": {
     "model_module": "@jupyter-widgets/controls",
     "model_module_version": "1.5.0",
     "model_name": "ProgressStyleModel",
     "state": {
      "_model_module": "@jupyter-widgets/controls",
      "_model_module_version": "1.5.0",
      "_model_name": "ProgressStyleModel",
      "_view_count": null,
      "_view_module": "@jupyter-widgets/base",
      "_view_module_version": "1.2.0",
      "_view_name": "StyleView",
      "bar_color": null,
      "description_width": ""
     }
    },
    "83d398630f9e4856aa99d8416c475f85": {
     "model_module": "@jupyter-widgets/controls",
     "model_module_version": "1.5.0",
     "model_name": "IntProgressModel",
     "state": {
      "_dom_classes": [],
      "_model_module": "@jupyter-widgets/controls",
      "_model_module_version": "1.5.0",
      "_model_name": "IntProgressModel",
      "_view_count": null,
      "_view_module": "@jupyter-widgets/controls",
      "_view_module_version": "1.5.0",
      "_view_name": "ProgressView",
      "bar_style": "",
      "description": "Processing: ",
      "description_tooltip": null,
      "layout": "IPY_MODEL_f4aed74b61b64c089d48351ed30c15f1",
      "max": 7,
      "min": 0,
      "orientation": "horizontal",
      "style": "IPY_MODEL_3727f0e0e9304ffb955e7f48d9ff5b2b",
      "value": 7
     }
    },
    "91b27b8710cf44d98163fdc4ab2257bd": {
     "model_module": "@jupyter-widgets/controls",
     "model_module_version": "1.5.0",
     "model_name": "ProgressStyleModel",
     "state": {
      "_model_module": "@jupyter-widgets/controls",
      "_model_module_version": "1.5.0",
      "_model_name": "ProgressStyleModel",
      "_view_count": null,
      "_view_module": "@jupyter-widgets/base",
      "_view_module_version": "1.2.0",
      "_view_name": "StyleView",
      "bar_color": null,
      "description_width": ""
     }
    },
    "93f0d19dc8bb4816945c314c84536003": {
     "model_module": "@jupyter-widgets/controls",
     "model_module_version": "1.5.0",
     "model_name": "ProgressStyleModel",
     "state": {
      "_model_module": "@jupyter-widgets/controls",
      "_model_module_version": "1.5.0",
      "_model_name": "ProgressStyleModel",
      "_view_count": null,
      "_view_module": "@jupyter-widgets/base",
      "_view_module_version": "1.2.0",
      "_view_name": "StyleView",
      "bar_color": null,
      "description_width": ""
     }
    },
    "a39415fa3aa740be99aa81217eb1df23": {
     "model_module": "@jupyter-widgets/base",
     "model_module_version": "1.2.0",
     "model_name": "LayoutModel",
     "state": {
      "_model_module": "@jupyter-widgets/base",
      "_model_module_version": "1.2.0",
      "_model_name": "LayoutModel",
      "_view_count": null,
      "_view_module": "@jupyter-widgets/base",
      "_view_module_version": "1.2.0",
      "_view_name": "LayoutView",
      "align_content": null,
      "align_items": null,
      "align_self": null,
      "border": null,
      "bottom": null,
      "display": null,
      "flex": null,
      "flex_flow": null,
      "grid_area": null,
      "grid_auto_columns": null,
      "grid_auto_flow": null,
      "grid_auto_rows": null,
      "grid_column": null,
      "grid_gap": null,
      "grid_row": null,
      "grid_template_areas": null,
      "grid_template_columns": null,
      "grid_template_rows": null,
      "height": null,
      "justify_content": null,
      "justify_items": null,
      "left": null,
      "margin": null,
      "max_height": null,
      "max_width": null,
      "min_height": null,
      "min_width": null,
      "object_fit": null,
      "object_position": null,
      "order": null,
      "overflow": null,
      "overflow_x": null,
      "overflow_y": null,
      "padding": null,
      "right": null,
      "top": null,
      "visibility": null,
      "width": null
     }
    },
    "a7fd49559b99481fba83e106b9d3696f": {
     "model_module": "@jupyter-widgets/controls",
     "model_module_version": "1.5.0",
     "model_name": "ProgressStyleModel",
     "state": {
      "_model_module": "@jupyter-widgets/controls",
      "_model_module_version": "1.5.0",
      "_model_name": "ProgressStyleModel",
      "_view_count": null,
      "_view_module": "@jupyter-widgets/base",
      "_view_module_version": "1.2.0",
      "_view_name": "StyleView",
      "bar_color": null,
      "description_width": ""
     }
    },
    "aa16cb89a57e452590aa7505ac4622b4": {
     "model_module": "@jupyter-widgets/base",
     "model_module_version": "1.2.0",
     "model_name": "LayoutModel",
     "state": {
      "_model_module": "@jupyter-widgets/base",
      "_model_module_version": "1.2.0",
      "_model_name": "LayoutModel",
      "_view_count": null,
      "_view_module": "@jupyter-widgets/base",
      "_view_module_version": "1.2.0",
      "_view_name": "LayoutView",
      "align_content": null,
      "align_items": null,
      "align_self": null,
      "border": null,
      "bottom": null,
      "display": null,
      "flex": null,
      "flex_flow": null,
      "grid_area": null,
      "grid_auto_columns": null,
      "grid_auto_flow": null,
      "grid_auto_rows": null,
      "grid_column": null,
      "grid_gap": null,
      "grid_row": null,
      "grid_template_areas": null,
      "grid_template_columns": null,
      "grid_template_rows": null,
      "height": null,
      "justify_content": null,
      "justify_items": null,
      "left": null,
      "margin": null,
      "max_height": null,
      "max_width": null,
      "min_height": null,
      "min_width": null,
      "object_fit": null,
      "object_position": null,
      "order": null,
      "overflow": null,
      "overflow_x": null,
      "overflow_y": null,
      "padding": null,
      "right": null,
      "top": null,
      "visibility": null,
      "width": null
     }
    },
    "aec022315ce1407e97d110036ac7b990": {
     "model_module": "@jupyter-widgets/controls",
     "model_module_version": "1.5.0",
     "model_name": "IntProgressModel",
     "state": {
      "_dom_classes": [],
      "_model_module": "@jupyter-widgets/controls",
      "_model_module_version": "1.5.0",
      "_model_name": "IntProgressModel",
      "_view_count": null,
      "_view_module": "@jupyter-widgets/controls",
      "_view_module_version": "1.5.0",
      "_view_name": "ProgressView",
      "bar_style": "",
      "description": "Processing: ",
      "description_tooltip": null,
      "layout": "IPY_MODEL_cd1f3d4fa4c94f3094394c5dd5d79205",
      "max": 4,
      "min": 0,
      "orientation": "horizontal",
      "style": "IPY_MODEL_3a9b1817d8ca414fabade1c2a3ac2114",
      "value": 4
     }
    },
    "bbfe39d728e242ef992854978ed9e267": {
     "model_module": "@jupyter-widgets/controls",
     "model_module_version": "1.5.0",
     "model_name": "IntProgressModel",
     "state": {
      "_dom_classes": [],
      "_model_module": "@jupyter-widgets/controls",
      "_model_module_version": "1.5.0",
      "_model_name": "IntProgressModel",
      "_view_count": null,
      "_view_module": "@jupyter-widgets/controls",
      "_view_module_version": "1.5.0",
      "_view_name": "ProgressView",
      "bar_style": "",
      "description": "Processing: ",
      "description_tooltip": null,
      "layout": "IPY_MODEL_47eaf1fb920f446e9500c97758541fa7",
      "max": 74,
      "min": 0,
      "orientation": "horizontal",
      "style": "IPY_MODEL_f684ec2101284908ab5d95171453ea1a",
      "value": 74
     }
    },
    "c2c6fdd4e3c546bca0afca55bff5b7d4": {
     "model_module": "@jupyter-widgets/controls",
     "model_module_version": "1.5.0",
     "model_name": "IntProgressModel",
     "state": {
      "_dom_classes": [],
      "_model_module": "@jupyter-widgets/controls",
      "_model_module_version": "1.5.0",
      "_model_name": "IntProgressModel",
      "_view_count": null,
      "_view_module": "@jupyter-widgets/controls",
      "_view_module_version": "1.5.0",
      "_view_name": "ProgressView",
      "bar_style": "",
      "description": "Processing: ",
      "description_tooltip": null,
      "layout": "IPY_MODEL_e154b87e4c3a40b28914ca6cbfb853ff",
      "max": 74,
      "min": 0,
      "orientation": "horizontal",
      "style": "IPY_MODEL_93f0d19dc8bb4816945c314c84536003",
      "value": 74
     }
    },
    "c7cbccf6cc834f519e6a3fab22af8f5a": {
     "model_module": "@jupyter-widgets/controls",
     "model_module_version": "1.5.0",
     "model_name": "ProgressStyleModel",
     "state": {
      "_model_module": "@jupyter-widgets/controls",
      "_model_module_version": "1.5.0",
      "_model_name": "ProgressStyleModel",
      "_view_count": null,
      "_view_module": "@jupyter-widgets/base",
      "_view_module_version": "1.2.0",
      "_view_name": "StyleView",
      "bar_color": null,
      "description_width": ""
     }
    },
    "cd1f3d4fa4c94f3094394c5dd5d79205": {
     "model_module": "@jupyter-widgets/base",
     "model_module_version": "1.2.0",
     "model_name": "LayoutModel",
     "state": {
      "_model_module": "@jupyter-widgets/base",
      "_model_module_version": "1.2.0",
      "_model_name": "LayoutModel",
      "_view_count": null,
      "_view_module": "@jupyter-widgets/base",
      "_view_module_version": "1.2.0",
      "_view_name": "LayoutView",
      "align_content": null,
      "align_items": null,
      "align_self": null,
      "border": null,
      "bottom": null,
      "display": null,
      "flex": null,
      "flex_flow": null,
      "grid_area": null,
      "grid_auto_columns": null,
      "grid_auto_flow": null,
      "grid_auto_rows": null,
      "grid_column": null,
      "grid_gap": null,
      "grid_row": null,
      "grid_template_areas": null,
      "grid_template_columns": null,
      "grid_template_rows": null,
      "height": null,
      "justify_content": null,
      "justify_items": null,
      "left": null,
      "margin": null,
      "max_height": null,
      "max_width": null,
      "min_height": null,
      "min_width": null,
      "object_fit": null,
      "object_position": null,
      "order": null,
      "overflow": null,
      "overflow_x": null,
      "overflow_y": null,
      "padding": null,
      "right": null,
      "top": null,
      "visibility": null,
      "width": null
     }
    },
    "dc297fa5324d4b7db2d00d02a0e00c45": {
     "model_module": "@jupyter-widgets/base",
     "model_module_version": "1.2.0",
     "model_name": "LayoutModel",
     "state": {
      "_model_module": "@jupyter-widgets/base",
      "_model_module_version": "1.2.0",
      "_model_name": "LayoutModel",
      "_view_count": null,
      "_view_module": "@jupyter-widgets/base",
      "_view_module_version": "1.2.0",
      "_view_name": "LayoutView",
      "align_content": null,
      "align_items": null,
      "align_self": null,
      "border": null,
      "bottom": null,
      "display": null,
      "flex": null,
      "flex_flow": null,
      "grid_area": null,
      "grid_auto_columns": null,
      "grid_auto_flow": null,
      "grid_auto_rows": null,
      "grid_column": null,
      "grid_gap": null,
      "grid_row": null,
      "grid_template_areas": null,
      "grid_template_columns": null,
      "grid_template_rows": null,
      "height": null,
      "justify_content": null,
      "justify_items": null,
      "left": null,
      "margin": null,
      "max_height": null,
      "max_width": null,
      "min_height": null,
      "min_width": null,
      "object_fit": null,
      "object_position": null,
      "order": null,
      "overflow": null,
      "overflow_x": null,
      "overflow_y": null,
      "padding": null,
      "right": null,
      "top": null,
      "visibility": null,
      "width": null
     }
    },
    "e154b87e4c3a40b28914ca6cbfb853ff": {
     "model_module": "@jupyter-widgets/base",
     "model_module_version": "1.2.0",
     "model_name": "LayoutModel",
     "state": {
      "_model_module": "@jupyter-widgets/base",
      "_model_module_version": "1.2.0",
      "_model_name": "LayoutModel",
      "_view_count": null,
      "_view_module": "@jupyter-widgets/base",
      "_view_module_version": "1.2.0",
      "_view_name": "LayoutView",
      "align_content": null,
      "align_items": null,
      "align_self": null,
      "border": null,
      "bottom": null,
      "display": null,
      "flex": null,
      "flex_flow": null,
      "grid_area": null,
      "grid_auto_columns": null,
      "grid_auto_flow": null,
      "grid_auto_rows": null,
      "grid_column": null,
      "grid_gap": null,
      "grid_row": null,
      "grid_template_areas": null,
      "grid_template_columns": null,
      "grid_template_rows": null,
      "height": null,
      "justify_content": null,
      "justify_items": null,
      "left": null,
      "margin": null,
      "max_height": null,
      "max_width": null,
      "min_height": null,
      "min_width": null,
      "object_fit": null,
      "object_position": null,
      "order": null,
      "overflow": null,
      "overflow_x": null,
      "overflow_y": null,
      "padding": null,
      "right": null,
      "top": null,
      "visibility": null,
      "width": null
     }
    },
    "e33c8c3f00744267be22ac066039715f": {
     "model_module": "@jupyter-widgets/controls",
     "model_module_version": "1.5.0",
     "model_name": "ProgressStyleModel",
     "state": {
      "_model_module": "@jupyter-widgets/controls",
      "_model_module_version": "1.5.0",
      "_model_name": "ProgressStyleModel",
      "_view_count": null,
      "_view_module": "@jupyter-widgets/base",
      "_view_module_version": "1.2.0",
      "_view_name": "StyleView",
      "bar_color": null,
      "description_width": ""
     }
    },
    "ebc57926388e4bba8a3f313a6f2124a3": {
     "model_module": "@jupyter-widgets/base",
     "model_module_version": "1.2.0",
     "model_name": "LayoutModel",
     "state": {
      "_model_module": "@jupyter-widgets/base",
      "_model_module_version": "1.2.0",
      "_model_name": "LayoutModel",
      "_view_count": null,
      "_view_module": "@jupyter-widgets/base",
      "_view_module_version": "1.2.0",
      "_view_name": "LayoutView",
      "align_content": null,
      "align_items": null,
      "align_self": null,
      "border": null,
      "bottom": null,
      "display": null,
      "flex": null,
      "flex_flow": null,
      "grid_area": null,
      "grid_auto_columns": null,
      "grid_auto_flow": null,
      "grid_auto_rows": null,
      "grid_column": null,
      "grid_gap": null,
      "grid_row": null,
      "grid_template_areas": null,
      "grid_template_columns": null,
      "grid_template_rows": null,
      "height": null,
      "justify_content": null,
      "justify_items": null,
      "left": null,
      "margin": null,
      "max_height": null,
      "max_width": null,
      "min_height": null,
      "min_width": null,
      "object_fit": null,
      "object_position": null,
      "order": null,
      "overflow": null,
      "overflow_x": null,
      "overflow_y": null,
      "padding": null,
      "right": null,
      "top": null,
      "visibility": null,
      "width": null
     }
    },
    "f442e7f6a03344b7b81f9f7a739d5880": {
     "model_module": "@jupyter-widgets/controls",
     "model_module_version": "1.5.0",
     "model_name": "ProgressStyleModel",
     "state": {
      "_model_module": "@jupyter-widgets/controls",
      "_model_module_version": "1.5.0",
      "_model_name": "ProgressStyleModel",
      "_view_count": null,
      "_view_module": "@jupyter-widgets/base",
      "_view_module_version": "1.2.0",
      "_view_name": "StyleView",
      "bar_color": null,
      "description_width": ""
     }
    },
    "f4aed74b61b64c089d48351ed30c15f1": {
     "model_module": "@jupyter-widgets/base",
     "model_module_version": "1.2.0",
     "model_name": "LayoutModel",
     "state": {
      "_model_module": "@jupyter-widgets/base",
      "_model_module_version": "1.2.0",
      "_model_name": "LayoutModel",
      "_view_count": null,
      "_view_module": "@jupyter-widgets/base",
      "_view_module_version": "1.2.0",
      "_view_name": "LayoutView",
      "align_content": null,
      "align_items": null,
      "align_self": null,
      "border": null,
      "bottom": null,
      "display": null,
      "flex": null,
      "flex_flow": null,
      "grid_area": null,
      "grid_auto_columns": null,
      "grid_auto_flow": null,
      "grid_auto_rows": null,
      "grid_column": null,
      "grid_gap": null,
      "grid_row": null,
      "grid_template_areas": null,
      "grid_template_columns": null,
      "grid_template_rows": null,
      "height": null,
      "justify_content": null,
      "justify_items": null,
      "left": null,
      "margin": null,
      "max_height": null,
      "max_width": null,
      "min_height": null,
      "min_width": null,
      "object_fit": null,
      "object_position": null,
      "order": null,
      "overflow": null,
      "overflow_x": null,
      "overflow_y": null,
      "padding": null,
      "right": null,
      "top": null,
      "visibility": null,
      "width": null
     }
    },
    "f684ec2101284908ab5d95171453ea1a": {
     "model_module": "@jupyter-widgets/controls",
     "model_module_version": "1.5.0",
     "model_name": "ProgressStyleModel",
     "state": {
      "_model_module": "@jupyter-widgets/controls",
      "_model_module_version": "1.5.0",
      "_model_name": "ProgressStyleModel",
      "_view_count": null,
      "_view_module": "@jupyter-widgets/base",
      "_view_module_version": "1.2.0",
      "_view_name": "StyleView",
      "bar_color": null,
      "description_width": ""
     }
    }
   }
  }
 },
 "nbformat": 4,
 "nbformat_minor": 1
}
